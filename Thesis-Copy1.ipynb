{
 "cells": [
  {
   "cell_type": "code",
   "execution_count": 2,
   "metadata": {},
   "outputs": [],
   "source": [
    "import xml.etree.ElementTree as ET\n",
    "import os\n",
    "from typing import List\n",
    "from functools import reduce\n",
    "from calendar import monthrange\n",
    "import random\n",
    "import matplotlib.pyplot as plt\n",
    "import numpy as np\n",
    "import json"
   ]
  },
  {
   "cell_type": "code",
   "execution_count": 3,
   "metadata": {},
   "outputs": [],
   "source": [
    "import time"
   ]
  },
  {
   "cell_type": "markdown",
   "metadata": {},
   "source": [
    "## Gender-neutral adjectives describing people"
   ]
  },
  {
   "cell_type": "code",
   "execution_count": 4,
   "metadata": {},
   "outputs": [],
   "source": [
    "from bs4 import BeautifulSoup\n",
    "import urllib.request as urllib2\n",
    "import csv"
   ]
  },
  {
   "cell_type": "code",
   "execution_count": 5,
   "metadata": {},
   "outputs": [],
   "source": [
    "url = 'https://www.enchantedlearning.com/wordlist/adjectivesforpeople.shtml'\n",
    "file = urllib2.urlopen(url)\n",
    "html = file.read()\n",
    "file.close()\n",
    "soup = BeautifulSoup(html)"
   ]
  },
  {
   "cell_type": "code",
   "execution_count": 6,
   "metadata": {},
   "outputs": [],
   "source": [
    "adj = soup.find_all(attrs={\"class\": \"wordlist-item\"})"
   ]
  },
  {
   "cell_type": "code",
   "execution_count": 7,
   "metadata": {},
   "outputs": [],
   "source": [
    "adjs = [x.contents[0] for x in adj]"
   ]
  },
  {
   "cell_type": "code",
   "execution_count": 8,
   "metadata": {},
   "outputs": [
    {
     "data": {
      "text/plain": [
       "['able', 'abnormal', 'above average', 'absent-minded', 'adventurous']"
      ]
     },
     "execution_count": 8,
     "metadata": {},
     "output_type": "execute_result"
    }
   ],
   "source": [
    "adjs[:5]"
   ]
  },
  {
   "cell_type": "code",
   "execution_count": 9,
   "metadata": {},
   "outputs": [],
   "source": [
    "with open('adjectives.csv', mode='w') as f:\n",
    "    writer = csv.writer(f, delimiter=',')\n",
    "    writer.writerow(adjs)"
   ]
  },
  {
   "cell_type": "code",
   "execution_count": 10,
   "metadata": {},
   "outputs": [],
   "source": [
    "with open('adjectives.csv') as csv_file:\n",
    "    adjectives = csv_file.read().split(\",\")"
   ]
  },
  {
   "cell_type": "markdown",
   "metadata": {},
   "source": [
    "# Data Parsing and Processing"
   ]
  },
  {
   "cell_type": "code",
   "execution_count": 11,
   "metadata": {},
   "outputs": [],
   "source": [
    "class Doc:\n",
    "    def __init__(self, id: int, gdescriptors: List[str], descriptors: List[str], text: str) -> None:\n",
    "        self.id = id\n",
    "        self.gdescriptors = gdescriptors\n",
    "        self.descriptors = descriptors\n",
    "        self.text = text"
   ]
  },
  {
   "cell_type": "code",
   "execution_count": 12,
   "metadata": {},
   "outputs": [],
   "source": [
    "def parse_doc(file: str) -> Doc:\n",
    "    tree = ET.parse(file)\n",
    "    root = tree.getroot()\n",
    "    try:\n",
    "        fulltext = root.find('body').find('body.content').find(\"*[@class='full_text']\")\n",
    "        text = reduce(lambda x, y: x + y, [x.text for x in fulltext.findall('p')])\n",
    "        id = int(root.find('head').find('docdata').find('doc-id').attrib['id-string'])\n",
    "        classifiers = root.find('head').find('docdata').find('identified-content')\n",
    "        gclassifiers = classifiers.findall(\"*[@class='online_producer'][@type='general_descriptor']\")\n",
    "        dclassifiers = classifiers.findall(\"*[@class='online_producer'][@type='descriptor']\")\n",
    "        gdescriptors = [c.text for c in gclassifiers]\n",
    "        descriptors = [c.text for c in dclassifiers]\n",
    "        return Doc(id, gdescriptors, descriptors, text)\n",
    "    except:\n",
    "        return None"
   ]
  },
  {
   "cell_type": "code",
   "execution_count": 13,
   "metadata": {},
   "outputs": [],
   "source": [
    "def get_docs_by_month(year: int, month: int) -> List[Doc]:\n",
    "    days = monthrange(year, month)[1]\n",
    "    docs = []\n",
    "    for day in range(1, days+1):\n",
    "        for file in os.listdir(f'data/{year}/{month:02}/{day:02}/'):\n",
    "            doc = parse_doc(f'data/{year}/{month:02}/{day:02}/{file}')\n",
    "            if doc:\n",
    "                docs.append(doc)\n",
    "    return docs"
   ]
  },
  {
   "cell_type": "code",
   "execution_count": 14,
   "metadata": {},
   "outputs": [
    {
     "name": "stdout",
     "output_type": "stream",
     "text": [
      "1988\n",
      "1989\n",
      "1990\n",
      "1991\n",
      "1992\n",
      "1993\n",
      "1994\n",
      "1995\n",
      "1996\n",
      "1997\n",
      "1998\n",
      "1999\n",
      "2000\n",
      "2001\n",
      "2002\n",
      "2003\n",
      "2004\n",
      "2005\n",
      "2006\n"
     ]
    },
    {
     "data": {
      "text/plain": [
       "995.522246"
      ]
     },
     "execution_count": 14,
     "metadata": {},
     "output_type": "execute_result"
    }
   ],
   "source": [
    "t = time.process_time()\n",
    "all_ = []\n",
    "for y in range(1988, 2007):\n",
    "    print(y)\n",
    "    for i in range(1,13):\n",
    "        all_ += get_docs_by_month(y, i)\n",
    "time.process_time() - t"
   ]
  },
  {
   "cell_type": "code",
   "execution_count": 15,
   "metadata": {},
   "outputs": [
    {
     "data": {
      "text/plain": [
       "1685787"
      ]
     },
     "execution_count": 15,
     "metadata": {},
     "output_type": "execute_result"
    }
   ],
   "source": [
    "len(all_)"
   ]
  },
  {
   "cell_type": "markdown",
   "metadata": {},
   "source": [
    "# Saving files locally and loading"
   ]
  },
  {
   "cell_type": "code",
   "execution_count": 18,
   "metadata": {},
   "outputs": [],
   "source": [
    "with open('alldocs.json', 'w') as outfile:\n",
    "    json.dump([x.__dict__ for x in all_], outfile)"
   ]
  },
  {
   "cell_type": "code",
   "execution_count": 19,
   "metadata": {},
   "outputs": [],
   "source": [
    "def save(i, arr):\n",
    "    t = time.process_time()\n",
    "    with open('alldocs' + str(i) + '.json', 'w') as outfile:\n",
    "        json.dump([x.__dict__ for x in arr], outfile)\n",
    "    print(time.process_time() - t)"
   ]
  },
  {
   "cell_type": "code",
   "execution_count": 20,
   "metadata": {},
   "outputs": [],
   "source": [
    "def load(i):\n",
    "    t = time.process_time()\n",
    "    with open('alldocs' + str(i) + '.json', 'r') as infile:\n",
    "        l = json.load(infile)\n",
    "    print(time.process_time() - t)\n",
    "    return l"
   ]
  },
  {
   "cell_type": "code",
   "execution_count": 11,
   "metadata": {},
   "outputs": [
    {
     "name": "stdout",
     "output_type": "stream",
     "text": [
      "26.122622999999976\n"
     ]
    }
   ],
   "source": [
    "save(0, all_[:600000])"
   ]
  },
  {
   "cell_type": "code",
   "execution_count": 12,
   "metadata": {},
   "outputs": [
    {
     "name": "stdout",
     "output_type": "stream",
     "text": [
      "89.333306\n"
     ]
    }
   ],
   "source": [
    "l0 = load(0)"
   ]
  },
  {
   "cell_type": "code",
   "execution_count": 13,
   "metadata": {},
   "outputs": [
    {
     "name": "stdout",
     "output_type": "stream",
     "text": [
      "34.060252999999875\n"
     ]
    }
   ],
   "source": [
    "save(1, all_[600000:1200000])"
   ]
  },
  {
   "cell_type": "code",
   "execution_count": 14,
   "metadata": {},
   "outputs": [
    {
     "name": "stdout",
     "output_type": "stream",
     "text": [
      "102.26382799999988\n"
     ]
    }
   ],
   "source": [
    "l1 = load(1)"
   ]
  },
  {
   "cell_type": "code",
   "execution_count": 15,
   "metadata": {},
   "outputs": [
    {
     "name": "stdout",
     "output_type": "stream",
     "text": [
      "31.626627999999982\n"
     ]
    }
   ],
   "source": [
    "save(2, all_[1200000:])"
   ]
  },
  {
   "cell_type": "code",
   "execution_count": 16,
   "metadata": {},
   "outputs": [
    {
     "name": "stdout",
     "output_type": "stream",
     "text": [
      "19.019525000000158\n"
     ]
    }
   ],
   "source": [
    "l2 = load(2)"
   ]
  },
  {
   "cell_type": "code",
   "execution_count": 17,
   "metadata": {},
   "outputs": [
    {
     "data": {
      "text/plain": [
       "1685787"
      ]
     },
     "execution_count": 17,
     "metadata": {},
     "output_type": "execute_result"
    }
   ],
   "source": [
    "l = l0 + l1 + l2\n",
    "len(l)"
   ]
  },
  {
   "cell_type": "markdown",
   "metadata": {},
   "source": [
    "# Process by descriptor"
   ]
  },
  {
   "cell_type": "code",
   "execution_count": 16,
   "metadata": {},
   "outputs": [
    {
     "data": {
      "text/plain": [
       "16.321060999999986"
      ]
     },
     "execution_count": 16,
     "metadata": {},
     "output_type": "execute_result"
    }
   ],
   "source": [
    "t = time.process_time()\n",
    "alld = {}\n",
    "for doc in all_:\n",
    "    doc = Doc(doc.id, doc.gdescriptors, doc.descriptors, doc.text)\n",
    "    for d in doc.descriptors:\n",
    "        count, docs = alld.get(d, (0, set()))\n",
    "        docs.add(doc)\n",
    "        alld[d] = (count + 1, docs)\n",
    "time.process_time() - t"
   ]
  },
  {
   "cell_type": "code",
   "execution_count": 17,
   "metadata": {},
   "outputs": [
    {
     "name": "stdout",
     "output_type": "stream",
     "text": [
      "('Terrorism', 12393)\n",
      "('Books and Literature', 11222)\n",
      "('Politics and Government', 10589)\n",
      "('Baseball', 9039)\n",
      "('United States Politics and Government', 8295)\n",
      "('Motion Pictures', 7748)\n",
      "('Music', 7317)\n",
      "('Weddings and Engagements', 7280)\n",
      "('Medicine and Health', 6829)\n",
      "('Travel and Vacations', 6537)\n",
      "('Deaths (Obituaries)', 6438)\n",
      "('Television', 6171)\n",
      "('Football', 6070)\n",
      "('Computers and the Internet', 5952)\n",
      "('Basketball', 5746)\n"
     ]
    }
   ],
   "source": [
    "alldlist = sorted([(d, alld[d][0], alld[d][1]) for d in alld], key=lambda x: x[1], reverse=True)\n",
    "for x in range(15):\n",
    "    print(alldlist[x][0:2])"
   ]
  },
  {
   "cell_type": "code",
   "execution_count": 17,
   "metadata": {},
   "outputs": [],
   "source": [
    "computers = list(filter(lambda x: 'Politics and Government' not in x.descriptors, \\\n",
    "                        alld['Computers and the Internet'][1]))"
   ]
  },
  {
   "cell_type": "code",
   "execution_count": 18,
   "metadata": {},
   "outputs": [],
   "source": [
    "politics = list(filter(lambda x: 'Computers and the Internet' not in x.descriptors, \\\n",
    "                        alld['Politics and Government'][1]))"
   ]
  },
  {
   "cell_type": "code",
   "execution_count": 19,
   "metadata": {},
   "outputs": [],
   "source": [
    "travel = list(filter(lambda x: 'Politics and Government' not in x.descriptors, \\\n",
    "                        alld['Travel and Vacations'][1]))"
   ]
  },
  {
   "cell_type": "code",
   "execution_count": 20,
   "metadata": {},
   "outputs": [
    {
     "data": {
      "text/plain": [
       "(5825, 10316, 6499)"
      ]
     },
     "execution_count": 20,
     "metadata": {},
     "output_type": "execute_result"
    }
   ],
   "source": [
    "len(computers), len(politics), len(travel)"
   ]
  },
  {
   "cell_type": "markdown",
   "metadata": {},
   "source": [
    "# Training Word Embeddings"
   ]
  },
  {
   "cell_type": "code",
   "execution_count": 21,
   "metadata": {},
   "outputs": [],
   "source": [
    "from gensim.models import Word2Vec\n",
    "from gensim.utils import simple_preprocess"
   ]
  },
  {
   "cell_type": "code",
   "execution_count": 22,
   "metadata": {},
   "outputs": [],
   "source": [
    "import nltk"
   ]
  },
  {
   "cell_type": "code",
   "execution_count": 23,
   "metadata": {},
   "outputs": [],
   "source": [
    "def getw2v(category):\n",
    "    sentences = []\n",
    "    for t in category:\n",
    "        sentences += nltk.sent_tokenize(t.text)\n",
    "    docs = [simple_preprocess(s) for s in sentences]\n",
    "    return Word2Vec(docs)"
   ]
  },
  {
   "cell_type": "code",
   "execution_count": 24,
   "metadata": {},
   "outputs": [
    {
     "data": {
      "text/plain": [
       "123.59515700000009"
      ]
     },
     "execution_count": 24,
     "metadata": {},
     "output_type": "execute_result"
    }
   ],
   "source": [
    "t = time.process_time()\n",
    "mpol = getw2v(politics)\n",
    "time.process_time() - t"
   ]
  },
  {
   "cell_type": "code",
   "execution_count": 396,
   "metadata": {},
   "outputs": [
    {
     "data": {
      "text/plain": [
       "74.33046300000024"
      ]
     },
     "execution_count": 396,
     "metadata": {},
     "output_type": "execute_result"
    }
   ],
   "source": [
    "t = time.process_time()\n",
    "mcomp = getw2v(computers)\n",
    "time.process_time() - t"
   ]
  },
  {
   "cell_type": "code",
   "execution_count": 26,
   "metadata": {},
   "outputs": [
    {
     "data": {
      "text/plain": [
       "108.69644400000016"
      ]
     },
     "execution_count": 26,
     "metadata": {},
     "output_type": "execute_result"
    }
   ],
   "source": [
    "t = time.process_time()\n",
    "mtrav = getw2v(travel)\n",
    "time.process_time() - t"
   ]
  },
  {
   "cell_type": "code",
   "execution_count": 69,
   "metadata": {},
   "outputs": [
    {
     "data": {
      "text/plain": [
       "[('submit', 0.8341895937919617),\n",
       " ('propose', 0.8119412660598755),\n",
       " ('enact', 0.7948086857795715)]"
      ]
     },
     "execution_count": 69,
     "metadata": {},
     "output_type": "execute_result"
    }
   ],
   "source": [
    "mpol.wv.most_similar(positive=['approve'], topn=3)"
   ]
  },
  {
   "cell_type": "code",
   "execution_count": 70,
   "metadata": {},
   "outputs": [
    {
     "data": {
      "text/plain": [
       "[('impose', 0.7918925285339355),\n",
       " ('overturn', 0.7905616760253906),\n",
       " ('amend', 0.7885333895683289)]"
      ]
     },
     "execution_count": 70,
     "metadata": {},
     "output_type": "execute_result"
    }
   ],
   "source": [
    "mcomp.wv.most_similar(positive=['approve'], topn=3)"
   ]
  },
  {
   "cell_type": "code",
   "execution_count": 71,
   "metadata": {},
   "outputs": [
    {
     "data": {
      "text/plain": [
       "[('declare', 0.8011578321456909),\n",
       " ('succeed', 0.7921991348266602),\n",
       " ('reconsider', 0.7868716716766357)]"
      ]
     },
     "execution_count": 71,
     "metadata": {},
     "output_type": "execute_result"
    }
   ],
   "source": [
    "mtrav.wv.most_similar(positive=['approve'], topn=3)"
   ]
  },
  {
   "cell_type": "markdown",
   "metadata": {},
   "source": [
    "# Summarization"
   ]
  },
  {
   "cell_type": "code",
   "execution_count": 27,
   "metadata": {},
   "outputs": [],
   "source": [
    "from gensim.summarization.summarizer import summarize\n",
    "from gensim.models import LsiModel\n",
    "from gensim.test.utils import common_dictionary, common_corpus"
   ]
  },
  {
   "cell_type": "code",
   "execution_count": 28,
   "metadata": {},
   "outputs": [],
   "source": [
    "def getsummaries(category):\n",
    "    s = []\n",
    "    for i in range(len(category)):\n",
    "        try:\n",
    "            s.append(summarize(category[i].text))\n",
    "        except:\n",
    "            print(i)\n",
    "    return s"
   ]
  },
  {
   "cell_type": "code",
   "execution_count": 29,
   "metadata": {},
   "outputs": [
    {
     "name": "stdout",
     "output_type": "stream",
     "text": [
      "1543\n",
      "3635\n",
      "4911\n",
      "5714\n",
      "6766\n",
      "7321\n",
      "8633\n",
      "9367\n"
     ]
    },
    {
     "data": {
      "text/plain": [
       "149.37134600000013"
      ]
     },
     "execution_count": 29,
     "metadata": {},
     "output_type": "execute_result"
    }
   ],
   "source": [
    "t = time.process_time()\n",
    "summaries_pol = getsummaries(politics)\n",
    "time.process_time() - t"
   ]
  },
  {
   "cell_type": "code",
   "execution_count": 386,
   "metadata": {},
   "outputs": [
    {
     "name": "stdout",
     "output_type": "stream",
     "text": [
      "1018\n",
      "1258\n",
      "1830\n",
      "3182\n",
      "3296\n",
      "4812\n",
      "5102\n"
     ]
    },
    {
     "data": {
      "text/plain": [
       "98.22116499999902"
      ]
     },
     "execution_count": 386,
     "metadata": {},
     "output_type": "execute_result"
    }
   ],
   "source": [
    "t = time.process_time()\n",
    "summaries_comp = getsummaries(computers)\n",
    "time.process_time() - t"
   ]
  },
  {
   "cell_type": "code",
   "execution_count": 31,
   "metadata": {},
   "outputs": [
    {
     "data": {
      "text/plain": [
       "130.53599900000017"
      ]
     },
     "execution_count": 31,
     "metadata": {},
     "output_type": "execute_result"
    }
   ],
   "source": [
    "t = time.process_time()\n",
    "summaries_trav = getsummaries(travel)\n",
    "time.process_time() - t"
   ]
  },
  {
   "cell_type": "code",
   "execution_count": 33,
   "metadata": {},
   "outputs": [],
   "source": [
    "def getw2v_s(sums):\n",
    "    sentences = []\n",
    "    for t in sums:\n",
    "        sentences += nltk.sent_tokenize(t)\n",
    "    docs = [simple_preprocess(s) for s in sentences]\n",
    "    return Word2Vec(docs)"
   ]
  },
  {
   "cell_type": "code",
   "execution_count": 34,
   "metadata": {},
   "outputs": [],
   "source": [
    "mpols = getw2v_s(summaries_pol)"
   ]
  },
  {
   "cell_type": "code",
   "execution_count": 387,
   "metadata": {},
   "outputs": [],
   "source": [
    "mcomps = getw2v_s(summaries_comp)"
   ]
  },
  {
   "cell_type": "code",
   "execution_count": 36,
   "metadata": {},
   "outputs": [],
   "source": [
    "mtravs = getw2v_s(summaries_trav)"
   ]
  },
  {
   "cell_type": "code",
   "execution_count": 40,
   "metadata": {},
   "outputs": [],
   "source": [
    "import text_summarizer"
   ]
  },
  {
   "cell_type": "code",
   "execution_count": 41,
   "metadata": {},
   "outputs": [
    {
     "name": "stderr",
     "output_type": "stream",
     "text": [
      "[nltk_data] Downloading package punkt to /Users/mayjiang/nltk_data...\n",
      "[nltk_data]   Unzipping tokenizers/punkt.zip.\n",
      "[nltk_data] Downloading package stopwords to\n",
      "[nltk_data]     /Users/mayjiang/nltk_data...\n",
      "[nltk_data]   Unzipping corpora/stopwords.zip.\n"
     ]
    },
    {
     "data": {
      "text/plain": [
       "True"
      ]
     },
     "execution_count": 41,
     "metadata": {},
     "output_type": "execute_result"
    }
   ],
   "source": [
    "nltk.download('punkt')\n",
    "nltk.download('stopwords')"
   ]
  },
  {
   "cell_type": "code",
   "execution_count": 43,
   "metadata": {},
   "outputs": [],
   "source": [
    "import requests"
   ]
  },
  {
   "cell_type": "code",
   "execution_count": 44,
   "metadata": {},
   "outputs": [],
   "source": [
    "text = requests.get('http://rare-technologies.com/the_matrix_synopsis.txt').text"
   ]
  },
  {
   "cell_type": "code",
   "execution_count": 45,
   "metadata": {},
   "outputs": [
    {
     "name": "stdout",
     "output_type": "stream",
     "text": [
      "[==================================================] 100.0% 66.0/66.0MB downloaded\n"
     ]
    }
   ],
   "source": [
    "embedding_model = text_summarizer.centroid_word_embeddings.load_gensim_embedding_model('glove-wiki-gigaword-50')"
   ]
  },
  {
   "cell_type": "code",
   "execution_count": 95,
   "metadata": {},
   "outputs": [],
   "source": [
    "centroid_word_embedding_summarizer = text_summarizer.CentroidWordEmbeddingsSummarizer(embedding_model, preprocess_type='nltk')\n"
   ]
  },
  {
   "cell_type": "code",
   "execution_count": 403,
   "metadata": {},
   "outputs": [
    {
     "data": {
      "text/plain": [
       "'Morpheus and Neo stand in a sparring program.\\nShe is the one who made the Prophecy of the One and that Morpheus would be the one to find him.\\nCypher returns to the Nebuchadnezzar before Trinity, Neo, Switch and Apoc.\\n\"He\\'s killing him,\" says Trinity.\\nIn the Matrix, Neo opens his eyes.'"
      ]
     },
     "execution_count": 403,
     "metadata": {},
     "output_type": "execute_result"
    }
   ],
   "source": [
    "centroid_word_embedding_summarizer.summarize(text, limit=50)"
   ]
  },
  {
   "cell_type": "code",
   "execution_count": 141,
   "metadata": {},
   "outputs": [],
   "source": [
    "import requests\n",
    "import text_summarizer\n",
    "text = requests.get('http://rare-technologies.com/the_matrix_synopsis.txt').text\n",
    "centroid_summarizer = text_summarizer.CentroidBOWSummarizer()\n",
    "centroid_summary = centroid_summarizer.summarize(text, limit=500)"
   ]
  },
  {
   "cell_type": "code",
   "execution_count": 145,
   "metadata": {},
   "outputs": [],
   "source": [
    "centroid_summary = centroid_summarizer.summarize(text, limit_type = 'sentence', limit=20)"
   ]
  },
  {
   "cell_type": "code",
   "execution_count": 146,
   "metadata": {},
   "outputs": [
    {
     "data": {
      "text/plain": [
       "'Morpheus, who is above Neo in the walls, breaks through the wall and lands on the agent, yelling to Trinity to get Neo out of the building.'"
      ]
     },
     "execution_count": 146,
     "metadata": {},
     "output_type": "execute_result"
    }
   ],
   "source": [
    "centroid_summary"
   ]
  },
  {
   "cell_type": "code",
   "execution_count": 97,
   "metadata": {},
   "outputs": [
    {
     "data": {
      "text/plain": [
       "\"Argentina!''\\n''I believe in an Argentina without unemployment, without misery,'' he said in a speech that appeared to have been quickly drafted and had little rhetorical flourish.He wrapped himself in the legacies of Gen. Juan Domingo Perón, the  dictator who founded the Justicialist Party in the 1940's as a vehicle for big labor, and the Mothers of the Plaza de Mayo, a group that still demonstrates demanding information about the tens of thousands of people who disappeared during military rule from 1976 to 1983.But Mr. Rodríguez Saá stopped well short of a complete break with previous government policy.\\nUsually scrip loses value over time in what some economists call a ''backdoor devaluation.\\nVoters will choose one candidate, but the candidate getting the most votes will not necessarily win.\""
      ]
     },
     "execution_count": 97,
     "metadata": {},
     "output_type": "execute_result"
    }
   ],
   "source": [
    "centroid_word_embedding_summary"
   ]
  },
  {
   "cell_type": "code",
   "execution_count": 85,
   "metadata": {},
   "outputs": [
    {
     "data": {
      "text/plain": [
       "143"
      ]
     },
     "execution_count": 85,
     "metadata": {},
     "output_type": "execute_result"
    }
   ],
   "source": [
    "len(nltk.word_tokenize(centroid_word_embedding_summary))"
   ]
  },
  {
   "cell_type": "code",
   "execution_count": 100,
   "metadata": {},
   "outputs": [
    {
     "data": {
      "text/plain": [
       "302.81612900000005"
      ]
     },
     "execution_count": 100,
     "metadata": {},
     "output_type": "execute_result"
    }
   ],
   "source": [
    "t = time.process_time()\n",
    "centroid_pol_summaries = [centroid_word_embedding_summarizer.summarize(text.text, limit=500) for text in politics]\n",
    "time.process_time() - t"
   ]
  },
  {
   "cell_type": "code",
   "execution_count": 124,
   "metadata": {},
   "outputs": [
    {
     "data": {
      "text/plain": [
       "284.90347999999994"
      ]
     },
     "execution_count": 124,
     "metadata": {},
     "output_type": "execute_result"
    }
   ],
   "source": [
    "t = time.process_time()\n",
    "centroid_trav_summaries = [centroid_word_embedding_summarizer.summarize(text.text, limit=500) for text in travel]\n",
    "time.process_time() - t"
   ]
  },
  {
   "cell_type": "code",
   "execution_count": 126,
   "metadata": {},
   "outputs": [
    {
     "data": {
      "text/plain": [
       "196.42342300000018"
      ]
     },
     "execution_count": 126,
     "metadata": {},
     "output_type": "execute_result"
    }
   ],
   "source": [
    "t = time.process_time()\n",
    "centroid_comp_summaries = [centroid_word_embedding_summarizer.summarize(text.text, limit=500) for text in computers]\n",
    "time.process_time() - t"
   ]
  },
  {
   "cell_type": "code",
   "execution_count": 102,
   "metadata": {},
   "outputs": [],
   "source": [
    "mpols_centroid = getw2v_s(centroid_pol_summaries)"
   ]
  },
  {
   "cell_type": "code",
   "execution_count": 127,
   "metadata": {},
   "outputs": [],
   "source": [
    "mcomps_centroid = getw2v_s(centroid_comp_summaries)"
   ]
  },
  {
   "cell_type": "code",
   "execution_count": 128,
   "metadata": {},
   "outputs": [],
   "source": [
    "mtravs_centroid = getw2v_s(centroid_trav_summaries)"
   ]
  },
  {
   "cell_type": "code",
   "execution_count": 109,
   "metadata": {},
   "outputs": [
    {
     "name": "stdout",
     "output_type": "stream",
     "text": [
      "(58, 100)\n"
     ]
    },
    {
     "data": {
      "image/png": "[encoded data removed]",
      "text/plain": [
       "<Figure size 432x288 with 1 Axes>"
      ]
     },
     "metadata": {
      "needs_background": "light"
     },
     "output_type": "display_data"
    }
   ],
   "source": [
    "gpols_centroid = getg(mpols_centroid)"
   ]
  },
  {
   "cell_type": "code",
   "execution_count": 129,
   "metadata": {},
   "outputs": [
    {
     "name": "stdout",
     "output_type": "stream",
     "text": [
      "(44, 100)\n"
     ]
    },
    {
     "data": {
      "image/png": "[encoded data removed]",
      "text/plain": [
       "<Figure size 432x288 with 1 Axes>"
      ]
     },
     "metadata": {
      "needs_background": "light"
     },
     "output_type": "display_data"
    }
   ],
   "source": [
    "gcomps_centroid = getg(mcomps_centroid)"
   ]
  },
  {
   "cell_type": "code",
   "execution_count": 130,
   "metadata": {},
   "outputs": [
    {
     "name": "stdout",
     "output_type": "stream",
     "text": [
      "(66, 100)\n"
     ]
    },
    {
     "data": {
      "image/png": "[encoded data removed]",
      "text/plain": [
       "<Figure size 432x288 with 1 Axes>"
      ]
     },
     "metadata": {
      "needs_background": "light"
     },
     "output_type": "display_data"
    }
   ],
   "source": [
    "gtravs_centroid = getg(mtravs_centroid)"
   ]
  },
  {
   "cell_type": "code",
   "execution_count": 112,
   "metadata": {},
   "outputs": [
    {
     "name": "stdout",
     "output_type": "stream",
     "text": [
      "she                  -2.2710788249969482 \t\t he                   2.356893301010132\n",
      "pretty               -0.508688747882843 \t\t leadership           1.8383127450942993\n",
      "guy                  -0.30442196130752563 \t\t strong               1.207552433013916\n",
      "mother               -0.3039940297603607 \t\t politician           0.8111317157745361\n",
      "dressed              -0.09755730628967285 \t\t professor            0.705872118473053\n",
      "smart                -0.09026387333869934 \t\t architect            0.42393848299980164\n",
      "blond                -0.08173473924398422 \t\t scientist            0.15896250307559967\n",
      "woman                -0.07382756471633911 \t\t physician            0.1393873393535614\n",
      "male                 -0.06741078943014145 \t\t capable              0.11589368432760239\n",
      "brilliant            -0.05333647131919861 \t\t philosopher          0.07245338708162308\n",
      "sewing               -0.015276863239705563 \t\t man                  0.07010260969400406\n",
      "handsome             -0.013255850411951542 \t\t surgeon              0.06485341489315033\n",
      "incompetent          -0.012484760023653507 \t\t captain              0.060780156403779984\n",
      "clever               -0.007496535312384367 \t\t nurse                0.05871207267045975\n",
      "competent            -0.006708933971822262 \t\t financier            0.0509636253118515\n",
      "teacher              -0.006632350385189056 \t\t housekeeper          0.04568195715546608\n",
      "warrior              0.012089066207408905 \t\t cooking              0.039108432829380035\n",
      "doctor               0.016100050881505013 \t\t female               0.032829415053129196\n",
      "nanny                0.01910698413848877 \t\t cosmetics            0.03006601333618164\n",
      "cosmetics            0.03006601333618164 \t\t nanny                0.01910698413848877\n"
     ]
    }
   ],
   "source": [
    "res = sorted([(x, gproj(gpols_centroid, mpols_centroid, x)) for x in filter(lambda x: x in mpols_centroid.wv.vocab, wordlist)], key=lambda x: x[1])\n",
    "for i in range(20):\n",
    "    print(f\"{res[i][0].ljust(20)} {res[i][1]} \\t\\t {res[-i-1][0].ljust(20)} {res[-i-1][1]}\")"
   ]
  },
  {
   "cell_type": "code",
   "execution_count": 123,
   "metadata": {},
   "outputs": [
    {
     "data": {
      "text/plain": [
       "(0.9482668682883479, 0.6022038179460508)"
      ]
     },
     "execution_count": 123,
     "metadata": {},
     "output_type": "execute_result"
    }
   ],
   "source": [
    "bias(gpols_centroid, mpols_centroid, proflist), bias(gpols, mpols, proflist)"
   ]
  },
  {
   "cell_type": "code",
   "execution_count": 139,
   "metadata": {},
   "outputs": [
    {
     "data": {
      "text/plain": [
       "['able',\n",
       " 'abnormal',\n",
       " 'above average',\n",
       " 'absent-minded',\n",
       " 'adventurous',\n",
       " 'affectionate',\n",
       " 'agile',\n",
       " 'agreeable',\n",
       " 'alert',\n",
       " 'amazing',\n",
       " 'ambitious',\n",
       " 'amiable',\n",
       " 'amusing',\n",
       " 'analytical',\n",
       " 'angelic',\n",
       " 'apathetic',\n",
       " 'apprehensive',\n",
       " 'ardent',\n",
       " 'artificial',\n",
       " 'artistic',\n",
       " 'assertive',\n",
       " 'attentive',\n",
       " 'average',\n",
       " 'awesome',\n",
       " 'awful',\n",
       " 'balanced',\n",
       " 'beautiful',\n",
       " 'below average',\n",
       " 'beneficent',\n",
       " 'blue',\n",
       " 'blunt',\n",
       " 'boisterous',\n",
       " 'brave',\n",
       " 'bright',\n",
       " 'brilliant',\n",
       " 'buff',\n",
       " 'callous',\n",
       " 'candid',\n",
       " 'cantankerous',\n",
       " 'capable',\n",
       " 'careful',\n",
       " 'careless',\n",
       " 'caustic',\n",
       " 'cautious',\n",
       " 'charming',\n",
       " 'cheerful',\n",
       " 'chic',\n",
       " 'childish',\n",
       " 'childlike',\n",
       " 'churlish',\n",
       " 'circumspect',\n",
       " 'civil',\n",
       " 'clean',\n",
       " 'clever',\n",
       " 'clumsy',\n",
       " 'coherent',\n",
       " 'cold',\n",
       " 'competent',\n",
       " 'composed',\n",
       " 'conceited',\n",
       " 'condescending',\n",
       " 'confident',\n",
       " 'confused',\n",
       " 'conscientious',\n",
       " 'considerate',\n",
       " 'content',\n",
       " 'cool',\n",
       " 'cool-headed',\n",
       " 'cooperative',\n",
       " 'cordial',\n",
       " 'courageous',\n",
       " 'cowardly',\n",
       " 'crabby',\n",
       " 'crafty',\n",
       " 'cranky',\n",
       " 'crass',\n",
       " 'critical',\n",
       " 'cruel',\n",
       " 'curious',\n",
       " 'cynical',\n",
       " 'dainty',\n",
       " 'decisive',\n",
       " 'deep',\n",
       " 'deferential',\n",
       " 'deft',\n",
       " 'delicate',\n",
       " 'delightful',\n",
       " 'demonic',\n",
       " 'demure',\n",
       " 'dependent',\n",
       " 'depressed',\n",
       " 'devoted',\n",
       " 'dextrous',\n",
       " 'diligent',\n",
       " 'direct',\n",
       " 'dirty',\n",
       " 'disagreeable',\n",
       " 'discerning',\n",
       " 'discreet',\n",
       " 'disruptive',\n",
       " 'distant',\n",
       " 'distraught',\n",
       " 'distrustful',\n",
       " 'dowdy',\n",
       " 'dramatic',\n",
       " 'dreary',\n",
       " 'drowsy',\n",
       " 'drugged',\n",
       " 'drunk',\n",
       " 'dull',\n",
       " 'dutiful',\n",
       " 'eager',\n",
       " 'earnest',\n",
       " 'easy-going',\n",
       " 'efficient',\n",
       " 'egotistical',\n",
       " 'elfin',\n",
       " 'emotional',\n",
       " 'energetic',\n",
       " 'enterprising',\n",
       " 'enthusiastic',\n",
       " 'evasive',\n",
       " 'even-tempered',\n",
       " 'exacting',\n",
       " 'excellent',\n",
       " 'excitable',\n",
       " 'experienced',\n",
       " 'fabulous',\n",
       " 'fastidious',\n",
       " 'ferocious',\n",
       " 'fervent',\n",
       " 'fiery',\n",
       " 'flabby',\n",
       " 'flaky',\n",
       " 'flashy',\n",
       " 'frank',\n",
       " 'friendly',\n",
       " 'funny',\n",
       " 'fussy',\n",
       " 'generous',\n",
       " 'gentle',\n",
       " 'gloomy',\n",
       " 'gluttonous',\n",
       " 'good',\n",
       " 'grave',\n",
       " 'great',\n",
       " 'groggy',\n",
       " 'grouchy',\n",
       " 'guarded',\n",
       " 'hateful',\n",
       " 'hearty',\n",
       " 'helpful',\n",
       " 'hesitant',\n",
       " 'hot-headed',\n",
       " 'hypercritical',\n",
       " 'hysterical',\n",
       " 'idiotic',\n",
       " 'idle',\n",
       " 'illogical',\n",
       " 'imaginative',\n",
       " 'immature',\n",
       " 'immodest',\n",
       " 'impatient',\n",
       " 'imperturbable',\n",
       " 'impetuous',\n",
       " 'impractical',\n",
       " 'impressionable',\n",
       " 'impressive',\n",
       " 'impulsive',\n",
       " 'inactive',\n",
       " 'incisive',\n",
       " 'incompetent',\n",
       " 'inconsiderate',\n",
       " 'inconsistent',\n",
       " 'indefatigable',\n",
       " 'independent',\n",
       " 'indiscreet',\n",
       " 'indolent',\n",
       " 'industrious',\n",
       " 'inexperienced',\n",
       " 'insensitive',\n",
       " 'inspiring',\n",
       " 'intelligent',\n",
       " 'interesting',\n",
       " 'intolerant',\n",
       " 'inventive',\n",
       " 'irascible',\n",
       " 'irritable',\n",
       " 'irritating',\n",
       " 'jocular',\n",
       " 'jovial',\n",
       " 'joyous',\n",
       " 'judgmental',\n",
       " 'keen',\n",
       " 'kind',\n",
       " 'lame',\n",
       " 'lazy',\n",
       " 'lean',\n",
       " 'leery',\n",
       " 'lethargic',\n",
       " 'level-headed',\n",
       " 'listless',\n",
       " 'lithe',\n",
       " 'lively',\n",
       " 'local',\n",
       " 'logical',\n",
       " 'long-winded',\n",
       " 'lovable',\n",
       " 'love-lorn',\n",
       " 'lovely',\n",
       " 'maternal',\n",
       " 'mature',\n",
       " 'mean',\n",
       " 'meddlesome',\n",
       " 'mercurial',\n",
       " 'methodical',\n",
       " 'meticulous',\n",
       " 'mild',\n",
       " 'miserable',\n",
       " 'modest',\n",
       " 'moronic',\n",
       " 'morose',\n",
       " 'motivated',\n",
       " 'musical',\n",
       " 'naive',\n",
       " 'nasty',\n",
       " 'natural',\n",
       " 'naughty',\n",
       " 'negative',\n",
       " 'nervous',\n",
       " 'noisy',\n",
       " 'normal',\n",
       " 'nosy',\n",
       " 'numb',\n",
       " 'obliging',\n",
       " 'obnoxious',\n",
       " 'old-fashioned',\n",
       " 'one-sided',\n",
       " 'orderly',\n",
       " 'ostentatious',\n",
       " 'outgoing',\n",
       " 'outspoken',\n",
       " 'passionate',\n",
       " 'passive',\n",
       " 'paternal',\n",
       " 'paternalistic',\n",
       " 'patient',\n",
       " 'peaceful',\n",
       " 'peevish',\n",
       " 'pensive',\n",
       " 'persevering',\n",
       " 'persnickety',\n",
       " 'petulant',\n",
       " 'picky',\n",
       " 'plain',\n",
       " 'plain-speaking',\n",
       " 'playful',\n",
       " 'pleasant',\n",
       " 'plucky',\n",
       " 'polite',\n",
       " 'popular',\n",
       " 'positive',\n",
       " 'powerful',\n",
       " 'practical',\n",
       " 'prejudiced',\n",
       " 'pretty',\n",
       " 'proficient',\n",
       " 'proud',\n",
       " 'provocative',\n",
       " 'prudent',\n",
       " 'punctual',\n",
       " 'quarrelsome',\n",
       " 'querulous',\n",
       " 'quick',\n",
       " 'quick-tempered',\n",
       " 'quiet',\n",
       " 'realistic',\n",
       " 'reassuring',\n",
       " 'reclusive',\n",
       " 'reliable',\n",
       " 'reluctant',\n",
       " 'resentful',\n",
       " 'reserved',\n",
       " 'resigned',\n",
       " 'resourceful',\n",
       " 'respected',\n",
       " 'respectful',\n",
       " 'responsible',\n",
       " 'restless',\n",
       " 'revered',\n",
       " 'ridiculous',\n",
       " 'sad',\n",
       " 'sassy',\n",
       " 'saucy',\n",
       " 'sedate',\n",
       " 'self-assured',\n",
       " 'selfish',\n",
       " 'sensible',\n",
       " 'sensitive',\n",
       " 'sentimental',\n",
       " 'serene',\n",
       " 'serious',\n",
       " 'sharp',\n",
       " 'short-tempered',\n",
       " 'shrewd',\n",
       " 'shy',\n",
       " 'silly',\n",
       " 'sincere',\n",
       " 'sleepy',\n",
       " 'slight',\n",
       " 'sloppy',\n",
       " 'slothful',\n",
       " 'slovenly',\n",
       " 'slow',\n",
       " 'smart',\n",
       " 'snazzy',\n",
       " 'sneering',\n",
       " 'snobby',\n",
       " 'sober',\n",
       " 'somber',\n",
       " 'sophisticated',\n",
       " 'soulful',\n",
       " 'soulless',\n",
       " 'sour',\n",
       " 'spirited',\n",
       " 'spiteful',\n",
       " 'stable',\n",
       " 'staid',\n",
       " 'steady',\n",
       " 'stern',\n",
       " 'stoic',\n",
       " 'striking',\n",
       " 'strong',\n",
       " 'stupid',\n",
       " 'sturdy',\n",
       " 'subtle',\n",
       " 'sulky',\n",
       " 'sullen',\n",
       " 'supercilious',\n",
       " 'superficial',\n",
       " 'surly',\n",
       " 'suspicious',\n",
       " 'sweet',\n",
       " 'tactful',\n",
       " 'tactless',\n",
       " 'talented',\n",
       " 'testy',\n",
       " 'thinking',\n",
       " 'thoughtful',\n",
       " 'thoughtless',\n",
       " 'timid',\n",
       " 'tired',\n",
       " 'tolerant',\n",
       " 'touchy',\n",
       " 'tranquil',\n",
       " 'ugly',\n",
       " 'unaffected',\n",
       " 'unbalanced',\n",
       " 'uncertain',\n",
       " 'uncooperative',\n",
       " 'undependable',\n",
       " 'unemotional',\n",
       " 'unfriendly',\n",
       " 'unguarded',\n",
       " 'unhelpful',\n",
       " 'unimaginative',\n",
       " 'unmotivated',\n",
       " 'unpleasant',\n",
       " 'unpopular',\n",
       " 'unreliable',\n",
       " 'unsophisticated',\n",
       " 'unstable',\n",
       " 'unsure',\n",
       " 'unthinking',\n",
       " 'unwilling',\n",
       " 'venal',\n",
       " 'versatile',\n",
       " 'vigilant',\n",
       " 'volcanic',\n",
       " 'vulnerable',\n",
       " 'warm',\n",
       " 'warmhearted',\n",
       " 'wary',\n",
       " 'watchful',\n",
       " 'weak',\n",
       " 'well-behaved',\n",
       " 'well-developed',\n",
       " 'well-intentioned',\n",
       " 'well-respected',\n",
       " 'well-rounded',\n",
       " 'willing',\n",
       " 'wonderful',\n",
       " 'zealous\\n']"
      ]
     },
     "execution_count": 139,
     "metadata": {},
     "output_type": "execute_result"
    }
   ],
   "source": [
    "adjectives"
   ]
  },
  {
   "cell_type": "code",
   "execution_count": 137,
   "metadata": {},
   "outputs": [
    {
     "data": {
      "text/plain": [
       "(0.4050998646040163, 0.13439693361364366)"
      ]
     },
     "execution_count": 137,
     "metadata": {},
     "output_type": "execute_result"
    }
   ],
   "source": [
    "bias(gtravs_centroid, mtravs_centroid, proflist), bias(gtravs, mtravs, proflist)"
   ]
  },
  {
   "cell_type": "code",
   "execution_count": 138,
   "metadata": {},
   "outputs": [
    {
     "data": {
      "text/plain": [
       "(1.8559659211923412, 0.4531655633919334)"
      ]
     },
     "execution_count": 138,
     "metadata": {},
     "output_type": "execute_result"
    }
   ],
   "source": [
    "bias(gcomps_centroid, mcomps_centroid, proflist), bias(gcomps, mcomps, proflist)"
   ]
  },
  {
   "cell_type": "markdown",
   "metadata": {},
   "source": [
    "# Measuring Bias"
   ]
  },
  {
   "cell_type": "code",
   "execution_count": 106,
   "metadata": {},
   "outputs": [],
   "source": [
    "with open('debiaswe-master/data/equalize_pairs.json') as f:\n",
    "    pairs = json.loads(f.read())"
   ]
  },
  {
   "cell_type": "code",
   "execution_count": 107,
   "metadata": {},
   "outputs": [],
   "source": [
    "from sklearn.decomposition import PCA\n",
    "from matplotlib.pyplot import bar"
   ]
  },
  {
   "cell_type": "code",
   "execution_count": 108,
   "metadata": {},
   "outputs": [],
   "source": [
    "pairs = list(map(lambda x: [x[0].lower(), x[1].lower()], pairs))"
   ]
  },
  {
   "cell_type": "code",
   "execution_count": 51,
   "metadata": {},
   "outputs": [
    {
     "data": {
      "text/plain": [
       "[['monastery', 'convent'],\n",
       " ['spokesman', 'spokeswoman'],\n",
       " ['catholic_priest', 'nun'],\n",
       " ['dad', 'mom'],\n",
       " ['men', 'women']]"
      ]
     },
     "execution_count": 51,
     "metadata": {},
     "output_type": "execute_result"
    }
   ],
   "source": [
    "pairs[:5]"
   ]
  },
  {
   "cell_type": "markdown",
   "metadata": {},
   "source": [
    "## For Politics"
   ]
  },
  {
   "cell_type": "code",
   "execution_count": 104,
   "metadata": {},
   "outputs": [],
   "source": [
    "def getg(m):\n",
    "    matrix = []\n",
    "    for a, b in pairs:\n",
    "        if a not in m.wv.vocab or b not in m.wv.vocab:\n",
    "            continue\n",
    "        center = (m.wv.get_vector(a) + m.wv.get_vector(b))/2\n",
    "        matrix.append(m.wv.get_vector(a) - center)\n",
    "        matrix.append(m.wv.get_vector(b) - center)\n",
    "    matrix = np.array(matrix)\n",
    "    p = PCA(n_components = 10)\n",
    "    p.fit(matrix)\n",
    "    bar(range(10), p.explained_variance_ratio_)\n",
    "    print(matrix.shape)\n",
    "    return p.components_[0]"
   ]
  },
  {
   "cell_type": "code",
   "execution_count": 77,
   "metadata": {},
   "outputs": [
    {
     "name": "stdout",
     "output_type": "stream",
     "text": [
      "(76, 100)\n"
     ]
    },
    {
     "data": {
      "image/png": "[encoded data removed]",
      "text/plain": [
       "<Figure size 432x288 with 1 Axes>"
      ]
     },
     "metadata": {
      "needs_background": "light"
     },
     "output_type": "display_data"
    }
   ],
   "source": [
    "gpol = getg(mpol)"
   ]
  },
  {
   "cell_type": "code",
   "execution_count": 397,
   "metadata": {},
   "outputs": [
    {
     "name": "stdout",
     "output_type": "stream",
     "text": [
      "(74, 100)\n"
     ]
    },
    {
     "data": {
      "image/png": "[encoded data removed]",
      "text/plain": [
       "<Figure size 432x288 with 1 Axes>"
      ]
     },
     "metadata": {
      "needs_background": "light"
     },
     "output_type": "display_data"
    }
   ],
   "source": [
    "gcomp = getg(mcomp)"
   ]
  },
  {
   "cell_type": "code",
   "execution_count": 133,
   "metadata": {},
   "outputs": [
    {
     "name": "stdout",
     "output_type": "stream",
     "text": [
      "(86, 100)\n"
     ]
    },
    {
     "data": {
      "image/png": "[encoded data removed]",
      "text/plain": [
       "<Figure size 432x288 with 1 Axes>"
      ]
     },
     "metadata": {
      "needs_background": "light"
     },
     "output_type": "display_data"
    }
   ],
   "source": [
    "gtrav = getg(mtrav)"
   ]
  },
  {
   "cell_type": "code",
   "execution_count": 122,
   "metadata": {},
   "outputs": [
    {
     "name": "stdout",
     "output_type": "stream",
     "text": [
      "(76, 100)\n"
     ]
    },
    {
     "data": {
      "image/png": "[encoded data removed]",
      "text/plain": [
       "<Figure size 432x288 with 1 Axes>"
      ]
     },
     "metadata": {
      "needs_background": "light"
     },
     "output_type": "display_data"
    }
   ],
   "source": [
    "gpols = getg(mpol)"
   ]
  },
  {
   "cell_type": "code",
   "execution_count": 394,
   "metadata": {},
   "outputs": [
    {
     "name": "stdout",
     "output_type": "stream",
     "text": [
      "(54, 100)\n"
     ]
    },
    {
     "data": {
      "image/png": "[encoded data removed]",
      "text/plain": [
       "<Figure size 432x288 with 1 Axes>"
      ]
     },
     "metadata": {
      "needs_background": "light"
     },
     "output_type": "display_data"
    }
   ],
   "source": [
    "gcomps = getg(mcomps)"
   ]
  },
  {
   "cell_type": "code",
   "execution_count": 135,
   "metadata": {},
   "outputs": [
    {
     "name": "stdout",
     "output_type": "stream",
     "text": [
      "(62, 100)\n"
     ]
    },
    {
     "data": {
      "image/png": "[encoded data removed]",
      "text/plain": [
       "<Figure size 432x288 with 1 Axes>"
      ]
     },
     "metadata": {
      "needs_background": "light"
     },
     "output_type": "display_data"
    }
   ],
   "source": [
    "gtravs = getg(mtravs)"
   ]
  },
  {
   "cell_type": "code",
   "execution_count": 96,
   "metadata": {},
   "outputs": [
    {
     "data": {
      "text/plain": [
       "<BarContainer object of 10 artists>"
      ]
     },
     "execution_count": 96,
     "metadata": {},
     "output_type": "execute_result"
    },
    {
     "data": {
      "image/png": "[encoded data removed]",
      "text/plain": [
       "<Figure size 432x288 with 1 Axes>"
      ]
     },
     "metadata": {
      "needs_background": "light"
     },
     "output_type": "display_data"
    }
   ],
   "source": [
    "pca_r = PCA(n_components = 10)\n",
    "pca_r.fit(np.random.rand(76,100))\n",
    "bar(range(10), pca_r.explained_variance_ratio_)"
   ]
  },
  {
   "cell_type": "code",
   "execution_count": 111,
   "metadata": {},
   "outputs": [],
   "source": [
    "def gproj(g, m, w1):\n",
    "    wvec = m.wv.get_vector(w1)\n",
    "    p = np.dot(g, wvec)/np.linalg.norm(g)\n",
    "    return p"
   ]
  },
  {
   "cell_type": "code",
   "execution_count": 110,
   "metadata": {},
   "outputs": [],
   "source": [
    "wordlist = ['he', 'she', 'doctor', 'nurse', 'man', 'woman', 'male', 'female', 'politician', 'guy', \\\n",
    "            'scientist', 'teacher', 'professor', 'mother', 'pretty', 'handsome', 'strong', 'coward', \\\n",
    "            'timid', 'leadership', 'blond', 'lovely', 'petite', 'surgeon', 'physician', 'shopkeeper', \\\n",
    "            'cooking', 'sewing', 'chuckle', 'sassy', 'lanky', 'competent', 'brilliant', 'capable', 'smart', \\\n",
    "            'intelligent', 'incompetent', 'librarian', 'cosmetics', 'maid', 'clever', 'dressed', 'captain', \\\n",
    "            'nanny', 'philosopher', 'architect', 'financier', 'warrior', 'magician', 'housekeeper', 'homemaker']"
   ]
  },
  {
   "cell_type": "code",
   "execution_count": 117,
   "metadata": {},
   "outputs": [
    {
     "name": "stdout",
     "output_type": "stream",
     "text": [
      "man                  -3.7426586151123047 \t\t she                  6.507950782775879\n",
      "he                   -3.2389204502105713 \t\t woman                3.978196859359741\n",
      "leadership           -2.6054000854492188 \t\t female               2.1559529304504395\n",
      "professor            -2.5416016578674316 \t\t male                 2.0371978282928467\n",
      "politician           -2.009556293487549 \t\t mother               1.9487175941467285\n",
      "scientist            -1.995765209197998 \t\t doctor               1.373782992362976\n",
      "architect            -1.6636126041412354 \t\t teacher              1.095907211303711\n",
      "guy                  -1.236844539642334 \t\t pretty               1.0189235210418701\n",
      "captain              -0.7500171065330505 \t\t dressed              0.6161187887191772\n",
      "strong               -0.729799747467041 \t\t blond                0.49705949425697327\n",
      "financier            -0.48084181547164917 \t\t intelligent          0.4610220789909363\n",
      "warrior              -0.3460354208946228 \t\t smart                0.3614952862262726\n",
      "philosopher          -0.33129969239234924 \t\t cooking              0.29901257157325745\n",
      "physician            -0.2697586119174957 \t\t nurse                0.2973265051841736\n",
      "capable              -0.2353784590959549 \t\t maid                 0.23386669158935547\n",
      "incompetent          -0.22745417058467865 \t\t lovely               0.23238392174243927\n",
      "surgeon              -0.20370154082775116 \t\t sewing               0.16437005996704102\n",
      "brilliant            -0.17029620707035065 \t\t clever               0.16409718990325928\n",
      "lanky                -0.16175992786884308 \t\t homemaker            0.13481584191322327\n",
      "shopkeeper           -0.13689708709716797 \t\t sassy                0.1122685968875885\n"
     ]
    }
   ],
   "source": [
    "res = sorted([(x, gproj(gpol, mpol, x)) for x in filter(lambda x: x in mpol.wv.vocab, wordlist)], key=lambda x: x[1])\n",
    "for i in range(20):\n",
    "    print(f\"{res[i][0].ljust(20)} {res[i][1]} \\t\\t {res[-i-1][0].ljust(20)} {res[-i-1][1]}\")"
   ]
  },
  {
   "cell_type": "code",
   "execution_count": 123,
   "metadata": {},
   "outputs": [
    {
     "name": "stdout",
     "output_type": "stream",
     "text": [
      "she                  -6.732553958892822 \t\t he                   5.921176433563232\n",
      "woman                -2.8284213542938232 \t\t architect            2.261176347732544\n",
      "mother               -1.631007432937622 \t\t man                  1.9642524719238281\n",
      "lovely               -0.9345683455467224 \t\t captain              0.5961882472038269\n",
      "pretty               -0.8737713694572449 \t\t guy                  0.5897709727287292\n",
      "teacher              -0.6393272876739502 \t\t scientist            0.5507559776306152\n",
      "blond                -0.6306520104408264 \t\t professor            0.4121052622795105\n",
      "dressed              -0.5661043524742126 \t\t politician           0.24364084005355835\n",
      "cooking              -0.5366024971008301 \t\t brilliant            0.23765069246292114\n",
      "female               -0.41221967339515686 \t\t doctor               0.21805959939956665\n",
      "nanny                -0.4005126655101776 \t\t clever               0.209228515625\n",
      "nurse                -0.35116928815841675 \t\t capable              0.2009584903717041\n",
      "male                 -0.31772148609161377 \t\t leadership           0.20009246468544006\n",
      "petite               -0.2871208190917969 \t\t handsome             0.19972474873065948\n",
      "smart                -0.22750306129455566 \t\t financier            0.1718595027923584\n",
      "cosmetics            -0.16408483684062958 \t\t lanky                0.1673848181962967\n",
      "sewing               -0.09468129277229309 \t\t warrior              0.15571756660938263\n",
      "librarian            -0.0569617934525013 \t\t philosopher          0.1532084345817566\n",
      "homemaker            -0.04722302407026291 \t\t physician            0.1326189488172531\n",
      "timid                -0.041968125849962234 \t\t surgeon              0.09802734851837158\n"
     ]
    }
   ],
   "source": [
    "res = sorted([(x, gproj(gtrav, mtrav, x)) for x in filter(lambda x: x in mtrav.wv.vocab, wordlist)], key=lambda x: x[1])\n",
    "for i in range(20):\n",
    "    print(f\"{res[i][0].ljust(20)} {res[i][1]} \\t\\t {res[-i-1][0].ljust(20)} {res[-i-1][1]}\")"
   ]
  },
  {
   "cell_type": "markdown",
   "metadata": {},
   "source": [
    "## Bias measured on list of professions"
   ]
  },
  {
   "cell_type": "code",
   "execution_count": 116,
   "metadata": {},
   "outputs": [],
   "source": [
    "with open('debiaswe-master/data/professions.json') as f:\n",
    "    profs = json.loads(f.read())"
   ]
  },
  {
   "cell_type": "code",
   "execution_count": 117,
   "metadata": {},
   "outputs": [],
   "source": [
    "proflist = list(filter(lambda x: x in mpol.wv.vocab, [p[0] for p in profs if abs(p[1]) < 0.6]))"
   ]
  },
  {
   "cell_type": "code",
   "execution_count": 118,
   "metadata": {},
   "outputs": [],
   "source": [
    "with open('debiaswe-master/data/gender_specific_seed.json') as f:\n",
    "    gender_specific = json.loads(f.read())"
   ]
  },
  {
   "cell_type": "code",
   "execution_count": 119,
   "metadata": {},
   "outputs": [],
   "source": [
    "with open('debiaswe-master/data/gender_specific_full.json') as f:\n",
    "    gender_specific_full = json.loads(f.read())"
   ]
  },
  {
   "cell_type": "code",
   "execution_count": 114,
   "metadata": {},
   "outputs": [],
   "source": [
    "def bias(g, m, wordlist):\n",
    "    b = 0\n",
    "    l = list(filter(lambda x: x in m.wv.vocab, wordlist))\n",
    "    for x in l:\n",
    "        b += gproj(g, m, x)**2\n",
    "    return np.sqrt(b/len(l))"
   ]
  },
  {
   "cell_type": "code",
   "execution_count": 103,
   "metadata": {},
   "outputs": [],
   "source": [
    "def testbias(wordlist):\n",
    "    print(f\"politics: {bias(gpol, mpol, wordlist)}\")\n",
    "    print(f\"politics summary: {bias(gpols, mpols, wordlist)}\")\n",
    "    print(f\"computers: {bias(gcomp, mcomp, wordlist)}\")\n",
    "    print(f\"computers summary: {bias(gcomps, mcomps, wordlist)}\")\n",
    "    print(f\"travel: {bias(gtrav, mtrav, wordlist)}\")\n",
    "    print(f\"travel summary: {bias(gtravs, mtravs, wordlist)}\")"
   ]
  },
  {
   "cell_type": "code",
   "execution_count": 126,
   "metadata": {},
   "outputs": [
    {
     "data": {
      "text/plain": [
       "(1.080344051949677, 0.7235289508241887)"
      ]
     },
     "execution_count": 126,
     "metadata": {},
     "output_type": "execute_result"
    }
   ],
   "source": [
    "bias(gpol, mpol, proflist), bias(gpols, mpols, proflist)"
   ]
  },
  {
   "cell_type": "code",
   "execution_count": 130,
   "metadata": {},
   "outputs": [
    {
     "data": {
      "text/plain": [
       "(1.4443633579802266, 0.8515114355018824)"
      ]
     },
     "execution_count": 130,
     "metadata": {},
     "output_type": "execute_result"
    }
   ],
   "source": [
    "bias(gpol, mpol, gender_specific), bias(gpols, mpols, gender_specific)"
   ]
  },
  {
   "cell_type": "code",
   "execution_count": 122,
   "metadata": {},
   "outputs": [
    {
     "name": "stdout",
     "output_type": "stream",
     "text": [
      "politics: 1.080344051949677\n",
      "politics summary: 0.7235289508241887\n",
      "computers: 0.5606665330295195\n",
      "computers summary: 0.39853296151511014\n",
      "travel: 0.41046785015210885\n",
      "travel summary: 0.13200765679855686\n"
     ]
    }
   ],
   "source": [
    "testbias(proflist)"
   ]
  },
  {
   "cell_type": "code",
   "execution_count": 133,
   "metadata": {},
   "outputs": [
    {
     "name": "stdout",
     "output_type": "stream",
     "text": [
      "politics: 1.5975402701761838\n",
      "politics summary: 0.9180423165261025\n",
      "computers: 1.4735026773405129\n",
      "computers summary: 1.0926430491214618\n",
      "travel: 1.364429929965666\n",
      "travel summary: 0.9591379027237654\n"
     ]
    }
   ],
   "source": [
    "testbias(gender_specific)"
   ]
  },
  {
   "cell_type": "code",
   "execution_count": 134,
   "metadata": {},
   "outputs": [
    {
     "name": "stdout",
     "output_type": "stream",
     "text": [
      "politics: 0.43647351940669277\n",
      "politics summary: 0.282504577056523\n",
      "computers: 0.29300878141766545\n",
      "computers summary: 0.2200760579903955\n",
      "travel: 0.3566308922040626\n",
      "travel summary: 0.17490366763962403\n"
     ]
    }
   ],
   "source": [
    "testbias(adjectives)"
   ]
  },
  {
   "cell_type": "code",
   "execution_count": 135,
   "metadata": {},
   "outputs": [
    {
     "name": "stdout",
     "output_type": "stream",
     "text": [
      "politics: 1.4443633579802266\n",
      "politics summary: 0.8515114355018824\n",
      "computers: 1.346425442116525\n",
      "computers summary: 1.0266586611981627\n",
      "travel: 1.1662070490016498\n",
      "travel summary: 0.8557176663216234\n"
     ]
    }
   ],
   "source": [
    "testbias(gender_specific_full)"
   ]
  },
  {
   "cell_type": "markdown",
   "metadata": {},
   "source": [
    "## Regression for bias testing"
   ]
  },
  {
   "cell_type": "code",
   "execution_count": 145,
   "metadata": {},
   "outputs": [],
   "source": [
    "from random import sample, randint"
   ]
  },
  {
   "cell_type": "code",
   "execution_count": 139,
   "metadata": {},
   "outputs": [],
   "source": [
    "from scipy import stats"
   ]
  },
  {
   "cell_type": "code",
   "execution_count": 140,
   "metadata": {},
   "outputs": [],
   "source": [
    "def regress(g1, m1, g2, m2, wordlist):\n",
    "    x = np.array([gproj(g1, m1, w) for w in wordlist if w in m1.wv.vocab and w in m2.wv.vocab])\n",
    "    y = np.array([gproj(g2, m2, w) for w in wordlist if w in m1.wv.vocab and w in m2.wv.vocab])\n",
    "    slope, intercept, r_value, p_value, std_err = stats.linregress(x,y)\n",
    "    return slope, p_value"
   ]
  },
  {
   "cell_type": "code",
   "execution_count": 141,
   "metadata": {},
   "outputs": [
    {
     "data": {
      "text/plain": [
       "(0.533629121432331, 1.5349588515623742e-57)"
      ]
     },
     "execution_count": 141,
     "metadata": {},
     "output_type": "execute_result"
    }
   ],
   "source": [
    "regress(gpol, mpol, gpols, mpols, proflist)"
   ]
  },
  {
   "cell_type": "code",
   "execution_count": 142,
   "metadata": {},
   "outputs": [
    {
     "data": {
      "text/plain": [
       "(-0.47288942755651714, 6.5938456670774195e-21)"
      ]
     },
     "execution_count": 142,
     "metadata": {},
     "output_type": "execute_result"
    }
   ],
   "source": [
    "regress(gcomp, mcomp, gcomps, mcomps, proflist)"
   ]
  },
  {
   "cell_type": "code",
   "execution_count": 143,
   "metadata": {},
   "outputs": [
    {
     "data": {
      "text/plain": [
       "(0.1988740624251196, 4.7826899611645153e-17)"
      ]
     },
     "execution_count": 143,
     "metadata": {},
     "output_type": "execute_result"
    }
   ],
   "source": [
    "regress(gtrav, mtrav, gtravs, mtravs, proflist)"
   ]
  },
  {
   "cell_type": "code",
   "execution_count": 147,
   "metadata": {},
   "outputs": [
    {
     "data": {
      "text/plain": [
       "24.0369740000001"
      ]
     },
     "execution_count": 147,
     "metadata": {},
     "output_type": "execute_result"
    }
   ],
   "source": [
    "t = time.process_time()\n",
    "controls_pol = []\n",
    "count = 0\n",
    "for i in range(len(politics)):\n",
    "    if i in [1008, 1938, 4466, 6292, 7783, 8379, 9505, 10035]:\n",
    "        continue\n",
    "    n = len(nltk.sent_tokenize(summaries_pol[count]))\n",
    "    count += 1\n",
    "    sents_pol = nltk.sent_tokenize(politics[i].text)\n",
    "    controls_pol += sample(sents_pol, n)\n",
    "time.process_time() - t"
   ]
  },
  {
   "cell_type": "code",
   "execution_count": 148,
   "metadata": {},
   "outputs": [
    {
     "data": {
      "text/plain": [
       "26.502477999999883"
      ]
     },
     "execution_count": 148,
     "metadata": {},
     "output_type": "execute_result"
    }
   ],
   "source": [
    "t = time.process_time()\n",
    "docs = [simple_preprocess(s) for s in controls_pol]\n",
    "mcpol = Word2Vec(docs)\n",
    "time.process_time() - t"
   ]
  },
  {
   "cell_type": "code",
   "execution_count": 149,
   "metadata": {},
   "outputs": [
    {
     "name": "stdout",
     "output_type": "stream",
     "text": [
      "(68, 100)\n"
     ]
    },
    {
     "data": {
      "image/png": "[encoded data removed]",
      "text/plain": [
       "<Figure size 432x288 with 1 Axes>"
      ]
     },
     "metadata": {
      "needs_background": "light"
     },
     "output_type": "display_data"
    }
   ],
   "source": [
    "gcpol = getg(mcpol)"
   ]
  },
  {
   "cell_type": "code",
   "execution_count": 150,
   "metadata": {},
   "outputs": [
    {
     "data": {
      "text/plain": [
       "0.5980368159429239"
      ]
     },
     "execution_count": 150,
     "metadata": {},
     "output_type": "execute_result"
    }
   ],
   "source": [
    "bias(gcpol, mcpol, proflist)"
   ]
  },
  {
   "cell_type": "code",
   "execution_count": 151,
   "metadata": {},
   "outputs": [
    {
     "data": {
      "text/plain": [
       "2424360"
      ]
     },
     "execution_count": 151,
     "metadata": {},
     "output_type": "execute_result"
    }
   ],
   "source": [
    "words_cpol = []\n",
    "for s in controls_pol:\n",
    "    words_cpol += nltk.word_tokenize(s)\n",
    "len(words_cpol)"
   ]
  },
  {
   "cell_type": "code",
   "execution_count": 152,
   "metadata": {},
   "outputs": [
    {
     "data": {
      "text/plain": [
       "72051"
      ]
     },
     "execution_count": 152,
     "metadata": {},
     "output_type": "execute_result"
    }
   ],
   "source": [
    "sums_pol = []\n",
    "for s in summaries_pol:\n",
    "    sums_pol += nltk.sent_tokenize(s)\n",
    "len(sums_pol)"
   ]
  },
  {
   "cell_type": "code",
   "execution_count": 153,
   "metadata": {},
   "outputs": [
    {
     "data": {
      "text/plain": [
       "3421655"
      ]
     },
     "execution_count": 153,
     "metadata": {},
     "output_type": "execute_result"
    }
   ],
   "source": [
    "words_spol = []\n",
    "for s in sums_pol:\n",
    "    words_spol += nltk.word_tokenize(s)\n",
    "len(words_spol)"
   ]
  },
  {
   "cell_type": "code",
   "execution_count": 154,
   "metadata": {},
   "outputs": [
    {
     "data": {
      "text/plain": [
       "10682577"
      ]
     },
     "execution_count": 154,
     "metadata": {},
     "output_type": "execute_result"
    }
   ],
   "source": [
    "words_pol = []\n",
    "for p in politics:\n",
    "    words_pol += nltk.word_tokenize(p.text)\n",
    "len(words_pol)"
   ]
  },
  {
   "cell_type": "code",
   "execution_count": 164,
   "metadata": {},
   "outputs": [
    {
     "data": {
      "text/plain": [
       "145.02573600000005"
      ]
     },
     "execution_count": 164,
     "metadata": {},
     "output_type": "execute_result"
    }
   ],
   "source": [
    "t = time.process_time()\n",
    "wcontrols_pol = []\n",
    "count = 0\n",
    "tot = 0\n",
    "for i in range(len(politics)):\n",
    "    if i in [1008, 1938, 4466, 6292, 7783, 8379, 9505, 10035]:\n",
    "        continue\n",
    "    # get number of words in the summary\n",
    "    n = len(nltk.word_tokenize(summaries_pol[count]))\n",
    "    tot += n\n",
    "    sents = nltk.sent_tokenize(politics[i].text)\n",
    "    wcount = 0\n",
    "    wtot = len(nltk.word_tokenize(politics[i].text))\n",
    "    start = randint(0, wtot-n)\n",
    "    end = start + n\n",
    "    started = False\n",
    "    for s in sents:\n",
    "        w = nltk.word_tokenize(s)\n",
    "        wcount += len(w)\n",
    "        if wcount < start:\n",
    "            continue\n",
    "        elif started is False:  \n",
    "            wcontrols_pol.append(w[max(0, start-wcount+len(w)-1):])\n",
    "            started = True\n",
    "        elif wcount > end:\n",
    "            wcontrols_pol.append(w[:min(len(w), len(w)-wcount+end+1)])\n",
    "            break\n",
    "        else:\n",
    "            wcontrols_pol.append(w)\n",
    "    # get n-word consecutive subset of original text\n",
    "    count += 1\n",
    "time.process_time() - t"
   ]
  },
  {
   "cell_type": "code",
   "execution_count": 165,
   "metadata": {},
   "outputs": [
    {
     "name": "stdout",
     "output_type": "stream",
     "text": [
      "3421595 3458033\n"
     ]
    }
   ],
   "source": [
    "swcontrols_pol = [\" \".join(x) for x in wcontrols_pol]\n",
    "print(tot, sum([len(x) for x in wcontrols_pol]))"
   ]
  },
  {
   "cell_type": "code",
   "execution_count": 166,
   "metadata": {},
   "outputs": [
    {
     "data": {
      "text/plain": [
       "105.49074400000018"
      ]
     },
     "execution_count": 166,
     "metadata": {},
     "output_type": "execute_result"
    }
   ],
   "source": [
    "t = time.process_time()\n",
    "docs = [simple_preprocess(s) for s in swcontrols_pol]\n",
    "mwcpol = Word2Vec(docs)\n",
    "time.process_time() - t"
   ]
  },
  {
   "cell_type": "code",
   "execution_count": 159,
   "metadata": {},
   "outputs": [
    {
     "name": "stdout",
     "output_type": "stream",
     "text": [
      "(66, 100)\n"
     ]
    },
    {
     "data": {
      "image/png": "[encoded data removed]",
      "text/plain": [
       "<Figure size 432x288 with 1 Axes>"
      ]
     },
     "metadata": {
      "needs_background": "light"
     },
     "output_type": "display_data"
    }
   ],
   "source": [
    "gwcpol = getg(mwcpol)"
   ]
  },
  {
   "cell_type": "code",
   "execution_count": 161,
   "metadata": {},
   "outputs": [
    {
     "data": {
      "text/plain": [
       "(0.5949498666298728, 0.7235289508241887)"
      ]
     },
     "execution_count": 161,
     "metadata": {},
     "output_type": "execute_result"
    }
   ],
   "source": [
    "bias(gwcpol, mwcpol, proflist), bias(gpols, mpols, proflist)"
   ]
  },
  {
   "cell_type": "code",
   "execution_count": 162,
   "metadata": {},
   "outputs": [
    {
     "data": {
      "text/plain": [
       "(-0.76112853809404, 9.301110161945145e-40)"
      ]
     },
     "execution_count": 162,
     "metadata": {},
     "output_type": "execute_result"
    }
   ],
   "source": [
    "regress(gpols, mpols, gwcpol, mwcpol, proflist)"
   ]
  },
  {
   "cell_type": "code",
   "execution_count": 163,
   "metadata": {},
   "outputs": [
    {
     "data": {
      "text/plain": [
       "(0.28612796610067653, 1.936121103526654e-16)"
      ]
     },
     "execution_count": 163,
     "metadata": {},
     "output_type": "execute_result"
    }
   ],
   "source": [
    "regress(gpol, mpol, gcomp, mcomp, proflist)"
   ]
  },
  {
   "cell_type": "markdown",
   "metadata": {},
   "source": [
    "## Centroid Summarization"
   ]
  },
  {
   "cell_type": "code",
   "execution_count": 317,
   "metadata": {},
   "outputs": [
    {
     "data": {
      "text/plain": [
       "192.68935299999976"
      ]
     },
     "execution_count": 317,
     "metadata": {},
     "output_type": "execute_result"
    }
   ],
   "source": [
    "t = time.process_time()\n",
    "wcentroids_pol = []\n",
    "centroid_summarizer = text_summarizer.CentroidBOWSummarizer()\n",
    "count = 0\n",
    "tot = 0\n",
    "for i in range(len(politics)):\n",
    "    if i in [1008, 1938, 4466, 6292, 7783, 8379, 9505, 10035]:\n",
    "        continue\n",
    "    # get number of words in the summary\n",
    "    n = len(summaries_pol[count].split())\n",
    "    tot += n\n",
    "    centroid_summary = centroid_summarizer.summarize(politics[i].text, limit=n-20)\n",
    "    wcentroids_pol.append(centroid_summary)\n",
    "    count += 1\n",
    "time.process_time() - t"
   ]
  },
  {
   "cell_type": "code",
   "execution_count": 248,
   "metadata": {},
   "outputs": [
    {
     "data": {
      "text/plain": [
       "\"Usually scrip loses value over time in what some economists call a ''backdoor devaluation.''By ceasing payment on the debt, Mr. Rodríguez Saá can save the government as much as $10 billion or more next year, although Argentina is likely to be shut out of international financial markets for years to come.Of the $132 billion owed by the government, about $45 billion is in bonds owed to foreign lenders, with the rest owed to domestic banks and pension funds and international lending institutions like the International Monetary Fund and the World Bank.With the central government in default, the 24 provinces are almost certain to default on their $22 billion in total debts as well.The de la Rúa government had already cut interest rate payments on domestically held bonds and had failed to pay any interest on several bonds in its final days in office.The next president will be chosen in March by a peculiar system that combines party primaries and the general election.\\n''How can a president that potentially will only win 2 million votes govern?'' she asked, alluding to the country's population of 36 million.Those concerns deadlocked the Congress on Saturday night, and delayed the ratification of Mr. Rodríguez Saá, who was chosen behind closed doors on Friday by Justicialist leaders as a neutral caretaker.''We are choosing a weak president who will be followed by another weak president,'' a senior Justicialist leader said.The election will take place at a time when Argentines are unsure of what political and economic direction they want to take.\\nThe demonstrations last week produced no new leaders, and there were few slogans aside from calls to root out corruption and overthrow a government long considered inept.Recent polls show a total rejection of the political class, but little desire to scrap the free-market reforms of the 1990's to return to the unwieldy government programs of the 1980's that produced hyperinflation and shrinking economic activity.International  Correction:  December 28, 2001, Friday  Because of an editing error, an article on Monday about Argentina's default on its $132 billion debt, which is not considered an imminent threat to other countries' economies, misstated the year of Russia's default on part of its debt, which harmed many developing countries.\""
      ]
     },
     "execution_count": 248,
     "metadata": {},
     "output_type": "execute_result"
    }
   ],
   "source": [
    "summaries_pol[0]"
   ]
  },
  {
   "cell_type": "code",
   "execution_count": 253,
   "metadata": {},
   "outputs": [],
   "source": [
    "mpols_centroid = getw2v_s(wcentroids_pol)"
   ]
  },
  {
   "cell_type": "code",
   "execution_count": 254,
   "metadata": {},
   "outputs": [
    {
     "name": "stdout",
     "output_type": "stream",
     "text": [
      "(62, 100)\n"
     ]
    },
    {
     "data": {
      "image/png": "[encoded data removed]",
      "text/plain": [
       "<Figure size 432x288 with 1 Axes>"
      ]
     },
     "metadata": {
      "needs_background": "light"
     },
     "output_type": "display_data"
    }
   ],
   "source": [
    "gpols_centroid = getg(mpols_centroid)"
   ]
  },
  {
   "cell_type": "code",
   "execution_count": 255,
   "metadata": {},
   "outputs": [
    {
     "data": {
      "text/plain": [
       "(20434, 20864)"
      ]
     },
     "execution_count": 255,
     "metadata": {},
     "output_type": "execute_result"
    }
   ],
   "source": [
    "len(mpols_centroid.wv.vocab), len(mpols.wv.vocab)"
   ]
  },
  {
   "cell_type": "code",
   "execution_count": 256,
   "metadata": {},
   "outputs": [
    {
     "data": {
      "text/plain": [
       "(0.6022038179460508, 0.42971444262143105)"
      ]
     },
     "execution_count": 256,
     "metadata": {},
     "output_type": "execute_result"
    }
   ],
   "source": [
    "bias(gpols, mpols, proflist), bias(gpols_centroid, mpols_centroid, proflist)"
   ]
  },
  {
   "cell_type": "code",
   "execution_count": 257,
   "metadata": {},
   "outputs": [
    {
     "data": {
      "text/plain": [
       "(0.2697019369034747, 0.20419365736623168)"
      ]
     },
     "execution_count": 257,
     "metadata": {},
     "output_type": "execute_result"
    }
   ],
   "source": [
    "bias(gpols, mpols, adjectives), bias(gpols_centroid, mpols_centroid, adjectives)"
   ]
  },
  {
   "cell_type": "code",
   "execution_count": 258,
   "metadata": {},
   "outputs": [
    {
     "data": {
      "text/plain": [
       "(0.7581410895366378, 1.3411041270310817)"
      ]
     },
     "execution_count": 258,
     "metadata": {},
     "output_type": "execute_result"
    }
   ],
   "source": [
    "bias(gpols, mpols, gender_specific), bias(gpols_centroid, mpols_centroid, gender_specific)"
   ]
  },
  {
   "cell_type": "code",
   "execution_count": 230,
   "metadata": {},
   "outputs": [
    {
     "data": {
      "text/plain": [
       "10308"
      ]
     },
     "execution_count": 230,
     "metadata": {},
     "output_type": "execute_result"
    }
   ],
   "source": [
    "len(wcentroids_pol)"
   ]
  },
  {
   "cell_type": "code",
   "execution_count": 390,
   "metadata": {},
   "outputs": [
    {
     "data": {
      "text/plain": [
       "125.37619600000107"
      ]
     },
     "execution_count": 390,
     "metadata": {},
     "output_type": "execute_result"
    }
   ],
   "source": [
    "t = time.process_time()\n",
    "wcentroids_comp = []\n",
    "centroid_summarizer = text_summarizer.CentroidBOWSummarizer()\n",
    "count = 0\n",
    "tot = 0\n",
    "for i in range(len(computers)):\n",
    "    if i in [1018, 1258, 1830, 3182, 3296, 4812, 5102]:\n",
    "        continue\n",
    "    # get number of words in the summary\n",
    "    n = len(summaries_comp[count].split())\n",
    "    tot += n\n",
    "    centroid_summary = centroid_summarizer.summarize(computers[i].text, limit=n-20)\n",
    "    wcentroids_comp.append(centroid_summary)\n",
    "    count += 1\n",
    "time.process_time() - t"
   ]
  },
  {
   "cell_type": "code",
   "execution_count": 438,
   "metadata": {},
   "outputs": [],
   "source": [
    "mcomp_centroid = getw2v_s(wcentroids_comp)"
   ]
  },
  {
   "cell_type": "code",
   "execution_count": 439,
   "metadata": {},
   "outputs": [
    {
     "name": "stdout",
     "output_type": "stream",
     "text": [
      "(56, 100)\n"
     ]
    },
    {
     "data": {
      "image/png": "[encoded data removed]",
      "text/plain": [
       "<Figure size 432x288 with 1 Axes>"
      ]
     },
     "metadata": {
      "needs_background": "light"
     },
     "output_type": "display_data"
    }
   ],
   "source": [
    "gcomp_centroid = getg(mcomp_centroid)"
   ]
  },
  {
   "cell_type": "code",
   "execution_count": 277,
   "metadata": {},
   "outputs": [
    {
     "name": "stdout",
     "output_type": "stream",
     "text": [
      "0.7463272172571751 0.3828250152105927\n",
      "0.2941469405449194 0.2100886114036033\n",
      "1.4981401158066685 1.05599696174761\n"
     ]
    }
   ],
   "source": [
    "print(bias(gcomp, mcomp, proflist), bias(gcomp_centroid, mcomp_centroid, proflist))\n",
    "print(bias(gcomp, mcomp, adjectives), bias(gcomp_centroid, mcomp_centroid, adjectives))\n",
    "print(bias(gcomp, mcomp, gender_specific), bias(gcomp_centroid, mcomp_centroid, gender_specific))"
   ]
  },
  {
   "cell_type": "code",
   "execution_count": 274,
   "metadata": {},
   "outputs": [
    {
     "data": {
      "text/plain": [
       "174.44324300000062"
      ]
     },
     "execution_count": 274,
     "metadata": {},
     "output_type": "execute_result"
    }
   ],
   "source": [
    "t = time.process_time()\n",
    "wcentroids_trav = []\n",
    "centroid_summarizer = text_summarizer.CentroidBOWSummarizer()\n",
    "count = 0\n",
    "tot = 0\n",
    "for i in range(len(travel)):\n",
    "    # get number of words in the summary\n",
    "    n = len(summaries_trav[count].split())\n",
    "    tot += n\n",
    "    centroid_summary = centroid_summarizer.summarize(travel[i].text, limit=n-20)\n",
    "    wcentroids_trav.append(centroid_summary)\n",
    "    count += 1\n",
    "time.process_time() - t"
   ]
  },
  {
   "cell_type": "code",
   "execution_count": 276,
   "metadata": {},
   "outputs": [
    {
     "name": "stdout",
     "output_type": "stream",
     "text": [
      "(66, 100)\n"
     ]
    },
    {
     "data": {
      "image/png": "[encoded data removed]",
      "text/plain": [
       "<Figure size 432x288 with 1 Axes>"
      ]
     },
     "metadata": {
      "needs_background": "light"
     },
     "output_type": "display_data"
    }
   ],
   "source": [
    "mtrav_centroid = getw2v_s(wcentroids_trav)\n",
    "gtrav_centroid = getg(mtrav_centroid)"
   ]
  },
  {
   "cell_type": "code",
   "execution_count": 279,
   "metadata": {},
   "outputs": [
    {
     "name": "stdout",
     "output_type": "stream",
     "text": [
      "0.4574666229162467 0.14840945387813959\n",
      "0.38416117312045955 0.20948081964275841\n",
      "1.318271033219984 0.9624721782705774\n"
     ]
    }
   ],
   "source": [
    "print(bias(gtrav, mtrav, proflist), bias(gtrav_centroid, mtrav_centroid, proflist))\n",
    "print(bias(gtrav, mtrav, adjectives), bias(gtrav_centroid, mtrav_centroid, adjectives))\n",
    "print(bias(gtrav, mtrav, gender_specific), bias(gtrav_centroid, mtrav_centroid, gender_specific))"
   ]
  },
  {
   "cell_type": "code",
   "execution_count": 278,
   "metadata": {},
   "outputs": [
    {
     "data": {
      "text/plain": [
       "(10316, 6499, 5825)"
      ]
     },
     "execution_count": 278,
     "metadata": {},
     "output_type": "execute_result"
    }
   ],
   "source": [
    "len(politics), len(travel), len(computers)"
   ]
  },
  {
   "cell_type": "markdown",
   "metadata": {},
   "source": [
    "## Controlling for number of articles"
   ]
  },
  {
   "cell_type": "code",
   "execution_count": 280,
   "metadata": {},
   "outputs": [],
   "source": [
    "from random import sample"
   ]
  },
  {
   "cell_type": "code",
   "execution_count": 281,
   "metadata": {},
   "outputs": [],
   "source": [
    "def getw2v2(category, size):\n",
    "    sentences = []\n",
    "    category = sample(category, size)\n",
    "    for t in category:\n",
    "        sentences += nltk.sent_tokenize(t.text)\n",
    "    docs = [simple_preprocess(s) for s in sentences]\n",
    "    return category, Word2Vec(docs)"
   ]
  },
  {
   "cell_type": "code",
   "execution_count": 367,
   "metadata": {},
   "outputs": [],
   "source": [
    "politics5825, mpol5825 = getw2v2(politics, 5835)"
   ]
  },
  {
   "cell_type": "code",
   "execution_count": 368,
   "metadata": {},
   "outputs": [],
   "source": [
    "travel5825, mtrav5825 = getw2v2(travel, 5825)"
   ]
  },
  {
   "cell_type": "code",
   "execution_count": 369,
   "metadata": {},
   "outputs": [
    {
     "name": "stdout",
     "output_type": "stream",
     "text": [
      "1964\n",
      "4403\n",
      "5522\n"
     ]
    },
    {
     "data": {
      "text/plain": [
       "79.0963469999997"
      ]
     },
     "execution_count": 369,
     "metadata": {},
     "output_type": "execute_result"
    }
   ],
   "source": [
    "t = time.process_time()\n",
    "summaries_pol5825 = getsummaries(politics5825)\n",
    "time.process_time() - t"
   ]
  },
  {
   "cell_type": "code",
   "execution_count": 419,
   "metadata": {},
   "outputs": [
    {
     "data": {
      "text/plain": [
       "24.919758"
      ]
     },
     "execution_count": 419,
     "metadata": {},
     "output_type": "execute_result"
    }
   ],
   "source": [
    "t = time.process_time()\n",
    "mpols5825 = getw2v_s(summaries_pol5825)\n",
    "time.process_time() - t"
   ]
  },
  {
   "cell_type": "code",
   "execution_count": 371,
   "metadata": {},
   "outputs": [
    {
     "data": {
      "text/plain": [
       "115.66957399999956"
      ]
     },
     "execution_count": 371,
     "metadata": {},
     "output_type": "execute_result"
    }
   ],
   "source": [
    "t = time.process_time()\n",
    "summaries_trav5825 = getsummaries(travel5825)\n",
    "time.process_time() - t"
   ]
  },
  {
   "cell_type": "code",
   "execution_count": 372,
   "metadata": {},
   "outputs": [
    {
     "data": {
      "text/plain": [
       "29.37724099999923"
      ]
     },
     "execution_count": 372,
     "metadata": {},
     "output_type": "execute_result"
    }
   ],
   "source": [
    "t = time.process_time()\n",
    "mtravs5825 = getw2v_s(summaries_trav5825)\n",
    "time.process_time() - t"
   ]
  },
  {
   "cell_type": "code",
   "execution_count": 373,
   "metadata": {},
   "outputs": [
    {
     "data": {
      "text/plain": [
       "104.3283020000008"
      ]
     },
     "execution_count": 373,
     "metadata": {},
     "output_type": "execute_result"
    }
   ],
   "source": [
    "t = time.process_time()\n",
    "wcentroids_pol5825 = []\n",
    "centroid_summarizer = text_summarizer.CentroidBOWSummarizer()\n",
    "count = 0\n",
    "tot = 0\n",
    "for i in range(len(politics5825)):\n",
    "    if i in [708,819,1222,1723,1966,3569,4924]:\n",
    "        continue\n",
    "    # get number of words in the summary\n",
    "    n = len(summaries_pol5825[count].split())\n",
    "    tot += n\n",
    "    centroid_summary = centroid_summarizer.summarize(politics5825[i].text, limit=n-20)\n",
    "    wcentroids_pol5825.append(centroid_summary)\n",
    "    # get n-word consecutive subset of original text\n",
    "    count += 1\n",
    "time.process_time() - t"
   ]
  },
  {
   "cell_type": "code",
   "execution_count": 374,
   "metadata": {},
   "outputs": [
    {
     "data": {
      "text/plain": [
       "136.33851400000094"
      ]
     },
     "execution_count": 374,
     "metadata": {},
     "output_type": "execute_result"
    }
   ],
   "source": [
    "t = time.process_time()\n",
    "wcentroids_trav5825 = []\n",
    "centroid_summarizer = text_summarizer.CentroidBOWSummarizer()\n",
    "count = 0\n",
    "tot = 0\n",
    "for i in range(len(travel5825)):\n",
    "    # get number of words in the summary\n",
    "    n = len(summaries_trav5825[count].split())\n",
    "    tot += n\n",
    "    centroid_summary = centroid_summarizer.summarize(travel5825[i].text, limit=n-20)\n",
    "    wcentroids_trav5825.append(centroid_summary)\n",
    "    count += 1\n",
    "time.process_time() - t"
   ]
  },
  {
   "cell_type": "code",
   "execution_count": 405,
   "metadata": {},
   "outputs": [],
   "source": [
    "def getsummaries2(ctrlsums, summarizer, exclude, category):\n",
    "    ret = []\n",
    "    count = 0\n",
    "    tot = 0\n",
    "    for i in range(len(category)):\n",
    "        if i in exclude:\n",
    "            continue\n",
    "        # get number of words in the summary\n",
    "        n = len(ctrlsums[count].split())\n",
    "        tot += n\n",
    "        summary = summarizer.summarize(category[i].text, limit=n-20)\n",
    "        ret.append(summary)\n",
    "        count += 1\n",
    "    return ret"
   ]
  },
  {
   "cell_type": "code",
   "execution_count": 420,
   "metadata": {},
   "outputs": [
    {
     "data": {
      "text/plain": [
       "157.77177200000006"
      ]
     },
     "execution_count": 420,
     "metadata": {},
     "output_type": "execute_result"
    }
   ],
   "source": [
    "t = time.process_time()\n",
    "pols_centroidwe = getsummaries2(summaries_pol5825, centroid_word_embedding_summarizer, [708,819,1222,1723,1966,3569,4924], politics5825)\n",
    "time.process_time() - t\n"
   ]
  },
  {
   "cell_type": "code",
   "execution_count": 407,
   "metadata": {},
   "outputs": [
    {
     "data": {
      "text/plain": [
       "181.4955230000014"
      ]
     },
     "execution_count": 407,
     "metadata": {},
     "output_type": "execute_result"
    }
   ],
   "source": [
    "t = time.process_time()\n",
    "comps_centroidwe = getsummaries2(summaries_comp, centroid_word_embedding_summarizer, [1018,1258,1830,3182,3296,4812,5102], computers)\n",
    "time.process_time() - t\n"
   ]
  },
  {
   "cell_type": "code",
   "execution_count": 409,
   "metadata": {},
   "outputs": [
    {
     "data": {
      "text/plain": [
       "265.2924570000014"
      ]
     },
     "execution_count": 409,
     "metadata": {},
     "output_type": "execute_result"
    }
   ],
   "source": [
    "t = time.process_time()\n",
    "travs_centroidwe = getsummaries2(summaries_trav, centroid_word_embedding_summarizer, [], travel)\n",
    "time.process_time() - t\n"
   ]
  },
  {
   "cell_type": "code",
   "execution_count": 426,
   "metadata": {},
   "outputs": [],
   "source": [
    "mpols_centroidwe = getw2v_s(pols_centroidwe)"
   ]
  },
  {
   "cell_type": "code",
   "execution_count": 412,
   "metadata": {},
   "outputs": [],
   "source": [
    "mpols_centroidwe = getw2v_s(pols_centroidwe)\n",
    "mcomps_centroidwe = getw2v_s(comps_centroidwe)\n",
    "mtravs_centroidwe = getw2v_s(travs_centroidwe)"
   ]
  },
  {
   "cell_type": "code",
   "execution_count": 427,
   "metadata": {},
   "outputs": [
    {
     "name": "stdout",
     "output_type": "stream",
     "text": [
      "(44, 100)\n"
     ]
    },
    {
     "data": {
      "image/png": "[encoded data removed]",
      "text/plain": [
       "<Figure size 432x288 with 1 Axes>"
      ]
     },
     "metadata": {
      "needs_background": "light"
     },
     "output_type": "display_data"
    }
   ],
   "source": [
    "gpols_centroidwe = getg(mpols_centroidwe)"
   ]
  },
  {
   "cell_type": "code",
   "execution_count": 414,
   "metadata": {},
   "outputs": [
    {
     "name": "stdout",
     "output_type": "stream",
     "text": [
      "(44, 100)\n"
     ]
    },
    {
     "data": {
      "image/png": "[encoded data removed]",
      "text/plain": [
       "<Figure size 432x288 with 1 Axes>"
      ]
     },
     "metadata": {
      "needs_background": "light"
     },
     "output_type": "display_data"
    }
   ],
   "source": [
    "gcomps_centroidwe = getg(mcomps_centroidwe)"
   ]
  },
  {
   "cell_type": "code",
   "execution_count": 416,
   "metadata": {},
   "outputs": [
    {
     "name": "stdout",
     "output_type": "stream",
     "text": [
      "(62, 100)\n"
     ]
    },
    {
     "data": {
      "image/png": "[encoded data removed]",
      "text/plain": [
       "<Figure size 432x288 with 1 Axes>"
      ]
     },
     "metadata": {
      "needs_background": "light"
     },
     "output_type": "display_data"
    }
   ],
   "source": [
    "gtravs_centroidwe = getg(mtravs_centroidwe)"
   ]
  },
  {
   "cell_type": "code",
   "execution_count": 375,
   "metadata": {},
   "outputs": [
    {
     "data": {
      "text/plain": [
       "20.39487900000131"
      ]
     },
     "execution_count": 375,
     "metadata": {},
     "output_type": "execute_result"
    }
   ],
   "source": [
    "t = time.process_time()\n",
    "mpols_centroid5825 = getw2v_s(wcentroids_pol5825)\n",
    "time.process_time() - t"
   ]
  },
  {
   "cell_type": "code",
   "execution_count": 376,
   "metadata": {},
   "outputs": [
    {
     "data": {
      "text/plain": [
       "28.562599999999293"
      ]
     },
     "execution_count": 376,
     "metadata": {},
     "output_type": "execute_result"
    }
   ],
   "source": [
    "t = time.process_time()\n",
    "mtravs_centroid5825 = getw2v_s(wcentroids_trav5825)\n",
    "time.process_time() - t"
   ]
  },
  {
   "cell_type": "code",
   "execution_count": 422,
   "metadata": {},
   "outputs": [
    {
     "name": "stdout",
     "output_type": "stream",
     "text": [
      "(74, 100)\n"
     ]
    },
    {
     "data": {
      "image/png": "[encoded data removed]",
      "text/plain": [
       "<Figure size 432x288 with 1 Axes>"
      ]
     },
     "metadata": {
      "needs_background": "light"
     },
     "output_type": "display_data"
    }
   ],
   "source": [
    "gpol5825 = getg(mpol5825)"
   ]
  },
  {
   "cell_type": "code",
   "execution_count": 378,
   "metadata": {},
   "outputs": [
    {
     "name": "stdout",
     "output_type": "stream",
     "text": [
      "(84, 100)\n"
     ]
    },
    {
     "data": {
      "image/png": "[encoded data removed]",
      "text/plain": [
       "<Figure size 432x288 with 1 Axes>"
      ]
     },
     "metadata": {
      "needs_background": "light"
     },
     "output_type": "display_data"
    }
   ],
   "source": [
    "gtrav5825 = getg(mtrav5825)"
   ]
  },
  {
   "cell_type": "code",
   "execution_count": 421,
   "metadata": {},
   "outputs": [
    {
     "name": "stdout",
     "output_type": "stream",
     "text": [
      "(58, 100)\n"
     ]
    },
    {
     "data": {
      "image/png": "[encoded data removed]",
      "text/plain": [
       "<Figure size 432x288 with 1 Axes>"
      ]
     },
     "metadata": {
      "needs_background": "light"
     },
     "output_type": "display_data"
    }
   ],
   "source": [
    "gpols5825 = getg(mpols5825)"
   ]
  },
  {
   "cell_type": "code",
   "execution_count": 380,
   "metadata": {},
   "outputs": [
    {
     "name": "stdout",
     "output_type": "stream",
     "text": [
      "(62, 100)\n"
     ]
    },
    {
     "data": {
      "image/png": "[encoded data removed]",
      "text/plain": [
       "<Figure size 432x288 with 1 Axes>"
      ]
     },
     "metadata": {
      "needs_background": "light"
     },
     "output_type": "display_data"
    }
   ],
   "source": [
    "gtravs5825 = getg(mtravs5825)"
   ]
  },
  {
   "cell_type": "code",
   "execution_count": 381,
   "metadata": {},
   "outputs": [
    {
     "name": "stdout",
     "output_type": "stream",
     "text": [
      "(56, 100)\n"
     ]
    },
    {
     "data": {
      "image/png": "[encoded data removed]",
      "text/plain": [
       "<Figure size 432x288 with 1 Axes>"
      ]
     },
     "metadata": {
      "needs_background": "light"
     },
     "output_type": "display_data"
    }
   ],
   "source": [
    "gpols_centroid5825 = getg(mpols_centroid5825)"
   ]
  },
  {
   "cell_type": "code",
   "execution_count": 382,
   "metadata": {},
   "outputs": [
    {
     "name": "stdout",
     "output_type": "stream",
     "text": [
      "(66, 100)\n"
     ]
    },
    {
     "data": {
      "image/png": "[encoded data removed]",
      "text/plain": [
       "<Figure size 432x288 with 1 Axes>"
      ]
     },
     "metadata": {
      "needs_background": "light"
     },
     "output_type": "display_data"
    }
   ],
   "source": [
    "gtravs_centroid5825 = getg(mtravs_centroid5825)"
   ]
  },
  {
   "cell_type": "code",
   "execution_count": 417,
   "metadata": {},
   "outputs": [],
   "source": [
    "def testbiaslen(wordlist):\n",
    "    print(f\"politics: {bias(gpol5825, mpol5825, wordlist)}\")\n",
    "    print(f\"politics summary (textrank): {bias(gpols5825, mpols5825, wordlist)}\")\n",
    "    print(f\"politics summary (centroid BOW): {bias(gpols_centroid5825, mpols_centroid5825, wordlist)}\")\n",
    "    print(f\"politics summary (centroid WE): {bias(gpols_centroidwe, mpols_centroidwe, wordlist)}\")\n",
    "    print(f\"computers: {bias(gcomp, mcomp, wordlist)}\")\n",
    "    print(f\"computers summary: {bias(gcomps, mcomps, wordlist)}\")\n",
    "    print(f\"computers summary (centroid BOW): {bias(gcomp_centroid, mcomp_centroid, wordlist)}\")\n",
    "    print(f\"computers summary (centroid WE): {bias(gcomps_centroidwe, mcomps_centroidwe, wordlist)}\")\n",
    "    print(f\"travel: {bias(gtrav5825, mtrav5825, wordlist)}\")\n",
    "    print(f\"travel summary: {bias(gtravs5825, mtravs5825, wordlist)}\")\n",
    "    print(f\"travel summary (centroid BOW): {bias(gtravs_centroid5825, mtravs_centroid5825, wordlist)}\")\n",
    "    print(f\"travel summary (centroid WE): {bias(gtravs_centroidwe, mtravs_centroidwe, wordlist)}\")"
   ]
  },
  {
   "cell_type": "code",
   "execution_count": 440,
   "metadata": {},
   "outputs": [
    {
     "name": "stdout",
     "output_type": "stream",
     "text": [
      "politics: 0.7335234985533784\n",
      "politics summary (textrank): 0.6574114762552342\n",
      "politics summary (centroid BOW): 1.2824995217263468\n",
      "politics summary (centroid WE): 1.8274917926411358\n",
      "computers: 0.7212840233313105\n",
      "computers summary: 0.450853504622297\n",
      "computers summary (centroid BOW): 0.52871358749296\n",
      "computers summary (centroid WE): 1.8170225428357671\n",
      "travel: 0.41171318892622766\n",
      "travel summary: 0.12071090081225919\n",
      "travel summary (centroid BOW): 0.15780635587430647\n",
      "travel summary (centroid WE): 0.5584299267286956\n"
     ]
    }
   ],
   "source": [
    "testbiaslen(proflist)"
   ]
  },
  {
   "cell_type": "code",
   "execution_count": 434,
   "metadata": {},
   "outputs": [
    {
     "data": {
      "text/plain": [
       "13744"
      ]
     },
     "execution_count": 434,
     "metadata": {},
     "output_type": "execute_result"
    }
   ],
   "source": [
    "len(ms_centroid.wv.vocab)"
   ]
  },
  {
   "cell_type": "code",
   "execution_count": null,
   "metadata": {},
   "outputs": [],
   "source": []
  }
 ],
 "metadata": {
  "kernelspec": {
   "display_name": "Python 3",
   "language": "python",
   "name": "python3"
  },
  "language_info": {
   "codemirror_mode": {
    "name": "ipython",
    "version": 3
   },
   "file_extension": ".py",
   "mimetype": "text/x-python",
   "name": "python",
   "nbconvert_exporter": "python",
   "pygments_lexer": "ipython3",
   "version": "3.7.0"
  }
 },
 "nbformat": 4,
 "nbformat_minor": 2
}
