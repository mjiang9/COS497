{
 "cells": [
  {
   "cell_type": "code",
   "execution_count": 1,
   "metadata": {},
   "outputs": [],
   "source": [
    "import xml.etree.ElementTree as ET\n",
    "import os\n",
    "from typing import List\n",
    "from functools import reduce\n",
    "from calendar import monthrange\n",
    "import random\n",
    "import matplotlib.pyplot as plt\n",
    "import numpy as np\n",
    "import json"
   ]
  },
  {
   "cell_type": "code",
   "execution_count": 2,
   "metadata": {},
   "outputs": [],
   "source": [
    "import time"
   ]
  },
  {
   "cell_type": "markdown",
   "metadata": {},
   "source": [
    "## Gender-neutral adjectives describing people"
   ]
  },
  {
   "cell_type": "code",
   "execution_count": 184,
   "metadata": {},
   "outputs": [],
   "source": [
    "from bs4 import BeautifulSoup\n",
    "import urllib.request as urllib2\n",
    "import csv"
   ]
  },
  {
   "cell_type": "code",
   "execution_count": 178,
   "metadata": {},
   "outputs": [],
   "source": [
    "url = 'https://www.enchantedlearning.com/wordlist/adjectivesforpeople.shtml'\n",
    "file = urllib2.urlopen(url)\n",
    "html = file.read()\n",
    "file.close()\n",
    "soup = BeautifulSoup(html)"
   ]
  },
  {
   "cell_type": "code",
   "execution_count": 185,
   "metadata": {},
   "outputs": [],
   "source": [
    "adj = soup.find_all(attrs={\"class\": \"wordlist-item\"})"
   ]
  },
  {
   "cell_type": "code",
   "execution_count": 188,
   "metadata": {},
   "outputs": [],
   "source": [
    "adjs = [x.contents[0] for x in adj]"
   ]
  },
  {
   "cell_type": "code",
   "execution_count": 189,
   "metadata": {},
   "outputs": [
    {
     "data": {
      "text/plain": [
       "['able', 'abnormal', 'above average', 'absent-minded', 'adventurous']"
      ]
     },
     "execution_count": 189,
     "metadata": {},
     "output_type": "execute_result"
    }
   ],
   "source": [
    "adjs[:5]"
   ]
  },
  {
   "cell_type": "code",
   "execution_count": 195,
   "metadata": {},
   "outputs": [],
   "source": [
    "with open('adjectives.csv', mode='w') as f:\n",
    "    writer = csv.writer(f, delimiter=',')\n",
    "    writer.writerow(adjs)"
   ]
  },
  {
   "cell_type": "code",
   "execution_count": 205,
   "metadata": {},
   "outputs": [],
   "source": [
    "with open('adjectives.csv') as csv_file:\n",
    "    adjectives = csv_file.read().split(\",\")"
   ]
  },
  {
   "cell_type": "markdown",
   "metadata": {},
   "source": [
    "# Data Parsing and Processing"
   ]
  },
  {
   "cell_type": "code",
   "execution_count": 3,
   "metadata": {},
   "outputs": [],
   "source": [
    "class Doc:\n",
    "    def __init__(self, id: int, gdescriptors: List[str], descriptors: List[str], text: str) -> None:\n",
    "        self.id = id\n",
    "        self.gdescriptors = gdescriptors\n",
    "        self.descriptors = descriptors\n",
    "        self.text = text"
   ]
  },
  {
   "cell_type": "code",
   "execution_count": 4,
   "metadata": {},
   "outputs": [],
   "source": [
    "def parse_doc(file: str) -> Doc:\n",
    "    tree = ET.parse(file)\n",
    "    root = tree.getroot()\n",
    "    try:\n",
    "        fulltext = root.find('body').find('body.content').find(\"*[@class='full_text']\")\n",
    "        text = reduce(lambda x, y: x + y, [x.text for x in fulltext.findall('p')])\n",
    "        id = int(root.find('head').find('docdata').find('doc-id').attrib['id-string'])\n",
    "        classifiers = root.find('head').find('docdata').find('identified-content')\n",
    "        gclassifiers = classifiers.findall(\"*[@class='online_producer'][@type='general_descriptor']\")\n",
    "        dclassifiers = classifiers.findall(\"*[@class='online_producer'][@type='descriptor']\")\n",
    "        gdescriptors = [c.text for c in gclassifiers]\n",
    "        descriptors = [c.text for c in dclassifiers]\n",
    "        return Doc(id, gdescriptors, descriptors, text)\n",
    "    except:\n",
    "        return None"
   ]
  },
  {
   "cell_type": "code",
   "execution_count": 5,
   "metadata": {},
   "outputs": [],
   "source": [
    "def get_docs_by_month(year: int, month: int) -> List[Doc]:\n",
    "    days = monthrange(year, month)[1]\n",
    "    docs = []\n",
    "    for day in range(1, days+1):\n",
    "        for file in os.listdir(f'data/{year}/{month:02}/{day:02}/'):\n",
    "            doc = parse_doc(f'data/{year}/{month:02}/{day:02}/{file}')\n",
    "            if doc:\n",
    "                docs.append(doc)\n",
    "    return docs"
   ]
  },
  {
   "cell_type": "code",
   "execution_count": 6,
   "metadata": {},
   "outputs": [
    {
     "name": "stdout",
     "output_type": "stream",
     "text": [
      "1988\n",
      "1989\n",
      "1990\n",
      "1991\n",
      "1992\n",
      "1993\n",
      "1994\n",
      "1995\n",
      "1996\n",
      "1997\n",
      "1998\n",
      "1999\n",
      "2000\n",
      "2001\n",
      "2002\n",
      "2003\n",
      "2004\n",
      "2005\n",
      "2006\n"
     ]
    },
    {
     "data": {
      "text/plain": [
       "1028.6740360000001"
      ]
     },
     "execution_count": 6,
     "metadata": {},
     "output_type": "execute_result"
    }
   ],
   "source": [
    "t = time.process_time()\n",
    "all_ = []\n",
    "for y in range(1988, 2007):\n",
    "    print(y)\n",
    "    for i in range(1,13):\n",
    "        all_ += get_docs_by_month(y, i)\n",
    "time.process_time() - t"
   ]
  },
  {
   "cell_type": "code",
   "execution_count": 7,
   "metadata": {},
   "outputs": [
    {
     "data": {
      "text/plain": [
       "1685787"
      ]
     },
     "execution_count": 7,
     "metadata": {},
     "output_type": "execute_result"
    }
   ],
   "source": [
    "len(all_)"
   ]
  },
  {
   "cell_type": "markdown",
   "metadata": {},
   "source": [
    "# Saving files locally and loading"
   ]
  },
  {
   "cell_type": "code",
   "execution_count": 8,
   "metadata": {},
   "outputs": [],
   "source": [
    "with open('alldocs.json', 'w') as outfile:\n",
    "    json.dump([x.__dict__ for x in all_], outfile)"
   ]
  },
  {
   "cell_type": "code",
   "execution_count": 9,
   "metadata": {},
   "outputs": [],
   "source": [
    "def save(i, arr):\n",
    "    t = time.process_time()\n",
    "    with open('alldocs' + str(i) + '.json', 'w') as outfile:\n",
    "        json.dump([x.__dict__ for x in arr], outfile)\n",
    "    print(time.process_time() - t)"
   ]
  },
  {
   "cell_type": "code",
   "execution_count": 10,
   "metadata": {},
   "outputs": [],
   "source": [
    "def load(i):\n",
    "    t = time.process_time()\n",
    "    with open('alldocs' + str(i) + '.json', 'r') as infile:\n",
    "        l = json.load(infile)\n",
    "    print(time.process_time() - t)\n",
    "    return l"
   ]
  },
  {
   "cell_type": "code",
   "execution_count": 11,
   "metadata": {},
   "outputs": [
    {
     "name": "stdout",
     "output_type": "stream",
     "text": [
      "26.122622999999976\n"
     ]
    }
   ],
   "source": [
    "save(0, all_[:600000])"
   ]
  },
  {
   "cell_type": "code",
   "execution_count": 12,
   "metadata": {},
   "outputs": [
    {
     "name": "stdout",
     "output_type": "stream",
     "text": [
      "89.333306\n"
     ]
    }
   ],
   "source": [
    "l0 = load(0)"
   ]
  },
  {
   "cell_type": "code",
   "execution_count": 13,
   "metadata": {},
   "outputs": [
    {
     "name": "stdout",
     "output_type": "stream",
     "text": [
      "34.060252999999875\n"
     ]
    }
   ],
   "source": [
    "save(1, all_[600000:1200000])"
   ]
  },
  {
   "cell_type": "code",
   "execution_count": 14,
   "metadata": {},
   "outputs": [
    {
     "name": "stdout",
     "output_type": "stream",
     "text": [
      "102.26382799999988\n"
     ]
    }
   ],
   "source": [
    "l1 = load(1)"
   ]
  },
  {
   "cell_type": "code",
   "execution_count": 15,
   "metadata": {},
   "outputs": [
    {
     "name": "stdout",
     "output_type": "stream",
     "text": [
      "31.626627999999982\n"
     ]
    }
   ],
   "source": [
    "save(2, all_[1200000:])"
   ]
  },
  {
   "cell_type": "code",
   "execution_count": 16,
   "metadata": {},
   "outputs": [
    {
     "name": "stdout",
     "output_type": "stream",
     "text": [
      "19.019525000000158\n"
     ]
    }
   ],
   "source": [
    "l2 = load(2)"
   ]
  },
  {
   "cell_type": "code",
   "execution_count": 17,
   "metadata": {},
   "outputs": [
    {
     "data": {
      "text/plain": [
       "1685787"
      ]
     },
     "execution_count": 17,
     "metadata": {},
     "output_type": "execute_result"
    }
   ],
   "source": [
    "l = l0 + l1 + l2\n",
    "len(l)"
   ]
  },
  {
   "cell_type": "code",
   "execution_count": 18,
   "metadata": {},
   "outputs": [
    {
     "data": {
      "text/plain": [
       "45.86330799999996"
      ]
     },
     "execution_count": 18,
     "metadata": {},
     "output_type": "execute_result"
    }
   ],
   "source": [
    "t = time.process_time()\n",
    "all06 = []\n",
    "for i in range(1,13):\n",
    "    all06 += get_docs_by_month(2006, i)\n",
    "time.process_time() - t"
   ]
  },
  {
   "cell_type": "code",
   "execution_count": 19,
   "metadata": {},
   "outputs": [
    {
     "data": {
      "text/plain": [
       "85534"
      ]
     },
     "execution_count": 19,
     "metadata": {},
     "output_type": "execute_result"
    }
   ],
   "source": [
    "len(all06)"
   ]
  },
  {
   "cell_type": "markdown",
   "metadata": {},
   "source": [
    "# Process by descriptor"
   ]
  },
  {
   "cell_type": "code",
   "execution_count": 20,
   "metadata": {},
   "outputs": [
    {
     "data": {
      "text/plain": [
       "0.19854899999995723"
      ]
     },
     "execution_count": 20,
     "metadata": {},
     "output_type": "execute_result"
    }
   ],
   "source": [
    "t = time.process_time()\n",
    "alld06 = {}\n",
    "for doc in all06:\n",
    "    for d in doc.descriptors:\n",
    "        count, docs = alld06.get(d, (0, set()))\n",
    "        docs.add(doc)\n",
    "        alld06[d] = (count + 1, docs)\n",
    "time.process_time() - t"
   ]
  },
  {
   "cell_type": "code",
   "execution_count": 21,
   "metadata": {},
   "outputs": [
    {
     "data": {
      "text/plain": [
       "127.62715200000002"
      ]
     },
     "execution_count": 21,
     "metadata": {},
     "output_type": "execute_result"
    }
   ],
   "source": [
    "t = time.process_time()\n",
    "alld = {}\n",
    "for doc in l:\n",
    "    doc = Doc(doc['id'], doc['gdescriptors'], doc['descriptors'], doc['text'])\n",
    "    for d in doc.descriptors:\n",
    "        count, docs = alld.get(d, (0, set()))\n",
    "        docs.add(doc)\n",
    "        alld[d] = (count + 1, docs)\n",
    "time.process_time() - t"
   ]
  },
  {
   "cell_type": "code",
   "execution_count": 22,
   "metadata": {},
   "outputs": [
    {
     "name": "stdout",
     "output_type": "stream",
     "text": [
      "('Books and Literature', 1980)\n",
      "('Politics and Government', 1715)\n",
      "('Computers and the Internet', 1528)\n",
      "('United States Politics and Government', 1374)\n",
      "('Motion Pictures', 1360)\n",
      "('Travel and Vacations', 1291)\n",
      "('Baseball', 1263)\n",
      "('Television', 1124)\n",
      "('Terrorism', 1033)\n",
      "('Deaths (Obituaries)', 988)\n"
     ]
    }
   ],
   "source": [
    "alldlist06 = sorted([(d, alld06[d][0], alld06[d][1]) for d in alld06], key=lambda x: x[1], reverse=True)\n",
    "for x in range(10):\n",
    "    print(alldlist06[x][0:2])"
   ]
  },
  {
   "cell_type": "code",
   "execution_count": 23,
   "metadata": {},
   "outputs": [
    {
     "name": "stdout",
     "output_type": "stream",
     "text": [
      "('Terrorism', 12393)\n",
      "('Books and Literature', 11222)\n",
      "('Politics and Government', 10589)\n",
      "('Baseball', 9039)\n",
      "('United States Politics and Government', 8295)\n",
      "('Motion Pictures', 7748)\n",
      "('Music', 7317)\n",
      "('Weddings and Engagements', 7280)\n",
      "('Medicine and Health', 6829)\n",
      "('Travel and Vacations', 6537)\n",
      "('Deaths (Obituaries)', 6438)\n",
      "('Television', 6171)\n",
      "('Football', 6070)\n",
      "('Computers and the Internet', 5952)\n",
      "('Basketball', 5746)\n"
     ]
    }
   ],
   "source": [
    "alldlist = sorted([(d, alld[d][0], alld[d][1]) for d in alld], key=lambda x: x[1], reverse=True)\n",
    "for x in range(15):\n",
    "    print(alldlist[x][0:2])"
   ]
  },
  {
   "cell_type": "code",
   "execution_count": 104,
   "metadata": {},
   "outputs": [],
   "source": [
    "computers = list(filter(lambda x: 'Politics and Government' not in x.descriptors, \\\n",
    "                        alld['Computers and the Internet'][1]))"
   ]
  },
  {
   "cell_type": "code",
   "execution_count": 25,
   "metadata": {},
   "outputs": [],
   "source": [
    "def inrange(c, lo, hi):\n",
    "    return len(c.text.split(\" \")) >= lo and len(c.text.split(\" \")) <= hi"
   ]
  },
  {
   "cell_type": "code",
   "execution_count": 26,
   "metadata": {},
   "outputs": [],
   "source": [
    "computersr = [c for c in computers if inrange(c, 500, 1500)]"
   ]
  },
  {
   "cell_type": "code",
   "execution_count": 27,
   "metadata": {},
   "outputs": [
    {
     "data": {
      "text/plain": [
       "1061"
      ]
     },
     "execution_count": 27,
     "metadata": {},
     "output_type": "execute_result"
    }
   ],
   "source": [
    "len(computersr)"
   ]
  },
  {
   "cell_type": "code",
   "execution_count": 28,
   "metadata": {},
   "outputs": [
    {
     "data": {
      "text/plain": [
       "1503"
      ]
     },
     "execution_count": 28,
     "metadata": {},
     "output_type": "execute_result"
    }
   ],
   "source": [
    "len(computers)"
   ]
  },
  {
   "cell_type": "code",
   "execution_count": 29,
   "metadata": {},
   "outputs": [],
   "source": [
    "lens = []\n",
    "for c in computers:\n",
    "    lens.append(len(c.text.split(\" \")))"
   ]
  },
  {
   "cell_type": "code",
   "execution_count": 30,
   "metadata": {},
   "outputs": [
    {
     "data": {
      "text/plain": [
       "(948.2388556220892, 892.0, 8290, 87)"
      ]
     },
     "execution_count": 30,
     "metadata": {},
     "output_type": "execute_result"
    }
   ],
   "source": [
    "np.mean(lens), np.median(lens), np.max(lens), np.min(lens)"
   ]
  },
  {
   "cell_type": "code",
   "execution_count": 31,
   "metadata": {},
   "outputs": [
    {
     "data": {
      "text/plain": [
       "(array([766., 664.,  51.,  10.,   3.,   2.,   2.,   1.,   1.,   3.]),\n",
       " array([  87. ,  907.3, 1727.6, 2547.9, 3368.2, 4188.5, 5008.8, 5829.1,\n",
       "        6649.4, 7469.7, 8290. ]),\n",
       " <a list of 10 Patch objects>)"
      ]
     },
     "execution_count": 31,
     "metadata": {},
     "output_type": "execute_result"
    },
    {
     "data": {
      "image/png": "[encoded data removed]",
      "text/plain": [
       "<Figure size 432x288 with 1 Axes>"
      ]
     },
     "metadata": {
      "needs_background": "light"
     },
     "output_type": "display_data"
    }
   ],
   "source": [
    "plt.hist(lens)"
   ]
  },
  {
   "cell_type": "code",
   "execution_count": 99,
   "metadata": {},
   "outputs": [],
   "source": [
    "mps = list(filter(lambda x: 'Politics and Government' not in x.descriptors, \\\n",
    "                        alld['Motion Pictures'][1]))"
   ]
  },
  {
   "cell_type": "code",
   "execution_count": 100,
   "metadata": {},
   "outputs": [],
   "source": [
    "books = list(filter(lambda x: 'Politics and Government' not in x.descriptors, \\\n",
    "                        alld['Books and Literature'][1]))"
   ]
  },
  {
   "cell_type": "code",
   "execution_count": 102,
   "metadata": {},
   "outputs": [],
   "source": [
    "sports = list(filter(lambda x: 'Politics and Government' not in x.descriptors, \\\n",
    "                        alld['Football'][1]|alld['Baseball'][1]|alld['Basketball'][1]))"
   ]
  },
  {
   "cell_type": "code",
   "execution_count": 105,
   "metadata": {},
   "outputs": [
    {
     "data": {
      "text/plain": [
       "(7687, 10812, 20637, 5825)"
      ]
     },
     "execution_count": 105,
     "metadata": {},
     "output_type": "execute_result"
    }
   ],
   "source": [
    "len(mps), len(books), len(sports), len(computers)"
   ]
  },
  {
   "cell_type": "markdown",
   "metadata": {},
   "source": [
    "# Politics: all"
   ]
  },
  {
   "cell_type": "code",
   "execution_count": 32,
   "metadata": {},
   "outputs": [],
   "source": [
    "politics = list(filter(lambda x: 'Computers and the Internet' not in x.descriptors, \\\n",
    "                        alld['Politics and Government'][1]))"
   ]
  },
  {
   "cell_type": "code",
   "execution_count": 34,
   "metadata": {},
   "outputs": [],
   "source": [
    "lens2 = []\n",
    "for c in politics:\n",
    "    lens2.append(len(c.text.split(\" \")))"
   ]
  },
  {
   "cell_type": "code",
   "execution_count": 35,
   "metadata": {},
   "outputs": [
    {
     "data": {
      "text/plain": [
       "(910.1887359441644, 819.5, 10083, 27)"
      ]
     },
     "execution_count": 35,
     "metadata": {},
     "output_type": "execute_result"
    }
   ],
   "source": [
    "np.mean(lens2), np.median(lens2), np.max(lens2), np.min(lens2)"
   ]
  },
  {
   "cell_type": "code",
   "execution_count": 36,
   "metadata": {},
   "outputs": [
    {
     "data": {
      "text/plain": [
       "(array([7.257e+03, 2.827e+03, 1.320e+02, 4.000e+01, 2.700e+01, 1.200e+01,\n",
       "        1.000e+00, 1.100e+01, 6.000e+00, 3.000e+00]),\n",
       " array([   27. ,  1032.6,  2038.2,  3043.8,  4049.4,  5055. ,  6060.6,\n",
       "         7066.2,  8071.8,  9077.4, 10083. ]),\n",
       " <a list of 10 Patch objects>)"
      ]
     },
     "execution_count": 36,
     "metadata": {},
     "output_type": "execute_result"
    },
    {
     "data": {
      "image/png": "[encoded data removed]",
      "text/plain": [
       "<Figure size 432x288 with 1 Axes>"
      ]
     },
     "metadata": {
      "needs_background": "light"
     },
     "output_type": "display_data"
    }
   ],
   "source": [
    "plt.hist(lens2)"
   ]
  },
  {
   "cell_type": "code",
   "execution_count": 37,
   "metadata": {},
   "outputs": [],
   "source": [
    "computerss = random.sample(computers, 1500)"
   ]
  },
  {
   "cell_type": "code",
   "execution_count": 38,
   "metadata": {},
   "outputs": [],
   "source": [
    "politicsr = [p for p in politics if inrange(p, 500, 1500)]"
   ]
  },
  {
   "cell_type": "code",
   "execution_count": 39,
   "metadata": {},
   "outputs": [
    {
     "data": {
      "text/plain": [
       "7967"
      ]
     },
     "execution_count": 39,
     "metadata": {},
     "output_type": "execute_result"
    }
   ],
   "source": [
    "len(politicsr)"
   ]
  },
  {
   "cell_type": "code",
   "execution_count": 40,
   "metadata": {},
   "outputs": [
    {
     "data": {
      "text/plain": [
       "10316"
      ]
     },
     "execution_count": 40,
     "metadata": {},
     "output_type": "execute_result"
    }
   ],
   "source": [
    "len(politics)"
   ]
  },
  {
   "cell_type": "code",
   "execution_count": 41,
   "metadata": {},
   "outputs": [],
   "source": [
    "politicss = random.sample(politics, 1500)"
   ]
  },
  {
   "cell_type": "code",
   "execution_count": 42,
   "metadata": {},
   "outputs": [
    {
     "data": {
      "text/plain": [
       "\"George W. Bush's promise to end ''the soft bigotry of low expectations'' that permits minority children to fall permanently behind at school seemed destined to go nowhere after Sept. 11. Even before then, the House and Senate appeared hopelessly tied up in bickering over the federal government's proper role in aiding local schools. But now  the leaders of both parties have quietly reached tentative agreement on a ground-breaking bill that  holds the states accountable as never before for rescuing failing schools and closing the achievement gap between rich and poor students. The only danger is that the federal government will deluge the schools with new mandates while providing too little money to get the job done.The most valuable part of the plan is a requirement that the states conduct annual testing in reading and math for students in grades three through eight. These tests would allow parents to learn how their children's schools stack up against others in the state, and how they are progressing year to year. Faced with a conservative backlash against the idea of national tests, Congress came up with a sensible compromise, in which the government will use a well-established national assessment system to make all the different results comparable.Many lawmakers had been nervous about setting strict timetables for closing the achievement gap between minority and non-minority students. They were worried that setting standards too high would lead to the failure of hundreds of their own local schools. The latest version of the plan, which gives the states 12 years to close the gaps, should calm those fears without sacrificing the interests of poor and minority students. This latest bill sets reasonable achievement levels that will be raised gradually over time.Congress has dropped Mr. Bush's idea of giving vouchers to students in failing schools. A school that makes no progress for two years would receive various forms of extra help. After three years of no progress, children would be allowed to transfer to another public school in the district. After four years, the school would be forced to provide supplemental instruction and curriculum. After six years, the school would be radically restructured, its staff and leadership changed. The conferees have called for increased spending on after-school programs and more money for Title I, the federal project targeted at the country's poorest districts and students.Taken together, these provisions have the potential to improve public schools dramatically all across the United States. They are not a cure-all. Some are already in place in New York City, which is far from a perfect school system. They are only a start, and even the start will not be much help without proper funding. The national recession has already caused the states to cut billions of dollars from state education budgets. The leaders of the House-Senate conference committees seem to understand that these reforms cannot be taken seriously without substantial federal aid. But they still need to do some work in convincing the White House and their own colleagues.\""
      ]
     },
     "execution_count": 42,
     "metadata": {},
     "output_type": "execute_result"
    }
   ],
   "source": [
    "politics[0].text"
   ]
  },
  {
   "cell_type": "markdown",
   "metadata": {},
   "source": [
    "# Training Word Embeddings"
   ]
  },
  {
   "cell_type": "code",
   "execution_count": 45,
   "metadata": {},
   "outputs": [],
   "source": [
    "from gensim.models import Word2Vec\n",
    "from gensim.utils import simple_preprocess"
   ]
  },
  {
   "cell_type": "code",
   "execution_count": 268,
   "metadata": {},
   "outputs": [
    {
     "data": {
      "text/plain": [
       "['the',\n",
       " 'bush',\n",
       " 'administration',\n",
       " 'may',\n",
       " 'soon',\n",
       " 'disclose',\n",
       " 'secret',\n",
       " 'details',\n",
       " 'of',\n",
       " 'the']"
      ]
     },
     "execution_count": 268,
     "metadata": {},
     "output_type": "execute_result"
    }
   ],
   "source": [
    "simple_preprocess(politics[10].text)[:10] # lowercasing, de-punctuation"
   ]
  },
  {
   "cell_type": "code",
   "execution_count": 47,
   "metadata": {},
   "outputs": [
    {
     "data": {
      "text/plain": [
       "10316"
      ]
     },
     "execution_count": 47,
     "metadata": {},
     "output_type": "execute_result"
    }
   ],
   "source": [
    "len(politics)"
   ]
  },
  {
   "cell_type": "code",
   "execution_count": 281,
   "metadata": {},
   "outputs": [],
   "source": [
    "def getw2v(category):\n",
    "    docs = [simple_preprocess(t.text) for t in category]\n",
    "    return Word2Vec(docs)"
   ]
  },
  {
   "cell_type": "code",
   "execution_count": 236,
   "metadata": {},
   "outputs": [],
   "source": [
    "def getw2v(category, s):\n",
    "    docs = [simple_preprocess(t.text) for t in category]\n",
    "    return Word2Vec(docs, size=s)   "
   ]
  },
  {
   "cell_type": "code",
   "execution_count": 237,
   "metadata": {},
   "outputs": [
    {
     "data": {
      "text/plain": [
       "158.2856069999998"
      ]
     },
     "execution_count": 237,
     "metadata": {},
     "output_type": "execute_result"
    }
   ],
   "source": [
    "t = time.process_time()\n",
    "mpol3 = getw2v(politics, 300)\n",
    "time.process_time() - t"
   ]
  },
  {
   "cell_type": "code",
   "execution_count": 242,
   "metadata": {},
   "outputs": [
    {
     "data": {
      "text/plain": [
       "130.69884300000012"
      ]
     },
     "execution_count": 242,
     "metadata": {},
     "output_type": "execute_result"
    }
   ],
   "source": [
    "t = time.process_time()\n",
    "mmps3 = getw2v(mps, 300)\n",
    "time.process_time() - t"
   ]
  },
  {
   "cell_type": "code",
   "execution_count": 243,
   "metadata": {},
   "outputs": [
    {
     "data": {
      "text/plain": [
       "264.18480999999974"
      ]
     },
     "execution_count": 243,
     "metadata": {},
     "output_type": "execute_result"
    }
   ],
   "source": [
    "t = time.process_time()\n",
    "msports3 = getw2v(sports, 300)\n",
    "time.process_time() - t"
   ]
  },
  {
   "cell_type": "code",
   "execution_count": 244,
   "metadata": {},
   "outputs": [
    {
     "data": {
      "text/plain": [
       "187.28347900000063"
      ]
     },
     "execution_count": 244,
     "metadata": {},
     "output_type": "execute_result"
    }
   ],
   "source": [
    "t = time.process_time()\n",
    "mbooks3 = getw2v(books, 300)\n",
    "time.process_time() - t"
   ]
  },
  {
   "cell_type": "code",
   "execution_count": 245,
   "metadata": {},
   "outputs": [
    {
     "data": {
      "text/plain": [
       "91.44286399999964"
      ]
     },
     "execution_count": 245,
     "metadata": {},
     "output_type": "execute_result"
    }
   ],
   "source": [
    "t = time.process_time()\n",
    "mcomp3 = getw2v(computers, 300)\n",
    "time.process_time() - t"
   ]
  },
  {
   "cell_type": "code",
   "execution_count": 276,
   "metadata": {},
   "outputs": [
    {
     "data": {
      "text/plain": [
       "487.4492489999993"
      ]
     },
     "execution_count": 276,
     "metadata": {},
     "output_type": "execute_result"
    }
   ],
   "source": [
    "t = time.process_time()\n",
    "m_pol = getw2v(politics)\n",
    "time.process_time() - t"
   ]
  },
  {
   "cell_type": "code",
   "execution_count": 115,
   "metadata": {},
   "outputs": [
    {
     "data": {
      "text/plain": [
       "350.08934"
      ]
     },
     "execution_count": 115,
     "metadata": {},
     "output_type": "execute_result"
    }
   ],
   "source": [
    "t = time.process_time()\n",
    "m_mps, sg_mps = getw2v(mps)\n",
    "time.process_time() - t"
   ]
  },
  {
   "cell_type": "code",
   "execution_count": 116,
   "metadata": {},
   "outputs": [
    {
     "data": {
      "text/plain": [
       "522.6720100000002"
      ]
     },
     "execution_count": 116,
     "metadata": {},
     "output_type": "execute_result"
    }
   ],
   "source": [
    "t = time.process_time()\n",
    "m_books, sg_books = getw2v(books)\n",
    "time.process_time() - t"
   ]
  },
  {
   "cell_type": "code",
   "execution_count": 137,
   "metadata": {},
   "outputs": [
    {
     "data": {
      "text/plain": [
       "697.0087489999996"
      ]
     },
     "execution_count": 137,
     "metadata": {},
     "output_type": "execute_result"
    }
   ],
   "source": [
    "t = time.process_time()\n",
    "m_sports, sg_sports = getw2v(sports)\n",
    "time.process_time() - t"
   ]
  },
  {
   "cell_type": "code",
   "execution_count": 277,
   "metadata": {},
   "outputs": [
    {
     "data": {
      "text/plain": [
       "[('bad', 0.7701998353004456),\n",
       " ('great', 0.5736860036849976),\n",
       " ('simple', 0.5706285238265991),\n",
       " ('big', 0.5503104329109192),\n",
       " ('healthy', 0.5360066890716553)]"
      ]
     },
     "execution_count": 277,
     "metadata": {},
     "output_type": "execute_result"
    }
   ],
   "source": [
    "m_pol.wv.most_similar(positive=['good'], topn=5)"
   ]
  },
  {
   "cell_type": "code",
   "execution_count": 120,
   "metadata": {},
   "outputs": [
    {
     "data": {
      "text/plain": [
       "[('bad', 0.8037024736404419),\n",
       " ('nice', 0.7105066776275635),\n",
       " ('darn', 0.6723470687866211),\n",
       " ('hoot', 0.6688886880874634),\n",
       " ('underwrites', 0.6674895882606506)]"
      ]
     },
     "execution_count": 120,
     "metadata": {},
     "output_type": "execute_result"
    }
   ],
   "source": [
    "sg_books.wv.most_similar(positive=['good'], topn=5)"
   ]
  },
  {
   "cell_type": "code",
   "execution_count": 111,
   "metadata": {},
   "outputs": [
    {
     "data": {
      "text/plain": [
       "[('wednesday', 0.9533427953720093),\n",
       " ('monday', 0.949042558670044),\n",
       " ('tuesday', 0.9402897357940674),\n",
       " ('feb', 0.9159979820251465),\n",
       " ('nov', 0.8782657384872437)]"
      ]
     },
     "execution_count": 111,
     "metadata": {},
     "output_type": "execute_result"
    }
   ],
   "source": [
    "m_mps.wv.most_similar(positive=['thursday'], topn=5)"
   ]
  },
  {
   "cell_type": "code",
   "execution_count": 118,
   "metadata": {},
   "outputs": [
    {
     "data": {
      "text/plain": [
       "[('wednesday', 0.8984960317611694),\n",
       " ('tuesday', 0.8942105770111084),\n",
       " ('monday', 0.8819349408149719),\n",
       " ('sunday', 0.81260085105896),\n",
       " ('saturday', 0.8052012324333191)]"
      ]
     },
     "execution_count": 118,
     "metadata": {},
     "output_type": "execute_result"
    }
   ],
   "source": [
    "sg_mps.wv.most_similar(positive=['thursday'], topn=5)"
   ]
  },
  {
   "cell_type": "code",
   "execution_count": 48,
   "metadata": {},
   "outputs": [
    {
     "data": {
      "text/plain": [
       "13.110403000000133"
      ]
     },
     "execution_count": 48,
     "metadata": {},
     "output_type": "execute_result"
    }
   ],
   "source": [
    "t = time.process_time()\n",
    "docs = [simple_preprocess(t.text) for t in politics]\n",
    "time.process_time() - t"
   ]
  },
  {
   "cell_type": "code",
   "execution_count": 49,
   "metadata": {},
   "outputs": [
    {
     "data": {
      "text/plain": [
       "89.455289"
      ]
     },
     "execution_count": 49,
     "metadata": {},
     "output_type": "execute_result"
    }
   ],
   "source": [
    "t = time.process_time()\n",
    "model = Word2Vec(docs)\n",
    "time.process_time() - t"
   ]
  },
  {
   "cell_type": "code",
   "execution_count": 50,
   "metadata": {},
   "outputs": [
    {
     "data": {
      "text/plain": [
       "287.23453400000017"
      ]
     },
     "execution_count": 50,
     "metadata": {},
     "output_type": "execute_result"
    }
   ],
   "source": [
    "t = time.process_time()\n",
    "sg = Word2Vec(docs,sg=1)\n",
    "time.process_time() - t"
   ]
  },
  {
   "cell_type": "code",
   "execution_count": 51,
   "metadata": {},
   "outputs": [
    {
     "data": {
      "text/plain": [
       "[('wednesday', 0.966515302658081),\n",
       " ('tuesday', 0.9625621438026428),\n",
       " ('monday', 0.9531980156898499),\n",
       " ('friday', 0.9439132213592529),\n",
       " ('sunday', 0.9063440561294556)]"
      ]
     },
     "execution_count": 51,
     "metadata": {},
     "output_type": "execute_result"
    }
   ],
   "source": [
    "model.wv.most_similar(positive=['thursday'], topn=5)"
   ]
  },
  {
   "cell_type": "code",
   "execution_count": 122,
   "metadata": {},
   "outputs": [
    {
     "data": {
      "text/plain": [
       "[('submit', 0.8420201539993286),\n",
       " ('enact', 0.8022587299346924),\n",
       " ('amend', 0.8013858199119568),\n",
       " ('override', 0.7858759760856628),\n",
       " ('propose', 0.7809127569198608)]"
      ]
     },
     "execution_count": 122,
     "metadata": {},
     "output_type": "execute_result"
    }
   ],
   "source": [
    "model.wv.most_similar(positive=['approve'], topn=5)"
   ]
  },
  {
   "cell_type": "code",
   "execution_count": 53,
   "metadata": {},
   "outputs": [
    {
     "data": {
      "text/plain": [
       "[('amend', 0.7634615898132324),\n",
       " ('approved', 0.7592514753341675),\n",
       " ('resubmit', 0.7551741600036621),\n",
       " ('submit', 0.7530202865600586),\n",
       " ('authorize', 0.7511330842971802)]"
      ]
     },
     "execution_count": 53,
     "metadata": {},
     "output_type": "execute_result"
    }
   ],
   "source": [
    "sg.wv.most_similar(positive=['approve'], topn=5)"
   ]
  },
  {
   "cell_type": "code",
   "execution_count": 54,
   "metadata": {},
   "outputs": [
    {
     "data": {
      "text/plain": [
       "[('democratic', 0.7588052749633789),\n",
       " ('democrat', 0.7039002180099487),\n",
       " ('republicans', 0.6108230352401733),\n",
       " ('ohio', 0.599784791469574),\n",
       " ('montana', 0.5995473861694336),\n",
       " ('wisconsin', 0.5822083353996277),\n",
       " ('democrats', 0.5816711783409119),\n",
       " ('missouri', 0.5749313831329346),\n",
       " ('nevada', 0.5689836144447327),\n",
       " ('texas', 0.5451416969299316)]"
      ]
     },
     "execution_count": 54,
     "metadata": {},
     "output_type": "execute_result"
    }
   ],
   "source": [
    "model.wv.most_similar(positive=['republican'], topn=10)"
   ]
  },
  {
   "cell_type": "code",
   "execution_count": 55,
   "metadata": {},
   "outputs": [
    {
     "data": {
      "text/plain": [
       "[('mitch', 0.7215871810913086),\n",
       " ('dewine', 0.7157849669456482),\n",
       " ('democratic', 0.712923526763916),\n",
       " ('republicans', 0.6989976167678833),\n",
       " ('schluter', 0.6967225074768066),\n",
       " ('serphin', 0.695811927318573),\n",
       " ('kemp', 0.6898654699325562),\n",
       " ('democrats', 0.6840780377388),\n",
       " ('pawlenty', 0.6832119822502136),\n",
       " ('haytaian', 0.6783065795898438)]"
      ]
     },
     "execution_count": 55,
     "metadata": {},
     "output_type": "execute_result"
    }
   ],
   "source": [
    "sg.wv.most_similar(positive=['republican'], topn=10)"
   ]
  },
  {
   "cell_type": "code",
   "execution_count": 56,
   "metadata": {},
   "outputs": [
    {
     "data": {
      "text/plain": [
       "[('montana', 0.7756986618041992),\n",
       " ('wisconsin', 0.735527753829956),\n",
       " ('illinois', 0.7299346923828125),\n",
       " ('vermont', 0.707344651222229),\n",
       " ('republican', 0.7039002180099487),\n",
       " ('maryland', 0.7038766145706177),\n",
       " ('indiana', 0.6947270631790161),\n",
       " ('massachusetts', 0.6933934092521667),\n",
       " ('nebraska', 0.6932546496391296),\n",
       " ('assemblyman', 0.6813335418701172)]"
      ]
     },
     "execution_count": 56,
     "metadata": {},
     "output_type": "execute_result"
    }
   ],
   "source": [
    "model.wv.most_similar(positive=['democrat'], topn=10)"
   ]
  },
  {
   "cell_type": "code",
   "execution_count": 57,
   "metadata": {},
   "outputs": [
    {
     "data": {
      "text/plain": [
       "[('montana', 0.7596157193183899),\n",
       " ('serphin', 0.7321606874465942),\n",
       " ('nita', 0.7243488430976868),\n",
       " ('cleland', 0.7215176224708557),\n",
       " ('dingell', 0.719240665435791),\n",
       " ('senator', 0.7189056277275085),\n",
       " ('hannon', 0.7154656648635864),\n",
       " ('rep', 0.715215265750885),\n",
       " ('hoyer', 0.7151182293891907),\n",
       " ('padavan', 0.7111424803733826)]"
      ]
     },
     "execution_count": 57,
     "metadata": {},
     "output_type": "execute_result"
    }
   ],
   "source": [
    "sg.wv.most_similar(positive=['democrat'], topn=10)"
   ]
  },
  {
   "cell_type": "code",
   "execution_count": 58,
   "metadata": {},
   "outputs": [
    {
     "data": {
      "text/plain": [
       "(100,)"
      ]
     },
     "execution_count": 58,
     "metadata": {},
     "output_type": "execute_result"
    }
   ],
   "source": [
    "model.wv.get_vector('democrat').shape"
   ]
  },
  {
   "cell_type": "markdown",
   "metadata": {},
   "source": [
    "# Summarization"
   ]
  },
  {
   "cell_type": "code",
   "execution_count": 59,
   "metadata": {},
   "outputs": [],
   "source": [
    "from gensim.summarization.summarizer import summarize\n",
    "from gensim.models import LsiModel\n",
    "from gensim.test.utils import common_dictionary, common_corpus"
   ]
  },
  {
   "cell_type": "code",
   "execution_count": 60,
   "metadata": {},
   "outputs": [
    {
     "data": {
      "text/plain": [
       "\"The Bush administration may soon disclose secret details of the relationship between the Central Intelligence Agency and Peru's powerful former spy chief, Vladimiro L. Montesinos, Peru's president said in an interview yesterday in New York.President Alejandro Toledo of Peru said he had requested the release of the documents because Mr. Montesinos remained a threat to Peru's fledgling democracy. He accused Mr. Montesinos of using extortion and bribery from his Peruvian jail cell to exert sweeping political influence in Peru. Mr. Montesinos is awaiting trial on charges of money laundering and drug dealing during the decade he was a major adviser and political operative of former President Alberto K. Fujimori.Mr. Toledo, who took office in July, vowed to continue his efforts to dismantle the network of corruption and violence that he inherited.. ''We are stepping on people's toes,'' said Mr. Toledo, 55. The corrupt activities of which Mr. Montesinos and others are accused generated millions of dollars in secret payments. Although the accounts holding much of that money were frozen when Mr. Montesinos was arrested in June, authorities say he has replenished his accounts by threatening to release damaging information on public officials unless they pay him.Mr. Toledo said he asked for the documents on Mr. Montesinos and his links to American intelligence soon after he took office. At the recent Asia Pacific Economic Cooperation meeting in Shanghai, he said President Bush assured him that the documents would be delivered.\""
      ]
     },
     "execution_count": 60,
     "metadata": {},
     "output_type": "execute_result"
    }
   ],
   "source": [
    "politics[10].text"
   ]
  },
  {
   "cell_type": "code",
   "execution_count": 61,
   "metadata": {},
   "outputs": [
    {
     "data": {
      "text/plain": [
       "\"The Bush administration may soon disclose secret details of the relationship between the Central Intelligence Agency and Peru's powerful former spy chief, Vladimiro L.\\nHe accused Mr. Montesinos of using extortion and bribery from his Peruvian jail cell to exert sweeping political influence in Peru.\\nMr. Montesinos is awaiting trial on charges of money laundering and drug dealing during the decade he was a major adviser and political operative of former President Alberto K.\\nFujimori.Mr. Toledo, who took office in July, vowed to continue his efforts to dismantle the network of corruption and violence that he inherited..\\nThe corrupt activities of which Mr. Montesinos and others are accused generated millions of dollars in secret payments.\\nAlthough the accounts holding much of that money were frozen when Mr. Montesinos was arrested in June, authorities say he has replenished his accounts by threatening to release damaging information on public officials unless they pay him.Mr. Toledo said he asked for the documents on Mr. Montesinos and his links to American intelligence soon after he took office.\\nAt the recent Asia Pacific Economic Cooperation meeting in Shanghai, he said President Bush assured him that the documents would be delivered.\""
      ]
     },
     "execution_count": 61,
     "metadata": {},
     "output_type": "execute_result"
    }
   ],
   "source": [
    "summarize(politics[10].text, word_count=200)"
   ]
  },
  {
   "cell_type": "code",
   "execution_count": 62,
   "metadata": {},
   "outputs": [
    {
     "data": {
      "text/plain": [
       "58"
      ]
     },
     "execution_count": 62,
     "metadata": {},
     "output_type": "execute_result"
    }
   ],
   "source": [
    "s = summarize(politics[10].text)\n",
    "len(s.split(\" \"))"
   ]
  },
  {
   "cell_type": "code",
   "execution_count": 64,
   "metadata": {
    "scrolled": true
   },
   "outputs": [
    {
     "name": "stdout",
     "output_type": "stream",
     "text": [
      "Although the accounts holding much of that money were frozen when Mr. Montesinos was arrested in June, authorities say he has replenished his accounts by threatening to release damaging information on public officials unless they pay him.Mr. Toledo said he asked for the documents on Mr. Montesinos and his links to American intelligence soon after he took office.\n"
     ]
    }
   ],
   "source": [
    "print(s)"
   ]
  },
  {
   "cell_type": "code",
   "execution_count": 79,
   "metadata": {},
   "outputs": [
    {
     "name": "stdout",
     "output_type": "stream",
     "text": [
      "1646\n",
      "2145\n",
      "2331\n",
      "5396\n",
      "5569\n",
      "6193\n",
      "8035\n",
      "8425\n"
     ]
    },
    {
     "data": {
      "text/plain": [
       "153.342576"
      ]
     },
     "execution_count": 79,
     "metadata": {},
     "output_type": "execute_result"
    }
   ],
   "source": [
    "t = time.process_time()\n",
    "# summaries_pol = [summarize(x.text) for x in politics if len(x.text) > 500]\n",
    "summaries_pol = []\n",
    "for i in range(len(politics)):\n",
    "    try:\n",
    "        summaries_pol.append(summarize(politics[i].text))\n",
    "    except:\n",
    "        x = politics[i]\n",
    "        print(i)\n",
    "time.process_time() - t"
   ]
  },
  {
   "cell_type": "code",
   "execution_count": 261,
   "metadata": {},
   "outputs": [
    {
     "name": "stdout",
     "output_type": "stream",
     "text": [
      "1177\n",
      "1446\n",
      "1726\n",
      "3299\n",
      "3741\n",
      "5160\n",
      "5280\n"
     ]
    },
    {
     "data": {
      "text/plain": [
       "104.35523600000033"
      ]
     },
     "execution_count": 261,
     "metadata": {},
     "output_type": "execute_result"
    }
   ],
   "source": [
    "t = time.process_time()\n",
    "summaries_comp = []\n",
    "for i in range(len(computers)):\n",
    "    try:\n",
    "        summaries_comp.append(summarize(computers[i].text))\n",
    "    except:\n",
    "        print(i)\n",
    "time.process_time() - t"
   ]
  },
  {
   "cell_type": "code",
   "execution_count": 262,
   "metadata": {},
   "outputs": [
    {
     "name": "stdout",
     "output_type": "stream",
     "text": [
      "5041\n",
      "5715\n",
      "7698\n",
      "10366\n"
     ]
    },
    {
     "data": {
      "text/plain": [
       "197.67950399999972"
      ]
     },
     "execution_count": 262,
     "metadata": {},
     "output_type": "execute_result"
    }
   ],
   "source": [
    "t = time.process_time()\n",
    "summaries_books = []\n",
    "for i in range(len(books)):\n",
    "    try:\n",
    "        summaries_books.append(summarize(books[i].text))\n",
    "    except:\n",
    "        print(i)\n",
    "time.process_time() - t"
   ]
  },
  {
   "cell_type": "code",
   "execution_count": 263,
   "metadata": {},
   "outputs": [
    {
     "name": "stdout",
     "output_type": "stream",
     "text": [
      "1054\n",
      "6061\n",
      "7134\n"
     ]
    },
    {
     "data": {
      "text/plain": [
       "150.2760619999999"
      ]
     },
     "execution_count": 263,
     "metadata": {},
     "output_type": "execute_result"
    }
   ],
   "source": [
    "t = time.process_time()\n",
    "summaries_mps = []\n",
    "for i in range(len(mps)):\n",
    "    try:\n",
    "        summaries_mps.append(summarize(mps[i].text))\n",
    "    except:\n",
    "        print(i)\n",
    "time.process_time() - t"
   ]
  },
  {
   "cell_type": "code",
   "execution_count": 264,
   "metadata": {},
   "outputs": [
    {
     "name": "stdout",
     "output_type": "stream",
     "text": [
      "5609\n",
      "7095\n",
      "7489\n",
      "9951\n",
      "14430\n",
      "15885\n",
      "16586\n",
      "17220\n"
     ]
    },
    {
     "data": {
      "text/plain": [
       "300.2605589999994"
      ]
     },
     "execution_count": 264,
     "metadata": {},
     "output_type": "execute_result"
    }
   ],
   "source": [
    "t = time.process_time()\n",
    "summaries_sports = []\n",
    "for i in range(len(sports)):\n",
    "    try:\n",
    "        summaries_sports.append(summarize(sports[i].text))\n",
    "    except:\n",
    "        print(i)\n",
    "time.process_time() - t"
   ]
  },
  {
   "cell_type": "code",
   "execution_count": 74,
   "metadata": {},
   "outputs": [
    {
     "data": {
      "text/plain": [
       "10316"
      ]
     },
     "execution_count": 74,
     "metadata": {},
     "output_type": "execute_result"
    }
   ],
   "source": [
    "len(politics)"
   ]
  },
  {
   "cell_type": "code",
   "execution_count": 80,
   "metadata": {},
   "outputs": [
    {
     "data": {
      "text/plain": [
       "10308"
      ]
     },
     "execution_count": 80,
     "metadata": {},
     "output_type": "execute_result"
    }
   ],
   "source": [
    "len(summaries_pol)"
   ]
  },
  {
   "cell_type": "code",
   "execution_count": 78,
   "metadata": {},
   "outputs": [
    {
     "data": {
      "text/plain": [
       "\"Hopes of a breakthrough in the deadlocked Northern Ireland peace process were dashed today when Prime Ministers Tony Blair of Britain and Bertie Ahern of Ireland had to cancel a joint appearance here because of last-minute objections by Sinn Fein, the political party of the Irish Republican Army.The two leaders had planned to announce a final plan for reviving the suspended power-sharing government in Northern Ireland.The new plan, drawn up in London and Dublin, was aimed at producing a long-awaited decision by the I.R.A. to disarm and renounce violence for good.But a Downing Street spokesman announced today that Mr. Blair and Mr. Ahern were abandoning their trip here.Continuing discussions between the governments and the party leaders had persuaded the two leaders that ''sufficient progress has not yet been made'' to let the meeting go ahead, he said.They would meet together this evening in London instead ''to pause, reflect and take stock,'' the spokesman added.\""
      ]
     },
     "execution_count": 78,
     "metadata": {},
     "output_type": "execute_result"
    }
   ],
   "source": [
    "politics[1646].text"
   ]
  },
  {
   "cell_type": "code",
   "execution_count": 282,
   "metadata": {},
   "outputs": [],
   "source": [
    "def getw2v_s(sums):\n",
    "    docs = [simple_preprocess(t) for t in sums]\n",
    "    return Word2Vec(docs)"
   ]
  },
  {
   "cell_type": "markdown",
   "metadata": {},
   "source": [
    "# Measuring Bias"
   ]
  },
  {
   "cell_type": "code",
   "execution_count": 81,
   "metadata": {},
   "outputs": [],
   "source": [
    "with open('debiaswe-master/data/equalize_pairs.json') as f:\n",
    "    pairs = json.loads(f.read())"
   ]
  },
  {
   "cell_type": "code",
   "execution_count": 82,
   "metadata": {},
   "outputs": [],
   "source": [
    "from sklearn.decomposition import PCA\n",
    "from matplotlib.pyplot import bar"
   ]
  },
  {
   "cell_type": "code",
   "execution_count": 83,
   "metadata": {},
   "outputs": [],
   "source": [
    "pairs = list(map(lambda x: [x[0].lower(), x[1].lower()], pairs))"
   ]
  },
  {
   "cell_type": "code",
   "execution_count": 136,
   "metadata": {},
   "outputs": [
    {
     "data": {
      "text/plain": [
       "[['monastery', 'convent'],\n",
       " ['spokesman', 'spokeswoman'],\n",
       " ['catholic_priest', 'nun'],\n",
       " ['dad', 'mom'],\n",
       " ['men', 'women'],\n",
       " ['councilman', 'councilwoman'],\n",
       " ['grandpa', 'grandma'],\n",
       " ['grandsons', 'granddaughters'],\n",
       " ['prostate_cancer', 'ovarian_cancer'],\n",
       " ['testosterone', 'estrogen'],\n",
       " ['uncle', 'aunt'],\n",
       " ['wives', 'husbands'],\n",
       " ['father', 'mother'],\n",
       " ['grandpa', 'grandma'],\n",
       " ['he', 'she'],\n",
       " ['boy', 'girl'],\n",
       " ['boys', 'girls'],\n",
       " ['brother', 'sister'],\n",
       " ['brothers', 'sisters'],\n",
       " ['businessman', 'businesswoman'],\n",
       " ['chairman', 'chairwoman'],\n",
       " ['colt', 'filly'],\n",
       " ['congressman', 'congresswoman'],\n",
       " ['dad', 'mom'],\n",
       " ['dads', 'moms'],\n",
       " ['dudes', 'gals'],\n",
       " ['ex_girlfriend', 'ex_boyfriend'],\n",
       " ['father', 'mother'],\n",
       " ['fatherhood', 'motherhood'],\n",
       " ['fathers', 'mothers'],\n",
       " ['fella', 'granny'],\n",
       " ['fraternity', 'sorority'],\n",
       " ['gelding', 'mare'],\n",
       " ['gentleman', 'lady'],\n",
       " ['gentlemen', 'ladies'],\n",
       " ['grandfather', 'grandmother'],\n",
       " ['grandson', 'granddaughter'],\n",
       " ['he', 'she'],\n",
       " ['himself', 'herself'],\n",
       " ['his', 'her'],\n",
       " ['king', 'queen'],\n",
       " ['kings', 'queens'],\n",
       " ['male', 'female'],\n",
       " ['males', 'females'],\n",
       " ['man', 'woman'],\n",
       " ['men', 'women'],\n",
       " ['nephew', 'niece'],\n",
       " ['prince', 'princess'],\n",
       " ['schoolboy', 'schoolgirl'],\n",
       " ['son', 'daughter'],\n",
       " ['sons', 'daughters'],\n",
       " ['twin_brother', 'twin_sister']]"
      ]
     },
     "execution_count": 136,
     "metadata": {},
     "output_type": "execute_result"
    }
   ],
   "source": [
    "pairs"
   ]
  },
  {
   "cell_type": "markdown",
   "metadata": {},
   "source": [
    "## For Politics"
   ]
  },
  {
   "cell_type": "code",
   "execution_count": 125,
   "metadata": {},
   "outputs": [],
   "source": [
    "def getg(m):\n",
    "    matrix = []\n",
    "    for a, b in pairs:\n",
    "        if a not in m.wv.vocab or b not in m.wv.vocab:\n",
    "            continue\n",
    "        center = (m.wv.get_vector(a) + m.wv.get_vector(b))/2\n",
    "        matrix.append(m.wv.get_vector(a) - center)\n",
    "        matrix.append(m.wv.get_vector(b) - center)\n",
    "    matrix = np.array(matrix)\n",
    "    p = PCA(n_components = 10)\n",
    "    p.fit(matrix)\n",
    "    bar(range(10), p.explained_variance_ratio_)\n",
    "    print(matrix.shape)\n",
    "    return p.components_[0]"
   ]
  },
  {
   "cell_type": "code",
   "execution_count": 278,
   "metadata": {},
   "outputs": [
    {
     "name": "stdout",
     "output_type": "stream",
     "text": [
      "(76, 100)\n"
     ]
    },
    {
     "data": {
      "image/png": "[encoded data removed]",
      "text/plain": [
       "<Figure size 432x288 with 1 Axes>"
      ]
     },
     "metadata": {
      "needs_background": "light"
     },
     "output_type": "display_data"
    }
   ],
   "source": [
    "g_pol2 = getg(m_pol)"
   ]
  },
  {
   "cell_type": "code",
   "execution_count": 126,
   "metadata": {},
   "outputs": [
    {
     "name": "stdout",
     "output_type": "stream",
     "text": [
      "(90, 100)\n"
     ]
    },
    {
     "data": {
      "image/png": "[encoded data removed]",
      "text/plain": [
       "<Figure size 432x288 with 1 Axes>"
      ]
     },
     "metadata": {
      "needs_background": "light"
     },
     "output_type": "display_data"
    }
   ],
   "source": [
    "g_mps = getg(m_mps)"
   ]
  },
  {
   "cell_type": "code",
   "execution_count": 127,
   "metadata": {},
   "outputs": [
    {
     "name": "stdout",
     "output_type": "stream",
     "text": [
      "(90, 100)\n"
     ]
    },
    {
     "data": {
      "image/png": "[encoded data removed]",
      "text/plain": [
       "<Figure size 432x288 with 1 Axes>"
      ]
     },
     "metadata": {
      "needs_background": "light"
     },
     "output_type": "display_data"
    }
   ],
   "source": [
    "g_books = getg(m_books)"
   ]
  },
  {
   "cell_type": "code",
   "execution_count": 138,
   "metadata": {},
   "outputs": [
    {
     "name": "stdout",
     "output_type": "stream",
     "text": [
      "(80, 100)\n"
     ]
    },
    {
     "data": {
      "image/png": "[encoded data removed]",
      "text/plain": [
       "<Figure size 432x288 with 1 Axes>"
      ]
     },
     "metadata": {
      "needs_background": "light"
     },
     "output_type": "display_data"
    }
   ],
   "source": [
    "g_sports = getg(m_sports)"
   ]
  },
  {
   "cell_type": "code",
   "execution_count": 85,
   "metadata": {},
   "outputs": [
    {
     "name": "stdout",
     "output_type": "stream",
     "text": [
      "(76, 100)\n"
     ]
    },
    {
     "data": {
      "image/png": "[encoded data removed]",
      "text/plain": [
       "<Figure size 432x288 with 1 Axes>"
      ]
     },
     "metadata": {
      "needs_background": "light"
     },
     "output_type": "display_data"
    }
   ],
   "source": [
    "# borrowed from Bolukbasi et al\n",
    "matrix = []\n",
    "for a, b in pairs:\n",
    "    if a not in model.wv.vocab or b not in model.wv.vocab:\n",
    "        continue\n",
    "    center = (model.wv.get_vector(a) + model.wv.get_vector(b))/2\n",
    "    matrix.append(model.wv.get_vector(a) - center)\n",
    "    matrix.append(model.wv.get_vector(b) - center)\n",
    "matrix = np.array(matrix)\n",
    "pca = PCA(n_components = 10)\n",
    "pca.fit(matrix)\n",
    "bar(range(10), pca.explained_variance_ratio_)\n",
    "print(matrix.shape)"
   ]
  },
  {
   "cell_type": "code",
   "execution_count": 96,
   "metadata": {},
   "outputs": [
    {
     "data": {
      "text/plain": [
       "<BarContainer object of 10 artists>"
      ]
     },
     "execution_count": 96,
     "metadata": {},
     "output_type": "execute_result"
    },
    {
     "data": {
      "image/png": "[encoded data removed]",
      "text/plain": [
       "<Figure size 432x288 with 1 Axes>"
      ]
     },
     "metadata": {
      "needs_background": "light"
     },
     "output_type": "display_data"
    }
   ],
   "source": [
    "pca_r = PCA(n_components = 10)\n",
    "pca_r.fit(np.random.rand(76,100))\n",
    "bar(range(10), pca_r.explained_variance_ratio_)"
   ]
  },
  {
   "cell_type": "code",
   "execution_count": 87,
   "metadata": {},
   "outputs": [
    {
     "data": {
      "text/plain": [
       "(100,)"
      ]
     },
     "execution_count": 87,
     "metadata": {},
     "output_type": "execute_result"
    }
   ],
   "source": [
    "pca.components_[0].shape"
   ]
  },
  {
   "cell_type": "code",
   "execution_count": 88,
   "metadata": {},
   "outputs": [],
   "source": [
    "g = pca.components_[0]"
   ]
  },
  {
   "cell_type": "code",
   "execution_count": 131,
   "metadata": {},
   "outputs": [],
   "source": [
    "def gproj(g, m, w1):\n",
    "    wvec = m.wv.get_vector(w1)\n",
    "    p = np.dot(g, wvec)/np.linalg.norm(g)\n",
    "    return p"
   ]
  },
  {
   "cell_type": "code",
   "execution_count": 90,
   "metadata": {},
   "outputs": [],
   "source": [
    "wordlist = ['he', 'she', 'doctor', 'nurse', 'man', 'woman', 'male', 'female', 'politician', 'guy', \\\n",
    "            'scientist', 'teacher', 'professor', 'mother', 'pretty', 'handsome', 'strong', 'coward', \\\n",
    "            'dress', 'timid', 'leadership', 'blond', 'lovely', 'petite', 'surgeon', 'physician', 'shopkeeper', \\\n",
    "            'cooking', 'sewing', 'chuckle', 'sassy', 'lanky', 'competent', 'brilliant', 'capable', 'smart', \\\n",
    "            'intelligent', 'incompetent', 'librarian', 'cosmetics', 'maid', 'clever', 'dressed', 'captain', \\\n",
    "            'nanny', 'philosopher', 'architect', 'financier', 'warrior', 'magician', 'housekeeper', 'homemaker']"
   ]
  },
  {
   "cell_type": "code",
   "execution_count": 91,
   "metadata": {},
   "outputs": [
    {
     "data": {
      "text/plain": [
       "52"
      ]
     },
     "execution_count": 91,
     "metadata": {},
     "output_type": "execute_result"
    }
   ],
   "source": [
    "len(wordlist)"
   ]
  },
  {
   "cell_type": "code",
   "execution_count": 296,
   "metadata": {},
   "outputs": [
    {
     "name": "stdout",
     "output_type": "stream",
     "text": [
      "he 2.8105197\n",
      "she -5.6459923\n",
      "doctor -1.0489206\n",
      "nurse -0.17620346\n",
      "man 3.8891761\n",
      "woman -2.8334298\n",
      "male -1.2500108\n",
      "female -2.1939878\n",
      "politician 2.564194\n",
      "guy 0.9539458\n",
      "scientist 1.8408958\n",
      "teacher -1.0036469\n",
      "professor 2.4944913\n",
      "mother -1.7913157\n",
      "pretty -1.360877\n",
      "handsome -0.025922855\n",
      "strong 0.30098295\n",
      "dress -0.87943053\n",
      "timid -0.03581514\n",
      "leadership 2.1501873\n",
      "blond -0.472618\n",
      "lovely -0.17515591\n",
      "surgeon 0.45692998\n",
      "physician 0.4484733\n",
      "shopkeeper 0.36269495\n",
      "cooking -0.100637555\n",
      "lanky 0.14558364\n",
      "competent -0.007338649\n",
      "brilliant 0.31558698\n",
      "capable 0.28279185\n",
      "smart -0.29120904\n",
      "intelligent -0.16850704\n",
      "incompetent 0.13866481\n",
      "librarian 0.015081462\n",
      "cosmetics 0.027424363\n",
      "maid -0.18722029\n",
      "clever 0.057584934\n",
      "dressed -0.4531575\n",
      "captain 0.808699\n",
      "nanny 0.114777714\n",
      "philosopher 0.6383292\n",
      "architect 1.6235939\n",
      "financier 0.4208144\n",
      "warrior 0.6456485\n",
      "homemaker -0.07632408\n"
     ]
    }
   ],
   "source": [
    "for x in filter(lambda x: x in m_pol_s.wv.vocab, wordlist):\n",
    "    print(x, gproj(g_pol2, m_pol, x))"
   ]
  },
  {
   "cell_type": "code",
   "execution_count": 294,
   "metadata": {},
   "outputs": [
    {
     "name": "stdout",
     "output_type": "stream",
     "text": [
      "he 3.630472\n",
      "she -7.043937\n",
      "doctor -0.5483555\n",
      "nurse -0.101625055\n",
      "man 0.6724119\n",
      "woman -2.104624\n",
      "male -0.7091877\n",
      "female -0.73684615\n",
      "politician 0.48999584\n",
      "guy -0.20535713\n",
      "scientist -0.09677285\n",
      "teacher -0.42919195\n",
      "professor -0.06367353\n",
      "mother -1.2419612\n",
      "pretty -0.653125\n",
      "handsome -0.18689041\n",
      "strong 0.33946192\n",
      "dress -0.31632563\n",
      "timid -0.049695645\n",
      "leadership 2.0021334\n",
      "blond -0.09693908\n",
      "lovely -0.14093867\n",
      "surgeon -0.017406816\n",
      "physician -0.010592686\n",
      "shopkeeper 0.0010680961\n",
      "cooking -0.09819894\n",
      "lanky 0.032721754\n",
      "competent -0.10022683\n",
      "brilliant 0.06563793\n",
      "capable -0.09329388\n",
      "smart -0.25878468\n",
      "intelligent -0.35525897\n",
      "incompetent 0.038933847\n",
      "librarian -0.07244852\n",
      "cosmetics 0.018950026\n",
      "maid -0.11877883\n",
      "clever 0.018979466\n",
      "dressed -0.13837661\n",
      "captain -0.012679186\n",
      "nanny -0.02870044\n",
      "philosopher 0.0056038024\n",
      "architect 0.423599\n",
      "financier -0.034385435\n",
      "warrior -0.022099825\n",
      "homemaker -0.15800034\n"
     ]
    }
   ],
   "source": [
    "for x in filter(lambda x: x in m_pol_s.wv.vocab, wordlist):\n",
    "    print(x, gproj(gpol_s, m_pol_s, x))"
   ]
  },
  {
   "cell_type": "code",
   "execution_count": 132,
   "metadata": {},
   "outputs": [
    {
     "name": "stdout",
     "output_type": "stream",
     "text": [
      "he 3.5649714\n",
      "she -7.6814733\n",
      "doctor -1.333911\n",
      "nurse -0.5239806\n",
      "man 3.1305177\n",
      "woman -5.0117645\n",
      "male -1.7998456\n",
      "female -2.275268\n",
      "politician 1.8248957\n",
      "guy 0.7922988\n",
      "scientist 1.4119161\n",
      "teacher -1.0073268\n",
      "professor 2.1761525\n",
      "mother -2.4471753\n",
      "pretty -1.1641369\n",
      "handsome -0.21486638\n",
      "strong -0.124037966\n",
      "coward 0.11255191\n",
      "dress -1.3112665\n",
      "timid -0.21009919\n",
      "leadership 2.4456248\n",
      "blond -0.6415013\n",
      "lovely -0.20070261\n",
      "petite -0.10919192\n",
      "surgeon 0.21892357\n",
      "physician 0.15660925\n",
      "shopkeeper 0.048395697\n",
      "cooking -0.4303634\n",
      "sewing -0.1652865\n",
      "chuckle 0.13762662\n",
      "sassy -0.107665226\n",
      "lanky 0.07525485\n",
      "competent -0.180032\n",
      "brilliant 0.33673185\n",
      "capable 0.2729264\n",
      "smart -0.34357873\n",
      "intelligent -0.7443394\n",
      "incompetent 0.20247883\n",
      "librarian -0.07387295\n",
      "cosmetics 0.012417146\n",
      "maid -0.41983935\n",
      "clever 0.01827344\n",
      "dressed -0.530751\n",
      "captain 0.5767532\n",
      "nanny -0.033859324\n",
      "philosopher 0.26500937\n",
      "architect 1.5979341\n",
      "financier 0.313736\n",
      "warrior 0.35137555\n",
      "magician 0.03315904\n",
      "housekeeper -0.10215095\n",
      "homemaker -0.16961318\n"
     ]
    }
   ],
   "source": [
    "for x in wordlist:\n",
    "    print(x, gproj(g, model, x))"
   ]
  },
  {
   "cell_type": "code",
   "execution_count": 133,
   "metadata": {},
   "outputs": [
    {
     "name": "stdout",
     "output_type": "stream",
     "text": [
      "he 2.771003\n",
      "she -8.699276\n",
      "doctor -0.56526935\n",
      "nurse -1.8436737\n",
      "man 4.0526066\n",
      "woman -7.3986273\n",
      "male -2.5096903\n",
      "female -3.104202\n",
      "politician -0.16850522\n",
      "guy 2.243238\n",
      "scientist -0.113046385\n",
      "teacher -2.1887233\n",
      "professor 0.18350281\n",
      "mother -6.349626\n",
      "pretty -2.2116635\n",
      "handsome -0.9554814\n",
      "strong -0.8502479\n",
      "coward 0.013855044\n",
      "dress -4.3068633\n",
      "timid -0.18128367\n",
      "leadership 0.36781493\n",
      "blond -3.7995522\n",
      "lovely -2.6187305\n",
      "petite -0.7528529\n",
      "surgeon -0.18204775\n",
      "physician 0.054367438\n",
      "shopkeeper -0.24016824\n",
      "cooking -0.7464523\n",
      "sewing -0.06684109\n",
      "chuckle -0.07192879\n",
      "sassy -0.6439013\n",
      "lanky -0.06616593\n",
      "competent -0.084814645\n",
      "brilliant 0.34301803\n",
      "capable -0.34147573\n",
      "smart -0.88639826\n",
      "intelligent -0.90993845\n",
      "incompetent -0.14164056\n",
      "librarian -0.045012202\n",
      "cosmetics -0.1733421\n",
      "maid -2.2596412\n",
      "clever 0.25580758\n",
      "dressed -1.7594016\n",
      "captain 1.1048737\n",
      "nanny -0.58874255\n",
      "philosopher -0.07882123\n",
      "architect 0.19345054\n",
      "financier 0.27459878\n",
      "warrior -0.39253327\n",
      "magician -0.02187738\n",
      "housekeeper -0.7618404\n",
      "homemaker -0.1423586\n"
     ]
    }
   ],
   "source": [
    "for x in wordlist:\n",
    "    print(x, gproj(g_mps, m_mps, x))"
   ]
  },
  {
   "cell_type": "code",
   "execution_count": 134,
   "metadata": {},
   "outputs": [
    {
     "name": "stdout",
     "output_type": "stream",
     "text": [
      "he 3.6996477\n",
      "she -9.274354\n",
      "doctor -0.7665047\n",
      "nurse -1.6922721\n",
      "man 3.2278986\n",
      "woman -7.376057\n",
      "male -3.3451371\n",
      "female -4.0072956\n",
      "politician 1.2179149\n",
      "guy 1.1493855\n",
      "scientist 1.528822\n",
      "teacher -1.4437807\n",
      "professor 1.4051809\n",
      "mother -5.462462\n",
      "pretty -2.157434\n",
      "handsome -0.65407634\n",
      "strong -0.2343367\n",
      "coward 0.45657516\n",
      "dress -3.3258433\n",
      "timid -0.014244264\n",
      "leadership 2.8841667\n",
      "blond -2.1282415\n",
      "lovely -2.4184675\n",
      "petite -0.4474669\n",
      "surgeon 0.35871372\n",
      "physician 0.21884999\n",
      "shopkeeper -0.09054132\n",
      "cooking -2.2126558\n",
      "sewing -0.18703403\n",
      "chuckle -0.105727926\n",
      "sassy -0.53844106\n",
      "lanky 0.09455176\n",
      "competent 0.043828595\n",
      "brilliant 0.8316055\n",
      "capable 0.21425995\n",
      "smart -1.554529\n",
      "intelligent -0.3188492\n",
      "incompetent 0.086284064\n",
      "librarian -0.42042577\n",
      "cosmetics -0.17692275\n",
      "maid -1.2714504\n",
      "clever -0.5266647\n",
      "dressed -1.7314423\n",
      "captain 1.4062334\n",
      "nanny -1.3808886\n",
      "philosopher 1.6916357\n",
      "architect 1.1166052\n",
      "financier 0.44432104\n",
      "warrior 0.50778127\n",
      "magician 0.24222495\n",
      "housekeeper -0.5344718\n",
      "homemaker -0.27057874\n"
     ]
    }
   ],
   "source": [
    "for x in wordlist:\n",
    "    print(x, gproj(g_books, m_books, x))"
   ]
  },
  {
   "cell_type": "code",
   "execution_count": 224,
   "metadata": {},
   "outputs": [],
   "source": [
    "m_comp, sg_comp = getw2v(computers)"
   ]
  },
  {
   "cell_type": "code",
   "execution_count": 225,
   "metadata": {},
   "outputs": [
    {
     "name": "stdout",
     "output_type": "stream",
     "text": [
      "(74, 100)\n"
     ]
    },
    {
     "data": {
      "image/png": "[encoded data removed]",
      "text/plain": [
       "<Figure size 432x288 with 1 Axes>"
      ]
     },
     "metadata": {
      "needs_background": "light"
     },
     "output_type": "display_data"
    }
   ],
   "source": [
    "g_comp = getg(m_comp)"
   ]
  },
  {
   "cell_type": "code",
   "execution_count": 227,
   "metadata": {},
   "outputs": [
    {
     "name": "stdout",
     "output_type": "stream",
     "text": [
      "he 4.1156554\n",
      "she -9.497332\n",
      "doctor -0.5660993\n",
      "nurse -0.31186727\n",
      "man 0.07067332\n",
      "woman -2.517825\n",
      "male -0.7569068\n",
      "female -1.1827465\n",
      "politician 0.09823007\n",
      "guy 0.20402555\n",
      "scientist 1.689536\n",
      "teacher -0.44487903\n",
      "professor 2.2498739\n",
      "mother -1.9652002\n",
      "pretty -0.10082699\n",
      "handsome -0.10136598\n",
      "strong 0.26259145\n",
      "dress -0.8267326\n",
      "timid 0.011710629\n",
      "leadership 0.80019534\n",
      "blond -0.37642366\n",
      "lovely -0.1122925\n",
      "petite 0.003749184\n",
      "surgeon 0.20778573\n",
      "physician 0.07985366\n",
      "cooking -0.71526134\n",
      "sewing -0.20431827\n",
      "chuckle -0.07227164\n",
      "lanky -0.026295677\n",
      "competent -0.030422963\n",
      "brilliant 0.57587606\n",
      "capable -0.06260362\n",
      "smart -0.56648976\n",
      "intelligent 0.070581555\n",
      "incompetent -0.0016804592\n",
      "librarian -0.04549685\n",
      "cosmetics -0.2874487\n",
      "clever -0.30636162\n",
      "dressed -0.8209281\n",
      "captain 0.035569746\n",
      "nanny -0.060233973\n",
      "philosopher 0.11198886\n",
      "architect 1.2152075\n",
      "financier 0.08575766\n",
      "warrior -0.04722012\n",
      "magician -0.013950176\n",
      "housekeeper 0.012270727\n",
      "homemaker -0.03182672\n"
     ]
    }
   ],
   "source": [
    "for x in filter(lambda x: x in m_comp.wv.vocab, wordlist):\n",
    "    print(x, gproj(g_comp, m_comp, x))"
   ]
  },
  {
   "cell_type": "code",
   "execution_count": 246,
   "metadata": {},
   "outputs": [
    {
     "name": "stdout",
     "output_type": "stream",
     "text": [
      "(76, 300)\n"
     ]
    },
    {
     "data": {
      "image/png": "[encoded data removed]",
      "text/plain": [
       "<Figure size 432x288 with 1 Axes>"
      ]
     },
     "metadata": {
      "needs_background": "light"
     },
     "output_type": "display_data"
    }
   ],
   "source": [
    "gpol3 = getg(mpol3)"
   ]
  },
  {
   "cell_type": "code",
   "execution_count": 247,
   "metadata": {},
   "outputs": [
    {
     "name": "stdout",
     "output_type": "stream",
     "text": [
      "(80, 300)\n"
     ]
    },
    {
     "data": {
      "image/png": "[encoded data removed]",
      "text/plain": [
       "<Figure size 432x288 with 1 Axes>"
      ]
     },
     "metadata": {
      "needs_background": "light"
     },
     "output_type": "display_data"
    }
   ],
   "source": [
    "gsports3 = getg(msports3)"
   ]
  },
  {
   "cell_type": "code",
   "execution_count": 248,
   "metadata": {},
   "outputs": [
    {
     "name": "stdout",
     "output_type": "stream",
     "text": [
      "(74, 300)\n"
     ]
    },
    {
     "data": {
      "image/png": "[encoded data removed]",
      "text/plain": [
       "<Figure size 432x288 with 1 Axes>"
      ]
     },
     "metadata": {
      "needs_background": "light"
     },
     "output_type": "display_data"
    }
   ],
   "source": [
    "gcomp3 = getg(mcomp3)"
   ]
  },
  {
   "cell_type": "code",
   "execution_count": 249,
   "metadata": {},
   "outputs": [
    {
     "name": "stdout",
     "output_type": "stream",
     "text": [
      "(90, 300)\n"
     ]
    },
    {
     "data": {
      "image/png": "[encoded data removed]",
      "text/plain": [
       "<Figure size 432x288 with 1 Axes>"
      ]
     },
     "metadata": {
      "needs_background": "light"
     },
     "output_type": "display_data"
    }
   ],
   "source": [
    "gbooks3 = getg(mbooks3)"
   ]
  },
  {
   "cell_type": "code",
   "execution_count": 250,
   "metadata": {},
   "outputs": [
    {
     "name": "stdout",
     "output_type": "stream",
     "text": [
      "(90, 300)\n"
     ]
    },
    {
     "data": {
      "image/png": "[encoded data removed]",
      "text/plain": [
       "<Figure size 432x288 with 1 Axes>"
      ]
     },
     "metadata": {
      "needs_background": "light"
     },
     "output_type": "display_data"
    }
   ],
   "source": [
    "gmps3 = getg(mmps3)"
   ]
  },
  {
   "cell_type": "code",
   "execution_count": null,
   "metadata": {},
   "outputs": [],
   "source": []
  },
  {
   "cell_type": "code",
   "execution_count": 283,
   "metadata": {},
   "outputs": [],
   "source": [
    "m_pol_s = getw2v_s(summaries_pol)"
   ]
  },
  {
   "cell_type": "code",
   "execution_count": null,
   "metadata": {},
   "outputs": [],
   "source": [
    "m_comp_s = getw2v_s(summaries_comp)"
   ]
  },
  {
   "cell_type": "code",
   "execution_count": null,
   "metadata": {},
   "outputs": [],
   "source": [
    "m_books_s, sg_books_s = getw2v(summaries_books)"
   ]
  },
  {
   "cell_type": "code",
   "execution_count": null,
   "metadata": {},
   "outputs": [],
   "source": [
    "m_sports_s, sg_sports_s = getw2v(summaries_sports)"
   ]
  },
  {
   "cell_type": "code",
   "execution_count": null,
   "metadata": {},
   "outputs": [],
   "source": [
    "m_mps_s, sg_mps_s = getw2v(summaries_mps)"
   ]
  },
  {
   "cell_type": "code",
   "execution_count": null,
   "metadata": {},
   "outputs": [],
   "source": [
    "gcomp_s = getg(m_comp_s)"
   ]
  },
  {
   "cell_type": "code",
   "execution_count": null,
   "metadata": {},
   "outputs": [],
   "source": [
    "gbooks_s = getg(m_books_s)"
   ]
  },
  {
   "cell_type": "code",
   "execution_count": null,
   "metadata": {},
   "outputs": [],
   "source": [
    "gsports_s = getg(m_sports_s)"
   ]
  },
  {
   "cell_type": "code",
   "execution_count": null,
   "metadata": {},
   "outputs": [],
   "source": [
    "gmps_s = getg(m_mps_s)"
   ]
  },
  {
   "cell_type": "code",
   "execution_count": 284,
   "metadata": {},
   "outputs": [
    {
     "name": "stdout",
     "output_type": "stream",
     "text": [
      "(66, 100)\n"
     ]
    },
    {
     "data": {
      "image/png": "[encoded data removed]",
      "text/plain": [
       "<Figure size 432x288 with 1 Axes>"
      ]
     },
     "metadata": {
      "needs_background": "light"
     },
     "output_type": "display_data"
    }
   ],
   "source": [
    "gpol_s = getg(m_pol_s)"
   ]
  },
  {
   "cell_type": "markdown",
   "metadata": {},
   "source": [
    "## Bias measured on list of professions"
   ]
  },
  {
   "cell_type": "code",
   "execution_count": 140,
   "metadata": {},
   "outputs": [],
   "source": [
    "with open('debiaswe-master/data/professions.json') as f:\n",
    "    profs = json.loads(f.read())"
   ]
  },
  {
   "cell_type": "code",
   "execution_count": 142,
   "metadata": {},
   "outputs": [],
   "source": [
    "proflist = list(filter(lambda x: x in model.wv.vocab, [p[0] for p in profs if abs(p[1]) < 0.6]))"
   ]
  },
  {
   "cell_type": "code",
   "execution_count": 143,
   "metadata": {},
   "outputs": [
    {
     "data": {
      "text/plain": [
       "221"
      ]
     },
     "execution_count": 143,
     "metadata": {},
     "output_type": "execute_result"
    }
   ],
   "source": [
    "len(proflist)"
   ]
  },
  {
   "cell_type": "code",
   "execution_count": 164,
   "metadata": {},
   "outputs": [
    {
     "name": "stdout",
     "output_type": "stream",
     "text": [
      "accountant -0.83289635\n",
      "acquaintance -0.50980324\n",
      "administrator -0.91552037\n",
      "advocate -0.8800565\n",
      "aide -0.76167756\n",
      "ambassador -0.6983289\n",
      "analyst -1.5815004\n",
      "archbishop -0.73365533\n",
      "architect -0.82800335\n",
      "artist -0.98049676\n",
      "assassin -0.2566313\n",
      "astronaut -0.33753246\n",
      "athlete -1.7739706\n",
      "attorney -3.814591\n",
      "author -3.061033\n",
      "baker 1.9187592\n",
      "banker -0.6870409\n",
      "barber 3.3252947\n"
     ]
    }
   ],
   "source": [
    "count = 0\n",
    "for p in proflist:\n",
    "    count += 1\n",
    "    if count > 20:\n",
    "        continue\n",
    "    if p in m_sports.wv.vocab:\n",
    "        print(p, gproj(g_sports, m_sports, p))"
   ]
  },
  {
   "cell_type": "code",
   "execution_count": 211,
   "metadata": {},
   "outputs": [],
   "source": [
    "def bias(g, m, wordlist):\n",
    "    b = 0\n",
    "    l = list(filter(lambda x: x in m.wv.vocab, wordlist))\n",
    "    for x in l:\n",
    "        b += gproj(g, m, x)**2\n",
    "    return b/len(l)"
   ]
  },
  {
   "cell_type": "code",
   "execution_count": 230,
   "metadata": {},
   "outputs": [],
   "source": [
    "def testbias(wordlist):\n",
    "    print(f\"sports: {bias(g_sports, m_sports, wordlist)}\")\n",
    "    print(f\"politics: {bias(g, model, wordlist)}\")\n",
    "    print(f\"motion pictures: {bias(g_mps, m_mps, wordlist)}\")\n",
    "    print(f\"books: {bias(g_books, m_books, wordlist)}\")\n",
    "    print(f\"computers: {bias(g_comp, m_comp, wordlist)}\")"
   ]
  },
  {
   "cell_type": "code",
   "execution_count": 253,
   "metadata": {},
   "outputs": [],
   "source": [
    "def testbias_s(wordlist):\n",
    "    print(f\"sports: {bias(gsports_s, msports_s, wordlist)}\")\n",
    "    print(f\"politics: {bias(gpol_s, mpol_s, wordlist)}\")\n",
    "    print(f\"motion pictures: {bias(gmps_s, mmps_s, wordlist)}\")\n",
    "    print(f\"books: {bias(gbooks_s, mbooks_s, wordlist)}\")\n",
    "    print(f\"computers: {bias(gcomp_s, mcomp_s, wordlist)}\")"
   ]
  },
  {
   "cell_type": "code",
   "execution_count": 287,
   "metadata": {},
   "outputs": [
    {
     "data": {
      "text/plain": [
       "0.3517503718193723"
      ]
     },
     "execution_count": 287,
     "metadata": {},
     "output_type": "execute_result"
    }
   ],
   "source": [
    "bias(gpol_s, m_pol_s, proflist)"
   ]
  },
  {
   "cell_type": "code",
   "execution_count": 289,
   "metadata": {},
   "outputs": [
    {
     "data": {
      "text/plain": [
       "0.06198732174690184"
      ]
     },
     "execution_count": 289,
     "metadata": {},
     "output_type": "execute_result"
    }
   ],
   "source": [
    "bias(gpol_s, m_pol_s, adjectives)"
   ]
  },
  {
   "cell_type": "code",
   "execution_count": 292,
   "metadata": {},
   "outputs": [
    {
     "data": {
      "text/plain": [
       "1.9493272681336744"
      ]
     },
     "execution_count": 292,
     "metadata": {},
     "output_type": "execute_result"
    }
   ],
   "source": [
    "bias(gpol_s, m_pol_s, gender_specific)"
   ]
  },
  {
   "cell_type": "code",
   "execution_count": 231,
   "metadata": {},
   "outputs": [
    {
     "name": "stdout",
     "output_type": "stream",
     "text": [
      "sports: 2.0857769698658295\n",
      "politics: 0.8232615661450845\n",
      "motion pictures: 0.5776207802681335\n",
      "books: 0.6842213509103686\n",
      "computers: 0.4213832395256096\n"
     ]
    }
   ],
   "source": [
    "testbias(proflist)"
   ]
  },
  {
   "cell_type": "code",
   "execution_count": 232,
   "metadata": {},
   "outputs": [
    {
     "name": "stdout",
     "output_type": "stream",
     "text": [
      "sports: 5.779429515260733\n",
      "politics: 2.9005783247111094\n",
      "motion pictures: 4.494571923607481\n",
      "books: 4.897121935916791\n",
      "computers: 2.7032083623704977\n"
     ]
    }
   ],
   "source": [
    "testbias(gender_specific)"
   ]
  },
  {
   "cell_type": "code",
   "execution_count": 233,
   "metadata": {},
   "outputs": [
    {
     "name": "stdout",
     "output_type": "stream",
     "text": [
      "sports: 0.8146448604118944\n",
      "politics: 0.1831534225112732\n",
      "motion pictures: 0.3157271398898077\n",
      "books: 0.25922013505394975\n",
      "computers: 0.08504724018894734\n"
     ]
    }
   ],
   "source": [
    "testbias(adjectives)"
   ]
  },
  {
   "cell_type": "code",
   "execution_count": 235,
   "metadata": {},
   "outputs": [
    {
     "name": "stdout",
     "output_type": "stream",
     "text": [
      "sports: 4.916862356584887\n",
      "politics: 2.3594446882919202\n",
      "motion pictures: 3.133462319764807\n",
      "books: 3.310727659986112\n",
      "computers: 2.2559530652093205\n"
     ]
    }
   ],
   "source": [
    "testbias(gender_specific_full)"
   ]
  },
  {
   "cell_type": "code",
   "execution_count": 165,
   "metadata": {},
   "outputs": [],
   "source": [
    "with open('debiaswe-master/data/gender_specific_seed.json') as f:\n",
    "    gender_specific = json.loads(f.read())"
   ]
  },
  {
   "cell_type": "code",
   "execution_count": 166,
   "metadata": {},
   "outputs": [
    {
     "data": {
      "text/plain": [
       "218"
      ]
     },
     "execution_count": 166,
     "metadata": {},
     "output_type": "execute_result"
    }
   ],
   "source": [
    "len(gender_specific)"
   ]
  },
  {
   "cell_type": "code",
   "execution_count": 168,
   "metadata": {},
   "outputs": [
    {
     "data": {
      "text/plain": [
       "['actress',\n",
       " 'actresses',\n",
       " 'aunt',\n",
       " 'aunts',\n",
       " 'bachelor',\n",
       " 'ballerina',\n",
       " 'barbershop',\n",
       " 'baritone',\n",
       " 'beard',\n",
       " 'beards']"
      ]
     },
     "execution_count": 168,
     "metadata": {},
     "output_type": "execute_result"
    }
   ],
   "source": [
    "gender_specific[:10]"
   ]
  },
  {
   "cell_type": "code",
   "execution_count": 234,
   "metadata": {},
   "outputs": [],
   "source": [
    "with open('debiaswe-master/data/gender_specific_full.json') as f:\n",
    "    gender_specific_full = json.loads(f.read())"
   ]
  },
  {
   "cell_type": "code",
   "execution_count": null,
   "metadata": {},
   "outputs": [],
   "source": [
    "len(gender_specific_full)"
   ]
  },
  {
   "cell_type": "code",
   "execution_count": null,
   "metadata": {},
   "outputs": [],
   "source": [
    "gender_specific[:10]"
   ]
  },
  {
   "cell_type": "code",
   "execution_count": null,
   "metadata": {},
   "outputs": [],
   "source": [
    "gender_specific_full[:10]"
   ]
  },
  {
   "cell_type": "code",
   "execution_count": 141,
   "metadata": {},
   "outputs": [
    {
     "data": {
      "text/plain": [
       "[['accountant', 0.0, 0.4],\n",
       " ['acquaintance', 0.0, 0.0],\n",
       " ['actor', 0.8, 0.0],\n",
       " ['actress', -1.0, 0.0],\n",
       " ['adjunct_professor', 0.0, 0.5]]"
      ]
     },
     "execution_count": 141,
     "metadata": {},
     "output_type": "execute_result"
    }
   ],
   "source": [
    "profs[:5]"
   ]
  },
  {
   "cell_type": "code",
   "execution_count": null,
   "metadata": {},
   "outputs": [],
   "source": [
    "# female - male vector"
   ]
  },
  {
   "cell_type": "code",
   "execution_count": null,
   "metadata": {},
   "outputs": [],
   "source": [
    "gendervec = model.wv.get_vector('he') - model.wv.get_vector('she')"
   ]
  },
  {
   "cell_type": "code",
   "execution_count": null,
   "metadata": {},
   "outputs": [],
   "source": [
    "mtest = model.wv.get_vector('woman') + model.wv.get_vector('he') - model.wv.get_vector('she')"
   ]
  },
  {
   "cell_type": "code",
   "execution_count": null,
   "metadata": {},
   "outputs": [],
   "source": [
    "model.most_similar(positive=[mtest], topn=1)"
   ]
  },
  {
   "cell_type": "code",
   "execution_count": null,
   "metadata": {},
   "outputs": [],
   "source": [
    "def get_proj(w1):\n",
    "    gendervec = model.wv.get_vector('he') - model.wv.get_vector('she')\n",
    "    wvec = model.wv.get_vector(w1)\n",
    "    p = np.dot(gendervec, wvec)/np.linalg.norm(gendervec)\n",
    "    return p"
   ]
  },
  {
   "cell_type": "code",
   "execution_count": null,
   "metadata": {},
   "outputs": [],
   "source": [
    "get_proj('him'), get_proj('it'), get_proj('she'), get_proj('he')"
   ]
  },
  {
   "cell_type": "code",
   "execution_count": null,
   "metadata": {},
   "outputs": [],
   "source": [
    "get_proj('her'), get_proj('female'), get_proj('male')"
   ]
  },
  {
   "cell_type": "code",
   "execution_count": null,
   "metadata": {},
   "outputs": [],
   "source": [
    "get_proj('cat'), get_proj('hat'), get_proj('doctor'), get_proj('nurse')"
   ]
  },
  {
   "cell_type": "code",
   "execution_count": null,
   "metadata": {},
   "outputs": [],
   "source": [
    "get_proj('woman'), get_proj('man'), get_proj('actor') "
   ]
  }
 ],
 "metadata": {
  "kernelspec": {
   "display_name": "Python 3",
   "language": "python",
   "name": "python3"
  },
  "language_info": {
   "codemirror_mode": {
    "name": "ipython",
    "version": 3
   },
   "file_extension": ".py",
   "mimetype": "text/x-python",
   "name": "python",
   "nbconvert_exporter": "python",
   "pygments_lexer": "ipython3",
   "version": "3.7.0"
  }
 },
 "nbformat": 4,
 "nbformat_minor": 2
}
