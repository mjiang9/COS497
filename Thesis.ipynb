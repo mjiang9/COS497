{
 "cells": [
  {
   "cell_type": "code",
   "execution_count": 149,
   "metadata": {},
   "outputs": [],
   "source": [
    "import xml.etree.ElementTree as ET\n",
    "import os\n",
    "from typing import List\n",
    "from functools import reduce\n",
    "from calendar import monthrange\n",
    "import random\n",
    "import matplotlib.pyplot as plt\n",
    "import numpy as np\n",
    "import json"
   ]
  },
  {
   "cell_type": "code",
   "execution_count": 150,
   "metadata": {},
   "outputs": [],
   "source": [
    "import time"
   ]
  },
  {
   "cell_type": "markdown",
   "metadata": {},
   "source": [
    "# Data Parsing and Processing"
   ]
  },
  {
   "cell_type": "code",
   "execution_count": 2,
   "metadata": {},
   "outputs": [],
   "source": [
    "class Doc:\n",
    "    def __init__(self, id: int, gdescriptors: List[str], descriptors: List[str], text: str) -> None:\n",
    "        self.id = id\n",
    "        self.gdescriptors = gdescriptors\n",
    "        self.descriptors = descriptors\n",
    "        self.text = text"
   ]
  },
  {
   "cell_type": "code",
   "execution_count": 3,
   "metadata": {},
   "outputs": [],
   "source": [
    "def parse_doc(file: str) -> Doc:\n",
    "    tree = ET.parse(file)\n",
    "    root = tree.getroot()\n",
    "    try:\n",
    "        fulltext = root.find('body').find('body.content').find(\"*[@class='full_text']\")\n",
    "        text = reduce(lambda x, y: x + y, [x.text for x in fulltext.findall('p')])\n",
    "        id = int(root.find('head').find('docdata').find('doc-id').attrib['id-string'])\n",
    "        classifiers = root.find('head').find('docdata').find('identified-content')\n",
    "        gclassifiers = classifiers.findall(\"*[@class='online_producer'][@type='general_descriptor']\")\n",
    "        dclassifiers = classifiers.findall(\"*[@class='online_producer'][@type='descriptor']\")\n",
    "        gdescriptors = [c.text for c in gclassifiers]\n",
    "        descriptors = [c.text for c in dclassifiers]\n",
    "        return Doc(id, gdescriptors, descriptors, text)\n",
    "    except:\n",
    "        return None"
   ]
  },
  {
   "cell_type": "code",
   "execution_count": 300,
   "metadata": {},
   "outputs": [],
   "source": [
    "def get_docs_by_month(year: int, month: int) -> List[Doc]:\n",
    "    days = monthrange(year, month)[1]\n",
    "    docs = []\n",
    "    for day in range(1, days+1):\n",
    "        for file in os.listdir(f'data/{year}/{month:02}/{day:02}/'):\n",
    "            doc = parse_doc(f'data/{year}/{month:02}/{day:02}/{file}')\n",
    "            if doc:\n",
    "                docs.append(doc)\n",
    "    return docs"
   ]
  },
  {
   "cell_type": "code",
   "execution_count": 316,
   "metadata": {},
   "outputs": [
    {
     "name": "stdout",
     "output_type": "stream",
     "text": [
      "1988\n",
      "1989\n",
      "1990\n",
      "1991\n",
      "1992\n",
      "1993\n",
      "1994\n",
      "1995\n",
      "1996\n",
      "1997\n",
      "1998\n",
      "1999\n",
      "2000\n",
      "2001\n",
      "2002\n",
      "2003\n",
      "2004\n",
      "2005\n",
      "2006\n"
     ]
    },
    {
     "data": {
      "text/plain": [
       "982.1077540000001"
      ]
     },
     "execution_count": 316,
     "metadata": {},
     "output_type": "execute_result"
    }
   ],
   "source": [
    "t = time.process_time()\n",
    "all_ = []\n",
    "for y in range(1988, 2007):\n",
    "    print(y)\n",
    "    for i in range(1,13):\n",
    "        all_ += get_docs_by_month(y, i)\n",
    "time.process_time() - t"
   ]
  },
  {
   "cell_type": "code",
   "execution_count": 332,
   "metadata": {},
   "outputs": [
    {
     "data": {
      "text/plain": [
       "1685787"
      ]
     },
     "execution_count": 332,
     "metadata": {},
     "output_type": "execute_result"
    }
   ],
   "source": [
    "len(all_)"
   ]
  },
  {
   "cell_type": "markdown",
   "metadata": {},
   "source": [
    "# Saving files locally and loading"
   ]
  },
  {
   "cell_type": "code",
   "execution_count": 328,
   "metadata": {},
   "outputs": [],
   "source": [
    "with open('alldocs.json', 'w') as outfile:\n",
    "    json.dump([x.__dict__ for x in all_], outfile)"
   ]
  },
  {
   "cell_type": "code",
   "execution_count": 409,
   "metadata": {},
   "outputs": [],
   "source": [
    "def save(i, arr):\n",
    "    t = time.process_time()\n",
    "    with open('alldocs' + str(i) + '.json', 'w') as outfile:\n",
    "        json.dump([x.__dict__ for x in arr], outfile)\n",
    "    print(time.process_time() - t)"
   ]
  },
  {
   "cell_type": "code",
   "execution_count": 410,
   "metadata": {},
   "outputs": [],
   "source": [
    "def load(i):\n",
    "    t = time.process_time()\n",
    "    with open('alldocs' + str(i) + '.json', 'r') as infile:\n",
    "        l = json.load(infile)\n",
    "    print(time.process_time() - t)\n",
    "    return l"
   ]
  },
  {
   "cell_type": "code",
   "execution_count": 414,
   "metadata": {},
   "outputs": [
    {
     "name": "stdout",
     "output_type": "stream",
     "text": [
      "34.48909100000037\n"
     ]
    }
   ],
   "source": [
    "save(0, all_[:600000])"
   ]
  },
  {
   "cell_type": "code",
   "execution_count": 415,
   "metadata": {},
   "outputs": [
    {
     "name": "stdout",
     "output_type": "stream",
     "text": [
      "21.109441999999945\n"
     ]
    }
   ],
   "source": [
    "l0 = load(0)"
   ]
  },
  {
   "cell_type": "code",
   "execution_count": 416,
   "metadata": {},
   "outputs": [
    {
     "name": "stdout",
     "output_type": "stream",
     "text": [
      "42.26287699999966\n"
     ]
    }
   ],
   "source": [
    "save(1, all_[600000:1200000])"
   ]
  },
  {
   "cell_type": "code",
   "execution_count": 417,
   "metadata": {},
   "outputs": [
    {
     "name": "stdout",
     "output_type": "stream",
     "text": [
      "187.317133\n"
     ]
    }
   ],
   "source": [
    "l1 = load(1)"
   ]
  },
  {
   "cell_type": "code",
   "execution_count": 418,
   "metadata": {},
   "outputs": [
    {
     "name": "stdout",
     "output_type": "stream",
     "text": [
      "39.66254700000036\n"
     ]
    }
   ],
   "source": [
    "save(2, all_[1200000:])"
   ]
  },
  {
   "cell_type": "code",
   "execution_count": 419,
   "metadata": {},
   "outputs": [
    {
     "name": "stdout",
     "output_type": "stream",
     "text": [
      "18.493331000000126\n"
     ]
    }
   ],
   "source": [
    "l2 = load(2)"
   ]
  },
  {
   "cell_type": "code",
   "execution_count": 421,
   "metadata": {},
   "outputs": [
    {
     "data": {
      "text/plain": [
       "1685787"
      ]
     },
     "execution_count": 421,
     "metadata": {},
     "output_type": "execute_result"
    }
   ],
   "source": [
    "l = l0 + l1 + l2\n",
    "len(l)"
   ]
  },
  {
   "cell_type": "code",
   "execution_count": 305,
   "metadata": {},
   "outputs": [
    {
     "data": {
      "text/plain": [
       "35.79219599999999"
      ]
     },
     "execution_count": 305,
     "metadata": {},
     "output_type": "execute_result"
    }
   ],
   "source": [
    "t = time.process_time()\n",
    "all06 = []\n",
    "for i in range(1,13):\n",
    "    all06 += get_docs_by_month(2006, i)\n",
    "time.process_time() - t"
   ]
  },
  {
   "cell_type": "code",
   "execution_count": 304,
   "metadata": {},
   "outputs": [
    {
     "data": {
      "text/plain": [
       "85534"
      ]
     },
     "execution_count": 304,
     "metadata": {},
     "output_type": "execute_result"
    }
   ],
   "source": [
    "len(all06)"
   ]
  },
  {
   "cell_type": "markdown",
   "metadata": {},
   "source": [
    "# Process by descriptor"
   ]
  },
  {
   "cell_type": "code",
   "execution_count": 306,
   "metadata": {},
   "outputs": [
    {
     "data": {
      "text/plain": [
       "0.8838240000000042"
      ]
     },
     "execution_count": 306,
     "metadata": {},
     "output_type": "execute_result"
    }
   ],
   "source": [
    "t = time.process_time()\n",
    "alld06 = {}\n",
    "for doc in all06:\n",
    "    for d in doc.descriptors:\n",
    "        count, docs = alld06.get(d, (0, set()))\n",
    "        docs.add(doc)\n",
    "        alld06[d] = (count + 1, docs)\n",
    "time.process_time() - t"
   ]
  },
  {
   "cell_type": "code",
   "execution_count": 427,
   "metadata": {},
   "outputs": [
    {
     "data": {
      "text/plain": [
       "20.75023999999985"
      ]
     },
     "execution_count": 427,
     "metadata": {},
     "output_type": "execute_result"
    }
   ],
   "source": [
    "t = time.process_time()\n",
    "alld = {}\n",
    "for doc in l:\n",
    "    doc = Doc(doc['id'], doc['gdescriptors'], doc['descriptors'], doc['text'])\n",
    "    for d in doc.descriptors:\n",
    "        count, docs = alld.get(d, (0, set()))\n",
    "        docs.add(doc)\n",
    "        alld[d] = (count + 1, docs)\n",
    "time.process_time() - t"
   ]
  },
  {
   "cell_type": "code",
   "execution_count": 16,
   "metadata": {},
   "outputs": [
    {
     "name": "stdout",
     "output_type": "stream",
     "text": [
      "('United States Politics and Government', 985)\n",
      "('Books and Literature', 827)\n",
      "('Politics and Government', 675)\n",
      "('Computers and the Internet', 636)\n",
      "('Travel and Vacations', 581)\n",
      "('United States Armament and Defense', 557)\n",
      "('Television', 511)\n",
      "('Motion Pictures', 504)\n",
      "('Basketball', 502)\n",
      "('Baseball', 472)\n",
      "('Art', 462)\n",
      "('Medicine and Health', 444)\n",
      "('Housing', 441)\n",
      "('Theater', 432)\n",
      "('Music', 403)\n",
      "('Editorials', 394)\n",
      "('Education and Schools', 381)\n",
      "('Deaths (Obituaries)', 373)\n",
      "('Economic Conditions and Trends', 333)\n",
      "('Automobiles', 332)\n",
      "('Mergers, Acquisitions and Divestitures', 330)\n",
      "('Children and Youth', 319)\n",
      "('Murders and Attempted Murders', 316)\n",
      "('Restaurants', 310)\n",
      "('Environment', 303)\n"
     ]
    }
   ],
   "source": [
    "alldlist06 = sorted([(d, alld06[d][0], alld06[d][1]) for d in alld06], key=lambda x: x[1], reverse=True)\n",
    "for x in range(25):\n",
    "    print(alldlist06[x][0:2])"
   ]
  },
  {
   "cell_type": "code",
   "execution_count": 48,
   "metadata": {},
   "outputs": [],
   "source": [
    "computers = list(filter(lambda x: 'Politics and Government' not in x.descriptors, \\\n",
    "                        alld06['Computers and the Internet'][1]))"
   ]
  },
  {
   "cell_type": "code",
   "execution_count": 50,
   "metadata": {},
   "outputs": [],
   "source": [
    "def inrange(c, lo, hi):\n",
    "    return len(c.text.split(\" \")) >= lo and len(c.text.split(\" \")) <= hi"
   ]
  },
  {
   "cell_type": "code",
   "execution_count": 51,
   "metadata": {},
   "outputs": [],
   "source": [
    "computersr = [c for c in computers if inrange(c, 500, 1500)]"
   ]
  },
  {
   "cell_type": "code",
   "execution_count": 53,
   "metadata": {},
   "outputs": [
    {
     "data": {
      "text/plain": [
       "1061"
      ]
     },
     "execution_count": 53,
     "metadata": {},
     "output_type": "execute_result"
    }
   ],
   "source": [
    "len(computersr)"
   ]
  },
  {
   "cell_type": "code",
   "execution_count": 43,
   "metadata": {},
   "outputs": [
    {
     "data": {
      "text/plain": [
       "1503"
      ]
     },
     "execution_count": 43,
     "metadata": {},
     "output_type": "execute_result"
    }
   ],
   "source": [
    "len(computers)"
   ]
  },
  {
   "cell_type": "code",
   "execution_count": 38,
   "metadata": {},
   "outputs": [],
   "source": [
    "lens = []\n",
    "for c in computers:\n",
    "    lens.append(len(c.text.split(\" \")))"
   ]
  },
  {
   "cell_type": "code",
   "execution_count": 56,
   "metadata": {},
   "outputs": [
    {
     "data": {
      "text/plain": [
       "(948.2388556220892, 892.0, 8290, 87)"
      ]
     },
     "execution_count": 56,
     "metadata": {},
     "output_type": "execute_result"
    }
   ],
   "source": [
    "np.mean(lens), np.median(lens), np.max(lens), np.min(lens)"
   ]
  },
  {
   "cell_type": "code",
   "execution_count": 42,
   "metadata": {},
   "outputs": [
    {
     "data": {
      "text/plain": [
       "(array([766., 664.,  51.,  10.,   3.,   2.,   2.,   1.,   1.,   3.]),\n",
       " array([  87. ,  907.3, 1727.6, 2547.9, 3368.2, 4188.5, 5008.8, 5829.1,\n",
       "        6649.4, 7469.7, 8290. ]),\n",
       " <a list of 10 Patch objects>)"
      ]
     },
     "execution_count": 42,
     "metadata": {},
     "output_type": "execute_result"
    },
    {
     "data": {
      "image/png": "[encoded data removed]",
      "text/plain": [
       "<Figure size 432x288 with 1 Axes>"
      ]
     },
     "metadata": {
      "needs_background": "light"
     },
     "output_type": "display_data"
    }
   ],
   "source": [
    "plt.hist(lens)"
   ]
  },
  {
   "cell_type": "code",
   "execution_count": 47,
   "metadata": {},
   "outputs": [],
   "source": [
    "politics = list(filter(lambda x: 'Computers and the Internet' not in x.descriptors, \\\n",
    "                        alld06['Politics and Government'][1]))"
   ]
  },
  {
   "cell_type": "code",
   "execution_count": 34,
   "metadata": {},
   "outputs": [],
   "source": [
    "lens2 = []\n",
    "for c in politics:\n",
    "    lens2.append(len(c.text.split(\" \")))"
   ]
  },
  {
   "cell_type": "code",
   "execution_count": 35,
   "metadata": {},
   "outputs": [
    {
     "data": {
      "text/plain": [
       "(944.7611144042679, 824.0, 10083, 102)"
      ]
     },
     "execution_count": 35,
     "metadata": {},
     "output_type": "execute_result"
    }
   ],
   "source": [
    "np.mean(lens2), np.median(lens2), np.max(lens2), np.min(lens2)"
   ]
  },
  {
   "cell_type": "code",
   "execution_count": 36,
   "metadata": {},
   "outputs": [
    {
     "data": {
      "text/plain": [
       "(array([1.251e+03, 3.940e+02, 1.800e+01, 5.000e+00, 1.100e+01, 2.000e+00,\n",
       "        0.000e+00, 3.000e+00, 1.000e+00, 2.000e+00]),\n",
       " array([  102. ,  1100.1,  2098.2,  3096.3,  4094.4,  5092.5,  6090.6,\n",
       "         7088.7,  8086.8,  9084.9, 10083. ]),\n",
       " <a list of 10 Patch objects>)"
      ]
     },
     "execution_count": 36,
     "metadata": {},
     "output_type": "execute_result"
    },
    {
     "data": {
      "image/png": "[encoded data removed]",
      "text/plain": [
       "<Figure size 432x288 with 1 Axes>"
      ]
     },
     "metadata": {
      "needs_background": "light"
     },
     "output_type": "display_data"
    }
   ],
   "source": [
    "plt.hist(lens2)"
   ]
  },
  {
   "cell_type": "code",
   "execution_count": 44,
   "metadata": {},
   "outputs": [],
   "source": [
    "computerss = random.sample(computers, 1500)"
   ]
  },
  {
   "cell_type": "code",
   "execution_count": 54,
   "metadata": {},
   "outputs": [],
   "source": [
    "politicsr = [p for p in politics if inrange(p, 500, 1500)]"
   ]
  },
  {
   "cell_type": "code",
   "execution_count": 55,
   "metadata": {},
   "outputs": [
    {
     "data": {
      "text/plain": [
       "1276"
      ]
     },
     "execution_count": 55,
     "metadata": {},
     "output_type": "execute_result"
    }
   ],
   "source": [
    "len(politicsr)"
   ]
  },
  {
   "cell_type": "code",
   "execution_count": 45,
   "metadata": {},
   "outputs": [
    {
     "data": {
      "text/plain": [
       "1687"
      ]
     },
     "execution_count": 45,
     "metadata": {},
     "output_type": "execute_result"
    }
   ],
   "source": [
    "len(politics)"
   ]
  },
  {
   "cell_type": "code",
   "execution_count": 46,
   "metadata": {},
   "outputs": [],
   "source": [
    "politicss = random.sample(politics, 1500)"
   ]
  },
  {
   "cell_type": "code",
   "execution_count": 59,
   "metadata": {},
   "outputs": [
    {
     "data": {
      "text/plain": [
       "\"I LEFT home -- and my front-row seat for observing Representative Harold Ford's apparently quixotic effort to take the Senate seat being vacated by Bill Frist -- two weeks ago to spend six days crossing the Atlantic by boat and a week using Jefferson's notes to retrace his tour of villages, gardens and great houses of southern England. What a difference a couple of weeks can make.I returned the other day to polls showing Mr. Ford in a statistical tie with his Republican opponent, Bob Corker. While anywhere else this might not seem like a big deal at this point, Tennessee isn't anywhere else.When I left, most folks I know, both old-time Southern Democrats and my new Republican neighbors in their McMansions, wouldn't have given the young black liberal from a family that seems always ready to stretch the bounds of propriety much of a chance in a statewide race. Particularly not against Mr. Corker, a very agreeable and successful former mayor of Chattanooga who easily K.O.'ed his more conservative Republican opponents in the primary.In talking with my neighbors, however, I get the picture that several things are keeping the Ford campaign alive and thriving. Interestingly, most of them are to Mr. Ford's credit, and not the result of missteps by Mr. Corker. Truth is, Mr. Corker is working hard to bring political moderation to his campaign, and is doing a good job.That said, Harold Ford may just be doing what folks down here thought he could never do. He is emerging as an electable Senate candidate in a state that has been moving deeper and deeper into the Republican ranks. In this, he seems to be emerging as part of that new class of sensible Southern Democrats, along with our Democratic governor, Phil Bredesen, who is coasting to re-election.The governor has built his base as a fiscal conservative who believes in smaller government. That plays well with both old-line Southern Democrats and new-money Republicans in the Volunteer State. Similarly, Mr. Ford votes a bit like a card-carrying conservative on a few issues. He supported President Bush's No Child Left Behind reforms and optional school prayer. He has also voted to limit the amounts that trial lawyers can walk away with in class-action lawsuits. He is against same-sex marriage and late-term abortions.On other issues, he has found a way to balance liberal and conservative ideas. On national security, he favors federalizing rules on drivers' licenses as a check on terrorists, although he opposed unwarranted wiretaps. And while in the past he supported most gun-control bills brought before him, Mr. Ford, like most of his fellow Tennesseans, is now a calling himself a ''fan of the Second Amendment.'' All this smacks of balance and reason to a lot of folks. As Rick Warwick, my neighbor down the road and our county historian, told me recently, ''You know, Harold Ford is looking more and more like one of us.''After the primaries, everyone assumed that at this point, Mr. Corker would be way ahead in the polls, with the race maybe tightening toward the end. Yet, if Harold Ford can continue to present himself as a ''Bredesen Democrat'' who believes that less government is often the best government, maybe, just maybe, we will have a real horse race of an election come November.Tennesseans have a long tradition -- going back to Andrew Jackson -- of loving a good horse race.Battlegrounds Robert Hicks is the author of ''The Widow of the South.''\""
      ]
     },
     "execution_count": 59,
     "metadata": {},
     "output_type": "execute_result"
    }
   ],
   "source": [
    "politics[0].text"
   ]
  },
  {
   "cell_type": "code",
   "execution_count": null,
   "metadata": {},
   "outputs": [],
   "source": [
    "with open(\"politics.txt\", \"w\") as file:\n",
    "    json.dump()"
   ]
  },
  {
   "cell_type": "markdown",
   "metadata": {},
   "source": [
    "# Saving to json file"
   ]
  },
  {
   "cell_type": "code",
   "execution_count": null,
   "metadata": {},
   "outputs": [],
   "source": [
    "test = json.loads(x)"
   ]
  },
  {
   "cell_type": "markdown",
   "metadata": {},
   "source": [
    "# Training Word Embeddings"
   ]
  },
  {
   "cell_type": "code",
   "execution_count": 96,
   "metadata": {},
   "outputs": [],
   "source": [
    "from gensim.models import Word2Vec\n",
    "from gensim.utils import simple_preprocess"
   ]
  },
  {
   "cell_type": "code",
   "execution_count": 100,
   "metadata": {},
   "outputs": [
    {
     "data": {
      "text/plain": [
       "['the',\n",
       " 'house',\n",
       " 'voted',\n",
       " 'on',\n",
       " 'thursday',\n",
       " 'to',\n",
       " 'approve',\n",
       " 'oil',\n",
       " 'and',\n",
       " 'gas']"
      ]
     },
     "execution_count": 100,
     "metadata": {},
     "output_type": "execute_result"
    }
   ],
   "source": [
    "simple_preprocess(politics[10].text)[:10] # lowercasing, de-punctuation"
   ]
  },
  {
   "cell_type": "code",
   "execution_count": 101,
   "metadata": {},
   "outputs": [
    {
     "data": {
      "text/plain": [
       "2.3159149999999897"
      ]
     },
     "execution_count": 101,
     "metadata": {},
     "output_type": "execute_result"
    }
   ],
   "source": [
    "t = time.process_time()\n",
    "docs = [simple_preprocess(t.text) for t in politics]\n",
    "time.process_time() - t"
   ]
  },
  {
   "cell_type": "code",
   "execution_count": 103,
   "metadata": {},
   "outputs": [
    {
     "data": {
      "text/plain": [
       "12.638080000000002"
      ]
     },
     "execution_count": 103,
     "metadata": {},
     "output_type": "execute_result"
    }
   ],
   "source": [
    "t = time.process_time()\n",
    "model = Word2Vec(docs)\n",
    "time.process_time() - t"
   ]
  },
  {
   "cell_type": "code",
   "execution_count": 115,
   "metadata": {},
   "outputs": [
    {
     "data": {
      "text/plain": [
       "40.53857099999999"
      ]
     },
     "execution_count": 115,
     "metadata": {},
     "output_type": "execute_result"
    }
   ],
   "source": [
    "t = time.process_time()\n",
    "sg = Word2Vec(docs,sg=1)\n",
    "time.process_time() - t"
   ]
  },
  {
   "cell_type": "code",
   "execution_count": 123,
   "metadata": {},
   "outputs": [
    {
     "data": {
      "text/plain": [
       "[('tuesday', 0.9742521047592163),\n",
       " ('wednesday', 0.9678515195846558),\n",
       " ('monday', 0.9671248197555542),\n",
       " ('friday', 0.9400216341018677),\n",
       " ('saturday', 0.9233210682868958)]"
      ]
     },
     "execution_count": 123,
     "metadata": {},
     "output_type": "execute_result"
    }
   ],
   "source": [
    "model.wv.most_similar(positive=['thursday'], topn=5)"
   ]
  },
  {
   "cell_type": "code",
   "execution_count": 126,
   "metadata": {},
   "outputs": [
    {
     "data": {
      "text/plain": [
       "[('pass', 0.906526505947113),\n",
       " ('override', 0.891733705997467),\n",
       " ('enact', 0.8751996159553528),\n",
       " ('muster', 0.8634128570556641),\n",
       " ('require', 0.8612051606178284)]"
      ]
     },
     "execution_count": 126,
     "metadata": {},
     "output_type": "execute_result"
    }
   ],
   "source": [
    "model.wv.most_similar(positive=['approve'], topn=5)"
   ]
  },
  {
   "cell_type": "code",
   "execution_count": 124,
   "metadata": {},
   "outputs": [
    {
     "data": {
      "text/plain": [
       "[('ohio', 0.8526729345321655),\n",
       " ('pennsylvania', 0.837384819984436),\n",
       " ('democrat', 0.8346357345581055),\n",
       " ('senator', 0.8219757080078125),\n",
       " ('democratic', 0.8156465888023376),\n",
       " ('arizona', 0.8087588548660278),\n",
       " ('tennessee', 0.783352255821228),\n",
       " ('senators', 0.7818459272384644),\n",
       " ('incumbent', 0.7785357236862183),\n",
       " ('tom', 0.7769345045089722)]"
      ]
     },
     "execution_count": 124,
     "metadata": {},
     "output_type": "execute_result"
    }
   ],
   "source": [
    "model.wv.most_similar(positive=['republican'], topn=10)"
   ]
  },
  {
   "cell_type": "code",
   "execution_count": 127,
   "metadata": {},
   "outputs": [
    {
     "data": {
      "text/plain": [
       "[('representative', 0.9431465864181519),\n",
       " ('john', 0.9330054521560669),\n",
       " ('joseph', 0.9214594960212708),\n",
       " ('massachusetts', 0.908477783203125),\n",
       " ('illinois', 0.9078784584999084),\n",
       " ('senator', 0.9074325561523438),\n",
       " ('california', 0.9066224694252014),\n",
       " ('pennsylvania', 0.9062297940254211),\n",
       " ('thomas', 0.9041305184364319),\n",
       " ('nancy', 0.8977547287940979)]"
      ]
     },
     "execution_count": 127,
     "metadata": {},
     "output_type": "execute_result"
    }
   ],
   "source": [
    "model.wv.most_similar(positive=['democrat'], topn=10)"
   ]
  },
  {
   "cell_type": "code",
   "execution_count": 119,
   "metadata": {},
   "outputs": [
    {
     "data": {
      "text/plain": [
       "(100,)"
      ]
     },
     "execution_count": 119,
     "metadata": {},
     "output_type": "execute_result"
    }
   ],
   "source": [
    "model.wv.get_vector('democrat').shape"
   ]
  },
  {
   "cell_type": "markdown",
   "metadata": {},
   "source": [
    "# Summarization"
   ]
  },
  {
   "cell_type": "code",
   "execution_count": 84,
   "metadata": {},
   "outputs": [],
   "source": [
    "from gensim.summarization.summarizer import summarize\n",
    "from gensim.models import LsiModel\n",
    "from gensim.test.utils import common_dictionary, common_corpus"
   ]
  },
  {
   "cell_type": "code",
   "execution_count": 95,
   "metadata": {},
   "outputs": [
    {
     "data": {
      "text/plain": [
       "\"The House voted on Thursday to approve oil and gas exploration in coastal waters that have been protected from drilling for 25 years.The vote was largely along party lines, 232 to 187, for a measure that would sharply expand efforts to make use of energy supplies beyond the Gulf of Mexico, the only area unaffected by executive branch and Congressional bans on drilling.''This is really the first major step in producing domestic energy that we have taken in almost 30 years,'' said Representative Richard W. Pombo, Republican of California, chairman of the House Resources Committee and the chief sponsor of the bill.Whether the drilling bans are ultimately eliminated depends on the Senate, where the chairman of the Energy Committee, Senator Pete V. Domenici, Republican of New Mexico, has been trying to build support for a measure that would expand oil and gas exploration in the gulf in an area west of Tampa, Fla., known as Lease Sale 181.Mr. Domenici still lacks enough support to win Senate passage of his bill, but he said he was optimistic ''that Congress can do something this year to increase environmentally sound energy production'' in the coastal waters, known as the Outer Continental Shelf.Passage of the House bill to a large degree reflected the persistent split in approaches to energy policy as prices for crude oil, gasoline and natural gas remain unusually high. In hours of debate before voting, Republicans repeatedly expressed a need to tap more of the resources that the United States controls, while Democrats argued for bills that encouraged conservation and placed a greater emphasis on renewable energy sources.Under the House bill, the federal moratorium would remain in effect up to 50 miles offshore unless a state petitioned the Interior Department to allow drilling. The request would require the approval of the legislature and the governor.Waters 50 to 100 miles offshore would be open for drilling unless the state petitioned the department to retain the moratorium.Companies would be free to drill in waters 100 to 200 miles offshore.The bill would also create revenue sharing between the federal government and any state where new resources were mined, a change from current policy in which all royalties are claimed by the federal government. The Congressional Budget Office estimated that the change would cost the federal government $102 billion from 2007 to 2016.But Mr. Pombo said that figure did not take into account the tax revenues lost on the billions of dollars Americans are spending on energy from foreign sources.One of the strongest opponents of the bill was Representative Sherwood Boehlert, Republican of New York, who echoed many Democratic concerns that the bill was a giveaway to the oil companies and, at best, a short-term solution to a long-term problem.Arguing for bolder conservation efforts, like high fuel standards for cars, Mr. Boehlert said he worried that the gas and oil that might be recovered would be more valuable to the country in a time of emergency.''Drilling today,'' he said, ''depletes the oil we may need tomorrow.''But other lawmakers argued that ignoring the ample supplies of natural gas that the Interior Department estimates are available would leave prices unnaturally high, harming American industries.''This country cannot compete in the global marketplace without natural gas,'' said Representative John E. Peterson, Republican of Pennsylvania. ''Natural gas keeps us competitive until renewables become a bigger part of our energy portfolio.''Also on Thursday the Senate Appropriations Committee approved an amendment to the Interior Department appropriations bill that would punish companies that refused to renegotiate their offshore leases and pay full royalties during times of high prices.The amendment, sponsored by Senator Dianne Feinstein, Democrat of California, passed by a vote of 15 to 13, after the panel also passed an amendment from Mr. Domenici that encouraged the Interior Department to renegotiate their leases.\""
      ]
     },
     "execution_count": 95,
     "metadata": {},
     "output_type": "execute_result"
    }
   ],
   "source": [
    "politics[10].text"
   ]
  },
  {
   "cell_type": "code",
   "execution_count": 83,
   "metadata": {},
   "outputs": [
    {
     "data": {
      "text/plain": [
       "\"In hours of debate before voting, Republicans repeatedly expressed a need to tap more of the resources that the United States controls, while Democrats argued for bills that encouraged conservation and placed a greater emphasis on renewable energy sources.Under the House bill, the federal moratorium would remain in effect up to 50 miles offshore unless a state petitioned the Interior Department to allow drilling.\\n''Natural gas keeps us competitive until renewables become a bigger part of our energy portfolio.''Also on Thursday the Senate Appropriations Committee approved an amendment to the Interior Department appropriations bill that would punish companies that refused to renegotiate their offshore leases and pay full royalties during times of high prices.The amendment, sponsored by Senator Dianne Feinstein, Democrat of California, passed by a vote of 15 to 13, after the panel also passed an amendment from Mr. Domenici that encouraged the Interior Department to renegotiate their leases.\""
      ]
     },
     "execution_count": 83,
     "metadata": {},
     "output_type": "execute_result"
    }
   ],
   "source": [
    "summarize(politics[10].text, word_count=200)"
   ]
  },
  {
   "cell_type": "code",
   "execution_count": 79,
   "metadata": {},
   "outputs": [
    {
     "data": {
      "text/plain": [
       "64"
      ]
     },
     "execution_count": 79,
     "metadata": {},
     "output_type": "execute_result"
    }
   ],
   "source": [
    "s = summarize(politics[10].text)\n",
    "len(s.split(\" \"))"
   ]
  },
  {
   "cell_type": "code",
   "execution_count": 64,
   "metadata": {
    "scrolled": true
   },
   "outputs": [
    {
     "name": "stdout",
     "output_type": "stream",
     "text": [
      "While anywhere else this might not seem like a big deal at this point, Tennessee isn't anywhere else.When I left, most folks I know, both old-time Southern Democrats and my new Republican neighbors in their McMansions, wouldn't have given the young black liberal from a family that seems always ready to stretch the bounds of propriety much of a chance in a statewide race.\n",
      "Particularly not against Mr. Corker, a very agreeable and successful former mayor of Chattanooga who easily K.O.'ed his more conservative Republican opponents in the primary.In talking with my neighbors, however, I get the picture that several things are keeping the Ford campaign alive and thriving.\n",
      "As Rick Warwick, my neighbor down the road and our county historian, told me recently, ''You know, Harold Ford is looking more and more like one of us.''After the primaries, everyone assumed that at this point, Mr. Corker would be way ahead in the polls, with the race maybe tightening toward the end.\n"
     ]
    }
   ],
   "source": [
    "print(summarize(text))"
   ]
  },
  {
   "cell_type": "code",
   "execution_count": 71,
   "metadata": {},
   "outputs": [
    {
     "data": {
      "text/plain": [
       "24.968287000000004"
      ]
     },
     "execution_count": 71,
     "metadata": {},
     "output_type": "execute_result"
    }
   ],
   "source": [
    "t = time.process_time()\n",
    "summaries_pol = [summarize(x.text) for x in politics]\n",
    "time.process_time() - t"
   ]
  },
  {
   "cell_type": "code",
   "execution_count": 89,
   "metadata": {},
   "outputs": [
    {
     "data": {
      "text/plain": [
       "1687"
      ]
     },
     "execution_count": 89,
     "metadata": {},
     "output_type": "execute_result"
    }
   ],
   "source": [
    "len(politics)"
   ]
  },
  {
   "cell_type": "code",
   "execution_count": null,
   "metadata": {},
   "outputs": [],
   "source": []
  },
  {
   "cell_type": "markdown",
   "metadata": {},
   "source": [
    "# Measuring Bias"
   ]
  },
  {
   "cell_type": "code",
   "execution_count": 251,
   "metadata": {},
   "outputs": [],
   "source": [
    "with open('debiaswe-master/data/equalize_pairs.json') as f:\n",
    "    pairs = json.loads(f.read())"
   ]
  },
  {
   "cell_type": "code",
   "execution_count": 275,
   "metadata": {},
   "outputs": [],
   "source": [
    "from sklearn.decomposition import PCA\n",
    "from matplotlib.pyplot import bar"
   ]
  },
  {
   "cell_type": "code",
   "execution_count": 265,
   "metadata": {},
   "outputs": [],
   "source": [
    "pairs = list(map(lambda x: [x[0].lower(), x[1].lower()], pairs))"
   ]
  },
  {
   "cell_type": "code",
   "execution_count": 276,
   "metadata": {},
   "outputs": [
    {
     "name": "stdout",
     "output_type": "stream",
     "text": [
      "(54, 100)\n"
     ]
    },
    {
     "data": {
      "image/png": "[encoded data removed]",
      "text/plain": [
       "<Figure size 432x288 with 1 Axes>"
      ]
     },
     "metadata": {
      "needs_background": "light"
     },
     "output_type": "display_data"
    }
   ],
   "source": [
    "# borrowed from Bolukbasi et al\n",
    "matrix = []\n",
    "for a, b in pairs:\n",
    "    if a not in model.wv.vocab or b not in model.wv.vocab:\n",
    "        continue\n",
    "    center = (model.wv.get_vector(a) + model.wv.get_vector(b))/2\n",
    "    matrix.append(model.wv.get_vector(a) - center)\n",
    "    matrix.append(model.wv.get_vector(b) - center)\n",
    "matrix = np.array(matrix)\n",
    "pca = PCA(n_components = 10)\n",
    "pca.fit(matrix)\n",
    "bar(range(10), pca.explained_variance_ratio_)\n",
    "print(matrix.shape)"
   ]
  },
  {
   "cell_type": "code",
   "execution_count": 278,
   "metadata": {},
   "outputs": [
    {
     "data": {
      "text/plain": [
       "<BarContainer object of 10 artists>"
      ]
     },
     "execution_count": 278,
     "metadata": {},
     "output_type": "execute_result"
    },
    {
     "data": {
      "image/png": "[encoded data removed]",
      "text/plain": [
       "<Figure size 432x288 with 1 Axes>"
      ]
     },
     "metadata": {
      "needs_background": "light"
     },
     "output_type": "display_data"
    }
   ],
   "source": [
    "pca_r = PCA(n_components = 10)\n",
    "pca_r.fit(np.random.rand(54,100))\n",
    "bar(range(10), pca_r.explained_variance_ratio_)"
   ]
  },
  {
   "cell_type": "code",
   "execution_count": 281,
   "metadata": {},
   "outputs": [
    {
     "data": {
      "text/plain": [
       "(100,)"
      ]
     },
     "execution_count": 281,
     "metadata": {},
     "output_type": "execute_result"
    }
   ],
   "source": [
    "pca.components_[0].shape"
   ]
  },
  {
   "cell_type": "code",
   "execution_count": 293,
   "metadata": {},
   "outputs": [],
   "source": [
    "g = pca.components_[0]"
   ]
  },
  {
   "cell_type": "code",
   "execution_count": 294,
   "metadata": {},
   "outputs": [],
   "source": [
    "def gproj(w1):\n",
    "    wvec = model.wv.get_vector(w1)\n",
    "    p = np.dot(g, wvec)/np.linalg.norm(g)\n",
    "    return p"
   ]
  },
  {
   "cell_type": "code",
   "execution_count": 297,
   "metadata": {},
   "outputs": [
    {
     "name": "stdout",
     "output_type": "stream",
     "text": [
      "he 1.9921614\n",
      "she -5.7593684\n",
      "doctor -0.28550735\n",
      "nurse -0.19783212\n",
      "man -0.8884656\n",
      "woman -1.7755088\n",
      "male -0.41653666\n",
      "female -0.21781293\n",
      "math -0.14851217\n",
      "dress -0.1319467\n"
     ]
    }
   ],
   "source": [
    "for x in ['he', 'she', 'doctor', 'nurse', 'man', 'woman', 'male', 'female', 'math', 'dress']:\n",
    "    print(x, gproj(x))"
   ]
  },
  {
   "cell_type": "code",
   "execution_count": 153,
   "metadata": {},
   "outputs": [],
   "source": [
    "with open('debiaswe-master/data/gender_specific_seed.json') as f:\n",
    "    gender_specific = json.loads(f.read())"
   ]
  },
  {
   "cell_type": "code",
   "execution_count": 155,
   "metadata": {},
   "outputs": [
    {
     "data": {
      "text/plain": [
       "218"
      ]
     },
     "execution_count": 155,
     "metadata": {},
     "output_type": "execute_result"
    }
   ],
   "source": [
    "len(gender_specific)"
   ]
  },
  {
   "cell_type": "code",
   "execution_count": 156,
   "metadata": {},
   "outputs": [],
   "source": [
    "with open('debiaswe-master/data/gender_specific_full.json') as f:\n",
    "    gender_specific_full = json.loads(f.read())"
   ]
  },
  {
   "cell_type": "code",
   "execution_count": 158,
   "metadata": {},
   "outputs": [
    {
     "data": {
      "text/plain": [
       "1441"
      ]
     },
     "execution_count": 158,
     "metadata": {},
     "output_type": "execute_result"
    }
   ],
   "source": [
    "len(gender_specific_full)"
   ]
  },
  {
   "cell_type": "code",
   "execution_count": 161,
   "metadata": {},
   "outputs": [
    {
     "data": {
      "text/plain": [
       "['actress',\n",
       " 'actresses',\n",
       " 'aunt',\n",
       " 'aunts',\n",
       " 'bachelor',\n",
       " 'ballerina',\n",
       " 'barbershop',\n",
       " 'baritone',\n",
       " 'beard',\n",
       " 'beards']"
      ]
     },
     "execution_count": 161,
     "metadata": {},
     "output_type": "execute_result"
    }
   ],
   "source": [
    "gender_specific[:10]"
   ]
  },
  {
   "cell_type": "code",
   "execution_count": 162,
   "metadata": {},
   "outputs": [
    {
     "data": {
      "text/plain": [
       "['he', 'his', 'He', 'her', 'she', 'him', 'She', 'man', 'women', 'men']"
      ]
     },
     "execution_count": 162,
     "metadata": {},
     "output_type": "execute_result"
    }
   ],
   "source": [
    "gender_specific_full[:10]"
   ]
  },
  {
   "cell_type": "code",
   "execution_count": 163,
   "metadata": {},
   "outputs": [],
   "source": [
    "with open('debiaswe-master/data/professions.json') as f:\n",
    "    profs = json.loads(f.read())"
   ]
  },
  {
   "cell_type": "code",
   "execution_count": 298,
   "metadata": {},
   "outputs": [
    {
     "data": {
      "text/plain": [
       "[['accountant', 0.0, 0.4],\n",
       " ['acquaintance', 0.0, 0.0],\n",
       " ['actor', 0.8, 0.0],\n",
       " ['actress', -1.0, 0.0],\n",
       " ['adjunct_professor', 0.0, 0.5]]"
      ]
     },
     "execution_count": 298,
     "metadata": {},
     "output_type": "execute_result"
    }
   ],
   "source": [
    "profs[:5]"
   ]
  },
  {
   "cell_type": "code",
   "execution_count": 290,
   "metadata": {},
   "outputs": [],
   "source": [
    "proflist = list(filter(lambda x: x in model.wv.vocab, [p[0] for p in profs if abs(p[1]) < 0.6]))"
   ]
  },
  {
   "cell_type": "code",
   "execution_count": 291,
   "metadata": {},
   "outputs": [
    {
     "data": {
      "text/plain": [
       "123"
      ]
     },
     "execution_count": 291,
     "metadata": {},
     "output_type": "execute_result"
    }
   ],
   "source": [
    "len(proflist)"
   ]
  },
  {
   "cell_type": "code",
   "execution_count": 194,
   "metadata": {},
   "outputs": [],
   "source": [
    "# female - male vector"
   ]
  },
  {
   "cell_type": "code",
   "execution_count": 196,
   "metadata": {},
   "outputs": [],
   "source": [
    "gendervec = model.wv.get_vector('he') - model.wv.get_vector('she')"
   ]
  },
  {
   "cell_type": "code",
   "execution_count": 246,
   "metadata": {},
   "outputs": [],
   "source": [
    "mtest = model.wv.get_vector('woman') + model.wv.get_vector('he') - model.wv.get_vector('she')"
   ]
  },
  {
   "cell_type": "code",
   "execution_count": 247,
   "metadata": {},
   "outputs": [
    {
     "name": "stderr",
     "output_type": "stream",
     "text": [
      "/Users/mayjiang/Library/Python/3.7/lib/python/site-packages/ipykernel_launcher.py:1: DeprecationWarning: Call to deprecated `most_similar` (Method will be removed in 4.0.0, use self.wv.most_similar() instead).\n",
      "  \"\"\"Entry point for launching an IPython kernel.\n"
     ]
    },
    {
     "data": {
      "text/plain": [
       "[('chalabi', 0.49790534377098083)]"
      ]
     },
     "execution_count": 247,
     "metadata": {},
     "output_type": "execute_result"
    }
   ],
   "source": [
    "model.most_similar(positive=[mtest], topn=1)"
   ]
  },
  {
   "cell_type": "code",
   "execution_count": 236,
   "metadata": {},
   "outputs": [],
   "source": [
    "def get_proj(w1):\n",
    "    gendervec = model.wv.get_vector('he') - model.wv.get_vector('she')\n",
    "    wvec = model.wv.get_vector(w1)\n",
    "    p = np.dot(gendervec, wvec)/np.linalg.norm(gendervec)\n",
    "    return p"
   ]
  },
  {
   "cell_type": "code",
   "execution_count": 237,
   "metadata": {},
   "outputs": [
    {
     "data": {
      "text/plain": [
       "(0.35400337, 0.5252309, -5.5532165, 2.4317982)"
      ]
     },
     "execution_count": 237,
     "metadata": {},
     "output_type": "execute_result"
    }
   ],
   "source": [
    "get_proj('him'), get_proj('it'), get_proj('she'), get_proj('he')"
   ]
  },
  {
   "cell_type": "code",
   "execution_count": 243,
   "metadata": {},
   "outputs": [
    {
     "data": {
      "text/plain": [
       "(-6.870262, -0.32972872, -0.45655483)"
      ]
     },
     "execution_count": 243,
     "metadata": {},
     "output_type": "execute_result"
    }
   ],
   "source": [
    "get_proj('her'), get_proj('female'), get_proj('male')"
   ]
  },
  {
   "cell_type": "code",
   "execution_count": 244,
   "metadata": {},
   "outputs": [
    {
     "data": {
      "text/plain": [
       "(-0.053390913, -0.15381591, -0.39939, -0.24016267)"
      ]
     },
     "execution_count": 244,
     "metadata": {},
     "output_type": "execute_result"
    }
   ],
   "source": [
    "get_proj('cat'), get_proj('hat'), get_proj('doctor'), get_proj('nurse')"
   ]
  },
  {
   "cell_type": "code",
   "execution_count": 239,
   "metadata": {},
   "outputs": [
    {
     "data": {
      "text/plain": [
       "(-1.9641705, -1.3020865, -0.07405841)"
      ]
     },
     "execution_count": 239,
     "metadata": {},
     "output_type": "execute_result"
    }
   ],
   "source": [
    "get_proj('woman'), get_proj('man'), get_proj('actor') "
   ]
  },
  {
   "cell_type": "markdown",
   "metadata": {},
   "source": [
    "# Gender in WordNet"
   ]
  },
  {
   "cell_type": "code",
   "execution_count": 92,
   "metadata": {},
   "outputs": [],
   "source": [
    "from nltk.corpus import wordnet"
   ]
  },
  {
   "cell_type": "code",
   "execution_count": 93,
   "metadata": {},
   "outputs": [],
   "source": [
    "# use wordnet to determine if word is gendered or not?"
   ]
  },
  {
   "cell_type": "code",
   "execution_count": 191,
   "metadata": {},
   "outputs": [],
   "source": [
    "p = wordnet.synsets('adult')[0]"
   ]
  },
  {
   "cell_type": "code",
   "execution_count": 192,
   "metadata": {},
   "outputs": [
    {
     "data": {
      "text/plain": [
       "[Synset('person.n.01')]"
      ]
     },
     "execution_count": 192,
     "metadata": {},
     "output_type": "execute_result"
    }
   ],
   "source": [
    "p.hypernyms()"
   ]
  },
  {
   "cell_type": "code",
   "execution_count": 193,
   "metadata": {},
   "outputs": [],
   "source": [
    "# person -> performer -> actor\n",
    "# person -> adult -> professional \n",
    "#        -> health professional -> medical practitioner -> doctor"
   ]
  },
  {
   "cell_type": "code",
   "execution_count": 143,
   "metadata": {},
   "outputs": [],
   "source": [
    "f = wordnet.synsets('woman')[0]\n",
    "m = wordnet.synsets('man')[0]"
   ]
  },
  {
   "cell_type": "code",
   "execution_count": 144,
   "metadata": {},
   "outputs": [],
   "source": [
    "words = ['woman', 'man', 'queen', 'actress', 'king', 'actor', 'math', 'humanities', 'doctor']"
   ]
  },
  {
   "cell_type": "code",
   "execution_count": 248,
   "metadata": {},
   "outputs": [],
   "source": [
    "# f.hyponyms(), f.hypernyms()"
   ]
  },
  {
   "cell_type": "code",
   "execution_count": 145,
   "metadata": {},
   "outputs": [
    {
     "name": "stdout",
     "output_type": "stream",
     "text": [
      "Synset('woman.n.01')\n",
      "1.0 0.6666666666666666\n",
      "Synset('man.n.01')\n",
      "0.6666666666666666 1.0\n",
      "Synset('queen.n.01')\n",
      "0.6 0.6\n",
      "Synset('actress.n.01')\n",
      "0.6 0.6\n",
      "Synset('king.n.01')\n",
      "0.631578947368421 0.631578947368421\n",
      "Synset('actor.n.01')\n",
      "0.631578947368421 0.631578947368421\n",
      "Synset('mathematics.n.01')\n",
      "0.13333333333333333 0.13333333333333333\n",
      "Synset('humanistic_discipline.n.01')\n",
      "0.14285714285714285 0.14285714285714285\n",
      "Synset('doctor.n.01')\n",
      "0.5714285714285714 0.5714285714285714\n"
     ]
    }
   ],
   "source": [
    "for w in words:\n",
    "    wn = wordnet.synsets(w)[0]\n",
    "    print(wn)\n",
    "    print(f.wup_similarity(wn), m.wup_similarity(wn))"
   ]
  },
  {
   "cell_type": "code",
   "execution_count": 249,
   "metadata": {},
   "outputs": [],
   "source": [
    "# m.hyponyms(), m.hypernyms()"
   ]
  },
  {
   "cell_type": "code",
   "execution_count": null,
   "metadata": {},
   "outputs": [],
   "source": []
  }
 ],
 "metadata": {
  "kernelspec": {
   "display_name": "Python 3",
   "language": "python",
   "name": "python3"
  }
 },
 "nbformat": 4,
 "nbformat_minor": 2
}
