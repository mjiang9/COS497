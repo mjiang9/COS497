{
 "cells": [
  {
   "cell_type": "code",
   "execution_count": 1,
   "metadata": {},
   "outputs": [],
   "source": [
    "import os\n",
    "import time\n",
    "import dill\n",
    "from typing import List\n",
    "from functools import reduce\n",
    "from calendar import monthrange"
   ]
  },
  {
   "cell_type": "code",
   "execution_count": 2,
   "metadata": {},
   "outputs": [],
   "source": [
    "import json\n",
    "import csv\n",
    "import requests\n",
    "import xml.etree.ElementTree as ET\n",
    "from bs4 import BeautifulSoup\n",
    "import urllib.request as urllib2"
   ]
  },
  {
   "cell_type": "code",
   "execution_count": 3,
   "metadata": {},
   "outputs": [],
   "source": [
    "import matplotlib.pyplot as plt\n",
    "import numpy as np\n",
    "from scipy import stats\n",
    "from random import sample, randint, shuffle\n",
    "from sklearn.decomposition import PCA"
   ]
  },
  {
   "cell_type": "code",
   "execution_count": 4,
   "metadata": {},
   "outputs": [],
   "source": [
    "import nltk\n",
    "import text_summarizer\n",
    "from gensim.utils import simple_preprocess\n",
    "from gensim.summarization.summarizer import summarize\n",
    "from gensim.models import Word2Vec, LsiModel\n",
    "from gensim.test.utils import common_dictionary, common_corpus"
   ]
  },
  {
   "cell_type": "code",
   "execution_count": 5,
   "metadata": {},
   "outputs": [],
   "source": [
    "from time import process_time"
   ]
  },
  {
   "cell_type": "code",
   "execution_count": 6,
   "metadata": {},
   "outputs": [
    {
     "data": {
      "text/plain": [
       "39.948508"
      ]
     },
     "execution_count": 6,
     "metadata": {},
     "output_type": "execute_result"
    }
   ],
   "source": [
    "t = process_time()\n",
    "dill.load_session('thesis_env.db')\n",
    "process_time() - t"
   ]
  },
  {
   "cell_type": "code",
   "execution_count": 7,
   "metadata": {},
   "outputs": [
    {
     "data": {
      "text/plain": [
       "393"
      ]
     },
     "execution_count": 7,
     "metadata": {},
     "output_type": "execute_result"
    }
   ],
   "source": [
    "len(adjectives)"
   ]
  },
  {
   "cell_type": "code",
   "execution_count": 8,
   "metadata": {},
   "outputs": [
    {
     "data": {
      "text/plain": [
       "1685787"
      ]
     },
     "execution_count": 8,
     "metadata": {},
     "output_type": "execute_result"
    }
   ],
   "source": [
    "len(all_)"
   ]
  },
  {
   "cell_type": "markdown",
   "metadata": {},
   "source": [
    "## Gender-neutral adjectives describing people"
   ]
  },
  {
   "cell_type": "code",
   "execution_count": 10,
   "metadata": {},
   "outputs": [],
   "source": [
    "with open('cities.csv') as csv_file:\n",
    "    cities = csv_file.read().split(\",\")"
   ]
  },
  {
   "cell_type": "code",
   "execution_count": 11,
   "metadata": {},
   "outputs": [],
   "source": [
    "cities = [x.lower() for x in cities]"
   ]
  },
  {
   "cell_type": "code",
   "execution_count": 89,
   "metadata": {},
   "outputs": [],
   "source": [
    "# url = 'https://www.enchantedlearning.com/wordlist/adjectivesforpeople.shtml'\n",
    "# file = urllib2.urlopen(url)\n",
    "# html = file.read()\n",
    "# file.close()\n",
    "# soup = BeautifulSoup(html)"
   ]
  },
  {
   "cell_type": "code",
   "execution_count": 8,
   "metadata": {},
   "outputs": [],
   "source": [
    "# adjs = [x.contents[0] for x in BeautifulSoup(html).find_all(attrs={\"class\": \"wordlist-item\"})]"
   ]
  },
  {
   "cell_type": "code",
   "execution_count": 16,
   "metadata": {},
   "outputs": [],
   "source": [
    "# with open('adjectives.csv', mode='w') as f:\n",
    "#     writer = csv.writer(f, delimiter=',')\n",
    "#     writer.writerow(adjs)"
   ]
  },
  {
   "cell_type": "code",
   "execution_count": 5,
   "metadata": {},
   "outputs": [],
   "source": [
    "with open('adjectives.csv') as csv_file:\n",
    "    adjectives = csv_file.read().split(\",\")"
   ]
  },
  {
   "cell_type": "code",
   "execution_count": 6,
   "metadata": {},
   "outputs": [
    {
     "data": {
      "text/plain": [
       "['able', 'abnormal', 'above average', 'absent-minded', 'adventurous']"
      ]
     },
     "execution_count": 6,
     "metadata": {},
     "output_type": "execute_result"
    }
   ],
   "source": [
    "adjectives[:5]"
   ]
  },
  {
   "cell_type": "code",
   "execution_count": 7,
   "metadata": {},
   "outputs": [],
   "source": [
    "dill.dump_session('thesis_env.db')"
   ]
  },
  {
   "cell_type": "code",
   "execution_count": 5,
   "metadata": {},
   "outputs": [],
   "source": [
    "# url = 'https://www.britannica.com/topic/list-of-cities-and-towns-in-the-United-States-2023068'\n",
    "# file = urllib2.urlopen(url)\n",
    "# html = file.read()\n",
    "# file.close()\n",
    "# soup = BeautifulSoup(html)  "
   ]
  },
  {
   "cell_type": "code",
   "execution_count": 6,
   "metadata": {},
   "outputs": [],
   "source": [
    "# alist = soup.find_all(attrs={\"class\": \"md-crosslink\"})"
   ]
  },
  {
   "cell_type": "code",
   "execution_count": 7,
   "metadata": {},
   "outputs": [],
   "source": [
    "# places = [a.contents[0] for a in alist[3:]]"
   ]
  },
  {
   "cell_type": "code",
   "execution_count": 8,
   "metadata": {},
   "outputs": [
    {
     "data": {
      "text/plain": [
       "2010"
      ]
     },
     "execution_count": 8,
     "metadata": {},
     "output_type": "execute_result"
    }
   ],
   "source": [
    "# len(places)"
   ]
  },
  {
   "cell_type": "code",
   "execution_count": 51,
   "metadata": {},
   "outputs": [],
   "source": [
    "grammar = ['a', 'an', 'the', \\\n",
    "           'for', 'and', 'nor', 'but', 'or', 'yet', 'so', \\\n",
    "           'after', 'as', 'before', 'if', 'inasmuch', 'now', \\\n",
    "           'once', 'since', 'supposing', 'though', 'until', \\\n",
    "           'whenever', 'whereas', 'wherever', 'which', \\\n",
    "           'although', 'because', 'even', 'lest', 'both', 'either', \\\n",
    "           'hardly', 'when', 'neither', 'than', 'whether', \\\n",
    "           'consequently', 'finally', 'furthermore', 'hence', \\\n",
    "           'however', 'incidentally', 'indeed', 'instead', 'likewise', \\\n",
    "           'meanwhile', 'about', 'above', 'across', 'after', 'ago', \\\n",
    "           'at', 'below', 'by', 'during', 'for', 'in', \\\n",
    "           'on', 'over', 'past', 'since', 'through', 'to', \\\n",
    "           'up', 'amid', 'atop', 'onto', \\\n",
    "           'throughout', 'upon', 'within', 'without']"
   ]
  },
  {
   "cell_type": "code",
   "execution_count": 9,
   "metadata": {},
   "outputs": [],
   "source": [
    "# with open('cities.csv', mode='w') as f:\n",
    "#     writer = csv.writer(f, delimiter=',')\n",
    "#     writer.writerow(places)"
   ]
  },
  {
   "cell_type": "markdown",
   "metadata": {},
   "source": [
    "# Data Parsing and Processing"
   ]
  },
  {
   "cell_type": "code",
   "execution_count": 13,
   "metadata": {},
   "outputs": [],
   "source": [
    "class Doc:\n",
    "    def __init__(self, id: int, gdescriptors: List[str], descriptors: List[str], text: str) -> None:\n",
    "        self.id = id\n",
    "        self.gdescriptors = gdescriptors\n",
    "        self.descriptors = descriptors\n",
    "        self.text = text"
   ]
  },
  {
   "cell_type": "code",
   "execution_count": 14,
   "metadata": {},
   "outputs": [],
   "source": [
    "def parse_doc(file: str) -> Doc:\n",
    "    tree = ET.parse(file)\n",
    "    root = tree.getroot()\n",
    "    try:\n",
    "        fulltext = root.find('body').find('body.content').find(\"*[@class='full_text']\")\n",
    "        text = reduce(lambda x, y: x + y, [x.text for x in fulltext.findall('p')])\n",
    "        id = int(root.find('head').find('docdata').find('doc-id').attrib['id-string'])\n",
    "        classifiers = root.find('head').find('docdata').find('identified-content')\n",
    "        gclassifiers = classifiers.findall(\"*[@class='online_producer'][@type='general_descriptor']\")\n",
    "        dclassifiers = classifiers.findall(\"*[@class='online_producer'][@type='descriptor']\")\n",
    "        gdescriptors = [c.text for c in gclassifiers]\n",
    "        descriptors = [c.text for c in dclassifiers]\n",
    "        return Doc(id, gdescriptors, descriptors, text)\n",
    "    except:\n",
    "        return None"
   ]
  },
  {
   "cell_type": "code",
   "execution_count": 15,
   "metadata": {},
   "outputs": [],
   "source": [
    "def get_docs_by_month(year: int, month: int) -> List[Doc]:\n",
    "    days = monthrange(year, month)[1]\n",
    "    docs = []\n",
    "    for day in range(1, days+1):\n",
    "        for file in os.listdir(f'data/{year}/{month:02}/{day:02}/'):\n",
    "            doc = parse_doc(f'data/{year}/{month:02}/{day:02}/{file}')\n",
    "            if doc:\n",
    "                docs.append(doc)\n",
    "    return docs"
   ]
  },
  {
   "cell_type": "code",
   "execution_count": 13,
   "metadata": {},
   "outputs": [
    {
     "name": "stdout",
     "output_type": "stream",
     "text": [
      "1988\n",
      "1989\n",
      "1990\n",
      "1991\n",
      "1992\n",
      "1993\n",
      "1994\n",
      "1995\n",
      "1996\n",
      "1997\n",
      "1998\n",
      "1999\n",
      "2000\n",
      "2001\n",
      "2002\n",
      "2003\n",
      "2004\n",
      "2005\n",
      "2006\n"
     ]
    },
    {
     "data": {
      "text/plain": [
       "973.445533"
      ]
     },
     "execution_count": 13,
     "metadata": {},
     "output_type": "execute_result"
    }
   ],
   "source": [
    "t = time.process_time()\n",
    "all_ = []\n",
    "for y in range(1988, 2007):\n",
    "    print(y)\n",
    "    for i in range(1,13):\n",
    "        all_ += get_docs_by_month(y, i)\n",
    "time.process_time() - t"
   ]
  },
  {
   "cell_type": "code",
   "execution_count": 16,
   "metadata": {},
   "outputs": [
    {
     "data": {
      "text/plain": [
       "1685787"
      ]
     },
     "execution_count": 16,
     "metadata": {},
     "output_type": "execute_result"
    }
   ],
   "source": [
    "len(all_)"
   ]
  },
  {
   "cell_type": "code",
   "execution_count": 15,
   "metadata": {},
   "outputs": [],
   "source": [
    "dill.dump_session('thesis_env.db')"
   ]
  },
  {
   "cell_type": "markdown",
   "metadata": {},
   "source": [
    "# Saving files locally and loading"
   ]
  },
  {
   "cell_type": "code",
   "execution_count": 18,
   "metadata": {},
   "outputs": [],
   "source": [
    "with open('alldocs.json', 'w') as outfile:\n",
    "    json.dump([x.__dict__ for x in all_], outfile)"
   ]
  },
  {
   "cell_type": "code",
   "execution_count": 19,
   "metadata": {},
   "outputs": [],
   "source": [
    "def save(i, arr):\n",
    "    t = time.process_time()\n",
    "    with open('alldocs' + str(i) + '.json', 'w') as outfile:\n",
    "        json.dump([x.__dict__ for x in arr], outfile)\n",
    "    print(time.process_time() - t)"
   ]
  },
  {
   "cell_type": "code",
   "execution_count": 20,
   "metadata": {},
   "outputs": [],
   "source": [
    "def load(i):\n",
    "    t = time.process_time()\n",
    "    with open('alldocs' + str(i) + '.json', 'r') as infile:\n",
    "        l = json.load(infile)\n",
    "    print(time.process_time() - t)\n",
    "    return l"
   ]
  },
  {
   "cell_type": "code",
   "execution_count": 11,
   "metadata": {},
   "outputs": [
    {
     "name": "stdout",
     "output_type": "stream",
     "text": [
      "26.122622999999976\n"
     ]
    }
   ],
   "source": [
    "save(0, all_[:600000])"
   ]
  },
  {
   "cell_type": "code",
   "execution_count": 12,
   "metadata": {},
   "outputs": [
    {
     "name": "stdout",
     "output_type": "stream",
     "text": [
      "89.333306\n"
     ]
    }
   ],
   "source": [
    "l0 = load(0)"
   ]
  },
  {
   "cell_type": "code",
   "execution_count": 13,
   "metadata": {},
   "outputs": [
    {
     "name": "stdout",
     "output_type": "stream",
     "text": [
      "34.060252999999875\n"
     ]
    }
   ],
   "source": [
    "save(1, all_[600000:1200000])"
   ]
  },
  {
   "cell_type": "code",
   "execution_count": 14,
   "metadata": {},
   "outputs": [
    {
     "name": "stdout",
     "output_type": "stream",
     "text": [
      "102.26382799999988\n"
     ]
    }
   ],
   "source": [
    "l1 = load(1)"
   ]
  },
  {
   "cell_type": "code",
   "execution_count": 15,
   "metadata": {},
   "outputs": [
    {
     "name": "stdout",
     "output_type": "stream",
     "text": [
      "31.626627999999982\n"
     ]
    }
   ],
   "source": [
    "save(2, all_[1200000:])"
   ]
  },
  {
   "cell_type": "code",
   "execution_count": 16,
   "metadata": {},
   "outputs": [
    {
     "name": "stdout",
     "output_type": "stream",
     "text": [
      "19.019525000000158\n"
     ]
    }
   ],
   "source": [
    "l2 = load(2)"
   ]
  },
  {
   "cell_type": "code",
   "execution_count": 17,
   "metadata": {},
   "outputs": [
    {
     "data": {
      "text/plain": [
       "1685787"
      ]
     },
     "execution_count": 17,
     "metadata": {},
     "output_type": "execute_result"
    }
   ],
   "source": [
    "l = l0 + l1 + l2\n",
    "len(l)"
   ]
  },
  {
   "cell_type": "markdown",
   "metadata": {},
   "source": [
    "# Process by descriptor"
   ]
  },
  {
   "cell_type": "code",
   "execution_count": 10,
   "metadata": {},
   "outputs": [
    {
     "data": {
      "text/plain": [
       "44.409671"
      ]
     },
     "execution_count": 10,
     "metadata": {},
     "output_type": "execute_result"
    }
   ],
   "source": [
    "t = time.process_time()\n",
    "alld = {}\n",
    "for doc in all_:\n",
    "    doc = Doc(doc.id, doc.gdescriptors, doc.descriptors, doc.text)\n",
    "    for d in doc.descriptors:\n",
    "        count, docs = alld.get(d, (0, set()))\n",
    "        docs.add(doc)\n",
    "        alld[d] = (count + 1, docs)\n",
    "time.process_time() - t"
   ]
  },
  {
   "cell_type": "code",
   "execution_count": 11,
   "metadata": {},
   "outputs": [
    {
     "name": "stdout",
     "output_type": "stream",
     "text": [
      "('Terrorism', 12393)\n",
      "('Books and Literature', 11222)\n",
      "('Politics and Government', 10589)\n",
      "('Baseball', 9039)\n",
      "('United States Politics and Government', 8295)\n",
      "('Motion Pictures', 7748)\n",
      "('Music', 7317)\n",
      "('Weddings and Engagements', 7280)\n",
      "('Medicine and Health', 6829)\n",
      "('Travel and Vacations', 6537)\n",
      "('Deaths (Obituaries)', 6438)\n",
      "('Television', 6171)\n",
      "('Football', 6070)\n",
      "('Computers and the Internet', 5952)\n",
      "('Basketball', 5746)\n"
     ]
    }
   ],
   "source": [
    "alldlist = sorted([(d, alld[d][0], alld[d][1]) for d in alld], key=lambda x: x[1], reverse=True)\n",
    "for x in range(15):\n",
    "    print(alldlist[x][0:2])"
   ]
  },
  {
   "cell_type": "code",
   "execution_count": 141,
   "metadata": {},
   "outputs": [],
   "source": [
    "def exclude(e, x):\n",
    "    for d in x.descriptors:\n",
    "        if d == e:\n",
    "            continue\n",
    "        if d in [t[0] for t in alldlist[:30]]:\n",
    "            return False\n",
    "    return True"
   ]
  },
  {
   "cell_type": "code",
   "execution_count": 13,
   "metadata": {},
   "outputs": [],
   "source": [
    "def getlist(topic):\n",
    "    return list(filter(lambda x: exclude(topic, x), alld[topic][1]))"
   ]
  },
  {
   "cell_type": "code",
   "execution_count": 110,
   "metadata": {},
   "outputs": [],
   "source": [
    "politics = getlist('Politics and Government')"
   ]
  },
  {
   "cell_type": "code",
   "execution_count": 111,
   "metadata": {},
   "outputs": [],
   "source": [
    "movies = getlist('Motion Pictures')"
   ]
  },
  {
   "cell_type": "code",
   "execution_count": 74,
   "metadata": {},
   "outputs": [],
   "source": [
    "books = getlist('Books and Literature')"
   ]
  },
  {
   "cell_type": "code",
   "execution_count": 17,
   "metadata": {},
   "outputs": [],
   "source": [
    "sports = getlist('Baseball') + getlist('Football')"
   ]
  },
  {
   "cell_type": "code",
   "execution_count": 112,
   "metadata": {},
   "outputs": [
    {
     "data": {
      "text/plain": [
       "(9979, 7374, 10499, 7370)"
      ]
     },
     "execution_count": 112,
     "metadata": {},
     "output_type": "execute_result"
    }
   ],
   "source": [
    "len(politics), len(movies), len(books), len(sports)"
   ]
  },
  {
   "cell_type": "code",
   "execution_count": null,
   "metadata": {},
   "outputs": [],
   "source": []
  },
  {
   "cell_type": "code",
   "execution_count": 19,
   "metadata": {},
   "outputs": [],
   "source": [
    "politics = sample(politics, 7370)"
   ]
  },
  {
   "cell_type": "code",
   "execution_count": 20,
   "metadata": {},
   "outputs": [],
   "source": [
    "movies = sample(movies, 7370)"
   ]
  },
  {
   "cell_type": "code",
   "execution_count": 21,
   "metadata": {},
   "outputs": [],
   "source": [
    "books = sample(books, 7370)"
   ]
  },
  {
   "cell_type": "code",
   "execution_count": 22,
   "metadata": {},
   "outputs": [],
   "source": [
    "sports = sample(sports, 7370)"
   ]
  },
  {
   "cell_type": "markdown",
   "metadata": {},
   "source": [
    "# Experiment: Male/Female Ratio"
   ]
  },
  {
   "cell_type": "code",
   "execution_count": 142,
   "metadata": {},
   "outputs": [
    {
     "name": "stdout",
     "output_type": "stream",
     "text": [
      "Terrorism 6899\n",
      "Books and Literature 7787\n",
      "Politics and Government 5649\n",
      "Baseball 8270\n",
      "United States Politics and Government 3634\n",
      "Motion Pictures 5895\n",
      "Music 4838\n",
      "Weddings and Engagements 7167\n",
      "Medicine and Health 5079\n",
      "Travel and Vacations 4555\n",
      "Deaths (Obituaries) 3738\n",
      "Television 4294\n",
      "Football 5593\n",
      "Computers and the Internet 4201\n",
      "Basketball 5410\n",
      "Art 3846\n",
      "Theater 3901\n",
      "Suits and Litigation 3275\n",
      "United States International Relations 2496\n",
      "United States Armament and Defense 2212\n",
      "International Relations 2631\n",
      "Children and Youth 2207\n",
      "Education and Schools 3074\n",
      "Elections 2068\n",
      "Environment 2415\n",
      "Housing 2784\n",
      "Automobiles 2639\n"
     ]
    },
    {
     "data": {
      "text/plain": [
       "27"
      ]
     },
     "execution_count": 142,
     "metadata": {},
     "output_type": "execute_result"
    }
   ],
   "source": [
    "lists = []\n",
    "for c in alldlist[:30]:\n",
    "    l = getlist(c[0])\n",
    "    if len(l) > 2000:\n",
    "        print(c[0], len(l))\n",
    "        lists.append(l)\n",
    "len(lists)"
   ]
  },
  {
   "cell_type": "code",
   "execution_count": 146,
   "metadata": {},
   "outputs": [],
   "source": [
    "def heshestats(m, w1, w2):\n",
    "    c1 = m.wv.vocab[w1].count #+ m.wv.vocab[w1_].count\n",
    "    c2 = m.wv.vocab[w2].count #+ m.wv.vocab[w2_].count\n",
    "    #print(c1, c2, c2/c1)\n",
    "    return c2/c1"
   ]
  },
  {
   "cell_type": "code",
   "execution_count": 144,
   "metadata": {},
   "outputs": [
    {
     "name": "stdout",
     "output_type": "stream",
     "text": [
      "14443 2707 0.18742643495118744\n",
      "18728 8495 0.4535988893635199\n",
      "16770 2663 0.15879546809779368\n",
      "29126 492 0.016892123875575087\n",
      "17186 2469 0.14366344699173747\n",
      "15933 6101 0.3829159605849495\n",
      "14728 5602 0.38036393264530144\n",
      "5119 5182 1.0123070912287555\n",
      "12091 6448 0.5332892233892979\n",
      "6763 3332 0.49268076297501107\n",
      "23219 4969 0.21400577113570782\n",
      "14508 5507 0.37958367797077475\n",
      "23644 580 0.024530536288276096\n",
      "10146 3115 0.30701754385964913\n",
      "22276 1743 0.07824564553779853\n",
      "16604 5778 0.34798843652132017\n",
      "13167 7451 0.5658844079896711\n",
      "13943 4111 0.2948432905400559\n",
      "12174 1353 0.11113849186791523\n",
      "14805 2654 0.17926376224248564\n",
      "10496 1374 0.13090701219512196\n",
      "14065 11199 0.7962317810167081\n",
      "11147 6672 0.5985466941778057\n",
      "18823 3508 0.18636774159273228\n",
      "8298 2153 0.2594601108700892\n",
      "12787 6793 0.5312426683350278\n",
      "10026 1905 0.19000598444045483\n"
     ]
    }
   ],
   "source": [
    "ms = []\n",
    "for l in lists:\n",
    "    m = getw2v(sample(l, 2000))\n",
    "    heshestats(m, 'he', 'she')\n",
    "    ms.append(m)"
   ]
  },
  {
   "cell_type": "code",
   "execution_count": 147,
   "metadata": {},
   "outputs": [],
   "source": [
    "heshes = []\n",
    "for m in ms:\n",
    "    heshes.append(heshestats(m, 'he', 'she'))"
   ]
  },
  {
   "cell_type": "code",
   "execution_count": 148,
   "metadata": {},
   "outputs": [
    {
     "name": "stdout",
     "output_type": "stream",
     "text": [
      "0.10755114227638267 0.18742643495118744\n",
      "0.04351092342586462 0.4535988893635199\n",
      "0.08117492493491607 0.15879546809779368\n",
      "0.23906051099345269 0.016892123875575087\n",
      "0.10965769848256052 0.14366344699173747\n",
      "0.07131090098361408 0.3829159605849495\n",
      "0.0511600704294268 0.38036393264530144\n",
      "0.1493787405409173 1.0123070912287555\n",
      "0.0746384320254947 0.5332892233892979\n",
      "0.039487039247005425 0.49268076297501107\n",
      "0.0834943001660846 0.21400577113570782\n",
      "0.06178147751563449 0.37958367797077475\n",
      "0.23035889131755666 0.024530536288276096\n",
      "0.11230526598537284 0.30701754385964913\n",
      "0.15911339820761766 0.07824564553779853\n",
      "0.03524149366149776 0.34798843652132017\n",
      "0.056935037403313 0.5658844079896711\n",
      "0.06072088706943589 0.2948432905400559\n",
      "0.08476496551964441 0.11113849186791523\n",
      "0.10880618581677481 0.17926376224248564\n",
      "0.10391273738562383 0.13090701219512196\n",
      "0.06930799046182697 0.7962317810167081\n",
      "0.06576247124122718 0.5985466941778057\n",
      "0.05862010479495102 0.18636774159273228\n",
      "0.12195312360464595 0.2594601108700892\n",
      "0.047254450624937556 0.5312426683350278\n",
      "0.3440743385858479 0.19000598444045483\n"
     ]
    }
   ],
   "source": [
    "biases = []\n",
    "for m in ms:\n",
    "    b = bias(getg(m), m, m.wv.vocab, proflist)\n",
    "    print(b, heshestats(m, 'he', 'she'))\n",
    "    biases.append(b)"
   ]
  },
  {
   "cell_type": "code",
   "execution_count": 150,
   "metadata": {},
   "outputs": [
    {
     "data": {
      "text/plain": [
       "[<matplotlib.lines.Line2D at 0x1363dbf60>]"
      ]
     },
     "execution_count": 150,
     "metadata": {},
     "output_type": "execute_result"
    },
    {
     "data": {
      "image/png": "[encoded data removed]",
      "text/plain": [
       "<Figure size 432x288 with 1 Axes>"
      ]
     },
     "metadata": {
      "needs_background": "light"
     },
     "output_type": "display_data"
    }
   ],
   "source": [
    "plt.plot(heshes, biases, \"o\")"
   ]
  },
  {
   "cell_type": "markdown",
   "metadata": {},
   "source": [
    "# Experiment: Length"
   ]
  },
  {
   "cell_type": "code",
   "execution_count": null,
   "metadata": {},
   "outputs": [],
   "source": [
    "# books is 10499 long, split into increments of 500"
   ]
  },
  {
   "cell_type": "code",
   "execution_count": 76,
   "metadata": {},
   "outputs": [],
   "source": [
    "bookslist = []\n",
    "for i in range(1, 21):\n",
    "    bookslist.append(sample(books, i*500))"
   ]
  },
  {
   "cell_type": "code",
   "execution_count": 113,
   "metadata": {},
   "outputs": [],
   "source": [
    "plist = []\n",
    "for i in range(2, 20):\n",
    "    plist.append(sample(politics, i*500))\n",
    "plist.append(politics)"
   ]
  },
  {
   "cell_type": "code",
   "execution_count": 114,
   "metadata": {},
   "outputs": [],
   "source": [
    "pmodels = [getw2v(p) for p in plist]"
   ]
  },
  {
   "cell_type": "code",
   "execution_count": 82,
   "metadata": {},
   "outputs": [],
   "source": [
    "booksmodels = [getw2v(b) for b in bookslist]"
   ]
  },
  {
   "cell_type": "code",
   "execution_count": 115,
   "metadata": {},
   "outputs": [
    {
     "name": "stdout",
     "output_type": "stream",
     "text": [
      "0.5772233574508546\n",
      "0.0734701767039027\n",
      "0.0688537814152118\n",
      "0.08305388300997958\n",
      "0.06266421009538382\n",
      "0.05534665679485859\n",
      "0.07938607440166894\n",
      "0.06768135385776182\n",
      "0.08162163002018975\n",
      "0.08094774881021471\n",
      "0.07494355367683826\n",
      "0.09051752739804284\n",
      "0.09702742212223557\n",
      "0.10574751904139042\n",
      "0.10613597846505556\n",
      "0.10079952142610644\n",
      "0.09749374895855079\n",
      "0.09925294766243084\n",
      "0.10362135741110567\n"
     ]
    }
   ],
   "source": [
    "pbias = []\n",
    "for m in pmodels:\n",
    "    b = bias(getg(m), m, m.wv.vocab, proflist)\n",
    "    print(b)\n",
    "    pbias.append(b)"
   ]
  },
  {
   "cell_type": "code",
   "execution_count": 94,
   "metadata": {},
   "outputs": [
    {
     "name": "stdout",
     "output_type": "stream",
     "text": [
      "0.9727325638135275\n",
      "0.045612330736406935\n",
      "0.04454958280516756\n",
      "0.04608471256797202\n",
      "0.05587483647625891\n",
      "0.05342771026891355\n",
      "0.06256595694921771\n",
      "0.0673831163421047\n",
      "0.06619414358791284\n",
      "0.06855078208813771\n",
      "0.075337888015471\n",
      "0.07627692876604004\n",
      "0.08308898592561793\n",
      "0.08104289494451168\n",
      "0.08403255242510363\n",
      "0.08511889418915994\n",
      "0.09022001865134682\n",
      "0.09121858018543917\n",
      "0.09542696736488897\n",
      "0.10060866628945977\n"
     ]
    }
   ],
   "source": [
    "bookbias = []\n",
    "for bm in booksmodels:\n",
    "    b = bias(getg(bm), bm, bm.wv.vocab, proflist)\n",
    "    print(b)\n",
    "    bookbias.append(b)"
   ]
  },
  {
   "cell_type": "code",
   "execution_count": 120,
   "metadata": {},
   "outputs": [
    {
     "data": {
      "text/plain": [
       "Text(0.5, 1.0, 'Projection Bias vs Number of Articles in Training Set')"
      ]
     },
     "execution_count": 120,
     "metadata": {},
     "output_type": "execute_result"
    },
    {
     "data": {
      "image/png": "[encoded data removed]",
      "text/plain": [
       "<Figure size 432x288 with 1 Axes>"
      ]
     },
     "metadata": {
      "needs_background": "light"
     },
     "output_type": "display_data"
    }
   ],
   "source": [
    "plt.plot([i*500 for i in range(3,21)], bookbias[2:], label=\"books\")\n",
    "plt.plot([i*500 for i in range(3,21)], pbias[1:], label=\"politics\")\n",
    "plt.legend()\n",
    "plt.title(\"Projection Bias vs Number of Articles in Training Set\")"
   ]
  },
  {
   "cell_type": "markdown",
   "metadata": {},
   "source": [
    "# Training Word Embeddings"
   ]
  },
  {
   "cell_type": "code",
   "execution_count": 81,
   "metadata": {},
   "outputs": [],
   "source": [
    "def getw2v(category):\n",
    "    sentences = []\n",
    "    for t in category:\n",
    "        sentences += nltk.sent_tokenize(t.text)\n",
    "    docs = [simple_preprocess(s) for s in sentences]\n",
    "    return Word2Vec(docs)"
   ]
  },
  {
   "cell_type": "code",
   "execution_count": 24,
   "metadata": {},
   "outputs": [
    {
     "data": {
      "text/plain": [
       "95.68879"
      ]
     },
     "execution_count": 24,
     "metadata": {},
     "output_type": "execute_result"
    }
   ],
   "source": [
    "t = time.process_time()\n",
    "msports = getw2v(sports)\n",
    "time.process_time() - t"
   ]
  },
  {
   "cell_type": "code",
   "execution_count": 58,
   "metadata": {},
   "outputs": [
    {
     "data": {
      "text/plain": [
       "163.753283"
      ]
     },
     "execution_count": 58,
     "metadata": {},
     "output_type": "execute_result"
    }
   ],
   "source": [
    "t = time.process_time()\n",
    "msports1 = getw2v(sports + sports)\n",
    "time.process_time() - t"
   ]
  },
  {
   "cell_type": "code",
   "execution_count": 48,
   "metadata": {},
   "outputs": [
    {
     "data": {
      "text/plain": [
       "371.57096499999994"
      ]
     },
     "execution_count": 48,
     "metadata": {},
     "output_type": "execute_result"
    }
   ],
   "source": [
    "t = time.process_time()\n",
    "msports2 = getw2v(sports + sports + sports + sports)\n",
    "time.process_time() - t"
   ]
  },
  {
   "cell_type": "code",
   "execution_count": 60,
   "metadata": {},
   "outputs": [
    {
     "data": {
      "text/plain": [
       "141.71859400000005"
      ]
     },
     "execution_count": 60,
     "metadata": {},
     "output_type": "execute_result"
    }
   ],
   "source": [
    "t = time.process_time()\n",
    "mpol = getw2v(politics)\n",
    "time.process_time() - t"
   ]
  },
  {
   "cell_type": "code",
   "execution_count": 68,
   "metadata": {},
   "outputs": [
    {
     "data": {
      "text/plain": [
       "187.84100700000022"
      ]
     },
     "execution_count": 68,
     "metadata": {},
     "output_type": "execute_result"
    }
   ],
   "source": [
    "t = time.process_time()\n",
    "mpol1 = getw2v(politics + politics)\n",
    "time.process_time() - t"
   ]
  },
  {
   "cell_type": "code",
   "execution_count": 69,
   "metadata": {},
   "outputs": [
    {
     "data": {
      "text/plain": [
       "352.6542690000001"
      ]
     },
     "execution_count": 69,
     "metadata": {},
     "output_type": "execute_result"
    }
   ],
   "source": [
    "t = time.process_time()\n",
    "mpol2 = getw2v(politics + politics + politics + politics)\n",
    "time.process_time() - t"
   ]
  },
  {
   "cell_type": "code",
   "execution_count": 59,
   "metadata": {},
   "outputs": [
    {
     "data": {
      "text/plain": [
       "115.31121599999994"
      ]
     },
     "execution_count": 59,
     "metadata": {},
     "output_type": "execute_result"
    }
   ],
   "source": [
    "t = time.process_time()\n",
    "mmov = getw2v(movies)\n",
    "time.process_time() - t"
   ]
  },
  {
   "cell_type": "code",
   "execution_count": 70,
   "metadata": {},
   "outputs": [
    {
     "data": {
      "text/plain": [
       "261.3358850000004"
      ]
     },
     "execution_count": 70,
     "metadata": {},
     "output_type": "execute_result"
    }
   ],
   "source": [
    "t = time.process_time()\n",
    "mmov1 = getw2v(movies + movies)\n",
    "time.process_time() - t"
   ]
  },
  {
   "cell_type": "code",
   "execution_count": 71,
   "metadata": {},
   "outputs": [
    {
     "data": {
      "text/plain": [
       "421.18423699999994"
      ]
     },
     "execution_count": 71,
     "metadata": {},
     "output_type": "execute_result"
    }
   ],
   "source": [
    "t = time.process_time()\n",
    "mmov2 = getw2v(movies + movies + movies + movies)\n",
    "time.process_time() - t"
   ]
  },
  {
   "cell_type": "code",
   "execution_count": 61,
   "metadata": {},
   "outputs": [
    {
     "data": {
      "text/plain": [
       "118.71266199999991"
      ]
     },
     "execution_count": 61,
     "metadata": {},
     "output_type": "execute_result"
    }
   ],
   "source": [
    "t = time.process_time()\n",
    "mbooks = getw2v(books)\n",
    "time.process_time() - t"
   ]
  },
  {
   "cell_type": "code",
   "execution_count": 62,
   "metadata": {},
   "outputs": [
    {
     "data": {
      "text/plain": [
       "231.03794900000003"
      ]
     },
     "execution_count": 62,
     "metadata": {},
     "output_type": "execute_result"
    }
   ],
   "source": [
    "t = time.process_time()\n",
    "mbooks1 = getw2v(books + books)\n",
    "time.process_time() - t"
   ]
  },
  {
   "cell_type": "code",
   "execution_count": 63,
   "metadata": {},
   "outputs": [
    {
     "data": {
      "text/plain": [
       "499.228335"
      ]
     },
     "execution_count": 63,
     "metadata": {},
     "output_type": "execute_result"
    }
   ],
   "source": [
    "t = time.process_time()\n",
    "mbooks2 = getw2v(books + books + books + books)\n",
    "time.process_time() - t"
   ]
  },
  {
   "cell_type": "code",
   "execution_count": 10,
   "metadata": {},
   "outputs": [],
   "source": [
    "def top5(word):\n",
    "    for m in [mpol, mbooks, mmov, msports]:\n",
    "        print([x[0] for x in m.wv.most_similar(positive=[word], topn=5)])"
   ]
  },
  {
   "cell_type": "code",
   "execution_count": 198,
   "metadata": {},
   "outputs": [
    {
     "name": "stdout",
     "output_type": "stream",
     "text": [
      "['supremacist', 'collar', 'plains', 'assembly', 'congressional']\n",
      "['family', 'apartment', 'petal', 'mansion', 'farmhouse']\n",
      "['mansion', 'houses', 'neighborhood', 'castle', 'cemetery']\n",
      "['apartment', 'restaurant', 'store', 'shop', 'queens']\n"
     ]
    }
   ],
   "source": [
    "top5('house')"
   ]
  },
  {
   "cell_type": "code",
   "execution_count": 199,
   "metadata": {},
   "outputs": [
    {
     "name": "stdout",
     "output_type": "stream",
     "text": [
      "['difficulty', 'credibility', 'weakness', 'vision', 'strength']\n",
      "['popularity', 'achievement', 'goal', 'fame', 'criticism']\n",
      "['popularity', 'ambitions', 'hit', 'decline', 'commercial']\n",
      "['experience', 'talent', 'confidence', 'patience', 'swagger']\n"
     ]
    }
   ],
   "source": [
    "top5('success')"
   ]
  },
  {
   "cell_type": "code",
   "execution_count": 200,
   "metadata": {},
   "outputs": [
    {
     "name": "stdout",
     "output_type": "stream",
     "text": [
      "['seats', 'district', 'race', 'nomination', 'contest']\n",
      "['chair', 'plane', 'truck', 'door', 'bedroom']\n",
      "['chair', 'window', 'bed', 'truck', 'kitchen']\n",
      "['seats', 'suite', 'apartment', 'gate', 'windows']\n"
     ]
    }
   ],
   "source": [
    "top5('seat')"
   ]
  },
  {
   "cell_type": "code",
   "execution_count": 201,
   "metadata": {},
   "outputs": [
    {
     "name": "stdout",
     "output_type": "stream",
     "text": [
      "['good', 'greatest', 'whatever', 'whole', 'great']\n",
      "['greatest', 'top', 'nonfiction', 'list', 'finest']\n",
      "['oscars', 'prize', 'oscar', 'award', 'nominated']\n",
      "['worst', 'greatest', 'biggest', 'strongest', 'toughest']\n"
     ]
    }
   ],
   "source": [
    "top5(\"best\")"
   ]
  },
  {
   "cell_type": "markdown",
   "metadata": {},
   "source": [
    "# Summarization"
   ]
  },
  {
   "cell_type": "markdown",
   "metadata": {},
   "source": [
    "## TextRank"
   ]
  },
  {
   "cell_type": "code",
   "execution_count": 34,
   "metadata": {},
   "outputs": [],
   "source": [
    "def getsummaries(category):\n",
    "    s = []\n",
    "    fails = []\n",
    "    for i in range(len(category)):\n",
    "        try:\n",
    "            s.append(summarize(category[i].text, word_count=200))\n",
    "        except:\n",
    "            fails.append(i)\n",
    "            print(i)\n",
    "    return s, fails"
   ]
  },
  {
   "cell_type": "code",
   "execution_count": null,
   "metadata": {},
   "outputs": [],
   "source": [
    "t = time.process_time()\n",
    "summaries_pol, fpol = getsummaries(politics)\n",
    "time.process_time() - t"
   ]
  },
  {
   "cell_type": "code",
   "execution_count": 35,
   "metadata": {},
   "outputs": [
    {
     "name": "stdout",
     "output_type": "stream",
     "text": [
      "166\n",
      "1831\n",
      "5320\n",
      "5643\n",
      "6149\n",
      "7366\n"
     ]
    },
    {
     "data": {
      "text/plain": [
       "109.888758"
      ]
     },
     "execution_count": 35,
     "metadata": {},
     "output_type": "execute_result"
    }
   ],
   "source": [
    "t = time.process_time()\n",
    "summaries_pol, fpol = getsummaries(politics)\n",
    "time.process_time() - t"
   ]
  },
  {
   "cell_type": "code",
   "execution_count": 36,
   "metadata": {},
   "outputs": [
    {
     "name": "stdout",
     "output_type": "stream",
     "text": [
      "1591\n",
      "3842\n",
      "6966\n"
     ]
    },
    {
     "data": {
      "text/plain": [
       "122.95149700000002"
      ]
     },
     "execution_count": 36,
     "metadata": {},
     "output_type": "execute_result"
    }
   ],
   "source": [
    "t = time.process_time()\n",
    "summaries_mov, fmov = getsummaries(movies)\n",
    "time.process_time() - t"
   ]
  },
  {
   "cell_type": "code",
   "execution_count": 37,
   "metadata": {},
   "outputs": [
    {
     "name": "stdout",
     "output_type": "stream",
     "text": [
      "238\n",
      "5562\n",
      "6553\n",
      "7021\n"
     ]
    },
    {
     "data": {
      "text/plain": [
       "121.83292399999993"
      ]
     },
     "execution_count": 37,
     "metadata": {},
     "output_type": "execute_result"
    }
   ],
   "source": [
    "t = time.process_time()\n",
    "summaries_bks, fbks = getsummaries(books)\n",
    "time.process_time() - t"
   ]
  },
  {
   "cell_type": "markdown",
   "metadata": {},
   "source": [
    "## Centroid BOW Summarizer"
   ]
  },
  {
   "cell_type": "code",
   "execution_count": 82,
   "metadata": {},
   "outputs": [],
   "source": [
    "def getbows(category):\n",
    "    s = []\n",
    "    centroid_summarizer = text_summarizer.CentroidBOWSummarizer()\n",
    "    for i in category:\n",
    "        try:\n",
    "            s.append(centroid_summarizer.summarize(i.text, limit=200-30))\n",
    "        except:\n",
    "            print(i)\n",
    "    return s"
   ]
  },
  {
   "cell_type": "code",
   "execution_count": 39,
   "metadata": {},
   "outputs": [
    {
     "data": {
      "text/plain": [
       "134.52433099999996"
      ]
     },
     "execution_count": 39,
     "metadata": {},
     "output_type": "execute_result"
    }
   ],
   "source": [
    "t = time.process_time()\n",
    "bow_pol = getbows(politics)\n",
    "time.process_time() - t"
   ]
  },
  {
   "cell_type": "code",
   "execution_count": 40,
   "metadata": {},
   "outputs": [
    {
     "data": {
      "text/plain": [
       "7370"
      ]
     },
     "execution_count": 40,
     "metadata": {},
     "output_type": "execute_result"
    }
   ],
   "source": [
    "len(bow_pol)"
   ]
  },
  {
   "cell_type": "code",
   "execution_count": 83,
   "metadata": {},
   "outputs": [
    {
     "data": {
      "text/plain": [
       "147.18170899999996"
      ]
     },
     "execution_count": 83,
     "metadata": {},
     "output_type": "execute_result"
    }
   ],
   "source": [
    "t = time.process_time()\n",
    "bow_bks = getbows(books)\n",
    "time.process_time() - t"
   ]
  },
  {
   "cell_type": "code",
   "execution_count": 42,
   "metadata": {},
   "outputs": [
    {
     "data": {
      "text/plain": [
       "135.9884790000001"
      ]
     },
     "execution_count": 42,
     "metadata": {},
     "output_type": "execute_result"
    }
   ],
   "source": [
    "t = time.process_time()\n",
    "bow_mov = getbows(movies)\n",
    "time.process_time() - t"
   ]
  },
  {
   "cell_type": "markdown",
   "metadata": {},
   "source": [
    "## Pseudo-summaries"
   ]
  },
  {
   "cell_type": "code",
   "execution_count": 43,
   "metadata": {},
   "outputs": [],
   "source": [
    "def getctrls(category):\n",
    "    ctrls = []\n",
    "    for a in category:\n",
    "        sents = nltk.sent_tokenize(a.text)\n",
    "        rs = [i for i in range(len(sents))]\n",
    "        shuffle(rs)\n",
    "        ctrl = []\n",
    "        count = 0\n",
    "        for r in rs:\n",
    "            if count > 200-5:\n",
    "                break\n",
    "            count += len(nltk.word_tokenize(sents[r]))\n",
    "            ctrl.append(sents[r])\n",
    "        summary = \"\\n\".join([s for s in ctrl])\n",
    "        ctrls.append(summary)\n",
    "    return ctrls"
   ]
  },
  {
   "cell_type": "code",
   "execution_count": 44,
   "metadata": {},
   "outputs": [
    {
     "data": {
      "text/plain": [
       "21.034067999999934"
      ]
     },
     "execution_count": 44,
     "metadata": {},
     "output_type": "execute_result"
    }
   ],
   "source": [
    "t = time.process_time()\n",
    "ctrls_pol = getctrls(politics)\n",
    "time.process_time() - t"
   ]
  },
  {
   "cell_type": "code",
   "execution_count": 45,
   "metadata": {},
   "outputs": [
    {
     "data": {
      "text/plain": [
       "22.829864999999927"
      ]
     },
     "execution_count": 45,
     "metadata": {},
     "output_type": "execute_result"
    }
   ],
   "source": [
    "t = time.process_time()\n",
    "ctrls_bks = getctrls(books)\n",
    "time.process_time() - t"
   ]
  },
  {
   "cell_type": "code",
   "execution_count": 46,
   "metadata": {},
   "outputs": [
    {
     "data": {
      "text/plain": [
       "22.42926299999999"
      ]
     },
     "execution_count": 46,
     "metadata": {},
     "output_type": "execute_result"
    }
   ],
   "source": [
    "t = time.process_time()\n",
    "ctrls_mov = getctrls(movies)\n",
    "time.process_time() - t"
   ]
  },
  {
   "cell_type": "markdown",
   "metadata": {},
   "source": [
    "# Training Word Embeddings on Summaries"
   ]
  },
  {
   "cell_type": "code",
   "execution_count": 47,
   "metadata": {},
   "outputs": [],
   "source": [
    "def getw2v_s(sums):\n",
    "    sentences = []\n",
    "    for t in sums:\n",
    "        sentences += nltk.sent_tokenize(t)\n",
    "    docs = [simple_preprocess(s) for s in sentences]\n",
    "    return Word2Vec(docs)"
   ]
  },
  {
   "cell_type": "code",
   "execution_count": 48,
   "metadata": {},
   "outputs": [],
   "source": [
    "mpol_s = getw2v_s(summaries_pol)"
   ]
  },
  {
   "cell_type": "code",
   "execution_count": 49,
   "metadata": {},
   "outputs": [],
   "source": [
    "mbks_s = getw2v_s(summaries_bks)"
   ]
  },
  {
   "cell_type": "code",
   "execution_count": 50,
   "metadata": {},
   "outputs": [],
   "source": [
    "mmov_s = getw2v_s(summaries_mov)"
   ]
  },
  {
   "cell_type": "code",
   "execution_count": 84,
   "metadata": {},
   "outputs": [],
   "source": [
    "# mpol_b = getw2v_s(bow_pol)\n",
    "mbks_b = getw2v_s(bow_bks)\n",
    "# mmov_b = getw2v_s(bow_mov)"
   ]
  },
  {
   "cell_type": "code",
   "execution_count": 52,
   "metadata": {},
   "outputs": [],
   "source": [
    "mpol_c = getw2v_s(ctrls_pol)\n",
    "mbks_c = getw2v_s(ctrls_bks)\n",
    "mmov_c = getw2v_s(ctrls_mov)"
   ]
  },
  {
   "cell_type": "code",
   "execution_count": 163,
   "metadata": {},
   "outputs": [],
   "source": [
    "dill.dump_session('thesis_env2.db')"
   ]
  },
  {
   "cell_type": "markdown",
   "metadata": {},
   "source": [
    "# Data Count"
   ]
  },
  {
   "cell_type": "code",
   "execution_count": 164,
   "metadata": {},
   "outputs": [
    {
     "data": {
      "text/plain": [
       "(7370, 7370, 7370, 7370)"
      ]
     },
     "execution_count": 164,
     "metadata": {},
     "output_type": "execute_result"
    }
   ],
   "source": [
    "len(politics), len(books), len(movies), len(sports)"
   ]
  },
  {
   "cell_type": "code",
   "execution_count": 204,
   "metadata": {},
   "outputs": [
    {
     "name": "stdout",
     "output_type": "stream",
     "text": [
      "1022.20434192673\n",
      "1204.5089552238805\n",
      "1174.7398914518317\n",
      "975.4926729986431\n"
     ]
    }
   ],
   "source": [
    "for x in [politics, books, movies, sports]:\n",
    "    print(np.mean([len(nltk.word_tokenize(a.text)) for a in x]))"
   ]
  },
  {
   "cell_type": "code",
   "execution_count": 167,
   "metadata": {},
   "outputs": [
    {
     "name": "stdout",
     "output_type": "stream",
     "text": [
      "7533646\n",
      "8877231\n",
      "8657833\n",
      "7189381\n"
     ]
    }
   ],
   "source": [
    "for x in [politics, books, movies, sports]:\n",
    "    print(sum([len(nltk.word_tokenize(a.text)) for a in x]))"
   ]
  },
  {
   "cell_type": "code",
   "execution_count": 169,
   "metadata": {},
   "outputs": [
    {
     "name": "stdout",
     "output_type": "stream",
     "text": [
      "1651028\n",
      "1728963\n",
      "1776150\n",
      "1693673\n"
     ]
    }
   ],
   "source": [
    "for x in [summaries_pol, summaries_bks, summaries_mov, summaries_spts]:\n",
    "    print(sum([len(nltk.word_tokenize(a)) for a in x]))"
   ]
  },
  {
   "cell_type": "code",
   "execution_count": 170,
   "metadata": {},
   "outputs": [
    {
     "name": "stdout",
     "output_type": "stream",
     "text": [
      "1654079\n",
      "1664973\n",
      "1686927\n",
      "1594135\n"
     ]
    }
   ],
   "source": [
    "for x in [bow_pol, bow_bks, bow_mov, bow_spts]:\n",
    "    print(sum([len(nltk.word_tokenize(a)) for a in x]))"
   ]
  },
  {
   "cell_type": "code",
   "execution_count": 175,
   "metadata": {},
   "outputs": [
    {
     "name": "stdout",
     "output_type": "stream",
     "text": [
      "1651997\n",
      "1610595\n",
      "1624683\n",
      "1594895\n"
     ]
    }
   ],
   "source": [
    "for x in [ctrls_pol, ctrls_bks, ctrls_mov, ctrls_spts]:\n",
    "    print(sum([len(nltk.word_tokenize(a)) for a in x]))"
   ]
  },
  {
   "cell_type": "code",
   "execution_count": null,
   "metadata": {},
   "outputs": [],
   "source": [
    "for m in [mpol, mbooks, mmov, msports]:\n",
    "    print(m.wv.vocab['she'].count, m.wv.vocab['he'].count)"
   ]
  },
  {
   "cell_type": "code",
   "execution_count": 183,
   "metadata": {},
   "outputs": [
    {
     "name": "stdout",
     "output_type": "stream",
     "text": [
      "7827 8938\n",
      "36723 12895\n",
      "26108 10990\n",
      "1891 20541\n"
     ]
    }
   ],
   "source": [
    "for m in [mpol, mbooks, mmov, msports]:\n",
    "    print(m.wv.vocab['her'].count, m.wv.vocab['him'].count)"
   ]
  },
  {
   "cell_type": "code",
   "execution_count": 184,
   "metadata": {},
   "outputs": [
    {
     "name": "stdout",
     "output_type": "stream",
     "text": [
      "990 2431\n",
      "3629 7280\n",
      "3336 6874\n",
      "191 2440\n"
     ]
    }
   ],
   "source": [
    "for m in [mpol, mbooks, mmov, msports]:\n",
    "    print(m.wv.vocab['woman'].count, m.wv.vocab['man'].count)"
   ]
  },
  {
   "cell_type": "markdown",
   "metadata": {},
   "source": [
    "# Bias"
   ]
  },
  {
   "cell_type": "code",
   "execution_count": 144,
   "metadata": {},
   "outputs": [
    {
     "name": "stdout",
     "output_type": "stream",
     "text": [
      "0.35275307\n"
     ]
    },
    {
     "data": {
      "text/plain": [
       "0.32663773588579276"
      ]
     },
     "execution_count": 144,
     "metadata": {},
     "output_type": "execute_result"
    }
   ],
   "source": [
    "vocab = vocab & set(msports.wv.vocab)\n",
    "gspts = getg(msports)\n",
    "bias(gspts, msports, vocab, proflist)"
   ]
  },
  {
   "cell_type": "code",
   "execution_count": 146,
   "metadata": {},
   "outputs": [
    {
     "name": "stdout",
     "output_type": "stream",
     "text": [
      "295\n",
      "4071\n",
      "4800\n",
      "5414\n",
      "7092\n"
     ]
    }
   ],
   "source": [
    "summaries_spts, fspts = getsummaries(sports)"
   ]
  },
  {
   "cell_type": "code",
   "execution_count": 147,
   "metadata": {},
   "outputs": [],
   "source": [
    "mspts_s = getw2v_s(summaries_spts)\n",
    "bow_spts = getbows(sports)\n",
    "mspts_b = getw2v_s(bow_spts)\n",
    "ctrls_spts = getctrls(sports)\n",
    "mspts_c = getw2v_s(ctrls_spts)"
   ]
  },
  {
   "cell_type": "code",
   "execution_count": 145,
   "metadata": {},
   "outputs": [
    {
     "data": {
      "text/plain": [
       "<gensim.models.word2vec.Word2Vec at 0x185ff4400>"
      ]
     },
     "execution_count": 145,
     "metadata": {},
     "output_type": "execute_result"
    }
   ],
   "source": [
    "# mpol, mmov, mbooks, msports\n",
    "# summaries_{pol, mov, bks, spts}\n",
    "# m{pol, mov, bks}_{s, b, c}\n",
    "# bow_{pol, mov, bks}\n",
    "# ctrls_{pol, mov, bks}"
   ]
  },
  {
   "cell_type": "code",
   "execution_count": 156,
   "metadata": {},
   "outputs": [],
   "source": [
    "mdict = {\"politics\": [], \"books\": [], \"movies\": [], \"sports\": []}\n",
    "mdictadd([mpol, mmov, mbooks, msports])\n",
    "mdictadd([mpol_s, mbks_s, mmov_s, mspts_s])\n",
    "mdictadd([mpol_b, mbks_b, mmov_b, mspts_b])\n",
    "mdictadd([mpol_c, mbks_c, mmov_c, mspts_c])"
   ]
  },
  {
   "cell_type": "code",
   "execution_count": 157,
   "metadata": {},
   "outputs": [
    {
     "name": "stdout",
     "output_type": "stream",
     "text": [
      "0.34343678\n",
      "0.52675015\n",
      "0.5915069\n",
      "0.35275307\n",
      "0.31522945\n",
      "0.78374213\n",
      "0.62817353\n",
      "0.49360958\n",
      "0.31965494\n",
      "0.8359838\n",
      "0.7387123\n",
      "0.51820844\n",
      "0.32400513\n",
      "0.768514\n",
      "0.6437023\n",
      "0.48822078\n"
     ]
    }
   ],
   "source": [
    "labels = [\"original\", \"summary (TextRank)\", \"summary (Centroid-BOW)\", \"summary (control)\"]\n",
    "gdict = {\"politics\": [], \"books\": [], \"movies\": [], \"sports\": []}\n",
    "gdictadd([mpol, mmov, mbooks, msports])\n",
    "gdictadd([mpol_s, mbks_s, mmov_s, mspts_s])\n",
    "gdictadd([mpol_b, mbks_b, mmov_b, mspts_b])\n",
    "gdictadd([mpol_c, mbks_c, mmov_c, mspts_c])"
   ]
  },
  {
   "cell_type": "code",
   "execution_count": 64,
   "metadata": {},
   "outputs": [
    {
     "data": {
      "text/plain": [
       "16477"
      ]
     },
     "execution_count": 64,
     "metadata": {},
     "output_type": "execute_result"
    }
   ],
   "source": [
    "vocab = set(mpol.wv.vocab)\n",
    "for m in [mpol, mmov, mbooks, msports]:\n",
    "    vocab &= set(m.wv.vocab)\n",
    "len(vocab)"
   ]
  },
  {
   "cell_type": "code",
   "execution_count": 151,
   "metadata": {},
   "outputs": [
    {
     "data": {
      "text/plain": [
       "5573"
      ]
     },
     "execution_count": 151,
     "metadata": {},
     "output_type": "execute_result"
    }
   ],
   "source": [
    "vocab_all = set(vocab)\n",
    "for m in [mpol_s, mbks_s, mmov_s, mspts_s] + \\\n",
    "[mpol_b, mbks_b, mmov_b, mspts_b] + \\\n",
    "[mpol_c, mbks_c, mmov_c, mspts_c]:\n",
    "    vocab_all &= set(m.wv.vocab)\n",
    "len(vocab_all)"
   ]
  },
  {
   "cell_type": "code",
   "execution_count": 152,
   "metadata": {},
   "outputs": [],
   "source": [
    "vocab2 = vocab_all"
   ]
  },
  {
   "cell_type": "code",
   "execution_count": 90,
   "metadata": {},
   "outputs": [],
   "source": [
    "proflist = list(filter(lambda x: x in mbooks.wv.vocab, [p[0] for p in profs]))"
   ]
  },
  {
   "cell_type": "code",
   "execution_count": 39,
   "metadata": {},
   "outputs": [],
   "source": [
    "with open('debiaswe-master/data/equalize_pairs.json') as f:\n",
    "    pairs = json.loads(f.read())\n",
    "pairs = list(map(lambda x: [x[0].lower(), x[1].lower()], pairs))\n",
    "with open('debiaswe-master/data/professions.json') as f:\n",
    "    profs = json.loads(f.read())\n",
    "# proflist = list(filter(lambda x: x in mpol.wv.vocab, [p[0] for p in profs if abs(p[1]) < 0.6]))\n",
    "with open('debiaswe-master/data/gender_specific_seed.json') as f:\n",
    "    gender_specific = json.loads(f.read())\n",
    "with open('objects.csv') as csv_file:\n",
    "    objects = csv_file.read().split(\"\\n\")\n",
    "objects[0] = 'angle'\n",
    "with open('cities.csv') as csv_file:\n",
    "    cities = csv_file.read().split(\",\")\n",
    "cities = [x.lower() for x in cities]"
   ]
  },
  {
   "cell_type": "code",
   "execution_count": 83,
   "metadata": {},
   "outputs": [],
   "source": [
    "def getg(m):\n",
    "    matrix = []\n",
    "    for a, b in pairs:\n",
    "        if a not in m.wv.vocab or b not in m.wv.vocab:\n",
    "            continue\n",
    "        center = (m.wv.get_vector(a) + m.wv.get_vector(b))/2\n",
    "        matrix.append(m.wv.get_vector(a) - center)\n",
    "        matrix.append(m.wv.get_vector(b) - center)\n",
    "    matrix = np.array(matrix)\n",
    "    p = PCA(n_components = 10)\n",
    "    p.fit(matrix)\n",
    "    # print(p.explained_variance_ratio_[0])\n",
    "#         plt.bar(range(10), p.explained_variance_ratio_)\n",
    "#         plt.title(\"Explained Variance vs Component Number (\" + t + \")\")\n",
    "    return p.components_[0]"
   ]
  },
  {
   "cell_type": "code",
   "execution_count": 135,
   "metadata": {},
   "outputs": [],
   "source": [
    "def gproj2(g1, g2, m, w1):\n",
    "    wvec = m.wv.get_vector(w1)\n",
    "    # g = project wvec onto g1, g2 subspace\n",
    "    A = np.hstack((g1.reshape(100,1),g2.reshape(100,1)))\n",
    "    P = A @ np.linalg.inv(A.T @ A) @ A.T\n",
    "    g = P @ wvec\n",
    "    p = np.dot(g, wvec)/(np.linalg.norm(g)*np.linalg.norm(wvec))\n",
    "    return p"
   ]
  },
  {
   "cell_type": "code",
   "execution_count": 136,
   "metadata": {},
   "outputs": [
    {
     "name": "stdout",
     "output_type": "stream",
     "text": [
      "0.3386617\n",
      "though          0.00 \t\t chairman        0.87\n",
      "proper          0.00 \t\t democrat        0.85\n",
      "translate       0.00 \t\t speaker         0.81\n",
      "combined        0.01 \t\t chief           0.79\n",
      "modernity       0.01 \t\t james           0.79\n",
      "fears           0.01 \t\t lawyer          0.78\n",
      "moral           0.01 \t\t jr              0.78\n",
      "excess          0.01 \t\t member          0.78\n",
      "meaningful      0.01 \t\t leader          0.78\n",
      "collection      0.01 \t\t secretary       0.77\n",
      "sport           0.01 \t\t representative  0.77\n",
      "dragging        0.01 \t\t john            0.76\n",
      "practices       0.01 \t\t david           0.76\n",
      "shifting        0.01 \t\t congressman     0.75\n",
      "expenses        0.01 \t\t deputy          0.75\n"
     ]
    }
   ],
   "source": [
    "gpol_s1, gpol_s2 = getg(mpol_s)\n",
    "res = sorted([(x, gproj2(gpol_s1, gpol_s2, mpol_s, x)) for x in filter(lambda x: x in vocab2, vocab2)], key=lambda x: x[1])\n",
    "for i in range(15):\n",
    "    print(f\"{res[i][0].ljust(15)} {res[i][1]:.2f} \\t\\t {res[-i-1][0].ljust(15)} {res[-i-1][1]:.2f}\")"
   ]
  },
  {
   "cell_type": "code",
   "execution_count": 32,
   "metadata": {},
   "outputs": [],
   "source": [
    "def gdictadd(models):\n",
    "    for i in range(len(models)):\n",
    "        gdict[list(gdict)[i]].append(getg(models[i]))"
   ]
  },
  {
   "cell_type": "code",
   "execution_count": 33,
   "metadata": {},
   "outputs": [],
   "source": [
    "def mdictadd(models):\n",
    "    for i in range(len(models)):\n",
    "        mdict[list(mdict)[i]].append(models[i])"
   ]
  },
  {
   "cell_type": "code",
   "execution_count": 28,
   "metadata": {},
   "outputs": [],
   "source": [
    "def gproj(g, m, w1):\n",
    "    wvec = m.wv.get_vector(w1)\n",
    "    p = np.dot(g, wvec)/(np.linalg.norm(g)*np.linalg.norm(wvec))\n",
    "    return p"
   ]
  },
  {
   "cell_type": "code",
   "execution_count": 84,
   "metadata": {},
   "outputs": [],
   "source": [
    "def bias(g, m, vocab, wordlist):\n",
    "    b = 0\n",
    "    l = list(filter(lambda x: x in vocab, wordlist))\n",
    "    for x in l:\n",
    "        b += abs(gproj(g, m, x))\n",
    "    return b/len(l)"
   ]
  },
  {
   "cell_type": "code",
   "execution_count": 36,
   "metadata": {},
   "outputs": [
    {
     "data": {
      "text/plain": [
       "[<gensim.models.word2vec.Word2Vec at 0x1188db518>,\n",
       " <gensim.models.word2vec.Word2Vec at 0x16d225c50>]"
      ]
     },
     "execution_count": 36,
     "metadata": {},
     "output_type": "execute_result"
    }
   ],
   "source": [
    "models"
   ]
  },
  {
   "cell_type": "code",
   "execution_count": 87,
   "metadata": {},
   "outputs": [],
   "source": [
    "proflist = list(filter(lambda x: x in mbooks.wv.vocab, [p[0] for p in profs if abs(p[1]) < 0.6]))"
   ]
  },
  {
   "cell_type": "code",
   "execution_count": 47,
   "metadata": {},
   "outputs": [
    {
     "name": "stdout",
     "output_type": "stream",
     "text": [
      "0.34738272\n",
      "0.2716877\n",
      "    sports 0.298 0.164 0.266 0.231 0.334\n",
      "   sports2 0.289 0.149 0.269 0.204 0.324\n"
     ]
    }
   ],
   "source": [
    "gdict = {\"sports\": [], \"sports2\": []}\n",
    "mdict = {\"sports\": [], \"sports2\": []}\n",
    "models = [msports, msports1]\n",
    "gdictadd(models)\n",
    "mdictadd(models)\n",
    "for i in gdict:\n",
    "    print(\"%10s\" % i, \\\n",
    "          \"%.3f\" % bias(gdict[i][0], mdict[i][0], vocab, proflist), \\\n",
    "          \"%.3f\" % bias(gdict[i][0], mdict[i][0], vocab, adjectives), \\\n",
    "          \"%.3f\" % bias(gdict[i][0], mdict[i][0], vocab, cities), \\\n",
    "          \"%.3f\" % bias(gdict[i][0], mdict[i][0], vocab, objects), \\\n",
    "          \"%.3f\" % bias(gdict[i][0], mdict[i][0], vocab, gender_specific))"
   ]
  },
  {
   "cell_type": "code",
   "execution_count": 66,
   "metadata": {},
   "outputs": [
    {
     "name": "stdout",
     "output_type": "stream",
     "text": [
      "0.34738272\n",
      "0.28547773\n",
      "0.23369507\n",
      "    sports 0.306 0.166 0.129 0.352\n",
      "   sports1 0.299 0.156 0.134 0.343\n",
      "   sports2 0.242 0.132 0.117 0.297\n"
     ]
    }
   ],
   "source": [
    "gdict = {\"sports\": [], \"sports1\": [], \"sports2\": []}\n",
    "mdict = {\"sports\": [], \"sports1\": [], \"sports2\": []}\n",
    "models = [msports, msports1, msports2]\n",
    "gdictadd(models)\n",
    "mdictadd(models)\n",
    "for i in gdict:\n",
    "    print(\"%10s\" % i, \\\n",
    "          \"%.3f\" % bias(gdict[i][0], mdict[i][0], vocab, proflist), \\\n",
    "          \"%.3f\" % bias(gdict[i][0], mdict[i][0], vocab, adjectives), \\\n",
    "          \"%.3f\" % bias(gdict[i][0], mdict[i][0], vocab, grammar), \\\n",
    "          \"%.3f\" % bias(gdict[i][0], mdict[i][0], vocab, gender_specific))"
   ]
  },
  {
   "cell_type": "code",
   "execution_count": 72,
   "metadata": {},
   "outputs": [
    {
     "name": "stdout",
     "output_type": "stream",
     "text": [
      "0.5087397\n",
      "0.40879804\n",
      "0.3250344\n",
      "       mov 0.085 0.087 0.039 0.172\n",
      "      mov1 0.094 0.083 0.040 0.184\n",
      "      mov2 0.096 0.082 0.046 0.188\n"
     ]
    }
   ],
   "source": [
    "gdict = {\"mov\": [], \"mov1\": [], \"mov2\": []}\n",
    "mdict = {\"mov\": [], \"mov1\": [], \"mov2\": []}\n",
    "models = [mmov, mmov1, mmov2]\n",
    "gdictadd(models)\n",
    "mdictadd(models)\n",
    "for i in gdict:\n",
    "    print(\"%10s\" % i, \\\n",
    "          \"%.3f\" % bias(gdict[i][0], mdict[i][0], vocab, proflist), \\\n",
    "          \"%.3f\" % bias(gdict[i][0], mdict[i][0], vocab, adjectives), \\\n",
    "          \"%.3f\" % bias(gdict[i][0], mdict[i][0], vocab, grammar), \\\n",
    "          \"%.3f\" % bias(gdict[i][0], mdict[i][0], vocab, gender_specific))"
   ]
  },
  {
   "cell_type": "code",
   "execution_count": 73,
   "metadata": {},
   "outputs": [
    {
     "name": "stdout",
     "output_type": "stream",
     "text": [
      "0.34950238\n",
      "0.3026881\n",
      "0.26836872\n",
      "       pol 0.091 0.070 0.053 0.125\n",
      "      pol1 0.128 0.077 0.057 0.139\n",
      "      pol2 0.111 0.079 0.055 0.144\n"
     ]
    }
   ],
   "source": [
    "gdict = {\"pol\": [], \"pol1\": [], \"pol2\": []}\n",
    "mdict = {\"pol\": [], \"pol1\": [], \"pol2\": []}\n",
    "models = [mpol, mpol1, mpol2]\n",
    "gdictadd(models)\n",
    "mdictadd(models)\n",
    "for i in gdict:\n",
    "    print(\"%10s\" % i, \\\n",
    "          \"%.3f\" % bias(gdict[i][0], mdict[i][0], vocab, proflist), \\\n",
    "          \"%.3f\" % bias(gdict[i][0], mdict[i][0], vocab, adjectives), \\\n",
    "          \"%.3f\" % bias(gdict[i][0], mdict[i][0], vocab, grammar), \\\n",
    "          \"%.3f\" % bias(gdict[i][0], mdict[i][0], vocab, gender_specific))"
   ]
  },
  {
   "cell_type": "code",
   "execution_count": 67,
   "metadata": {},
   "outputs": [
    {
     "name": "stdout",
     "output_type": "stream",
     "text": [
      "0.5940078\n",
      "0.48473203\n",
      "0.37103993\n",
      "     books 0.100 0.067 0.038 0.159\n",
      "    books1 0.123 0.081 0.038 0.178\n",
      "    books2 0.138 0.087 0.038 0.189\n"
     ]
    }
   ],
   "source": [
    "gdict = {\"books\": [], \"books1\": [], \"books2\": []}\n",
    "mdict = {\"books\": [], \"books1\": [], \"books2\": []}\n",
    "models = [mbooks, mbooks1, mbooks2]\n",
    "gdictadd(models)\n",
    "mdictadd(models)\n",
    "for i in gdict:\n",
    "    print(\"%10s\" % i, \\\n",
    "          \"%.3f\" % bias(gdict[i][0], mdict[i][0], vocab, proflist), \\\n",
    "          \"%.3f\" % bias(gdict[i][0], mdict[i][0], vocab, adjectives), \\\n",
    "          \"%.3f\" % bias(gdict[i][0], mdict[i][0], vocab, grammar), \\\n",
    "          \"%.3f\" % bias(gdict[i][0], mdict[i][0], vocab, gender_specific))"
   ]
  },
  {
   "cell_type": "code",
   "execution_count": null,
   "metadata": {},
   "outputs": [],
   "source": [
    "#todo"
   ]
  },
  {
   "cell_type": "code",
   "execution_count": 158,
   "metadata": {},
   "outputs": [
    {
     "name": "stdout",
     "output_type": "stream",
     "text": [
      "original\n",
      "  politics 0.099 0.066 0.072 0.058 0.120\n",
      "     books 0.086 0.092 0.089 0.080 0.173\n",
      "    movies 0.096 0.069 0.077 0.065 0.155\n",
      "    sports 0.327 0.175 0.258 0.228 0.372\n"
     ]
    }
   ],
   "source": [
    "print(labels[0])\n",
    "for i in gdict:\n",
    "    print(\"%10s\" % i, \\\n",
    "          \"%.3f\" % bias(gdict[i][0], mdict[i][0], vocab, proflist), \\\n",
    "          \"%.3f\" % bias(gdict[i][0], mdict[i][0], vocab, adjectives), \\\n",
    "          \"%.3f\" % bias(gdict[i][0], mdict[i][0], vocab, cities), \\\n",
    "          \"%.3f\" % bias(gdict[i][0], mdict[i][0], vocab, objects), \\\n",
    "          \"%.3f\" % bias(gdict[i][0], mdict[i][0], vocab, gender_specific))"
   ]
  },
  {
   "cell_type": "code",
   "execution_count": 159,
   "metadata": {},
   "outputs": [
    {
     "name": "stdout",
     "output_type": "stream",
     "text": [
      "summary (TextRank)\n",
      "  politics 0.392 0.111 0.294 0.146 0.269\n",
      "     books 0.052 0.051 0.044 0.052 0.161\n",
      "    movies 0.083 0.089 0.064 0.084 0.192\n",
      "    sports 0.303 0.154 0.182 0.180 0.283\n"
     ]
    }
   ],
   "source": [
    "print(labels[1])\n",
    "for i in gdict:\n",
    "    print(\"%10s\" % i, \\\n",
    "          \"%.3f\" % bias(gdict[i][1], mdict[i][1], vocab2, proflist), \\\n",
    "          \"%.3f\" % bias(gdict[i][1], mdict[i][1], vocab2, adjectives), \\\n",
    "          \"%.3f\" % bias(gdict[i][1], mdict[i][1], vocab2, cities), \\\n",
    "          \"%.3f\" % bias(gdict[i][1], mdict[i][1], vocab2, objects), \\\n",
    "          \"%.3f\" % bias(gdict[i][1], mdict[i][1], vocab2, gender_specific))"
   ]
  },
  {
   "cell_type": "code",
   "execution_count": 160,
   "metadata": {},
   "outputs": [
    {
     "name": "stdout",
     "output_type": "stream",
     "text": [
      "summary (Centroid-BOW)\n",
      "  politics 0.512 0.152 0.446 0.229 0.405\n",
      "     books 0.048 0.054 0.046 0.048 0.163\n",
      "    movies 0.069 0.077 0.067 0.088 0.194\n",
      "    sports 0.337 0.181 0.209 0.198 0.298\n"
     ]
    }
   ],
   "source": [
    "print(labels[2])\n",
    "for i in gdict:\n",
    "    print(\"%10s\" % i, \\\n",
    "          \"%.3f\" % bias(gdict[i][2], mdict[i][2], vocab2, proflist), \\\n",
    "          \"%.3f\" % bias(gdict[i][2], mdict[i][2], vocab2, adjectives), \\\n",
    "          \"%.3f\" % bias(gdict[i][2], mdict[i][2], vocab2, cities), \\\n",
    "          \"%.3f\" % bias(gdict[i][2], mdict[i][2], vocab2, objects), \\\n",
    "          \"%.3f\" % bias(gdict[i][2], mdict[i][2], vocab2, gender_specific))"
   ]
  },
  {
   "cell_type": "code",
   "execution_count": 161,
   "metadata": {},
   "outputs": [
    {
     "name": "stdout",
     "output_type": "stream",
     "text": [
      "summary (control)\n",
      "  politics 0.183 0.091 0.143 0.090 0.123\n",
      "     books 0.046 0.045 0.037 0.049 0.137\n",
      "    movies 0.066 0.069 0.051 0.068 0.172\n",
      "    sports 0.246 0.115 0.145 0.135 0.197\n"
     ]
    }
   ],
   "source": [
    "print(labels[3])\n",
    "for i in gdict:\n",
    "    print(\"%10s\" % i, \\\n",
    "          \"%.3f\" % bias(gdict[i][3], mdict[i][3], vocab2, proflist), \\\n",
    "          \"%.3f\" % bias(gdict[i][3], mdict[i][3], vocab2, adjectives), \\\n",
    "          \"%.3f\" % bias(gdict[i][3], mdict[i][3], vocab2, cities), \\\n",
    "          \"%.3f\" % bias(gdict[i][3], mdict[i][3], vocab2, objects), \\\n",
    "          \"%.3f\" % bias(gdict[i][3], mdict[i][3], vocab2, gender_specific))"
   ]
  },
  {
   "cell_type": "code",
   "execution_count": 162,
   "metadata": {},
   "outputs": [
    {
     "name": "stdout",
     "output_type": "stream",
     "text": [
      "0.35275307\n",
      "fielding   -0.48 \t\t ms         0.66\n",
      "consistently -0.44 \t\t mrs        0.65\n",
      "solid      -0.43 \t\t husband    0.64\n",
      "shaky      -0.40 \t\t sang       0.62\n",
      "switch     -0.40 \t\t house      0.58\n",
      "hitting    -0.39 \t\t local      0.58\n",
      "throwing   -0.38 \t\t store      0.58\n",
      "hernández  -0.38 \t\t sister     0.57\n",
      "crucial    -0.38 \t\t ann        0.56\n",
      "starting   -0.37 \t\t songs      0.56\n"
     ]
    }
   ],
   "source": [
    "gsports = getg(msports)\n",
    "res = sorted([(x, gproj(gsports, msports, x)) for x in filter(lambda x: x in vocab, vocab)], key=lambda x: x[1])\n",
    "for i in range(10):\n",
    "    print(f\"{res[i][0].ljust(10)} {res[i][1]:.2f} \\t\\t {res[-i-1][0].ljust(10)} {res[-i-1][1]:.2f}\")"
   ]
  },
  {
   "cell_type": "code",
   "execution_count": 115,
   "metadata": {},
   "outputs": [
    {
     "name": "stdout",
     "output_type": "stream",
     "text": [
      "0.34343678\n",
      "her        -0.50 \t\t mr         0.43\n",
      "women      -0.47 \t\t ouster     0.39\n",
      "ms         -0.46 \t\t abbas      0.39\n",
      "she        -0.46 \t\t mikhail    0.38\n",
      "feeding    -0.37 \t\t mahmoud    0.37\n",
      "disabled   -0.35 \t\t arafat     0.37\n",
      "herself    -0.35 \t\t vladimir   0.37\n",
      "mental     -0.34 \t\t himself    0.36\n",
      "female     -0.34 \t\t kremlin    0.36\n",
      "classroom  -0.32 \t\t hamid      0.35\n"
     ]
    }
   ],
   "source": [
    "gpol = getg(mpol)\n",
    "res = sorted([(x, gproj(gpol, mpol, x)) for x in filter(lambda x: x in vocab, vocab)], key=lambda x: x[1])\n",
    "for i in range(10):\n",
    "    print(f\"{res[i][0].ljust(10)} {res[i][1]:.2f} \\t\\t {res[-i-1][0].ljust(10)} {res[-i-1][1]:.2f}\")"
   ]
  },
  {
   "cell_type": "code",
   "execution_count": 117,
   "metadata": {},
   "outputs": [
    {
     "name": "stdout",
     "output_type": "stream",
     "text": [
      "0.62817353\n",
      "her        -0.57 \t\t disney     0.41\n",
      "herself    -0.47 \t\t pictures   0.38\n",
      "she        -0.44 \t\t production 0.35\n",
      "husband    -0.41 \t\t studio     0.34\n",
      "mother     -0.39 \t\t mr         0.34\n",
      "ms         -0.38 \t\t producers  0.34\n",
      "girl       -0.38 \t\t kong       0.34\n",
      "woman      -0.36 \t\t paramount  0.33\n",
      "daughter   -0.35 \t\t entertainment 0.33\n",
      "single     -0.34 \t\t universal  0.32\n"
     ]
    }
   ],
   "source": [
    "gmov_s = getg(mmov_s)\n",
    "res = sorted([(x, gproj(gmov_s, mmov_s, x)) for x in filter(lambda x: x in vocab2, vocab2)], key=lambda x: x[1])\n",
    "for i in range(10):\n",
    "    print(f\"{res[i][0].ljust(10)} {res[i][1]:.2f} \\t\\t {res[-i-1][0].ljust(10)} {res[-i-1][1]:.2f}\")"
   ]
  },
  {
   "cell_type": "code",
   "execution_count": 119,
   "metadata": {},
   "outputs": [
    {
     "name": "stdout",
     "output_type": "stream",
     "text": [
      "0.78374213\n",
      "mr         -0.38 \t\t her        0.63\n",
      "he         -0.32 \t\t she        0.47\n",
      "his        -0.30 \t\t herself    0.46\n",
      "administration -0.28 \t\t husband    0.42\n",
      "iraq       -0.27 \t\t baby       0.37\n",
      "president  -0.26 \t\t girl       0.35\n",
      "military   -0.26 \t\t children   0.31\n",
      "bush       -0.26 \t\t mother     0.30\n",
      "nations    -0.26 \t\t sister     0.30\n",
      "history    -0.24 \t\t love       0.29\n"
     ]
    }
   ],
   "source": [
    "gbks_s = getg(mbks_s)\n",
    "res = sorted([(x, gproj(gbks_s, mbks_s, x)) for x in filter(lambda x: x in vocab2, vocab2)], key=lambda x: x[1])\n",
    "for i in range(10):\n",
    "    print(f\"{res[i][0].ljust(10)} {res[i][1]:.2f} \\t\\t {res[-i-1][0].ljust(10)} {res[-i-1][1]:.2f}\")"
   ]
  },
  {
   "cell_type": "code",
   "execution_count": 97,
   "metadata": {},
   "outputs": [
    {
     "name": "stdout",
     "output_type": "stream",
     "text": [
      "0.3386617\n",
      "chairman        -0.87 \t\t these           0.47\n",
      "democrat        -0.82 \t\t large           0.46\n",
      "speaker         -0.81 \t\t low             0.46\n",
      "chief           -0.77 \t\t access          0.45\n",
      "leader          -0.77 \t\t illegal         0.44\n",
      "member          -0.77 \t\t prices          0.43\n",
      "jr              -0.76 \t\t pay             0.42\n",
      "secretary       -0.76 \t\t without         0.42\n",
      "james           -0.76 \t\t oil             0.41\n",
      "lawyer          -0.76 \t\t making          0.41\n",
      "deputy          -0.75 \t\t flow            0.41\n",
      "representative  -0.74 \t\t buy             0.41\n",
      "richard         -0.74 \t\t real            0.40\n",
      "aide            -0.74 \t\t raise           0.40\n",
      "david           -0.73 \t\t stock           0.39\n"
     ]
    }
   ],
   "source": [
    "gpol_s = getg(mpol_s)\n",
    "res = sorted([(x, gproj(gpol_s, mpol_s, x)) for x in filter(lambda x: x in vocab2, vocab2)], key=lambda x: x[1])\n",
    "for i in range(15):\n",
    "    print(f\"{res[i][0].ljust(15)} {res[i][1]:.2f} \\t\\t {res[-i-1][0].ljust(15)} {res[-i-1][1]:.2f}\")"
   ]
  },
  {
   "cell_type": "code",
   "execution_count": 125,
   "metadata": {},
   "outputs": [
    {
     "name": "stdout",
     "output_type": "stream",
     "text": [
      "0.32400513\n",
      "mail       -0.37 \t\t head       0.52\n",
      "or         -0.35 \t\t chairman   0.51\n",
      "high       -0.35 \t\t union      0.51\n",
      "got        -0.33 \t\t president  0.50\n",
      "few        -0.32 \t\t leadership 0.48\n",
      "com        -0.32 \t\t secretary  0.48\n",
      "young      -0.31 \t\t chief      0.47\n",
      "children   -0.31 \t\t powers     0.47\n",
      "isn        -0.29 \t\t coalition  0.47\n",
      "these      -0.28 \t\t leader     0.47\n"
     ]
    }
   ],
   "source": [
    "gpol_c = getg(mpol_c)\n",
    "res = sorted([(x, gproj(gpol_c, mpol_c, x)) for x in filter(lambda x: x in vocab2, vocab2)], key=lambda x: x[1])\n",
    "for i in range(10):\n",
    "    print(f\"{res[i][0].ljust(10)} {res[i][1]:.2f} \\t\\t {res[-i-1][0].ljust(10)} {res[-i-1][1]:.2f}\")"
   ]
  },
  {
   "cell_type": "code",
   "execution_count": 126,
   "metadata": {},
   "outputs": [
    {
     "name": "stdout",
     "output_type": "stream",
     "text": [
      "0.768514\n",
      "her        -0.61 \t\t mr         0.38\n",
      "herself    -0.46 \t\t his        0.31\n",
      "she        -0.46 \t\t war        0.29\n",
      "husband    -0.41 \t\t he         0.28\n",
      "children   -0.30 \t\t bush       0.27\n",
      "love       -0.28 \t\t civil      0.24\n",
      "ms         -0.27 \t\t administration 0.23\n",
      "mother     -0.27 \t\t ii         0.23\n",
      "girl       -0.27 \t\t iraq       0.22\n",
      "woman      -0.27 \t\t policy     0.20\n"
     ]
    }
   ],
   "source": [
    "gbks_c = getg(mbks_c)\n",
    "res = sorted([(x, gproj(gbks_c, mbks_c, x)) for x in filter(lambda x: x in vocab2, vocab2)], key=lambda x: x[1])\n",
    "for i in range(10):\n",
    "    print(f\"{res[i][0].ljust(10)} {res[i][1]:.2f} \\t\\t {res[-i-1][0].ljust(10)} {res[-i-1][1]:.2f}\")"
   ]
  },
  {
   "cell_type": "code",
   "execution_count": 165,
   "metadata": {},
   "outputs": [
    {
     "data": {
      "text/plain": [
       "Text(0.5, 1.0, 'Explained Variance vs Component Number (Random)')"
      ]
     },
     "execution_count": 165,
     "metadata": {},
     "output_type": "execute_result"
    },
    {
     "data": {
      "image/png": "[encoded data removed]",
      "text/plain": [
       "<Figure size 432x288 with 1 Axes>"
      ]
     },
     "metadata": {
      "needs_background": "light"
     },
     "output_type": "display_data"
    }
   ],
   "source": [
    "pca_r = PCA(n_components = 10)\n",
    "pca_r.fit(np.random.rand(70,100))\n",
    "plt.bar(range(10), pca_r.explained_variance_ratio_)\n",
    "plt.title(\"Explained Variance vs Component Number (Random)\")"
   ]
  },
  {
   "cell_type": "code",
   "execution_count": 140,
   "metadata": {},
   "outputs": [
    {
     "data": {
      "image/png": "[encoded data removed]",
      "text/plain": [
       "<Figure size 432x288 with 1 Axes>"
      ]
     },
     "metadata": {
      "needs_background": "light"
     },
     "output_type": "display_data"
    }
   ],
   "source": [
    "gpol = getg(mpol, \"Gender Pairs - Politics\", True)"
   ]
  },
  {
   "cell_type": "markdown",
   "metadata": {},
   "source": [
    "## Regression for bias testing"
   ]
  },
  {
   "cell_type": "code",
   "execution_count": 189,
   "metadata": {},
   "outputs": [],
   "source": [
    "def regress(g1, m1, g2, m2, wordlist):\n",
    "    x = np.array([gproj(g1, m1, w) for w in wordlist if w in m1.wv.vocab and w in m2.wv.vocab])\n",
    "    y = np.array([gproj(g2, m2, w) for w in wordlist if w in m1.wv.vocab and w in m2.wv.vocab])\n",
    "    slope, intercept, r_value, p_value, std_err = stats.linregress(x,y)\n",
    "    return slope, p_value"
   ]
  },
  {
   "cell_type": "code",
   "execution_count": 190,
   "metadata": {},
   "outputs": [
    {
     "name": "stdout",
     "output_type": "stream",
     "text": [
      "0.31522945\n"
     ]
    },
    {
     "data": {
      "text/plain": [
       "(0.7564479357792341, 1.1464826034410933e-07)"
      ]
     },
     "execution_count": 190,
     "metadata": {},
     "output_type": "execute_result"
    }
   ],
   "source": [
    "regress(gpol, mpol, getg(mpol_s), mpol_s, proflist)"
   ]
  },
  {
   "cell_type": "code",
   "execution_count": null,
   "metadata": {},
   "outputs": [],
   "source": []
  }
 ],
 "metadata": {
  "kernelspec": {
   "display_name": "Python 3",
   "language": "python",
   "name": "python3"
  },
  "language_info": {
   "codemirror_mode": {
    "name": "ipython",
    "version": 3
   },
   "file_extension": ".py",
   "mimetype": "text/x-python",
   "name": "python",
   "nbconvert_exporter": "python",
   "pygments_lexer": "ipython3",
   "version": "3.7.0"
  }
 },
 "nbformat": 4,
 "nbformat_minor": 2
}
