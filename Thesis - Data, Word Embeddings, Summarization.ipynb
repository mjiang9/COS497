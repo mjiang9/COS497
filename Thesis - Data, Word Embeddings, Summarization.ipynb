{
 "cells": [
  {
   "cell_type": "code",
   "execution_count": 1,
   "metadata": {},
   "outputs": [],
   "source": [
    "import os\n",
    "import time\n",
    "import dill\n",
    "from typing import List\n",
    "from functools import reduce\n",
    "from calendar import monthrange"
   ]
  },
  {
   "cell_type": "code",
   "execution_count": 2,
   "metadata": {},
   "outputs": [],
   "source": [
    "import json\n",
    "import csv\n",
    "import requests\n",
    "import xml.etree.ElementTree as ET\n",
    "from bs4 import BeautifulSoup\n",
    "import urllib.request as urllib2"
   ]
  },
  {
   "cell_type": "code",
   "execution_count": 3,
   "metadata": {},
   "outputs": [],
   "source": [
    "import matplotlib.pyplot as plt\n",
    "import numpy as np\n",
    "from scipy import stats\n",
    "from random import sample, randint, shuffle\n",
    "from sklearn.decomposition import PCA"
   ]
  },
  {
   "cell_type": "code",
   "execution_count": 4,
   "metadata": {},
   "outputs": [],
   "source": [
    "import nltk\n",
    "import text_summarizer\n",
    "from gensim.utils import simple_preprocess\n",
    "from gensim.summarization.summarizer import summarize\n",
    "from gensim.models import Word2Vec, LsiModel\n",
    "from gensim.test.utils import common_dictionary, common_corpus"
   ]
  },
  {
   "cell_type": "code",
   "execution_count": 5,
   "metadata": {},
   "outputs": [],
   "source": [
    "from time import process_time"
   ]
  },
  {
   "cell_type": "code",
   "execution_count": 6,
   "metadata": {},
   "outputs": [
    {
     "data": {
      "text/plain": [
       "60.058654999999995"
      ]
     },
     "execution_count": 6,
     "metadata": {},
     "output_type": "execute_result"
    }
   ],
   "source": [
    "t = process_time()\n",
    "dill.load_session('thesis_env.db')\n",
    "process_time() - t"
   ]
  },
  {
   "cell_type": "code",
   "execution_count": 7,
   "metadata": {},
   "outputs": [
    {
     "data": {
      "text/plain": [
       "393"
      ]
     },
     "execution_count": 7,
     "metadata": {},
     "output_type": "execute_result"
    }
   ],
   "source": [
    "len(adjectives)"
   ]
  },
  {
   "cell_type": "code",
   "execution_count": 8,
   "metadata": {},
   "outputs": [
    {
     "data": {
      "text/plain": [
       "1685787"
      ]
     },
     "execution_count": 8,
     "metadata": {},
     "output_type": "execute_result"
    }
   ],
   "source": [
    "len(all_)"
   ]
  },
  {
   "cell_type": "markdown",
   "metadata": {},
   "source": [
    "## Gender-neutral adjectives describing people"
   ]
  },
  {
   "cell_type": "code",
   "execution_count": 132,
   "metadata": {},
   "outputs": [],
   "source": [
    "with open('objects.csv') as csv_file:\n",
    "    objects = csv_file.read().split(\"\\n\")\n",
    "objects[0] = 'angle'"
   ]
  },
  {
   "cell_type": "code",
   "execution_count": 89,
   "metadata": {},
   "outputs": [],
   "source": [
    "# url = 'https://www.enchantedlearning.com/wordlist/adjectivesforpeople.shtml'\n",
    "# file = urllib2.urlopen(url)\n",
    "# html = file.read()\n",
    "# file.close()\n",
    "# soup = BeautifulSoup(html)"
   ]
  },
  {
   "cell_type": "code",
   "execution_count": 8,
   "metadata": {},
   "outputs": [],
   "source": [
    "# adjs = [x.contents[0] for x in BeautifulSoup(html).find_all(attrs={\"class\": \"wordlist-item\"})]"
   ]
  },
  {
   "cell_type": "code",
   "execution_count": 16,
   "metadata": {},
   "outputs": [],
   "source": [
    "# with open('adjectives.csv', mode='w') as f:\n",
    "#     writer = csv.writer(f, delimiter=',')\n",
    "#     writer.writerow(adjs)"
   ]
  },
  {
   "cell_type": "code",
   "execution_count": 5,
   "metadata": {},
   "outputs": [],
   "source": [
    "with open('adjectives.csv') as csv_file:\n",
    "    adjectives = csv_file.read().split(\",\")"
   ]
  },
  {
   "cell_type": "code",
   "execution_count": 6,
   "metadata": {},
   "outputs": [
    {
     "data": {
      "text/plain": [
       "['able', 'abnormal', 'above average', 'absent-minded', 'adventurous']"
      ]
     },
     "execution_count": 6,
     "metadata": {},
     "output_type": "execute_result"
    }
   ],
   "source": [
    "adjectives[:5]"
   ]
  },
  {
   "cell_type": "code",
   "execution_count": 7,
   "metadata": {},
   "outputs": [],
   "source": [
    "dill.dump_session('thesis_env.db')"
   ]
  },
  {
   "cell_type": "code",
   "execution_count": 5,
   "metadata": {},
   "outputs": [],
   "source": [
    "# url = 'https://www.britannica.com/topic/list-of-cities-and-towns-in-the-United-States-2023068'\n",
    "# file = urllib2.urlopen(url)\n",
    "# html = file.read()\n",
    "# file.close()\n",
    "# soup = BeautifulSoup(html)  "
   ]
  },
  {
   "cell_type": "code",
   "execution_count": 6,
   "metadata": {},
   "outputs": [],
   "source": [
    "# alist = soup.find_all(attrs={\"class\": \"md-crosslink\"})"
   ]
  },
  {
   "cell_type": "code",
   "execution_count": 7,
   "metadata": {},
   "outputs": [],
   "source": [
    "# places = [a.contents[0] for a in alist[3:]]"
   ]
  },
  {
   "cell_type": "code",
   "execution_count": 8,
   "metadata": {},
   "outputs": [
    {
     "data": {
      "text/plain": [
       "2010"
      ]
     },
     "execution_count": 8,
     "metadata": {},
     "output_type": "execute_result"
    }
   ],
   "source": [
    "# len(places)"
   ]
  },
  {
   "cell_type": "code",
   "execution_count": 9,
   "metadata": {},
   "outputs": [],
   "source": [
    "# with open('cities.csv', mode='w') as f:\n",
    "#     writer = csv.writer(f, delimiter=',')\n",
    "#     writer.writerow(places)"
   ]
  },
  {
   "cell_type": "code",
   "execution_count": 9,
   "metadata": {},
   "outputs": [],
   "source": [
    "with open('cities.csv') as csv_file:\n",
    "    cities = csv_file.read().split(\",\")"
   ]
  },
  {
   "cell_type": "code",
   "execution_count": 10,
   "metadata": {},
   "outputs": [
    {
     "data": {
      "text/plain": [
       "['Alabama', 'Alexander City', 'Andalusia', 'Anniston', 'Athens']"
      ]
     },
     "execution_count": 10,
     "metadata": {},
     "output_type": "execute_result"
    }
   ],
   "source": [
    "cities[:5]"
   ]
  },
  {
   "cell_type": "markdown",
   "metadata": {},
   "source": [
    "# Data Parsing and Processing"
   ]
  },
  {
   "cell_type": "code",
   "execution_count": 13,
   "metadata": {},
   "outputs": [],
   "source": [
    "class Doc:\n",
    "    def __init__(self, id: int, gdescriptors: List[str], descriptors: List[str], text: str) -> None:\n",
    "        self.id = id\n",
    "        self.gdescriptors = gdescriptors\n",
    "        self.descriptors = descriptors\n",
    "        self.text = text"
   ]
  },
  {
   "cell_type": "code",
   "execution_count": 14,
   "metadata": {},
   "outputs": [],
   "source": [
    "def parse_doc(file: str) -> Doc:\n",
    "    tree = ET.parse(file)\n",
    "    root = tree.getroot()\n",
    "    try:\n",
    "        fulltext = root.find('body').find('body.content').find(\"*[@class='full_text']\")\n",
    "        text = reduce(lambda x, y: x + y, [x.text for x in fulltext.findall('p')])\n",
    "        id = int(root.find('head').find('docdata').find('doc-id').attrib['id-string'])\n",
    "        classifiers = root.find('head').find('docdata').find('identified-content')\n",
    "        gclassifiers = classifiers.findall(\"*[@class='online_producer'][@type='general_descriptor']\")\n",
    "        dclassifiers = classifiers.findall(\"*[@class='online_producer'][@type='descriptor']\")\n",
    "        gdescriptors = [c.text for c in gclassifiers]\n",
    "        descriptors = [c.text for c in dclassifiers]\n",
    "        return Doc(id, gdescriptors, descriptors, text)\n",
    "    except:\n",
    "        return None"
   ]
  },
  {
   "cell_type": "code",
   "execution_count": 15,
   "metadata": {},
   "outputs": [],
   "source": [
    "def get_docs_by_month(year: int, month: int) -> List[Doc]:\n",
    "    days = monthrange(year, month)[1]\n",
    "    docs = []\n",
    "    for day in range(1, days+1):\n",
    "        for file in os.listdir(f'data/{year}/{month:02}/{day:02}/'):\n",
    "            doc = parse_doc(f'data/{year}/{month:02}/{day:02}/{file}')\n",
    "            if doc:\n",
    "                docs.append(doc)\n",
    "    return docs"
   ]
  },
  {
   "cell_type": "code",
   "execution_count": 13,
   "metadata": {},
   "outputs": [
    {
     "name": "stdout",
     "output_type": "stream",
     "text": [
      "1988\n",
      "1989\n",
      "1990\n",
      "1991\n",
      "1992\n",
      "1993\n",
      "1994\n",
      "1995\n",
      "1996\n",
      "1997\n",
      "1998\n",
      "1999\n",
      "2000\n",
      "2001\n",
      "2002\n",
      "2003\n",
      "2004\n",
      "2005\n",
      "2006\n"
     ]
    },
    {
     "data": {
      "text/plain": [
       "973.445533"
      ]
     },
     "execution_count": 13,
     "metadata": {},
     "output_type": "execute_result"
    }
   ],
   "source": [
    "t = time.process_time()\n",
    "all_ = []\n",
    "for y in range(1988, 2007):\n",
    "    print(y)\n",
    "    for i in range(1,13):\n",
    "        all_ += get_docs_by_month(y, i)\n",
    "time.process_time() - t"
   ]
  },
  {
   "cell_type": "code",
   "execution_count": 16,
   "metadata": {},
   "outputs": [
    {
     "data": {
      "text/plain": [
       "1685787"
      ]
     },
     "execution_count": 16,
     "metadata": {},
     "output_type": "execute_result"
    }
   ],
   "source": [
    "len(all_)"
   ]
  },
  {
   "cell_type": "code",
   "execution_count": 15,
   "metadata": {},
   "outputs": [],
   "source": [
    "dill.dump_session('thesis_env.db')"
   ]
  },
  {
   "cell_type": "markdown",
   "metadata": {},
   "source": [
    "# Saving files locally and loading"
   ]
  },
  {
   "cell_type": "code",
   "execution_count": 18,
   "metadata": {},
   "outputs": [],
   "source": [
    "with open('alldocs.json', 'w') as outfile:\n",
    "    json.dump([x.__dict__ for x in all_], outfile)"
   ]
  },
  {
   "cell_type": "code",
   "execution_count": 19,
   "metadata": {},
   "outputs": [],
   "source": [
    "def save(i, arr):\n",
    "    t = time.process_time()\n",
    "    with open('alldocs' + str(i) + '.json', 'w') as outfile:\n",
    "        json.dump([x.__dict__ for x in arr], outfile)\n",
    "    print(time.process_time() - t)"
   ]
  },
  {
   "cell_type": "code",
   "execution_count": 20,
   "metadata": {},
   "outputs": [],
   "source": [
    "def load(i):\n",
    "    t = time.process_time()\n",
    "    with open('alldocs' + str(i) + '.json', 'r') as infile:\n",
    "        l = json.load(infile)\n",
    "    print(time.process_time() - t)\n",
    "    return l"
   ]
  },
  {
   "cell_type": "code",
   "execution_count": 11,
   "metadata": {},
   "outputs": [
    {
     "name": "stdout",
     "output_type": "stream",
     "text": [
      "26.122622999999976\n"
     ]
    }
   ],
   "source": [
    "save(0, all_[:600000])"
   ]
  },
  {
   "cell_type": "code",
   "execution_count": 12,
   "metadata": {},
   "outputs": [
    {
     "name": "stdout",
     "output_type": "stream",
     "text": [
      "89.333306\n"
     ]
    }
   ],
   "source": [
    "l0 = load(0)"
   ]
  },
  {
   "cell_type": "code",
   "execution_count": 13,
   "metadata": {},
   "outputs": [
    {
     "name": "stdout",
     "output_type": "stream",
     "text": [
      "34.060252999999875\n"
     ]
    }
   ],
   "source": [
    "save(1, all_[600000:1200000])"
   ]
  },
  {
   "cell_type": "code",
   "execution_count": 14,
   "metadata": {},
   "outputs": [
    {
     "name": "stdout",
     "output_type": "stream",
     "text": [
      "102.26382799999988\n"
     ]
    }
   ],
   "source": [
    "l1 = load(1)"
   ]
  },
  {
   "cell_type": "code",
   "execution_count": 15,
   "metadata": {},
   "outputs": [
    {
     "name": "stdout",
     "output_type": "stream",
     "text": [
      "31.626627999999982\n"
     ]
    }
   ],
   "source": [
    "save(2, all_[1200000:])"
   ]
  },
  {
   "cell_type": "code",
   "execution_count": 16,
   "metadata": {},
   "outputs": [
    {
     "name": "stdout",
     "output_type": "stream",
     "text": [
      "19.019525000000158\n"
     ]
    }
   ],
   "source": [
    "l2 = load(2)"
   ]
  },
  {
   "cell_type": "code",
   "execution_count": 17,
   "metadata": {},
   "outputs": [
    {
     "data": {
      "text/plain": [
       "1685787"
      ]
     },
     "execution_count": 17,
     "metadata": {},
     "output_type": "execute_result"
    }
   ],
   "source": [
    "l = l0 + l1 + l2\n",
    "len(l)"
   ]
  },
  {
   "cell_type": "markdown",
   "metadata": {},
   "source": [
    "# Process by descriptor"
   ]
  },
  {
   "cell_type": "code",
   "execution_count": 11,
   "metadata": {},
   "outputs": [
    {
     "data": {
      "text/plain": [
       "39.577875000000006"
      ]
     },
     "execution_count": 11,
     "metadata": {},
     "output_type": "execute_result"
    }
   ],
   "source": [
    "t = time.process_time()\n",
    "alld = {}\n",
    "for doc in all_:\n",
    "    doc = Doc(doc.id, doc.gdescriptors, doc.descriptors, doc.text)\n",
    "    for d in doc.descriptors:\n",
    "        count, docs = alld.get(d, (0, set()))\n",
    "        docs.add(doc)\n",
    "        alld[d] = (count + 1, docs)\n",
    "time.process_time() - t"
   ]
  },
  {
   "cell_type": "code",
   "execution_count": 12,
   "metadata": {},
   "outputs": [
    {
     "name": "stdout",
     "output_type": "stream",
     "text": [
      "('Terrorism', 12393)\n",
      "('Books and Literature', 11222)\n",
      "('Politics and Government', 10589)\n",
      "('Baseball', 9039)\n",
      "('United States Politics and Government', 8295)\n",
      "('Motion Pictures', 7748)\n",
      "('Music', 7317)\n",
      "('Weddings and Engagements', 7280)\n",
      "('Medicine and Health', 6829)\n",
      "('Travel and Vacations', 6537)\n",
      "('Deaths (Obituaries)', 6438)\n",
      "('Television', 6171)\n",
      "('Football', 6070)\n",
      "('Computers and the Internet', 5952)\n",
      "('Basketball', 5746)\n"
     ]
    }
   ],
   "source": [
    "alldlist = sorted([(d, alld[d][0], alld[d][1]) for d in alld], key=lambda x: x[1], reverse=True)\n",
    "for x in range(15):\n",
    "    print(alldlist[x][0:2])"
   ]
  },
  {
   "cell_type": "code",
   "execution_count": 13,
   "metadata": {},
   "outputs": [],
   "source": [
    "def exclude(e, x):\n",
    "    for d in x.descriptors:\n",
    "        if d == e:\n",
    "            continue\n",
    "        if d in ['Politics and Government', 'Motion Pictures', 'Football', 'Books and Literature', \\\n",
    "                                           'Computers and the Internet', 'Travel and Vacations']:\n",
    "            return False\n",
    "    return True"
   ]
  },
  {
   "cell_type": "code",
   "execution_count": 14,
   "metadata": {},
   "outputs": [],
   "source": [
    "def getlist(topic):\n",
    "    return list(filter(lambda x: exclude(topic, x), alld[topic][1]))"
   ]
  },
  {
   "cell_type": "code",
   "execution_count": 53,
   "metadata": {},
   "outputs": [],
   "source": [
    "politics = getlist('Politics and Government')"
   ]
  },
  {
   "cell_type": "code",
   "execution_count": 16,
   "metadata": {},
   "outputs": [],
   "source": [
    "movies = getlist('Motion Pictures')"
   ]
  },
  {
   "cell_type": "code",
   "execution_count": 17,
   "metadata": {},
   "outputs": [],
   "source": [
    "fball = getlist('Football')"
   ]
  },
  {
   "cell_type": "code",
   "execution_count": 18,
   "metadata": {},
   "outputs": [],
   "source": [
    "books = getlist('Books and Literature')"
   ]
  },
  {
   "cell_type": "code",
   "execution_count": 54,
   "metadata": {},
   "outputs": [],
   "source": [
    "computers = getlist('Computers and the Internet')"
   ]
  },
  {
   "cell_type": "code",
   "execution_count": 20,
   "metadata": {},
   "outputs": [],
   "source": [
    "travel = getlist('Travel and Vacations')"
   ]
  },
  {
   "cell_type": "code",
   "execution_count": 21,
   "metadata": {},
   "outputs": [
    {
     "data": {
      "text/plain": [
       "(5400, 9876, 6162, 7248, 5991, 10227)"
      ]
     },
     "execution_count": 21,
     "metadata": {},
     "output_type": "execute_result"
    }
   ],
   "source": [
    "len(computers), len(politics), len(travel), len(movies), len(fball), len(books)"
   ]
  },
  {
   "cell_type": "code",
   "execution_count": 55,
   "metadata": {},
   "outputs": [],
   "source": [
    "politics = sample(politics, 5400)"
   ]
  },
  {
   "cell_type": "code",
   "execution_count": 23,
   "metadata": {},
   "outputs": [],
   "source": [
    "movies = sample(movies, 5400)"
   ]
  },
  {
   "cell_type": "code",
   "execution_count": 24,
   "metadata": {},
   "outputs": [],
   "source": [
    "travel = sample(travel, 5400)"
   ]
  },
  {
   "cell_type": "code",
   "execution_count": 25,
   "metadata": {},
   "outputs": [],
   "source": [
    "fball = sample(fball, 5400)"
   ]
  },
  {
   "cell_type": "code",
   "execution_count": 26,
   "metadata": {},
   "outputs": [],
   "source": [
    "books = sample(books, 5400)"
   ]
  },
  {
   "cell_type": "markdown",
   "metadata": {},
   "source": [
    "# Training Word Embeddings"
   ]
  },
  {
   "cell_type": "code",
   "execution_count": 27,
   "metadata": {},
   "outputs": [],
   "source": [
    "def getw2v(category):\n",
    "    sentences = []\n",
    "    for t in category:\n",
    "        sentences += nltk.sent_tokenize(t.text)\n",
    "    docs = [simple_preprocess(s) for s in sentences]\n",
    "    return Word2Vec(docs)"
   ]
  },
  {
   "cell_type": "code",
   "execution_count": 56,
   "metadata": {},
   "outputs": [
    {
     "data": {
      "text/plain": [
       "71.66272099999992"
      ]
     },
     "execution_count": 56,
     "metadata": {},
     "output_type": "execute_result"
    }
   ],
   "source": [
    "t = time.process_time()\n",
    "mpol = getw2v(politics)\n",
    "time.process_time() - t"
   ]
  },
  {
   "cell_type": "code",
   "execution_count": 57,
   "metadata": {},
   "outputs": [
    {
     "data": {
      "text/plain": [
       "72.37604099999999"
      ]
     },
     "execution_count": 57,
     "metadata": {},
     "output_type": "execute_result"
    }
   ],
   "source": [
    "t = time.process_time()\n",
    "mcomp = getw2v(computers)\n",
    "time.process_time() - t"
   ]
  },
  {
   "cell_type": "code",
   "execution_count": 30,
   "metadata": {},
   "outputs": [
    {
     "data": {
      "text/plain": [
       "90.69895400000001"
      ]
     },
     "execution_count": 30,
     "metadata": {},
     "output_type": "execute_result"
    }
   ],
   "source": [
    "t = time.process_time()\n",
    "mtrav = getw2v(travel)\n",
    "time.process_time() - t"
   ]
  },
  {
   "cell_type": "code",
   "execution_count": 31,
   "metadata": {},
   "outputs": [
    {
     "data": {
      "text/plain": [
       "74.83457199999998"
      ]
     },
     "execution_count": 31,
     "metadata": {},
     "output_type": "execute_result"
    }
   ],
   "source": [
    "t = time.process_time()\n",
    "mmov = getw2v(movies)\n",
    "time.process_time() - t"
   ]
  },
  {
   "cell_type": "code",
   "execution_count": 32,
   "metadata": {},
   "outputs": [
    {
     "data": {
      "text/plain": [
       "76.44018899999998"
      ]
     },
     "execution_count": 32,
     "metadata": {},
     "output_type": "execute_result"
    }
   ],
   "source": [
    "t = time.process_time()\n",
    "mbooks = getw2v(books)\n",
    "time.process_time() - t"
   ]
  },
  {
   "cell_type": "code",
   "execution_count": 33,
   "metadata": {},
   "outputs": [
    {
     "data": {
      "text/plain": [
       "100.17447200000004"
      ]
     },
     "execution_count": 33,
     "metadata": {},
     "output_type": "execute_result"
    }
   ],
   "source": [
    "t = time.process_time()\n",
    "mfball = getw2v(fball)\n",
    "time.process_time() - t"
   ]
  },
  {
   "cell_type": "code",
   "execution_count": null,
   "metadata": {},
   "outputs": [],
   "source": []
  },
  {
   "cell_type": "code",
   "execution_count": 34,
   "metadata": {},
   "outputs": [],
   "source": [
    "def top5(word):\n",
    "    for m in [mpol, mcomp, mtrav, mmov, mbooks, mfball]:\n",
    "        print([x[0] for x in m.wv.most_similar(positive=[word], topn=5)])"
   ]
  },
  {
   "cell_type": "code",
   "execution_count": 58,
   "metadata": {},
   "outputs": [
    {
     "name": "stdout",
     "output_type": "stream",
     "text": [
      "['tuesday', 'wednesday', 'friday', 'thursday', 'sunday']\n",
      "['wednesday', 'tuesday', 'thursday', 'friday', 'oct']\n",
      "['tuesday', 'wednesday', 'thursday', 'friday', 'mondays']\n",
      "['thursday', 'tuesday', 'wednesday', 'feb', 'sunday']\n",
      "['wednesday', 'tuesday', 'friday', 'thursday', 'nov']\n",
      "['thursday', 'friday', 'tuesday', 'wednesday', 'sunday']\n"
     ]
    }
   ],
   "source": [
    "top5('monday')"
   ]
  },
  {
   "cell_type": "code",
   "execution_count": 59,
   "metadata": {},
   "outputs": [
    {
     "name": "stdout",
     "output_type": "stream",
     "text": [
      "['collar', 'assembly', 'chamber', 'congressional', 'congress']\n",
      "['bus', 'seat', 'bed', 'kitchen', 'desk']\n",
      "['cottage', 'farmhouse', 'mansion', 'barn', 'guesthouse']\n",
      "['houses', 'bar', 'garage', 'apartment', 'basement']\n",
      "['apartment', 'farmhouse', 'town', 'mansion', 'houses']\n",
      "['car', 'neighborhood', 'apartment', 'restaurant', 'store']\n"
     ]
    }
   ],
   "source": [
    "top5('house')"
   ]
  },
  {
   "cell_type": "code",
   "execution_count": 60,
   "metadata": {},
   "outputs": [
    {
     "name": "stdout",
     "output_type": "stream",
     "text": [
      "['natural', 'meaningful', 'basically', 'safe', 'opportunities']\n",
      "['meaningful', 'strong', 'proposition', 'eroding', 'slowest']\n",
      "['serious', 'strong', 'conscious', 'positive', 'subjective']\n",
      "['sufficient', 'weird', 'healing', 'twinges', 'practical']\n",
      "['sensible', 'mutually', 'strong', 'aggression', 'longevity']\n",
      "['confident', 'ready', 'lucky', 'happy', 'fortunate']\n"
     ]
    }
   ],
   "source": [
    "top5('healthy')"
   ]
  },
  {
   "cell_type": "code",
   "execution_count": 61,
   "metadata": {},
   "outputs": [
    {
     "name": "stdout",
     "output_type": "stream",
     "text": [
      "['triumph', 'sense', 'weakness', 'view', 'achievement']\n",
      "['popularity', 'ambitions', 'growth', 'strength', 'strategy']\n",
      "['strategy', 'confidence', 'product', 'popularity', 'publicity']\n",
      "['popularity', 'commercial', 'budget', 'blockbuster', 'hit']\n",
      "['popularity', 'fame', 'criticism', 'subject', 'difficulty']\n",
      "['experience', 'consistency', 'problems', 'talent', 'improved']\n"
     ]
    }
   ],
   "source": [
    "top5('success')"
   ]
  },
  {
   "cell_type": "code",
   "execution_count": 62,
   "metadata": {},
   "outputs": [
    {
     "name": "stdout",
     "output_type": "stream",
     "text": [
      "['scoring', 'satire', 'segment', 'prowess', 'correctness']\n",
      "['digits', 'hips', 'chest', 'incomes', 'toned']\n",
      "['achievement', 'interpretation', 'personality', 'pedigree', 'animated']\n",
      "['cinematography', 'composed', 'choreography', 'lyrics', 'soundtrack']\n",
      "['schedule', 'pounce', 'betting', 'inventory', 'synopsis']\n",
      "['lead', 'tie', 'attempt', 'turnover', 'catch']\n"
     ]
    }
   ],
   "source": [
    "top5('score')"
   ]
  },
  {
   "cell_type": "code",
   "execution_count": 63,
   "metadata": {},
   "outputs": [
    {
     "data": {
      "text/plain": [
       "1014.554"
      ]
     },
     "execution_count": 63,
     "metadata": {},
     "output_type": "execute_result"
    }
   ],
   "source": [
    "np.mean([len(nltk.word_tokenize(politics[i].text)) for i in range(1000)])"
   ]
  },
  {
   "cell_type": "code",
   "execution_count": 64,
   "metadata": {},
   "outputs": [
    {
     "data": {
      "text/plain": [
       "1146.449"
      ]
     },
     "execution_count": 64,
     "metadata": {},
     "output_type": "execute_result"
    }
   ],
   "source": [
    "np.mean([len(nltk.word_tokenize(computers[i].text)) for i in range(1000)])"
   ]
  },
  {
   "cell_type": "code",
   "execution_count": 42,
   "metadata": {},
   "outputs": [
    {
     "data": {
      "text/plain": [
       "1453.067"
      ]
     },
     "execution_count": 42,
     "metadata": {},
     "output_type": "execute_result"
    }
   ],
   "source": [
    "np.mean([len(nltk.word_tokenize(travel[i].text)) for i in range(1000)])"
   ]
  },
  {
   "cell_type": "code",
   "execution_count": 43,
   "metadata": {},
   "outputs": [
    {
     "data": {
      "text/plain": [
       "1185.256"
      ]
     },
     "execution_count": 43,
     "metadata": {},
     "output_type": "execute_result"
    }
   ],
   "source": [
    "np.mean([len(nltk.word_tokenize(books[i].text)) for i in range(1000)])"
   ]
  },
  {
   "cell_type": "code",
   "execution_count": 44,
   "metadata": {},
   "outputs": [
    {
     "data": {
      "text/plain": [
       "988.068"
      ]
     },
     "execution_count": 44,
     "metadata": {},
     "output_type": "execute_result"
    }
   ],
   "source": [
    "np.mean([len(nltk.word_tokenize(fball[i].text)) for i in range(1000)])"
   ]
  },
  {
   "cell_type": "code",
   "execution_count": 45,
   "metadata": {},
   "outputs": [
    {
     "data": {
      "text/plain": [
       "1123.286"
      ]
     },
     "execution_count": 45,
     "metadata": {},
     "output_type": "execute_result"
    }
   ],
   "source": [
    "np.mean([len(nltk.word_tokenize(movies[i].text)) for i in range(1000)])"
   ]
  },
  {
   "cell_type": "markdown",
   "metadata": {},
   "source": [
    "# Summarization"
   ]
  },
  {
   "cell_type": "markdown",
   "metadata": {},
   "source": [
    "## TextRank"
   ]
  },
  {
   "cell_type": "code",
   "execution_count": 65,
   "metadata": {},
   "outputs": [],
   "source": [
    "def getsummaries(category):\n",
    "    s = []\n",
    "    fails = []\n",
    "    for i in range(len(category)):\n",
    "        try:\n",
    "            s.append(summarize(category[i].text, word_count=200))\n",
    "        except:\n",
    "            fails.append(i)\n",
    "            print(i)\n",
    "    return s, fails"
   ]
  },
  {
   "cell_type": "code",
   "execution_count": 66,
   "metadata": {},
   "outputs": [
    {
     "name": "stdout",
     "output_type": "stream",
     "text": [
      "1188\n",
      "1792\n",
      "3046\n",
      "3208\n",
      "5160\n"
     ]
    },
    {
     "data": {
      "text/plain": [
       "81.08962700000006"
      ]
     },
     "execution_count": 66,
     "metadata": {},
     "output_type": "execute_result"
    }
   ],
   "source": [
    "t = time.process_time()\n",
    "summaries_pol, fpol = getsummaries(politics)\n",
    "time.process_time() - t"
   ]
  },
  {
   "cell_type": "code",
   "execution_count": 67,
   "metadata": {},
   "outputs": [
    {
     "name": "stdout",
     "output_type": "stream",
     "text": [
      "2317\n",
      "3433\n",
      "4120\n",
      "4189\n",
      "4564\n",
      "4986\n",
      "5278\n"
     ]
    },
    {
     "data": {
      "text/plain": [
       "86.38642800000002"
      ]
     },
     "execution_count": 67,
     "metadata": {},
     "output_type": "execute_result"
    }
   ],
   "source": [
    "t = time.process_time()\n",
    "summaries_comp, fcomp = getsummaries(computers)\n",
    "time.process_time() - t"
   ]
  },
  {
   "cell_type": "code",
   "execution_count": 49,
   "metadata": {},
   "outputs": [
    {
     "data": {
      "text/plain": [
       "109.78976799999998"
      ]
     },
     "execution_count": 49,
     "metadata": {},
     "output_type": "execute_result"
    }
   ],
   "source": [
    "t = time.process_time()\n",
    "summaries_trav, ftrav = getsummaries(travel)\n",
    "time.process_time() - t"
   ]
  },
  {
   "cell_type": "code",
   "execution_count": 50,
   "metadata": {},
   "outputs": [
    {
     "name": "stdout",
     "output_type": "stream",
     "text": [
      "1111\n",
      "1233\n",
      "3358\n"
     ]
    },
    {
     "data": {
      "text/plain": [
       "85.84879699999999"
      ]
     },
     "execution_count": 50,
     "metadata": {},
     "output_type": "execute_result"
    }
   ],
   "source": [
    "t = time.process_time()\n",
    "summaries_mov, fmov = getsummaries(movies)\n",
    "time.process_time() - t"
   ]
  },
  {
   "cell_type": "code",
   "execution_count": 51,
   "metadata": {},
   "outputs": [
    {
     "name": "stdout",
     "output_type": "stream",
     "text": [
      "767\n"
     ]
    },
    {
     "data": {
      "text/plain": [
       "84.25836300000003"
      ]
     },
     "execution_count": 51,
     "metadata": {},
     "output_type": "execute_result"
    }
   ],
   "source": [
    "t = time.process_time()\n",
    "summaries_bks, fbks = getsummaries(books)\n",
    "time.process_time() - t"
   ]
  },
  {
   "cell_type": "code",
   "execution_count": 52,
   "metadata": {},
   "outputs": [
    {
     "data": {
      "text/plain": [
       "63.64299899999992"
      ]
     },
     "execution_count": 52,
     "metadata": {},
     "output_type": "execute_result"
    }
   ],
   "source": [
    "t = time.process_time()\n",
    "summaries_fball, ffball = getsummaries(fball)\n",
    "time.process_time() - t"
   ]
  },
  {
   "cell_type": "markdown",
   "metadata": {},
   "source": [
    "## Centroid BOW Summarizer"
   ]
  },
  {
   "cell_type": "code",
   "execution_count": 68,
   "metadata": {},
   "outputs": [],
   "source": [
    "def getbows(category):\n",
    "    s = []\n",
    "    centroid_summarizer = text_summarizer.CentroidBOWSummarizer()\n",
    "    for i in category:\n",
    "        try:\n",
    "            s.append(centroid_summarizer.summarize(i.text, limit=200-30))\n",
    "        except:\n",
    "            print(i)\n",
    "    return s"
   ]
  },
  {
   "cell_type": "code",
   "execution_count": 69,
   "metadata": {},
   "outputs": [
    {
     "data": {
      "text/plain": [
       "98.04681299999993"
      ]
     },
     "execution_count": 69,
     "metadata": {},
     "output_type": "execute_result"
    }
   ],
   "source": [
    "t = time.process_time()\n",
    "bow_pol = getbows(politics)\n",
    "time.process_time() - t"
   ]
  },
  {
   "cell_type": "code",
   "execution_count": 70,
   "metadata": {},
   "outputs": [
    {
     "data": {
      "text/plain": [
       "5400"
      ]
     },
     "execution_count": 70,
     "metadata": {},
     "output_type": "execute_result"
    }
   ],
   "source": [
    "len(bow_pol)"
   ]
  },
  {
   "cell_type": "code",
   "execution_count": 71,
   "metadata": {},
   "outputs": [
    {
     "data": {
      "text/plain": [
       "103.10214300000007"
      ]
     },
     "execution_count": 71,
     "metadata": {},
     "output_type": "execute_result"
    }
   ],
   "source": [
    "t = time.process_time()\n",
    "bow_comp = getbows(computers)\n",
    "time.process_time() - t"
   ]
  },
  {
   "cell_type": "code",
   "execution_count": 72,
   "metadata": {},
   "outputs": [
    {
     "data": {
      "text/plain": [
       "127.17146399999979"
      ]
     },
     "execution_count": 72,
     "metadata": {},
     "output_type": "execute_result"
    }
   ],
   "source": [
    "t = time.process_time()\n",
    "bow_trav = getbows(travel)\n",
    "time.process_time() - t"
   ]
  },
  {
   "cell_type": "code",
   "execution_count": 73,
   "metadata": {},
   "outputs": [
    {
     "data": {
      "text/plain": [
       "108.23139399999991"
      ]
     },
     "execution_count": 73,
     "metadata": {},
     "output_type": "execute_result"
    }
   ],
   "source": [
    "t = time.process_time()\n",
    "bow_bks = getbows(books)\n",
    "time.process_time() - t"
   ]
  },
  {
   "cell_type": "code",
   "execution_count": 74,
   "metadata": {},
   "outputs": [
    {
     "data": {
      "text/plain": [
       "106.02181700000006"
      ]
     },
     "execution_count": 74,
     "metadata": {},
     "output_type": "execute_result"
    }
   ],
   "source": [
    "t = time.process_time()\n",
    "bow_mov = getbows(movies)\n",
    "time.process_time() - t"
   ]
  },
  {
   "cell_type": "code",
   "execution_count": 75,
   "metadata": {},
   "outputs": [
    {
     "data": {
      "text/plain": [
       "90.41905699999984"
      ]
     },
     "execution_count": 75,
     "metadata": {},
     "output_type": "execute_result"
    }
   ],
   "source": [
    "t = time.process_time()\n",
    "bow_fball = getbows(fball)\n",
    "time.process_time() - t"
   ]
  },
  {
   "cell_type": "markdown",
   "metadata": {},
   "source": [
    "## Centroid Word Embedding Summarizer"
   ]
  },
  {
   "cell_type": "code",
   "execution_count": 76,
   "metadata": {},
   "outputs": [],
   "source": [
    "embedding_model = text_summarizer.centroid_word_embeddings.load_gensim_embedding_model('glove-wiki-gigaword-50')"
   ]
  },
  {
   "cell_type": "code",
   "execution_count": 77,
   "metadata": {},
   "outputs": [],
   "source": [
    "centroid_we_summarizer = text_summarizer.CentroidWordEmbeddingsSummarizer(embedding_model, sim_threshold=.99, preprocess_type='nltk')"
   ]
  },
  {
   "cell_type": "code",
   "execution_count": 78,
   "metadata": {},
   "outputs": [],
   "source": [
    "def getcwe(category):\n",
    "    s = []\n",
    "    for i in category:\n",
    "        try:\n",
    "            s.append(centroid_we_summarizer.summarize(i.text, limit=200-20))\n",
    "        except:\n",
    "            print(i)\n",
    "    return s"
   ]
  },
  {
   "cell_type": "code",
   "execution_count": 79,
   "metadata": {},
   "outputs": [
    {
     "data": {
      "text/plain": [
       "140.7356719999998"
      ]
     },
     "execution_count": 79,
     "metadata": {},
     "output_type": "execute_result"
    }
   ],
   "source": [
    "t = time.process_time()\n",
    "cwe_pol = getcwe(politics)\n",
    "time.process_time() - t"
   ]
  },
  {
   "cell_type": "code",
   "execution_count": 80,
   "metadata": {},
   "outputs": [
    {
     "data": {
      "text/plain": [
       "162.97548199999983"
      ]
     },
     "execution_count": 80,
     "metadata": {},
     "output_type": "execute_result"
    }
   ],
   "source": [
    "t = time.process_time()\n",
    "cwe_comp = getcwe(computers)\n",
    "time.process_time() - t"
   ]
  },
  {
   "cell_type": "code",
   "execution_count": 81,
   "metadata": {},
   "outputs": [
    {
     "data": {
      "text/plain": [
       "191.13609600000018"
      ]
     },
     "execution_count": 81,
     "metadata": {},
     "output_type": "execute_result"
    }
   ],
   "source": [
    "t = time.process_time()\n",
    "cwe_trav = getcwe(travel)\n",
    "time.process_time() - t"
   ]
  },
  {
   "cell_type": "code",
   "execution_count": 82,
   "metadata": {},
   "outputs": [
    {
     "data": {
      "text/plain": [
       "154.46810499999992"
      ]
     },
     "execution_count": 82,
     "metadata": {},
     "output_type": "execute_result"
    }
   ],
   "source": [
    "t = time.process_time()\n",
    "cwe_bks = getcwe(books)\n",
    "time.process_time() - t"
   ]
  },
  {
   "cell_type": "code",
   "execution_count": 83,
   "metadata": {},
   "outputs": [
    {
     "data": {
      "text/plain": [
       "149.37271499999997"
      ]
     },
     "execution_count": 83,
     "metadata": {},
     "output_type": "execute_result"
    }
   ],
   "source": [
    "t = time.process_time()\n",
    "cwe_mov = getcwe(movies)\n",
    "time.process_time() - t"
   ]
  },
  {
   "cell_type": "code",
   "execution_count": 84,
   "metadata": {},
   "outputs": [
    {
     "data": {
      "text/plain": [
       "134.564621"
      ]
     },
     "execution_count": 84,
     "metadata": {},
     "output_type": "execute_result"
    }
   ],
   "source": [
    "t = time.process_time()\n",
    "cwe_fball = getcwe(fball)\n",
    "time.process_time() - t"
   ]
  },
  {
   "cell_type": "code",
   "execution_count": 85,
   "metadata": {},
   "outputs": [
    {
     "data": {
      "text/plain": [
       "221.7"
      ]
     },
     "execution_count": 85,
     "metadata": {},
     "output_type": "execute_result"
    }
   ],
   "source": [
    "np.mean([len(nltk.word_tokenize(getcwe(politics[:100])[i])) for i in range(100)])"
   ]
  },
  {
   "cell_type": "code",
   "execution_count": 86,
   "metadata": {},
   "outputs": [
    {
     "data": {
      "text/plain": [
       "227.69"
      ]
     },
     "execution_count": 86,
     "metadata": {},
     "output_type": "execute_result"
    }
   ],
   "source": [
    "np.mean([len(nltk.word_tokenize(getbows(politics[:100])[i])) for i in range(100)])"
   ]
  },
  {
   "cell_type": "code",
   "execution_count": 87,
   "metadata": {},
   "outputs": [
    {
     "data": {
      "text/plain": [
       "222.99"
      ]
     },
     "execution_count": 87,
     "metadata": {},
     "output_type": "execute_result"
    }
   ],
   "source": [
    "np.mean([len(nltk.word_tokenize(getsummaries(politics[:100])[0][i])) for i in range(100)])"
   ]
  },
  {
   "cell_type": "code",
   "execution_count": 91,
   "metadata": {},
   "outputs": [
    {
     "data": {
      "text/plain": [
       "229.35"
      ]
     },
     "execution_count": 91,
     "metadata": {},
     "output_type": "execute_result"
    }
   ],
   "source": [
    "np.mean([len(nltk.word_tokenize(getctrls(politics[:100])[i])) for i in range(100)])"
   ]
  },
  {
   "cell_type": "markdown",
   "metadata": {},
   "source": [
    "## Pseudo-summaries"
   ]
  },
  {
   "cell_type": "code",
   "execution_count": 90,
   "metadata": {},
   "outputs": [],
   "source": [
    "def getctrls(category):\n",
    "    ctrls = []\n",
    "    for a in category:\n",
    "        sents = nltk.sent_tokenize(a.text)\n",
    "        rs = [i for i in range(len(sents))]\n",
    "        shuffle(rs)\n",
    "        ctrl = []\n",
    "        count = 0\n",
    "        for r in rs:\n",
    "            if count > 200-5:\n",
    "                break\n",
    "            count += len(nltk.word_tokenize(sents[r]))\n",
    "            ctrl.append(sents[r])\n",
    "        summary = \"\\n\".join([s for s in ctrl])\n",
    "        ctrls.append(summary)\n",
    "    return ctrls"
   ]
  },
  {
   "cell_type": "code",
   "execution_count": 92,
   "metadata": {},
   "outputs": [
    {
     "data": {
      "text/plain": [
       "16.466449999999895"
      ]
     },
     "execution_count": 92,
     "metadata": {},
     "output_type": "execute_result"
    }
   ],
   "source": [
    "t = time.process_time()\n",
    "ctrls_pol = getctrls(politics)\n",
    "time.process_time() - t"
   ]
  },
  {
   "cell_type": "code",
   "execution_count": 93,
   "metadata": {},
   "outputs": [
    {
     "data": {
      "text/plain": [
       "15.97608900000023"
      ]
     },
     "execution_count": 93,
     "metadata": {},
     "output_type": "execute_result"
    }
   ],
   "source": [
    "t = time.process_time()\n",
    "ctrls_comp = getctrls(computers)\n",
    "time.process_time() - t"
   ]
  },
  {
   "cell_type": "code",
   "execution_count": 94,
   "metadata": {},
   "outputs": [
    {
     "data": {
      "text/plain": [
       "17.73636600000009"
      ]
     },
     "execution_count": 94,
     "metadata": {},
     "output_type": "execute_result"
    }
   ],
   "source": [
    "t = time.process_time()\n",
    "ctrls_trav = getctrls(travel)\n",
    "time.process_time() - t"
   ]
  },
  {
   "cell_type": "code",
   "execution_count": 95,
   "metadata": {},
   "outputs": [
    {
     "data": {
      "text/plain": [
       "17.248153999999886"
      ]
     },
     "execution_count": 95,
     "metadata": {},
     "output_type": "execute_result"
    }
   ],
   "source": [
    "t = time.process_time()\n",
    "ctrls_bks = getctrls(books)\n",
    "time.process_time() - t"
   ]
  },
  {
   "cell_type": "code",
   "execution_count": 96,
   "metadata": {},
   "outputs": [
    {
     "data": {
      "text/plain": [
       "16.835243999999875"
      ]
     },
     "execution_count": 96,
     "metadata": {},
     "output_type": "execute_result"
    }
   ],
   "source": [
    "t = time.process_time()\n",
    "ctrls_mov = getctrls(movies)\n",
    "time.process_time() - t"
   ]
  },
  {
   "cell_type": "code",
   "execution_count": 97,
   "metadata": {},
   "outputs": [
    {
     "data": {
      "text/plain": [
       "15.510351999999784"
      ]
     },
     "execution_count": 97,
     "metadata": {},
     "output_type": "execute_result"
    }
   ],
   "source": [
    "t = time.process_time()\n",
    "ctrls_fball = getctrls(fball)\n",
    "time.process_time() - t"
   ]
  },
  {
   "cell_type": "markdown",
   "metadata": {},
   "source": [
    "# Training Word Embeddings on Summaries"
   ]
  },
  {
   "cell_type": "code",
   "execution_count": 98,
   "metadata": {},
   "outputs": [],
   "source": [
    "def getw2v_s(sums):\n",
    "    sentences = []\n",
    "    for t in sums:\n",
    "        sentences += nltk.sent_tokenize(t)\n",
    "    docs = [simple_preprocess(s) for s in sentences]\n",
    "    return Word2Vec(docs)"
   ]
  },
  {
   "cell_type": "code",
   "execution_count": 99,
   "metadata": {},
   "outputs": [],
   "source": [
    "mpol_s = getw2v_s(summaries_pol)"
   ]
  },
  {
   "cell_type": "code",
   "execution_count": 100,
   "metadata": {},
   "outputs": [],
   "source": [
    "mcomp_s = getw2v_s(summaries_comp)"
   ]
  },
  {
   "cell_type": "code",
   "execution_count": 101,
   "metadata": {},
   "outputs": [],
   "source": [
    "mtrav_s = getw2v_s(summaries_trav)"
   ]
  },
  {
   "cell_type": "code",
   "execution_count": 102,
   "metadata": {},
   "outputs": [],
   "source": [
    "mbks_s = getw2v_s(summaries_bks)"
   ]
  },
  {
   "cell_type": "code",
   "execution_count": 103,
   "metadata": {},
   "outputs": [],
   "source": [
    "mmov_s = getw2v_s(summaries_mov)"
   ]
  },
  {
   "cell_type": "code",
   "execution_count": 104,
   "metadata": {},
   "outputs": [],
   "source": [
    "mfball_s = getw2v_s(summaries_fball)"
   ]
  },
  {
   "cell_type": "code",
   "execution_count": 105,
   "metadata": {},
   "outputs": [],
   "source": [
    "mpol_sb = getw2v_s(bow_pol)\n",
    "mcomp_sb = getw2v_s(bow_comp)\n",
    "mtrav_sb = getw2v_s(bow_trav)\n",
    "mbks_sb = getw2v_s(bow_bks)\n",
    "mmov_sb = getw2v_s(bow_mov)\n",
    "mfball_sb = getw2v_s(bow_fball)"
   ]
  },
  {
   "cell_type": "code",
   "execution_count": 106,
   "metadata": {},
   "outputs": [],
   "source": [
    "mpol_sc = getw2v_s(cwe_pol)\n",
    "mcomp_sc = getw2v_s(cwe_comp)\n",
    "mtrav_sc = getw2v_s(cwe_trav)\n",
    "mbks_sc = getw2v_s(cwe_bks)\n",
    "mmov_sc = getw2v_s(cwe_mov)\n",
    "mfball_sc = getw2v_s(cwe_fball)"
   ]
  },
  {
   "cell_type": "code",
   "execution_count": 107,
   "metadata": {},
   "outputs": [],
   "source": [
    "mpol_c = getw2v_s(ctrls_pol)\n",
    "mcomp_c = getw2v_s(ctrls_comp)\n",
    "mtrav_c = getw2v_s(ctrls_trav)\n",
    "mbks_c = getw2v_s(ctrls_bks)\n",
    "mmov_c = getw2v_s(ctrls_mov)\n",
    "mfball_c = getw2v_s(ctrls_fball)"
   ]
  },
  {
   "cell_type": "code",
   "execution_count": 108,
   "metadata": {},
   "outputs": [],
   "source": [
    "dill.dump_session('thesis_env2.db')"
   ]
  },
  {
   "cell_type": "markdown",
   "metadata": {},
   "source": [
    "# Bias"
   ]
  },
  {
   "cell_type": "code",
   "execution_count": 165,
   "metadata": {},
   "outputs": [
    {
     "data": {
      "text/plain": [
       "Text(0.5, 1.0, 'Explained Variance vs Component Number (Random)')"
      ]
     },
     "execution_count": 165,
     "metadata": {},
     "output_type": "execute_result"
    },
    {
     "data": {
      "image/png": "[encoded data removed]",
      "text/plain": [
       "<Figure size 432x288 with 1 Axes>"
      ]
     },
     "metadata": {
      "needs_background": "light"
     },
     "output_type": "display_data"
    }
   ],
   "source": [
    "pca_r = PCA(n_components = 10)\n",
    "pca_r.fit(np.random.rand(70,100))\n",
    "plt.bar(range(10), pca_r.explained_variance_ratio_)\n",
    "plt.title(\"Explained Variance vs Component Number (Random)\")"
   ]
  },
  {
   "cell_type": "code",
   "execution_count": 136,
   "metadata": {},
   "outputs": [],
   "source": [
    "# todo"
   ]
  },
  {
   "cell_type": "code",
   "execution_count": 142,
   "metadata": {},
   "outputs": [],
   "source": [
    "with open('debiaswe-master/data/equalize_pairs.json') as f:\n",
    "    pairs = json.loads(f.read())\n",
    "pairs = list(map(lambda x: [x[0].lower(), x[1].lower()], pairs))"
   ]
  },
  {
   "cell_type": "code",
   "execution_count": 183,
   "metadata": {},
   "outputs": [
    {
     "data": {
      "text/plain": [
       "52"
      ]
     },
     "execution_count": 183,
     "metadata": {},
     "output_type": "execute_result"
    }
   ],
   "source": [
    "len(pairs)"
   ]
  },
  {
   "cell_type": "code",
   "execution_count": 121,
   "metadata": {},
   "outputs": [],
   "source": [
    "with open('debiaswe-master/data/professions.json') as f:\n",
    "    profs = json.loads(f.read())\n",
    "proflist = list(filter(lambda x: x in mpol.wv.vocab, [p[0] for p in profs if abs(p[1]) < 0.6]))"
   ]
  },
  {
   "cell_type": "code",
   "execution_count": 139,
   "metadata": {},
   "outputs": [],
   "source": [
    "with open('debiaswe-master/data/gender_specific_seed.json') as f:\n",
    "    gender_specific = json.loads(f.read())"
   ]
  },
  {
   "cell_type": "code",
   "execution_count": 143,
   "metadata": {},
   "outputs": [],
   "source": [
    "with open('debiaswe-master/data/gender_specific_full.json') as f:\n",
    "    gender_specific_full = json.loads(f.read())"
   ]
  },
  {
   "cell_type": "code",
   "execution_count": 179,
   "metadata": {},
   "outputs": [],
   "source": [
    "def getg(m, t, plot):\n",
    "    matrix = []\n",
    "    for a, b in pairs:\n",
    "        if a not in m.wv.vocab or b not in m.wv.vocab:\n",
    "            continue\n",
    "        center = (m.wv.get_vector(a) + m.wv.get_vector(b))/2\n",
    "        matrix.append(m.wv.get_vector(a) - center)\n",
    "        matrix.append(m.wv.get_vector(b) - center)\n",
    "    matrix = np.array(matrix)\n",
    "    p = PCA(n_components = 10)\n",
    "    p.fit(matrix)\n",
    "    if plot:\n",
    "        plt.bar(range(10), p.explained_variance_ratio_)\n",
    "        plt.title(\"Explained Variance vs Component Number (\" + t + \")\")\n",
    "    return p.components_[0]"
   ]
  },
  {
   "cell_type": "code",
   "execution_count": 182,
   "metadata": {},
   "outputs": [
    {
     "data": {
      "image/png": "[encoded data removed]",
      "text/plain": [
       "<Figure size 432x288 with 1 Axes>"
      ]
     },
     "metadata": {
      "needs_background": "light"
     },
     "output_type": "display_data"
    }
   ],
   "source": [
    "gpol = getg(mpol, \"Gender Pairs - Politics\", True)"
   ]
  },
  {
   "cell_type": "code",
   "execution_count": 181,
   "metadata": {},
   "outputs": [],
   "source": [
    "gtrav = getg(mtrav, \"Gender, Travel\", False)\n",
    "gcomp = getg(mcomp, \"Gender, Computers\", False)\n",
    "gcomp = getg(mcomp, \"Gender, Computers\", False)"
   ]
  },
  {
   "cell_type": "code",
   "execution_count": 166,
   "metadata": {},
   "outputs": [
    {
     "data": {
      "image/png": "[encoded data removed]",
      "text/plain": [
       "<Figure size 432x288 with 1 Axes>"
      ]
     },
     "metadata": {
      "needs_background": "light"
     },
     "output_type": "display_data"
    }
   ],
   "source": [
    "gpol_s = getg(mpol_s, \"Gender, Politics Summary (TextRank)\")"
   ]
  },
  {
   "cell_type": "code",
   "execution_count": 174,
   "metadata": {},
   "outputs": [
    {
     "data": {
      "image/png": "[encoded data removed]",
      "text/plain": [
       "<Figure size 432x288 with 1 Axes>"
      ]
     },
     "metadata": {
      "needs_background": "light"
     },
     "output_type": "display_data"
    }
   ],
   "source": [
    "gtrav_s = getg(mtrav_s, \"Gender, Travel Summary (TextRank)\")"
   ]
  },
  {
   "cell_type": "code",
   "execution_count": 167,
   "metadata": {},
   "outputs": [
    {
     "data": {
      "image/png": "[encoded data removed]",
      "text/plain": [
       "<Figure size 432x288 with 1 Axes>"
      ]
     },
     "metadata": {
      "needs_background": "light"
     },
     "output_type": "display_data"
    }
   ],
   "source": [
    "gcomp_s = getg(mcomp_s, \"Gender, Computers Summary (TextRank)\")"
   ]
  },
  {
   "cell_type": "code",
   "execution_count": 175,
   "metadata": {},
   "outputs": [
    {
     "data": {
      "image/png": "[encoded data removed]",
      "text/plain": [
       "<Figure size 432x288 with 1 Axes>"
      ]
     },
     "metadata": {
      "needs_background": "light"
     },
     "output_type": "display_data"
    }
   ],
   "source": [
    "gpol_sc = getg(mpol_sc, \"Gender, Politics Summary (Centroid-WE)\")"
   ]
  },
  {
   "cell_type": "code",
   "execution_count": 178,
   "metadata": {},
   "outputs": [
    {
     "data": {
      "image/png": "[encoded data removed]",
      "text/plain": [
       "<Figure size 432x288 with 1 Axes>"
      ]
     },
     "metadata": {
      "needs_background": "light"
     },
     "output_type": "display_data"
    }
   ],
   "source": [
    "gtrav_sc = getg(mtrav_sc, \"Gender, Travel Summary (Centroid-WE)\")"
   ]
  },
  {
   "cell_type": "code",
   "execution_count": 177,
   "metadata": {},
   "outputs": [
    {
     "data": {
      "image/png": "[encoded data removed]",
      "text/plain": [
       "<Figure size 432x288 with 1 Axes>"
      ]
     },
     "metadata": {
      "needs_background": "light"
     },
     "output_type": "display_data"
    }
   ],
   "source": [
    "gcomp_sc = getg(mcomp_sc, \"Gender, Computers Summary (Centroid-WE)\")"
   ]
  },
  {
   "cell_type": "code",
   "execution_count": 172,
   "metadata": {},
   "outputs": [
    {
     "data": {
      "image/png": "[encoded data removed]",
      "text/plain": [
       "<Figure size 432x288 with 1 Axes>"
      ]
     },
     "metadata": {
      "needs_background": "light"
     },
     "output_type": "display_data"
    }
   ],
   "source": [
    "gpol_c = getg(mpol_c, \"Gender, Politics Summary (Control)\")"
   ]
  },
  {
   "cell_type": "code",
   "execution_count": 170,
   "metadata": {},
   "outputs": [
    {
     "data": {
      "image/png": "[encoded data removed]",
      "text/plain": [
       "<Figure size 432x288 with 1 Axes>"
      ]
     },
     "metadata": {
      "needs_background": "light"
     },
     "output_type": "display_data"
    }
   ],
   "source": [
    "gcomp_c = getg(mcomp_c, \"Gender, Computers Summary (Control)\")"
   ]
  },
  {
   "cell_type": "code",
   "execution_count": 112,
   "metadata": {},
   "outputs": [
    {
     "name": "stdout",
     "output_type": "stream",
     "text": [
      "she                  -2.2710788249969482 \t\t he                   2.356893301010132\n",
      "pretty               -0.508688747882843 \t\t leadership           1.8383127450942993\n",
      "guy                  -0.30442196130752563 \t\t strong               1.207552433013916\n",
      "mother               -0.3039940297603607 \t\t politician           0.8111317157745361\n",
      "dressed              -0.09755730628967285 \t\t professor            0.705872118473053\n",
      "smart                -0.09026387333869934 \t\t architect            0.42393848299980164\n",
      "blond                -0.08173473924398422 \t\t scientist            0.15896250307559967\n",
      "woman                -0.07382756471633911 \t\t physician            0.1393873393535614\n",
      "male                 -0.06741078943014145 \t\t capable              0.11589368432760239\n",
      "brilliant            -0.05333647131919861 \t\t philosopher          0.07245338708162308\n",
      "sewing               -0.015276863239705563 \t\t man                  0.07010260969400406\n",
      "handsome             -0.013255850411951542 \t\t surgeon              0.06485341489315033\n",
      "incompetent          -0.012484760023653507 \t\t captain              0.060780156403779984\n",
      "clever               -0.007496535312384367 \t\t nurse                0.05871207267045975\n",
      "competent            -0.006708933971822262 \t\t financier            0.0509636253118515\n",
      "teacher              -0.006632350385189056 \t\t housekeeper          0.04568195715546608\n",
      "warrior              0.012089066207408905 \t\t cooking              0.039108432829380035\n",
      "doctor               0.016100050881505013 \t\t female               0.032829415053129196\n",
      "nanny                0.01910698413848877 \t\t cosmetics            0.03006601333618164\n",
      "cosmetics            0.03006601333618164 \t\t nanny                0.01910698413848877\n"
     ]
    }
   ],
   "source": [
    "res = sorted([(x, gproj(gpols_centroid, mpols_centroid, x)) for x in filter(lambda x: x in mpols_centroid.wv.vocab, wordlist)], key=lambda x: x[1])\n",
    "for i in range(20):\n",
    "    print(f\"{res[i][0].ljust(20)} {res[i][1]} \\t\\t {res[-i-1][0].ljust(20)} {res[-i-1][1]}\")"
   ]
  },
  {
   "cell_type": "code",
   "execution_count": 123,
   "metadata": {},
   "outputs": [
    {
     "data": {
      "text/plain": [
       "(0.9482668682883479, 0.6022038179460508)"
      ]
     },
     "execution_count": 123,
     "metadata": {},
     "output_type": "execute_result"
    }
   ],
   "source": [
    "bias(gpols_centroid, mpols_centroid, proflist), bias(gpols, mpols, proflist)"
   ]
  },
  {
   "cell_type": "code",
   "execution_count": 137,
   "metadata": {},
   "outputs": [
    {
     "data": {
      "text/plain": [
       "(0.4050998646040163, 0.13439693361364366)"
      ]
     },
     "execution_count": 137,
     "metadata": {},
     "output_type": "execute_result"
    }
   ],
   "source": [
    "bias(gtravs_centroid, mtravs_centroid, proflist), bias(gtravs, mtravs, proflist)"
   ]
  },
  {
   "cell_type": "code",
   "execution_count": 138,
   "metadata": {},
   "outputs": [
    {
     "data": {
      "text/plain": [
       "(1.8559659211923412, 0.4531655633919334)"
      ]
     },
     "execution_count": 138,
     "metadata": {},
     "output_type": "execute_result"
    }
   ],
   "source": [
    "bias(gcomps_centroid, mcomps_centroid, proflist), bias(gcomps, mcomps, proflist)"
   ]
  },
  {
   "cell_type": "code",
   "execution_count": 111,
   "metadata": {},
   "outputs": [],
   "source": [
    "def gproj(g, m, w1):\n",
    "    wvec = m.wv.get_vector(w1)\n",
    "    p = np.dot(g, wvec)/np.linalg.norm(g)\n",
    "    return p"
   ]
  },
  {
   "cell_type": "code",
   "execution_count": 110,
   "metadata": {},
   "outputs": [],
   "source": [
    "wordlist = ['he', 'she', 'doctor', 'nurse', 'man', 'woman', 'male', 'female', 'politician', 'guy', \\\n",
    "            'scientist', 'teacher', 'professor', 'mother', 'pretty', 'handsome', 'strong', 'coward', \\\n",
    "            'timid', 'leadership', 'blond', 'lovely', 'petite', 'surgeon', 'physician', 'shopkeeper', \\\n",
    "            'cooking', 'sewing', 'chuckle', 'sassy', 'lanky', 'competent', 'brilliant', 'capable', 'smart', \\\n",
    "            'intelligent', 'incompetent', 'librarian', 'cosmetics', 'maid', 'clever', 'dressed', 'captain', \\\n",
    "            'nanny', 'philosopher', 'architect', 'financier', 'warrior', 'magician', 'housekeeper', 'homemaker']"
   ]
  },
  {
   "cell_type": "code",
   "execution_count": 117,
   "metadata": {},
   "outputs": [
    {
     "name": "stdout",
     "output_type": "stream",
     "text": [
      "man                  -3.7426586151123047 \t\t she                  6.507950782775879\n",
      "he                   -3.2389204502105713 \t\t woman                3.978196859359741\n",
      "leadership           -2.6054000854492188 \t\t female               2.1559529304504395\n",
      "professor            -2.5416016578674316 \t\t male                 2.0371978282928467\n",
      "politician           -2.009556293487549 \t\t mother               1.9487175941467285\n",
      "scientist            -1.995765209197998 \t\t doctor               1.373782992362976\n",
      "architect            -1.6636126041412354 \t\t teacher              1.095907211303711\n",
      "guy                  -1.236844539642334 \t\t pretty               1.0189235210418701\n",
      "captain              -0.7500171065330505 \t\t dressed              0.6161187887191772\n",
      "strong               -0.729799747467041 \t\t blond                0.49705949425697327\n",
      "financier            -0.48084181547164917 \t\t intelligent          0.4610220789909363\n",
      "warrior              -0.3460354208946228 \t\t smart                0.3614952862262726\n",
      "philosopher          -0.33129969239234924 \t\t cooking              0.29901257157325745\n",
      "physician            -0.2697586119174957 \t\t nurse                0.2973265051841736\n",
      "capable              -0.2353784590959549 \t\t maid                 0.23386669158935547\n",
      "incompetent          -0.22745417058467865 \t\t lovely               0.23238392174243927\n",
      "surgeon              -0.20370154082775116 \t\t sewing               0.16437005996704102\n",
      "brilliant            -0.17029620707035065 \t\t clever               0.16409718990325928\n",
      "lanky                -0.16175992786884308 \t\t homemaker            0.13481584191322327\n",
      "shopkeeper           -0.13689708709716797 \t\t sassy                0.1122685968875885\n"
     ]
    }
   ],
   "source": [
    "res = sorted([(x, gproj(gpol, mpol, x)) for x in filter(lambda x: x in mpol.wv.vocab, wordlist)], key=lambda x: x[1])\n",
    "for i in range(20):\n",
    "    print(f\"{res[i][0].ljust(20)} {res[i][1]} \\t\\t {res[-i-1][0].ljust(20)} {res[-i-1][1]}\")"
   ]
  },
  {
   "cell_type": "code",
   "execution_count": 123,
   "metadata": {},
   "outputs": [
    {
     "name": "stdout",
     "output_type": "stream",
     "text": [
      "she                  -6.732553958892822 \t\t he                   5.921176433563232\n",
      "woman                -2.8284213542938232 \t\t architect            2.261176347732544\n",
      "mother               -1.631007432937622 \t\t man                  1.9642524719238281\n",
      "lovely               -0.9345683455467224 \t\t captain              0.5961882472038269\n",
      "pretty               -0.8737713694572449 \t\t guy                  0.5897709727287292\n",
      "teacher              -0.6393272876739502 \t\t scientist            0.5507559776306152\n",
      "blond                -0.6306520104408264 \t\t professor            0.4121052622795105\n",
      "dressed              -0.5661043524742126 \t\t politician           0.24364084005355835\n",
      "cooking              -0.5366024971008301 \t\t brilliant            0.23765069246292114\n",
      "female               -0.41221967339515686 \t\t doctor               0.21805959939956665\n",
      "nanny                -0.4005126655101776 \t\t clever               0.209228515625\n",
      "nurse                -0.35116928815841675 \t\t capable              0.2009584903717041\n",
      "male                 -0.31772148609161377 \t\t leadership           0.20009246468544006\n",
      "petite               -0.2871208190917969 \t\t handsome             0.19972474873065948\n",
      "smart                -0.22750306129455566 \t\t financier            0.1718595027923584\n",
      "cosmetics            -0.16408483684062958 \t\t lanky                0.1673848181962967\n",
      "sewing               -0.09468129277229309 \t\t warrior              0.15571756660938263\n",
      "librarian            -0.0569617934525013 \t\t philosopher          0.1532084345817566\n",
      "homemaker            -0.04722302407026291 \t\t physician            0.1326189488172531\n",
      "timid                -0.041968125849962234 \t\t surgeon              0.09802734851837158\n"
     ]
    }
   ],
   "source": [
    "res = sorted([(x, gproj(gtrav, mtrav, x)) for x in filter(lambda x: x in mtrav.wv.vocab, wordlist)], key=lambda x: x[1])\n",
    "for i in range(20):\n",
    "    print(f\"{res[i][0].ljust(20)} {res[i][1]} \\t\\t {res[-i-1][0].ljust(20)} {res[-i-1][1]}\")"
   ]
  },
  {
   "cell_type": "code",
   "execution_count": 114,
   "metadata": {},
   "outputs": [],
   "source": [
    "def bias(g, m, wordlist):\n",
    "    b = 0\n",
    "    l = list(filter(lambda x: x in m.wv.vocab, wordlist))\n",
    "    for x in l:\n",
    "        b += gproj(g, m, x)**2\n",
    "    return np.sqrt(b/len(l))"
   ]
  },
  {
   "cell_type": "code",
   "execution_count": 103,
   "metadata": {},
   "outputs": [],
   "source": [
    "def testbias(wordlist):\n",
    "    print(f\"politics: {bias(gpol, mpol, wordlist)}\")\n",
    "    print(f\"politics summary: {bias(gpols, mpols, wordlist)}\")\n",
    "    print(f\"computers: {bias(gcomp, mcomp, wordlist)}\")\n",
    "    print(f\"computers summary: {bias(gcomps, mcomps, wordlist)}\")\n",
    "    print(f\"travel: {bias(gtrav, mtrav, wordlist)}\")\n",
    "    print(f\"travel summary: {bias(gtravs, mtravs, wordlist)}\")"
   ]
  },
  {
   "cell_type": "code",
   "execution_count": 126,
   "metadata": {},
   "outputs": [
    {
     "data": {
      "text/plain": [
       "(1.080344051949677, 0.7235289508241887)"
      ]
     },
     "execution_count": 126,
     "metadata": {},
     "output_type": "execute_result"
    }
   ],
   "source": [
    "bias(gpol, mpol, proflist), bias(gpols, mpols, proflist)"
   ]
  },
  {
   "cell_type": "code",
   "execution_count": 130,
   "metadata": {},
   "outputs": [
    {
     "data": {
      "text/plain": [
       "(1.4443633579802266, 0.8515114355018824)"
      ]
     },
     "execution_count": 130,
     "metadata": {},
     "output_type": "execute_result"
    }
   ],
   "source": [
    "bias(gpol, mpol, gender_specific), bias(gpols, mpols, gender_specific)"
   ]
  },
  {
   "cell_type": "code",
   "execution_count": 122,
   "metadata": {},
   "outputs": [
    {
     "name": "stdout",
     "output_type": "stream",
     "text": [
      "politics: 1.080344051949677\n",
      "politics summary: 0.7235289508241887\n",
      "computers: 0.5606665330295195\n",
      "computers summary: 0.39853296151511014\n",
      "travel: 0.41046785015210885\n",
      "travel summary: 0.13200765679855686\n"
     ]
    }
   ],
   "source": [
    "testbias(proflist)"
   ]
  },
  {
   "cell_type": "code",
   "execution_count": 133,
   "metadata": {},
   "outputs": [
    {
     "name": "stdout",
     "output_type": "stream",
     "text": [
      "politics: 1.5975402701761838\n",
      "politics summary: 0.9180423165261025\n",
      "computers: 1.4735026773405129\n",
      "computers summary: 1.0926430491214618\n",
      "travel: 1.364429929965666\n",
      "travel summary: 0.9591379027237654\n"
     ]
    }
   ],
   "source": [
    "testbias(gender_specific)"
   ]
  },
  {
   "cell_type": "code",
   "execution_count": 134,
   "metadata": {},
   "outputs": [
    {
     "name": "stdout",
     "output_type": "stream",
     "text": [
      "politics: 0.43647351940669277\n",
      "politics summary: 0.282504577056523\n",
      "computers: 0.29300878141766545\n",
      "computers summary: 0.2200760579903955\n",
      "travel: 0.3566308922040626\n",
      "travel summary: 0.17490366763962403\n"
     ]
    }
   ],
   "source": [
    "testbias(adjectives)"
   ]
  },
  {
   "cell_type": "code",
   "execution_count": 135,
   "metadata": {},
   "outputs": [
    {
     "name": "stdout",
     "output_type": "stream",
     "text": [
      "politics: 1.4443633579802266\n",
      "politics summary: 0.8515114355018824\n",
      "computers: 1.346425442116525\n",
      "computers summary: 1.0266586611981627\n",
      "travel: 1.1662070490016498\n",
      "travel summary: 0.8557176663216234\n"
     ]
    }
   ],
   "source": [
    "testbias(gender_specific_full)"
   ]
  },
  {
   "cell_type": "markdown",
   "metadata": {},
   "source": [
    "## Regression for bias testing"
   ]
  },
  {
   "cell_type": "code",
   "execution_count": 140,
   "metadata": {},
   "outputs": [],
   "source": [
    "def regress(g1, m1, g2, m2, wordlist):\n",
    "    x = np.array([gproj(g1, m1, w) for w in wordlist if w in m1.wv.vocab and w in m2.wv.vocab])\n",
    "    y = np.array([gproj(g2, m2, w) for w in wordlist if w in m1.wv.vocab and w in m2.wv.vocab])\n",
    "    slope, intercept, r_value, p_value, std_err = stats.linregress(x,y)\n",
    "    return slope, p_value"
   ]
  },
  {
   "cell_type": "code",
   "execution_count": 141,
   "metadata": {},
   "outputs": [
    {
     "data": {
      "text/plain": [
       "(0.533629121432331, 1.5349588515623742e-57)"
      ]
     },
     "execution_count": 141,
     "metadata": {},
     "output_type": "execute_result"
    }
   ],
   "source": [
    "regress(gpol, mpol, gpols, mpols, proflist)"
   ]
  },
  {
   "cell_type": "code",
   "execution_count": 142,
   "metadata": {},
   "outputs": [
    {
     "data": {
      "text/plain": [
       "(-0.47288942755651714, 6.5938456670774195e-21)"
      ]
     },
     "execution_count": 142,
     "metadata": {},
     "output_type": "execute_result"
    }
   ],
   "source": [
    "regress(gcomp, mcomp, gcomps, mcomps, proflist)"
   ]
  },
  {
   "cell_type": "code",
   "execution_count": 143,
   "metadata": {},
   "outputs": [
    {
     "data": {
      "text/plain": [
       "(0.1988740624251196, 4.7826899611645153e-17)"
      ]
     },
     "execution_count": 143,
     "metadata": {},
     "output_type": "execute_result"
    }
   ],
   "source": [
    "regress(gtrav, mtrav, gtravs, mtravs, proflist)"
   ]
  },
  {
   "cell_type": "code",
   "execution_count": 148,
   "metadata": {},
   "outputs": [
    {
     "data": {
      "text/plain": [
       "26.502477999999883"
      ]
     },
     "execution_count": 148,
     "metadata": {},
     "output_type": "execute_result"
    }
   ],
   "source": [
    "t = time.process_time()\n",
    "docs = [simple_preprocess(s) for s in controls_pol]\n",
    "mcpol = Word2Vec(docs)\n",
    "time.process_time() - t"
   ]
  },
  {
   "cell_type": "code",
   "execution_count": 149,
   "metadata": {},
   "outputs": [
    {
     "name": "stdout",
     "output_type": "stream",
     "text": [
      "(68, 100)\n"
     ]
    },
    {
     "data": {
      "image/png": "[encoded data removed]",
      "text/plain": [
       "<Figure size 432x288 with 1 Axes>"
      ]
     },
     "metadata": {
      "needs_background": "light"
     },
     "output_type": "display_data"
    }
   ],
   "source": [
    "gcpol = getg(mcpol)"
   ]
  },
  {
   "cell_type": "code",
   "execution_count": 150,
   "metadata": {},
   "outputs": [
    {
     "data": {
      "text/plain": [
       "0.5980368159429239"
      ]
     },
     "execution_count": 150,
     "metadata": {},
     "output_type": "execute_result"
    }
   ],
   "source": [
    "bias(gcpol, mcpol, proflist)"
   ]
  },
  {
   "cell_type": "code",
   "execution_count": 151,
   "metadata": {},
   "outputs": [
    {
     "data": {
      "text/plain": [
       "2424360"
      ]
     },
     "execution_count": 151,
     "metadata": {},
     "output_type": "execute_result"
    }
   ],
   "source": [
    "words_cpol = []\n",
    "for s in controls_pol:\n",
    "    words_cpol += nltk.word_tokenize(s)\n",
    "len(words_cpol)"
   ]
  },
  {
   "cell_type": "code",
   "execution_count": 152,
   "metadata": {},
   "outputs": [
    {
     "data": {
      "text/plain": [
       "72051"
      ]
     },
     "execution_count": 152,
     "metadata": {},
     "output_type": "execute_result"
    }
   ],
   "source": [
    "sums_pol = []\n",
    "for s in summaries_pol:\n",
    "    sums_pol += nltk.sent_tokenize(s)\n",
    "len(sums_pol)"
   ]
  },
  {
   "cell_type": "code",
   "execution_count": 153,
   "metadata": {},
   "outputs": [
    {
     "data": {
      "text/plain": [
       "3421655"
      ]
     },
     "execution_count": 153,
     "metadata": {},
     "output_type": "execute_result"
    }
   ],
   "source": [
    "words_spol = []\n",
    "for s in sums_pol:\n",
    "    words_spol += nltk.word_tokenize(s)\n",
    "len(words_spol)"
   ]
  },
  {
   "cell_type": "code",
   "execution_count": 154,
   "metadata": {},
   "outputs": [
    {
     "data": {
      "text/plain": [
       "10682577"
      ]
     },
     "execution_count": 154,
     "metadata": {},
     "output_type": "execute_result"
    }
   ],
   "source": [
    "words_pol = []\n",
    "for p in politics:\n",
    "    words_pol += nltk.word_tokenize(p.text)\n",
    "len(words_pol)"
   ]
  },
  {
   "cell_type": "code",
   "execution_count": 166,
   "metadata": {},
   "outputs": [
    {
     "data": {
      "text/plain": [
       "105.49074400000018"
      ]
     },
     "execution_count": 166,
     "metadata": {},
     "output_type": "execute_result"
    }
   ],
   "source": [
    "t = time.process_time()\n",
    "docs = [simple_preprocess(s) for s in swcontrols_pol]\n",
    "mwcpol = Word2Vec(docs)\n",
    "time.process_time() - t"
   ]
  },
  {
   "cell_type": "code",
   "execution_count": 159,
   "metadata": {},
   "outputs": [
    {
     "name": "stdout",
     "output_type": "stream",
     "text": [
      "(66, 100)\n"
     ]
    },
    {
     "data": {
      "image/png": "[encoded data removed]",
      "text/plain": [
       "<Figure size 432x288 with 1 Axes>"
      ]
     },
     "metadata": {
      "needs_background": "light"
     },
     "output_type": "display_data"
    }
   ],
   "source": [
    "gwcpol = getg(mwcpol)"
   ]
  },
  {
   "cell_type": "code",
   "execution_count": 161,
   "metadata": {},
   "outputs": [
    {
     "data": {
      "text/plain": [
       "(0.5949498666298728, 0.7235289508241887)"
      ]
     },
     "execution_count": 161,
     "metadata": {},
     "output_type": "execute_result"
    }
   ],
   "source": [
    "bias(gwcpol, mwcpol, proflist), bias(gpols, mpols, proflist)"
   ]
  },
  {
   "cell_type": "code",
   "execution_count": 162,
   "metadata": {},
   "outputs": [
    {
     "data": {
      "text/plain": [
       "(-0.76112853809404, 9.301110161945145e-40)"
      ]
     },
     "execution_count": 162,
     "metadata": {},
     "output_type": "execute_result"
    }
   ],
   "source": [
    "regress(gpols, mpols, gwcpol, mwcpol, proflist)"
   ]
  },
  {
   "cell_type": "code",
   "execution_count": 163,
   "metadata": {
    "scrolled": true
   },
   "outputs": [
    {
     "data": {
      "text/plain": [
       "(0.28612796610067653, 1.936121103526654e-16)"
      ]
     },
     "execution_count": 163,
     "metadata": {},
     "output_type": "execute_result"
    }
   ],
   "source": [
    "regress(gpol, mpol, gcomp, mcomp, proflist)"
   ]
  },
  {
   "cell_type": "code",
   "execution_count": 417,
   "metadata": {},
   "outputs": [],
   "source": [
    "def testbiaslen(wordlist):\n",
    "    print(f\"politics: {bias(gpol5825, mpol5825, wordlist)}\")\n",
    "    print(f\"politics summary (textrank): {bias(gpols5825, mpols5825, wordlist)}\")\n",
    "    print(f\"politics summary (centroid BOW): {bias(gpols_centroid5825, mpols_centroid5825, wordlist)}\")\n",
    "    print(f\"politics summary (centroid WE): {bias(gpols_centroidwe, mpols_centroidwe, wordlist)}\")\n",
    "    print(f\"computers: {bias(gcomp, mcomp, wordlist)}\")\n",
    "    print(f\"computers summary: {bias(gcomps, mcomps, wordlist)}\")\n",
    "    print(f\"computers summary (centroid BOW): {bias(gcomp_centroid, mcomp_centroid, wordlist)}\")\n",
    "    print(f\"computers summary (centroid WE): {bias(gcomps_centroidwe, mcomps_centroidwe, wordlist)}\")\n",
    "    print(f\"travel: {bias(gtrav5825, mtrav5825, wordlist)}\")\n",
    "    print(f\"travel summary: {bias(gtravs5825, mtravs5825, wordlist)}\")\n",
    "    print(f\"travel summary (centroid BOW): {bias(gtravs_centroid5825, mtravs_centroid5825, wordlist)}\")\n",
    "    print(f\"travel summary (centroid WE): {bias(gtravs_centroidwe, mtravs_centroidwe, wordlist)}\")"
   ]
  },
  {
   "cell_type": "code",
   "execution_count": 440,
   "metadata": {},
   "outputs": [
    {
     "name": "stdout",
     "output_type": "stream",
     "text": [
      "politics: 0.7335234985533784\n",
      "politics summary (textrank): 0.6574114762552342\n",
      "politics summary (centroid BOW): 1.2824995217263468\n",
      "politics summary (centroid WE): 1.8274917926411358\n",
      "computers: 0.7212840233313105\n",
      "computers summary: 0.450853504622297\n",
      "computers summary (centroid BOW): 0.52871358749296\n",
      "computers summary (centroid WE): 1.8170225428357671\n",
      "travel: 0.41171318892622766\n",
      "travel summary: 0.12071090081225919\n",
      "travel summary (centroid BOW): 0.15780635587430647\n",
      "travel summary (centroid WE): 0.5584299267286956\n"
     ]
    }
   ],
   "source": [
    "testbiaslen(proflist)"
   ]
  },
  {
   "cell_type": "code",
   "execution_count": 434,
   "metadata": {},
   "outputs": [
    {
     "data": {
      "text/plain": [
       "13744"
      ]
     },
     "execution_count": 434,
     "metadata": {},
     "output_type": "execute_result"
    }
   ],
   "source": [
    "len(ms_centroid.wv.vocab)"
   ]
  },
  {
   "cell_type": "code",
   "execution_count": null,
   "metadata": {},
   "outputs": [],
   "source": []
  }
 ],
 "metadata": {
  "kernelspec": {
   "display_name": "Python 3",
   "language": "python",
   "name": "python3"
  },
  "language_info": {
   "codemirror_mode": {
    "name": "ipython",
    "version": 3
   },
   "file_extension": ".py",
   "mimetype": "text/x-python",
   "name": "python",
   "nbconvert_exporter": "python",
   "pygments_lexer": "ipython3",
   "version": "3.7.0"
  }
 },
 "nbformat": 4,
 "nbformat_minor": 2
}
