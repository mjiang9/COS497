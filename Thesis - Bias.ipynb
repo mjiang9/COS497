{
 "cells": [
  {
   "cell_type": "code",
   "execution_count": 1,
   "metadata": {},
   "outputs": [],
   "source": [
    "import os\n",
    "import time\n",
    "import dill\n",
    "from typing import List\n",
    "from functools import reduce\n",
    "from calendar import monthrange"
   ]
  },
  {
   "cell_type": "code",
   "execution_count": 2,
   "metadata": {},
   "outputs": [],
   "source": [
    "import json\n",
    "import csv\n",
    "import requests\n",
    "import xml.etree.ElementTree as ET\n",
    "from bs4 import BeautifulSoup\n",
    "import urllib.request as urllib2"
   ]
  },
  {
   "cell_type": "code",
   "execution_count": 3,
   "metadata": {},
   "outputs": [],
   "source": [
    "import matplotlib.pyplot as plt\n",
    "import numpy as np\n",
    "from scipy import stats\n",
    "from random import sample, randint, shuffle\n",
    "from sklearn.decomposition import PCA"
   ]
  },
  {
   "cell_type": "code",
   "execution_count": 4,
   "metadata": {},
   "outputs": [],
   "source": [
    "import nltk\n",
    "import text_summarizer\n",
    "from gensim.utils import simple_preprocess\n",
    "from gensim.summarization.summarizer import summarize\n",
    "from gensim.models import Word2Vec, LsiModel\n",
    "from gensim.test.utils import common_dictionary, common_corpus"
   ]
  },
  {
   "cell_type": "code",
   "execution_count": 5,
   "metadata": {},
   "outputs": [],
   "source": [
    "from time import process_time"
   ]
  },
  {
   "cell_type": "code",
   "execution_count": 6,
   "metadata": {},
   "outputs": [
    {
     "data": {
      "text/plain": [
       "-3532.874604"
      ]
     },
     "execution_count": 6,
     "metadata": {},
     "output_type": "execute_result"
    }
   ],
   "source": [
    "t = process_time()\n",
    "dill.load_session('thesis_env2.db')\n",
    "process_time() - t"
   ]
  },
  {
   "cell_type": "code",
   "execution_count": 7,
   "metadata": {},
   "outputs": [],
   "source": [
    "with open('objects.csv') as csv_file:\n",
    "    objects = csv_file.read().split(\"\\n\")\n",
    "objects[0] = 'angle'"
   ]
  },
  {
   "cell_type": "code",
   "execution_count": 9,
   "metadata": {},
   "outputs": [
    {
     "data": {
      "text/plain": [
       "1685787"
      ]
     },
     "execution_count": 9,
     "metadata": {},
     "output_type": "execute_result"
    }
   ],
   "source": [
    "len(all_)"
   ]
  },
  {
   "cell_type": "code",
   "execution_count": 10,
   "metadata": {},
   "outputs": [
    {
     "data": {
      "text/plain": [
       "(5400, 5400, 5400, 5400, 5400, 5400)"
      ]
     },
     "execution_count": 10,
     "metadata": {},
     "output_type": "execute_result"
    }
   ],
   "source": [
    "len(politics), len(computers), len(travel), len(movies), len(books), len(fball)"
   ]
  },
  {
   "cell_type": "code",
   "execution_count": 29,
   "metadata": {},
   "outputs": [],
   "source": [
    "# variables:"
   ]
  },
  {
   "cell_type": "code",
   "execution_count": 12,
   "metadata": {},
   "outputs": [],
   "source": [
    "# mpol, mcomp, mtrav, mmov, mbooks, mfball"
   ]
  },
  {
   "cell_type": "code",
   "execution_count": 13,
   "metadata": {},
   "outputs": [],
   "source": [
    "# summaries_pol, summaries_comp, summaries_trav, \n",
    "# summaries_mov, summaries_bks, summaries_fball"
   ]
  },
  {
   "cell_type": "code",
   "execution_count": 14,
   "metadata": {},
   "outputs": [],
   "source": [
    "# bow_pol, bow_comp, bow_trav, bow_mov, bow_bks, bow_fball\n",
    "# cwe_pol, cwe_comp, cwe_trav, cwe_mov, cwe_bks, cwe_fball\n",
    "# ctrls_pol, ctrls_comp, ctrls_trav, ctrls_mov, ctrls_bks, ctrls_fball"
   ]
  },
  {
   "cell_type": "code",
   "execution_count": 15,
   "metadata": {},
   "outputs": [],
   "source": [
    "# mpol_s, mcomp_s, mtrav_s, mbks_s, mmov_s, mfball_s"
   ]
  },
  {
   "cell_type": "code",
   "execution_count": 16,
   "metadata": {},
   "outputs": [],
   "source": [
    "# mpol_sb, mcomp_sb, mtrav_sb, mbks_sb, mmov_sb, mfball_sb"
   ]
  },
  {
   "cell_type": "code",
   "execution_count": 17,
   "metadata": {},
   "outputs": [],
   "source": [
    "# mpol_sc, mcomp_sc, mtrav_sc, mbks_sc, mmov_sc, mfball_sc"
   ]
  },
  {
   "cell_type": "code",
   "execution_count": 18,
   "metadata": {},
   "outputs": [],
   "source": [
    "# mpol_c, mcomp_c, mtrav_c, mbks_c, mmov_c, mfball_c"
   ]
  },
  {
   "cell_type": "code",
   "execution_count": 19,
   "metadata": {},
   "outputs": [],
   "source": [
    "with open('debiaswe-master/data/equalize_pairs.json') as f:\n",
    "    pairs = json.loads(f.read())\n",
    "pairs = list(map(lambda x: [x[0].lower(), x[1].lower()], pairs))"
   ]
  },
  {
   "cell_type": "code",
   "execution_count": 20,
   "metadata": {},
   "outputs": [],
   "source": [
    "with open('debiaswe-master/data/professions.json') as f:\n",
    "    profs = json.loads(f.read())\n",
    "proflist = list(filter(lambda x: x in mpol.wv.vocab, [p[0] for p in profs if abs(p[1]) < 0.6]))"
   ]
  },
  {
   "cell_type": "code",
   "execution_count": 21,
   "metadata": {},
   "outputs": [],
   "source": [
    "with open('debiaswe-master/data/gender_specific_seed.json') as f:\n",
    "    gender_specific = json.loads(f.read())"
   ]
  },
  {
   "cell_type": "code",
   "execution_count": 22,
   "metadata": {},
   "outputs": [],
   "source": [
    "with open('debiaswe-master/data/gender_specific_full.json') as f:\n",
    "    gender_specific_full = json.loads(f.read())"
   ]
  },
  {
   "cell_type": "code",
   "execution_count": 23,
   "metadata": {},
   "outputs": [],
   "source": [
    "wordlist = ['he', 'she', 'doctor', 'nurse', 'man', 'woman', 'male', 'female', 'politician', 'guy', \\\n",
    "            'scientist', 'teacher', 'professor', 'mother', 'pretty', 'handsome', 'strong', 'coward', \\\n",
    "            'timid', 'leadership', 'blond', 'lovely', 'petite', 'surgeon', 'physician', 'shopkeeper', \\\n",
    "            'cooking', 'sewing', 'chuckle', 'sassy', 'lanky', 'competent', 'brilliant', 'capable', 'smart', \\\n",
    "            'intelligent', 'incompetent', 'librarian', 'cosmetics', 'maid', 'clever', 'dressed', 'captain', \\\n",
    "            'nanny', 'philosopher', 'architect', 'financier', 'warrior', 'magician', 'housekeeper', 'homemaker']"
   ]
  },
  {
   "cell_type": "code",
   "execution_count": 39,
   "metadata": {},
   "outputs": [],
   "source": [
    "cities = [x.lower() for x in cities]"
   ]
  },
  {
   "cell_type": "code",
   "execution_count": 24,
   "metadata": {},
   "outputs": [
    {
     "data": {
      "text/plain": [
       "(393, 2010, 192, 190, 51)"
      ]
     },
     "execution_count": 24,
     "metadata": {},
     "output_type": "execute_result"
    }
   ],
   "source": [
    "len(adjectives), len(cities), len(objects), len(proflist), len(wordlist)"
   ]
  },
  {
   "cell_type": "code",
   "execution_count": 33,
   "metadata": {},
   "outputs": [
    {
     "data": {
      "text/plain": [
       "12600"
      ]
     },
     "execution_count": 33,
     "metadata": {},
     "output_type": "execute_result"
    }
   ],
   "source": [
    "vocab = set(mpol.wv.vocab)\n",
    "for m in [mpol, mcomp, mtrav, mmov, mbooks, mfball]:\n",
    "    vocab &= set(m.wv.vocab)\n",
    "len(vocab)"
   ]
  },
  {
   "cell_type": "code",
   "execution_count": 63,
   "metadata": {},
   "outputs": [
    {
     "data": {
      "text/plain": [
       "4753"
      ]
     },
     "execution_count": 63,
     "metadata": {},
     "output_type": "execute_result"
    }
   ],
   "source": [
    "vocab_s = set(vocab)\n",
    "for m in [mpol_s, mcomp_s, mtrav_s, mbks_s, mmov_s, mfball_s]:\n",
    "    vocab_s &= set(m.wv.vocab)\n",
    "len(vocab_s)"
   ]
  },
  {
   "cell_type": "code",
   "execution_count": 65,
   "metadata": {},
   "outputs": [
    {
     "data": {
      "text/plain": [
       "4788"
      ]
     },
     "execution_count": 65,
     "metadata": {},
     "output_type": "execute_result"
    }
   ],
   "source": [
    "vocab_sb = set(vocab)\n",
    "for m in [mpol_sb, mcomp_sb, mtrav_sb, mbks_sb, mmov_sb, mfball_sb]:\n",
    "    vocab_sb &= set(m.wv.vocab)\n",
    "len(vocab_sb)"
   ]
  },
  {
   "cell_type": "code",
   "execution_count": 67,
   "metadata": {},
   "outputs": [
    {
     "data": {
      "text/plain": [
       "4897"
      ]
     },
     "execution_count": 67,
     "metadata": {},
     "output_type": "execute_result"
    }
   ],
   "source": [
    "vocab_sc = set(vocab)\n",
    "for m in [mpol_sc, mcomp_sc, mtrav_sc, mbks_sc, mmov_sc, mfball_sc]:\n",
    "    vocab_sc &= set(m.wv.vocab)\n",
    "len(vocab_sc)"
   ]
  },
  {
   "cell_type": "code",
   "execution_count": 69,
   "metadata": {},
   "outputs": [
    {
     "data": {
      "text/plain": [
       "4765"
      ]
     },
     "execution_count": 69,
     "metadata": {},
     "output_type": "execute_result"
    }
   ],
   "source": [
    "vocab_c = set(vocab)\n",
    "for m in [mpol_c, mcomp_c, mtrav_c, mbks_c, mmov_c, mfball_c]:\n",
    "    vocab_c &= set(m.wv.vocab)\n",
    "len(vocab_c)"
   ]
  },
  {
   "cell_type": "code",
   "execution_count": 71,
   "metadata": {},
   "outputs": [
    {
     "data": {
      "text/plain": [
       "3905"
      ]
     },
     "execution_count": 71,
     "metadata": {},
     "output_type": "execute_result"
    }
   ],
   "source": [
    "vocab_all = set(vocab)\n",
    "for m in [mpol_s, mcomp_s, mtrav_s, mbks_s, mmov_s, mfball_s] + \\\n",
    "[mpol_sb, mcomp_sb, mtrav_sb, mbks_sb, mmov_sb, mfball_sb] + \\\n",
    "[mpol_sc, mcomp_sc, mtrav_sc, mbks_sc, mmov_sc, mfball_sc] + \\\n",
    "[mpol_c, mcomp_c, mtrav_c, mbks_c, mmov_c, mfball_c]:\n",
    "    vocab_all &= set(m.wv.vocab)\n",
    "len(vocab_all)"
   ]
  },
  {
   "cell_type": "code",
   "execution_count": 74,
   "metadata": {},
   "outputs": [
    {
     "data": {
      "text/plain": [
       "(42, 33)"
      ]
     },
     "execution_count": 74,
     "metadata": {},
     "output_type": "execute_result"
    }
   ],
   "source": [
    "len(vocab_c & set(proflist)), len(vocab_all & set(proflist))"
   ]
  },
  {
   "cell_type": "code",
   "execution_count": 62,
   "metadata": {},
   "outputs": [
    {
     "data": {
      "text/plain": [
       "116"
      ]
     },
     "execution_count": 62,
     "metadata": {},
     "output_type": "execute_result"
    }
   ],
   "source": [
    "len(vocab & set(proflist))"
   ]
  },
  {
   "cell_type": "code",
   "execution_count": 137,
   "metadata": {},
   "outputs": [],
   "source": [
    "mpol_s2 = mpol_s"
   ]
  },
  {
   "cell_type": "code",
   "execution_count": 141,
   "metadata": {},
   "outputs": [],
   "source": [
    "def getw2v_s(sums):\n",
    "    sentences = []\n",
    "    for t in sums:\n",
    "        sentences += nltk.sent_tokenize(t)\n",
    "    docs = [simple_preprocess(s) for s in sentences]\n",
    "    return Word2Vec(docs)\n",
    "mpol_s = getw2v_s(summaries_pol)"
   ]
  },
  {
   "cell_type": "markdown",
   "metadata": {},
   "source": [
    "# Bias"
   ]
  },
  {
   "cell_type": "code",
   "execution_count": 28,
   "metadata": {},
   "outputs": [
    {
     "data": {
      "text/plain": [
       "Text(0.5, 1.0, 'Explained Variance vs Component Number (Randomly Generated Data)')"
      ]
     },
     "execution_count": 28,
     "metadata": {},
     "output_type": "execute_result"
    },
    {
     "data": {
      "image/png": "[encoded data removed]",
      "text/plain": [
       "<Figure size 432x288 with 1 Axes>"
      ]
     },
     "metadata": {
      "needs_background": "light"
     },
     "output_type": "display_data"
    }
   ],
   "source": [
    "pca_r = PCA(n_components = 10)\n",
    "pca_r.fit(np.random.rand(70,100))\n",
    "plt.bar(range(10), pca_r.explained_variance_ratio_)\n",
    "plt.title(\"Explained Variance vs Component Number (Randomly Generated Data)\")"
   ]
  },
  {
   "cell_type": "code",
   "execution_count": 146,
   "metadata": {},
   "outputs": [],
   "source": [
    "def getg(m):\n",
    "    matrix = []\n",
    "    for a, b in pairs:\n",
    "        if a not in m.wv.vocab or b not in m.wv.vocab:\n",
    "            continue\n",
    "        center = (m.wv.get_vector(a) + m.wv.get_vector(b))/2\n",
    "        matrix.append(m.wv.get_vector(a) - center)\n",
    "        matrix.append(m.wv.get_vector(b) - center)\n",
    "    matrix = np.array(matrix)\n",
    "    p = PCA(n_components = 10)\n",
    "    p.fit(matrix)\n",
    "#     plt.bar(range(10), p.explained_variance_ratio_)\n",
    "#     plt.title(\"Explained Variance vs Component Number (\" + t + \")\")\n",
    "    return p.components_[0]"
   ]
  },
  {
   "cell_type": "code",
   "execution_count": 182,
   "metadata": {},
   "outputs": [
    {
     "data": {
      "image/png": "[encoded data removed]",
      "text/plain": [
       "<Figure size 432x288 with 1 Axes>"
      ]
     },
     "metadata": {
      "needs_background": "light"
     },
     "output_type": "display_data"
    }
   ],
   "source": [
    "gpol = getg(mpol, \"Gender Pairs - Politics\")"
   ]
  },
  {
   "cell_type": "code",
   "execution_count": 142,
   "metadata": {},
   "outputs": [],
   "source": [
    "gdict = {\"politics\": [], \"computers\": [], \"travel\": [], \"books\": [], \"movies\": [], \"football\": []}\n",
    "labels = [\"original\", \"summary (TextRank)\", \"summary (Centroid-BOW)\", \"summary (Centroid-WE)\", \"summary (control)\"]"
   ]
  },
  {
   "cell_type": "code",
   "execution_count": 143,
   "metadata": {},
   "outputs": [
    {
     "data": {
      "text/plain": [
       "['politics', 'computers', 'travel', 'books', 'movies', 'football']"
      ]
     },
     "execution_count": 143,
     "metadata": {},
     "output_type": "execute_result"
    }
   ],
   "source": [
    "list(gdict)"
   ]
  },
  {
   "cell_type": "code",
   "execution_count": 144,
   "metadata": {},
   "outputs": [],
   "source": [
    "def gdictadd(models):\n",
    "    for i in range(6):\n",
    "        gdict[list(gdict)[i]].append(getg(models[i]))"
   ]
  },
  {
   "cell_type": "code",
   "execution_count": 147,
   "metadata": {},
   "outputs": [],
   "source": [
    "gdictadd([mpol, mcomp, mtrav, mmov, mbooks, mfball])\n",
    "gdictadd([mpol_s, mcomp_s, mtrav_s, mbks_s, mmov_s, mfball_s])\n",
    "gdictadd([mpol_sb, mcomp_sb, mtrav_sb, mbks_sb, mmov_sb, mfball_sb])\n",
    "gdictadd([mpol_sc, mcomp_sc, mtrav_sc, mbks_sc, mmov_sc, mfball_sc])\n",
    "gdictadd([mpol_c, mcomp_c, mtrav_c, mbks_c, mmov_c, mfball_c])"
   ]
  },
  {
   "cell_type": "code",
   "execution_count": 148,
   "metadata": {},
   "outputs": [],
   "source": [
    "mdict = {\"politics\": [], \"computers\": [], \"travel\": [], \"books\": [], \"movies\": [], \"football\": []}"
   ]
  },
  {
   "cell_type": "code",
   "execution_count": 149,
   "metadata": {},
   "outputs": [],
   "source": [
    "def mdictadd(models):\n",
    "    for i in range(6):\n",
    "        mdict[list(mdict)[i]].append(models[i])"
   ]
  },
  {
   "cell_type": "code",
   "execution_count": 150,
   "metadata": {},
   "outputs": [],
   "source": [
    "mdictadd([mpol, mcomp, mtrav, mmov, mbooks, mfball])\n",
    "mdictadd([mpol_s, mcomp_s, mtrav_s, mbks_s, mmov_s, mfball_s])\n",
    "mdictadd([mpol_sb, mcomp_sb, mtrav_sb, mbks_sb, mmov_sb, mfball_sb])\n",
    "mdictadd([mpol_sc, mcomp_sc, mtrav_sc, mbks_sc, mmov_sc, mfball_sc])\n",
    "mdictadd([mpol_c, mcomp_c, mtrav_c, mbks_c, mmov_c, mfball_c])"
   ]
  },
  {
   "cell_type": "code",
   "execution_count": 85,
   "metadata": {},
   "outputs": [],
   "source": [
    "def gproj(g, m, w1):\n",
    "    wvec = m.wv.get_vector(w1)\n",
    "    p = np.dot(g, wvec)/(np.linalg.norm(g)*np.linalg.norm(wvec))\n",
    "    return p"
   ]
  },
  {
   "cell_type": "code",
   "execution_count": 101,
   "metadata": {},
   "outputs": [],
   "source": [
    "def bias(g, m, vocab, wordlist):\n",
    "    b = 0\n",
    "    l = list(filter(lambda x: x in vocab, wordlist))\n",
    "    for x in l:\n",
    "        b += abs(gproj(g, m, x))\n",
    "    return b/len(l)"
   ]
  },
  {
   "cell_type": "code",
   "execution_count": 151,
   "metadata": {},
   "outputs": [
    {
     "name": "stdout",
     "output_type": "stream",
     "text": [
      "original\n",
      "  politics 0.088 0.070 0.062 0.068 0.123\n",
      " computers 0.079 0.066 0.065 0.080 0.122\n",
      "    travel 0.060 0.048 0.054 0.045 0.099\n",
      "     books 0.083 0.087 0.079 0.079 0.176\n",
      "    movies 0.079 0.065 0.079 0.061 0.157\n",
      "  football 0.306 0.171 0.253 0.239 0.340\n"
     ]
    }
   ],
   "source": [
    "print(labels[0])\n",
    "for i in gdict:\n",
    "    print(\"%10s\" % i, \\\n",
    "          \"%.3f\" % bias(gdict[i][0], mdict[i][0], vocab, proflist), \\\n",
    "          \"%.3f\" % bias(gdict[i][0], mdict[i][0], vocab, adjectives), \\\n",
    "          \"%.3f\" % bias(gdict[i][0], mdict[i][0], vocab, cities), \\\n",
    "          \"%.3f\" % bias(gdict[i][0], mdict[i][0], vocab, objects), \\\n",
    "          \"%.3f\" % bias(gdict[i][0], mdict[i][0], vocab, gender_specific))"
   ]
  },
  {
   "cell_type": "code",
   "execution_count": 152,
   "metadata": {},
   "outputs": [
    {
     "name": "stdout",
     "output_type": "stream",
     "text": [
      "summary (TextRank)\n",
      "  politics 0.566 0.213 0.502 0.302 0.435\n",
      " computers 0.148 0.102 0.126 0.098 0.139\n",
      "    travel 0.145 0.090 0.115 0.079 0.117\n",
      "     books 0.039 0.052 0.040 0.052 0.175\n",
      "    movies 0.082 0.077 0.066 0.074 0.201\n",
      "  football 0.209 0.092 0.131 0.128 0.172\n"
     ]
    }
   ],
   "source": [
    "print(labels[1])\n",
    "for i in gdict:\n",
    "    print(\"%10s\" % i, \\\n",
    "          \"%.3f\" % bias(gdict[i][1], mdict[i][1], vocab2, proflist), \\\n",
    "          \"%.3f\" % bias(gdict[i][1], mdict[i][1], vocab2, adjectives), \\\n",
    "          \"%.3f\" % bias(gdict[i][1], mdict[i][1], vocab2, cities), \\\n",
    "          \"%.3f\" % bias(gdict[i][1], mdict[i][1], vocab2, objects), \\\n",
    "          \"%.3f\" % bias(gdict[i][1], mdict[i][1], vocab2, gender_specific))"
   ]
  },
  {
   "cell_type": "code",
   "execution_count": 127,
   "metadata": {},
   "outputs": [
    {
     "name": "stdout",
     "output_type": "stream",
     "text": [
      "summary (Centroid-BOW)\n",
      "  politics 0.562 0.186 0.505 0.308 0.412\n",
      " computers 0.661 0.231 0.590 0.329 0.437\n",
      "    travel 0.358 0.159 0.313 0.141 0.169\n",
      "     books 0.047 0.050 0.041 0.044 0.161\n",
      "    movies 0.066 0.059 0.065 0.082 0.174\n",
      "  football 0.230 0.105 0.150 0.139 0.195\n"
     ]
    }
   ],
   "source": [
    "print(labels[2])\n",
    "for i in gdict:\n",
    "    print(\"%10s\" % i, \\\n",
    "          \"%.3f\" % bias(gdict[i][2], mdict[i][2], vocab2, proflist), \\\n",
    "          \"%.3f\" % bias(gdict[i][2], mdict[i][2], vocab2, adjectives), \\\n",
    "          \"%.3f\" % bias(gdict[i][2], mdict[i][2], vocab2, cities), \\\n",
    "          \"%.3f\" % bias(gdict[i][2], mdict[i][2], vocab2, objects), \\\n",
    "          \"%.3f\" % bias(gdict[i][2], mdict[i][2], vocab2, gender_specific))"
   ]
  },
  {
   "cell_type": "code",
   "execution_count": 129,
   "metadata": {},
   "outputs": [
    {
     "name": "stdout",
     "output_type": "stream",
     "text": [
      "summary (Centroid-WE)\n",
      "  politics 0.503 0.172 0.438 0.244 0.306\n",
      " computers 0.588 0.171 0.503 0.243 0.287\n",
      "    travel 0.080 0.071 0.074 0.066 0.103\n",
      "     books 0.058 0.051 0.046 0.050 0.162\n",
      "    movies 0.072 0.052 0.061 0.078 0.178\n",
      "  football 0.229 0.088 0.135 0.116 0.202\n"
     ]
    }
   ],
   "source": [
    "print(labels[3])\n",
    "for i in gdict:\n",
    "    print(\"%10s\" % i, \\\n",
    "          \"%.3f\" % bias(gdict[i][3], mdict[i][3], vocab2, proflist), \\\n",
    "          \"%.3f\" % bias(gdict[i][3], mdict[i][3], vocab2, adjectives), \\\n",
    "          \"%.3f\" % bias(gdict[i][3], mdict[i][3], vocab2, cities), \\\n",
    "          \"%.3f\" % bias(gdict[i][3], mdict[i][3], vocab2, objects), \\\n",
    "          \"%.3f\" % bias(gdict[i][3], mdict[i][3], vocab2, gender_specific))"
   ]
  },
  {
   "cell_type": "code",
   "execution_count": 130,
   "metadata": {},
   "outputs": [
    {
     "name": "stdout",
     "output_type": "stream",
     "text": [
      "summary (control)\n",
      "  politics 0.558 0.211 0.516 0.309 0.374\n",
      " computers 0.662 0.251 0.574 0.320 0.397\n",
      "    travel 0.151 0.087 0.135 0.119 0.090\n",
      "     books 0.040 0.052 0.029 0.065 0.157\n",
      "    movies 0.066 0.062 0.046 0.077 0.173\n",
      "  football 0.224 0.102 0.120 0.113 0.159\n"
     ]
    }
   ],
   "source": [
    "print(labels[4])\n",
    "for i in gdict:\n",
    "    print(\"%10s\" % i, \\\n",
    "          \"%.3f\" % bias(gdict[i][4], mdict[i][4], vocab2, proflist), \\\n",
    "          \"%.3f\" % bias(gdict[i][4], mdict[i][4], vocab2, adjectives), \\\n",
    "          \"%.3f\" % bias(gdict[i][4], mdict[i][4], vocab2, cities), \\\n",
    "          \"%.3f\" % bias(gdict[i][4], mdict[i][4], vocab2, objects), \\\n",
    "          \"%.3f\" % bias(gdict[i][4], mdict[i][4], vocab2, gender_specific))"
   ]
  },
  {
   "cell_type": "code",
   "execution_count": 123,
   "metadata": {},
   "outputs": [
    {
     "name": "stdout",
     "output_type": "stream",
     "text": [
      "mr                   -0.44 \t\t her                  0.50\n",
      "his                  -0.36 \t\t she                  0.50\n",
      "himself              -0.35 \t\t ms                   0.40\n",
      "successor            -0.34 \t\t women                0.38\n",
      "kim                  -0.32 \t\t herself              0.33\n",
      "predecessor          -0.32 \t\t disabled             0.33\n",
      "king                 -0.31 \t\t feeding              0.32\n",
      "dictator             -0.30 \t\t pregnant             0.29\n",
      "ally                 -0.30 \t\t drinking             0.29\n",
      "gen                  -0.30 \t\t tube                 0.29\n",
      "backing              -0.29 \t\t woman                0.29\n",
      "team                 -0.29 \t\t pregnancy            0.29\n",
      "leader               -0.29 \t\t husband              0.29\n",
      "counterpart          -0.28 \t\t female               0.28\n",
      "salem                -0.27 \t\t mental               0.27\n",
      "interim              -0.27 \t\t children             0.27\n",
      "leadership           -0.26 \t\t male                 0.27\n",
      "commander            -0.26 \t\t medical              0.27\n",
      "aides                -0.26 \t\t harris               0.27\n",
      "coup                 -0.26 \t\t patients             0.27\n"
     ]
    },
    {
     "data": {
      "image/png": "[encoded data removed]",
      "text/plain": [
       "<Figure size 432x288 with 1 Axes>"
      ]
     },
     "metadata": {
      "needs_background": "light"
     },
     "output_type": "display_data"
    }
   ],
   "source": [
    "gpol = getg(mpol)\n",
    "res = sorted([(x, gproj(gpol, mpol, x)) for x in filter(lambda x: x in vocab, vocab)], key=lambda x: x[1])\n",
    "for i in range(20):\n",
    "    print(f\"{res[i][0].ljust(20)} {res[i][1]:.2f} \\t\\t {res[-i-1][0].ljust(20)} {res[-i-1][1]:.2f}\")"
   ]
  },
  {
   "cell_type": "code",
   "execution_count": 124,
   "metadata": {},
   "outputs": [
    {
     "name": "stdout",
     "output_type": "stream",
     "text": [
      "husband              -0.60 \t\t defense              0.49\n",
      "woman                -0.60 \t\t secondary            0.48\n",
      "song                 -0.60 \t\t offense              0.47\n",
      "girl                 -0.60 \t\t rush                 0.46\n",
      "local                -0.59 \t\t effectively          0.46\n",
      "mr                   -0.59 \t\t solid                0.43\n",
      "police               -0.59 \t\t threat               0.43\n",
      "ms                   -0.58 \t\t performance          0.42\n",
      "sang                 -0.58 \t\t collins              0.42\n",
      "supreme              -0.58 \t\t crucial              0.41\n",
      "girls                -0.58 \t\t passing              0.40\n",
      "grand                -0.58 \t\t defenses             0.40\n",
      "store                -0.57 \t\t particularly         0.40\n",
      "magazine             -0.57 \t\t blocking             0.39\n",
      "federal              -0.56 \t\t manning              0.38\n",
      "county               -0.56 \t\t throwing             0.38\n",
      "newspaper            -0.56 \t\t frequently           0.37\n",
      "section              -0.56 \t\t role                 0.37\n",
      "stanley              -0.56 \t\t consistently         0.37\n",
      "music                -0.56 \t\t struggled            0.37\n"
     ]
    },
    {
     "data": {
      "image/png": "[encoded data removed]",
      "text/plain": [
       "<Figure size 432x288 with 1 Axes>"
      ]
     },
     "metadata": {
      "needs_background": "light"
     },
     "output_type": "display_data"
    }
   ],
   "source": [
    "gfball = getg(mfball)\n",
    "res = sorted([(x, gproj(gfball, mfball, x)) for x in filter(lambda x: x in vocab, vocab)], key=lambda x: x[1])\n",
    "for i in range(20):\n",
    "    print(f\"{res[i][0].ljust(20)} {res[i][1]:.2f} \\t\\t {res[-i-1][0].ljust(20)} {res[-i-1][1]:.2f}\")"
   ]
  },
  {
   "cell_type": "code",
   "execution_count": 126,
   "metadata": {},
   "outputs": [
    {
     "name": "stdout",
     "output_type": "stream",
     "text": [
      "without              -0.41 \t\t chairman             0.92\n",
      "help                 -0.36 \t\t democrat             0.91\n",
      "their                -0.34 \t\t john                 0.88\n",
      "these                -0.34 \t\t representative       0.86\n",
      "our                  -0.34 \t\t speaker              0.86\n",
      "pay                  -0.33 \t\t tom                  0.83\n",
      "or                   -0.31 \t\t leader               0.83\n",
      "greater              -0.29 \t\t massachusetts        0.82\n",
      "raise                -0.29 \t\t jr                   0.82\n",
      "nuclear              -0.29 \t\t michael              0.82\n",
      "provide              -0.28 \t\t senator              0.81\n",
      "companies            -0.28 \t\t texas                0.81\n",
      "oil                  -0.28 \t\t james                0.81\n",
      "money                -0.27 \t\t iowa                 0.80\n",
      "making               -0.27 \t\t edwards              0.80\n",
      "large                -0.27 \t\t joseph               0.80\n",
      "economic             -0.27 \t\t richard              0.79\n",
      "into                 -0.26 \t\t howard               0.79\n",
      "low                  -0.26 \t\t arizona              0.79\n",
      "make                 -0.25 \t\t mayor                0.78\n"
     ]
    },
    {
     "data": {
      "image/png": "[encoded data removed]",
      "text/plain": [
       "<Figure size 432x288 with 1 Axes>"
      ]
     },
     "metadata": {
      "needs_background": "light"
     },
     "output_type": "display_data"
    }
   ],
   "source": [
    "gpol_s = getg(mpol_s)\n",
    "res = sorted([(x, gproj(gpol_s, mpol_s, x)) for x in filter(lambda x: x in vocab_s, vocab_s)], key=lambda x: x[1])\n",
    "for i in range(20):\n",
    "    print(f\"{res[i][0].ljust(20)} {res[i][1]:.2f} \\t\\t {res[-i-1][0].ljust(20)} {res[-i-1][1]:.2f}\")"
   ]
  },
  {
   "cell_type": "markdown",
   "metadata": {},
   "source": [
    "## Regression for bias testing"
   ]
  },
  {
   "cell_type": "code",
   "execution_count": 140,
   "metadata": {},
   "outputs": [],
   "source": [
    "def regress(g1, m1, g2, m2, wordlist):\n",
    "    x = np.array([gproj(g1, m1, w) for w in vocab])\n",
    "    y = np.array([gproj(g2, m2, w) for w in vocab])\n",
    "    slope, intercept, r_value, p_value, std_err = stats.linregress(x,y)\n",
    "    return slope, p_value"
   ]
  },
  {
   "cell_type": "code",
   "execution_count": 141,
   "metadata": {},
   "outputs": [
    {
     "data": {
      "text/plain": [
       "(0.533629121432331, 1.5349588515623742e-57)"
      ]
     },
     "execution_count": 141,
     "metadata": {},
     "output_type": "execute_result"
    }
   ],
   "source": [
    "regress(gpol, mpol, gpols, mpols, proflist)"
   ]
  },
  {
   "cell_type": "code",
   "execution_count": 142,
   "metadata": {},
   "outputs": [
    {
     "data": {
      "text/plain": [
       "(-0.47288942755651714, 6.5938456670774195e-21)"
      ]
     },
     "execution_count": 142,
     "metadata": {},
     "output_type": "execute_result"
    }
   ],
   "source": [
    "regress(gcomp, mcomp, gcomps, mcomps, proflist)"
   ]
  },
  {
   "cell_type": "code",
   "execution_count": 143,
   "metadata": {},
   "outputs": [
    {
     "data": {
      "text/plain": [
       "(0.1988740624251196, 4.7826899611645153e-17)"
      ]
     },
     "execution_count": 143,
     "metadata": {},
     "output_type": "execute_result"
    }
   ],
   "source": [
    "regress(gtrav, mtrav, gtravs, mtravs, proflist)"
   ]
  },
  {
   "cell_type": "code",
   "execution_count": null,
   "metadata": {},
   "outputs": [],
   "source": []
  }
 ],
 "metadata": {
  "kernelspec": {
   "display_name": "Python 3",
   "language": "python",
   "name": "python3"
  },
  "language_info": {
   "codemirror_mode": {
    "name": "ipython",
    "version": 3
   },
   "file_extension": ".py",
   "mimetype": "text/x-python",
   "name": "python",
   "nbconvert_exporter": "python",
   "pygments_lexer": "ipython3",
   "version": "3.7.0"
  }
 },
 "nbformat": 4,
 "nbformat_minor": 2
}
