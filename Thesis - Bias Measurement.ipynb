{
 "cells": [
  {
   "cell_type": "code",
   "execution_count": 1,
   "metadata": {},
   "outputs": [],
   "source": [
    "import os\n",
    "import time\n",
    "import dill\n",
    "from typing import List\n",
    "from functools import reduce\n",
    "from calendar import monthrange"
   ]
  },
  {
   "cell_type": "code",
   "execution_count": 2,
   "metadata": {},
   "outputs": [],
   "source": [
    "import json\n",
    "import csv\n",
    "import requests\n",
    "import xml.etree.ElementTree as ET\n",
    "from bs4 import BeautifulSoup\n",
    "import urllib.request as urllib2"
   ]
  },
  {
   "cell_type": "code",
   "execution_count": 3,
   "metadata": {},
   "outputs": [],
   "source": [
    "import matplotlib.pyplot as plt\n",
    "import numpy as np\n",
    "from scipy import stats\n",
    "from random import sample, randint, shuffle\n",
    "from sklearn.decomposition import PCA"
   ]
  },
  {
   "cell_type": "code",
   "execution_count": 4,
   "metadata": {},
   "outputs": [],
   "source": [
    "import nltk\n",
    "import text_summarizer\n",
    "from gensim.utils import simple_preprocess\n",
    "from gensim.summarization.summarizer import summarize\n",
    "from gensim.models import Word2Vec, LsiModel\n",
    "from gensim.test.utils import common_dictionary, common_corpus"
   ]
  },
  {
   "cell_type": "code",
   "execution_count": 5,
   "metadata": {},
   "outputs": [],
   "source": [
    "from time import process_time"
   ]
  },
  {
   "cell_type": "code",
   "execution_count": 6,
   "metadata": {},
   "outputs": [
    {
     "data": {
      "text/plain": [
       "-2203.301164"
      ]
     },
     "execution_count": 6,
     "metadata": {},
     "output_type": "execute_result"
    }
   ],
   "source": [
    "t = process_time()\n",
    "dill.load_session('thesis_env3.db')\n",
    "process_time() - t"
   ]
  },
  {
   "cell_type": "code",
   "execution_count": 7,
   "metadata": {},
   "outputs": [
    {
     "data": {
      "text/plain": [
       "(7370, 7370, 7370)"
      ]
     },
     "execution_count": 7,
     "metadata": {},
     "output_type": "execute_result"
    }
   ],
   "source": [
    "len(politics), len(movies), len(books)"
   ]
  },
  {
   "cell_type": "code",
   "execution_count": 8,
   "metadata": {},
   "outputs": [
    {
     "data": {
      "text/plain": [
       "(393, 192, 2010)"
      ]
     },
     "execution_count": 8,
     "metadata": {},
     "output_type": "execute_result"
    }
   ],
   "source": [
    "len(adjectives), len(objects), len(cities)"
   ]
  },
  {
   "cell_type": "code",
   "execution_count": 9,
   "metadata": {},
   "outputs": [
    {
     "data": {
      "text/plain": [
       "1685787"
      ]
     },
     "execution_count": 9,
     "metadata": {},
     "output_type": "execute_result"
    }
   ],
   "source": [
    "len(all_)"
   ]
  },
  {
   "cell_type": "code",
   "execution_count": null,
   "metadata": {},
   "outputs": [],
   "source": [
    "# mpol, mmov, mbooks\n",
    "# summaries_{pol, mov, bks}\n",
    "# m{pol, mov, bks}_{s, b, c}\n",
    "# bow_{pol, mov, bks}\n",
    "# ctrs_{pol, mov, bks}"
   ]
  },
  {
   "cell_type": "code",
   "execution_count": 10,
   "metadata": {},
   "outputs": [
    {
     "data": {
      "text/plain": [
       "(52, 205, 218)"
      ]
     },
     "execution_count": 10,
     "metadata": {},
     "output_type": "execute_result"
    }
   ],
   "source": [
    "len(pairs), len(proflist), len(gender_specific)"
   ]
  },
  {
   "cell_type": "code",
   "execution_count": 12,
   "metadata": {},
   "outputs": [
    {
     "data": {
      "text/plain": [
       "(21808, 7519)"
      ]
     },
     "execution_count": 12,
     "metadata": {},
     "output_type": "execute_result"
    }
   ],
   "source": [
    "len(vocab), len(vocab2)"
   ]
  },
  {
   "cell_type": "code",
   "execution_count": 54,
   "metadata": {},
   "outputs": [
    {
     "data": {
      "text/plain": [
       "21808"
      ]
     },
     "execution_count": 54,
     "metadata": {},
     "output_type": "execute_result"
    }
   ],
   "source": [
    "vocab = set(mpol.wv.vocab)\n",
    "for m in [mpol, mmov, mbooks]:\n",
    "    vocab &= set(m.wv.vocab)\n",
    "len(vocab)"
   ]
  },
  {
   "cell_type": "code",
   "execution_count": 55,
   "metadata": {},
   "outputs": [
    {
     "data": {
      "text/plain": [
       "7519"
      ]
     },
     "execution_count": 55,
     "metadata": {},
     "output_type": "execute_result"
    }
   ],
   "source": [
    "vocab_all = set(vocab)\n",
    "for m in [mpol_s, mbks_s, mmov_s] + \\\n",
    "[mpol_b, mbks_b, mmov_b] + \\\n",
    "[mpol_c, mbks_c, mmov_c]:\n",
    "    vocab_all &= set(m.wv.vocab)\n",
    "len(vocab_all)"
   ]
  },
  {
   "cell_type": "code",
   "execution_count": 56,
   "metadata": {},
   "outputs": [],
   "source": [
    "vocab2 = vocab_all"
   ]
  },
  {
   "cell_type": "markdown",
   "metadata": {},
   "source": [
    "# Projection Bias"
   ]
  },
  {
   "cell_type": "code",
   "execution_count": 165,
   "metadata": {},
   "outputs": [
    {
     "data": {
      "text/plain": [
       "Text(0.5, 1.0, 'Explained Variance vs Component Number (Random)')"
      ]
     },
     "execution_count": 165,
     "metadata": {},
     "output_type": "execute_result"
    },
    {
     "data": {
      "image/png": "[encoded data removed]",
      "text/plain": [
       "<Figure size 432x288 with 1 Axes>"
      ]
     },
     "metadata": {
      "needs_background": "light"
     },
     "output_type": "display_data"
    }
   ],
   "source": [
    "pca_r = PCA(n_components = 10)\n",
    "pca_r.fit(np.random.rand(70,100))\n",
    "plt.bar(range(10), pca_r.explained_variance_ratio_)\n",
    "plt.title(\"Explained Variance vs Component Number (Random)\")"
   ]
  },
  {
   "cell_type": "code",
   "execution_count": 140,
   "metadata": {},
   "outputs": [
    {
     "data": {
      "image/png": "[encoded data removed]",
      "text/plain": [
       "<Figure size 432x288 with 1 Axes>"
      ]
     },
     "metadata": {
      "needs_background": "light"
     },
     "output_type": "display_data"
    }
   ],
   "source": [
    "gpol = getg(mpol, \"Gender Pairs - Politics\", True)"
   ]
  },
  {
   "cell_type": "code",
   "execution_count": 57,
   "metadata": {},
   "outputs": [],
   "source": [
    "def getg(m):\n",
    "    matrix = []\n",
    "    for a, b in pairs:\n",
    "        if a not in m.wv.vocab or b not in m.wv.vocab:\n",
    "            continue\n",
    "        center = (m.wv.get_vector(a) + m.wv.get_vector(b))/2\n",
    "        matrix.append(m.wv.get_vector(a) - center)\n",
    "        matrix.append(m.wv.get_vector(b) - center)\n",
    "    matrix = np.array(matrix)\n",
    "    p = PCA(n_components = 10)\n",
    "    p.fit(matrix)\n",
    "    print(p.explained_variance_ratio_[0])\n",
    "#         plt.bar(range(10), p.explained_variance_ratio_)\n",
    "#         plt.title(\"Explained Variance vs Component Number (\" + t + \")\")\n",
    "    return p.components_[0]"
   ]
  },
  {
   "cell_type": "code",
   "execution_count": 135,
   "metadata": {},
   "outputs": [],
   "source": [
    "def gproj2(g1, g2, m, w1):\n",
    "    wvec = m.wv.get_vector(w1)\n",
    "    # g = project wvec onto g1, g2 subspace\n",
    "    A = np.hstack((g1.reshape(100,1),g2.reshape(100,1)))\n",
    "    P = A @ np.linalg.inv(A.T @ A) @ A.T\n",
    "    g = P @ wvec\n",
    "    p = np.dot(g, wvec)/(np.linalg.norm(g)*np.linalg.norm(wvec))\n",
    "    return p"
   ]
  },
  {
   "cell_type": "code",
   "execution_count": 136,
   "metadata": {},
   "outputs": [
    {
     "name": "stdout",
     "output_type": "stream",
     "text": [
      "0.3386617\n",
      "though          0.00 \t\t chairman        0.87\n",
      "proper          0.00 \t\t democrat        0.85\n",
      "translate       0.00 \t\t speaker         0.81\n",
      "combined        0.01 \t\t chief           0.79\n",
      "modernity       0.01 \t\t james           0.79\n",
      "fears           0.01 \t\t lawyer          0.78\n",
      "moral           0.01 \t\t jr              0.78\n",
      "excess          0.01 \t\t member          0.78\n",
      "meaningful      0.01 \t\t leader          0.78\n",
      "collection      0.01 \t\t secretary       0.77\n",
      "sport           0.01 \t\t representative  0.77\n",
      "dragging        0.01 \t\t john            0.76\n",
      "practices       0.01 \t\t david           0.76\n",
      "shifting        0.01 \t\t congressman     0.75\n",
      "expenses        0.01 \t\t deputy          0.75\n"
     ]
    }
   ],
   "source": [
    "gpol_s1, gpol_s2 = getg(mpol_s)\n",
    "res = sorted([(x, gproj2(gpol_s1, gpol_s2, mpol_s, x)) for x in filter(lambda x: x in vocab2, vocab2)], key=lambda x: x[1])\n",
    "for i in range(15):\n",
    "    print(f\"{res[i][0].ljust(15)} {res[i][1]:.2f} \\t\\t {res[-i-1][0].ljust(15)} {res[-i-1][1]:.2f}\")"
   ]
  },
  {
   "cell_type": "code",
   "execution_count": 58,
   "metadata": {},
   "outputs": [],
   "source": [
    "def gdictadd(models):\n",
    "    for i in range(3):\n",
    "        gdict[list(gdict)[i]].append(getg(models[i]))"
   ]
  },
  {
   "cell_type": "code",
   "execution_count": 95,
   "metadata": {},
   "outputs": [
    {
     "name": "stdout",
     "output_type": "stream",
     "text": [
      "0.34343678\n",
      "0.52675015\n",
      "0.5915069\n",
      "0.31522945\n",
      "0.78374213\n",
      "0.62817353\n",
      "0.31965494\n",
      "0.8359838\n",
      "0.7387123\n",
      "0.32400513\n",
      "0.768514\n",
      "0.6437023\n"
     ]
    }
   ],
   "source": [
    "gdict = {\"politics\": [], \"books\": [], \"movies\": []}\n",
    "labels = [\"original\", \"summary (TextRank)\", \"summary (Centroid-BOW)\", \"summary (control)\"]\n",
    "gdictadd([mpol, mmov, mbooks])\n",
    "gdictadd([mpol_s, mbks_s, mmov_s])\n",
    "gdictadd([mpol_b, mbks_b, mmov_b])\n",
    "gdictadd([mpol_c, mbks_c, mmov_c])"
   ]
  },
  {
   "cell_type": "code",
   "execution_count": 60,
   "metadata": {},
   "outputs": [],
   "source": [
    "def mdictadd(models):\n",
    "    for i in range(3):\n",
    "        mdict[list(mdict)[i]].append(models[i])"
   ]
  },
  {
   "cell_type": "code",
   "execution_count": 96,
   "metadata": {},
   "outputs": [],
   "source": [
    "mdict = {\"politics\": [], \"books\": [], \"movies\": []}\n",
    "mdictadd([mpol, mmov, mbooks])\n",
    "mdictadd([mpol_s, mbks_s, mmov_s])\n",
    "mdictadd([mpol_b, mbks_b, mmov_b])\n",
    "mdictadd([mpol_c, mbks_c, mmov_c])"
   ]
  },
  {
   "cell_type": "code",
   "execution_count": 62,
   "metadata": {},
   "outputs": [],
   "source": [
    "def gproj(g, m, w1):\n",
    "    wvec = m.wv.get_vector(w1)\n",
    "    p = np.dot(g, wvec)/(np.linalg.norm(g)*np.linalg.norm(wvec))\n",
    "    return p"
   ]
  },
  {
   "cell_type": "code",
   "execution_count": 63,
   "metadata": {},
   "outputs": [],
   "source": [
    "def bias(g, m, vocab, wordlist):\n",
    "    b = 0\n",
    "    l = list(filter(lambda x: x in vocab, wordlist))\n",
    "    for x in l:\n",
    "        b += abs(gproj(g, m, x))\n",
    "    return b/len(l)"
   ]
  },
  {
   "cell_type": "code",
   "execution_count": 97,
   "metadata": {},
   "outputs": [
    {
     "name": "stdout",
     "output_type": "stream",
     "text": [
      "original\n",
      "  politics 0.094 0.064 0.071 0.058 0.112\n",
      "     books 0.085 0.090 0.088 0.078 0.172\n",
      "    movies 0.092 0.068 0.076 0.064 0.151\n"
     ]
    }
   ],
   "source": [
    "print(labels[0])\n",
    "for i in gdict:\n",
    "    print(\"%10s\" % i, \\\n",
    "          \"%.3f\" % bias(gdict[i][0], mdict[i][0], vocab, proflist), \\\n",
    "          \"%.3f\" % bias(gdict[i][0], mdict[i][0], vocab, adjectives), \\\n",
    "          \"%.3f\" % bias(gdict[i][0], mdict[i][0], vocab, cities), \\\n",
    "          \"%.3f\" % bias(gdict[i][0], mdict[i][0], vocab, objects), \\\n",
    "          \"%.3f\" % bias(gdict[i][0], mdict[i][0], vocab, gender_specific))"
   ]
  },
  {
   "cell_type": "code",
   "execution_count": 65,
   "metadata": {},
   "outputs": [
    {
     "name": "stdout",
     "output_type": "stream",
     "text": [
      "summary (TextRank)\n",
      "  politics 0.361 0.112 0.289 0.140 0.269\n",
      "     books 0.046 0.048 0.046 0.052 0.146\n",
      "    movies 0.077 0.083 0.066 0.085 0.173\n"
     ]
    }
   ],
   "source": [
    "print(labels[1])\n",
    "for i in gdict:\n",
    "    print(\"%10s\" % i, \\\n",
    "          \"%.3f\" % bias(gdict[i][1], mdict[i][1], vocab2, proflist), \\\n",
    "          \"%.3f\" % bias(gdict[i][1], mdict[i][1], vocab2, adjectives), \\\n",
    "          \"%.3f\" % bias(gdict[i][1], mdict[i][1], vocab2, cities), \\\n",
    "          \"%.3f\" % bias(gdict[i][1], mdict[i][1], vocab2, objects), \\\n",
    "          \"%.3f\" % bias(gdict[i][1], mdict[i][1], vocab2, gender_specific))"
   ]
  },
  {
   "cell_type": "code",
   "execution_count": 87,
   "metadata": {},
   "outputs": [
    {
     "name": "stdout",
     "output_type": "stream",
     "text": [
      "summary (Centroid-BOW)\n",
      "  politics 0.483 0.154 0.431 0.224 0.401\n",
      "     books 0.043 0.050 0.046 0.048 0.147\n",
      "    movies 0.065 0.076 0.065 0.086 0.173\n"
     ]
    }
   ],
   "source": [
    "print(labels[2])\n",
    "for i in gdict:\n",
    "    print(\"%10s\" % i, \\\n",
    "          \"%.3f\" % bias(gdict[i][2], mdict[i][2], vocab2, proflist), \\\n",
    "          \"%.3f\" % bias(gdict[i][2], mdict[i][2], vocab2, adjectives), \\\n",
    "          \"%.3f\" % bias(gdict[i][2], mdict[i][2], vocab2, cities), \\\n",
    "          \"%.3f\" % bias(gdict[i][2], mdict[i][2], vocab2, objects), \\\n",
    "          \"%.3f\" % bias(gdict[i][2], mdict[i][2], vocab2, gender_specific))"
   ]
  },
  {
   "cell_type": "code",
   "execution_count": 67,
   "metadata": {},
   "outputs": [
    {
     "name": "stdout",
     "output_type": "stream",
     "text": [
      "summary (control)\n",
      "  politics 0.170 0.089 0.138 0.091 0.120\n",
      "     books 0.043 0.043 0.038 0.048 0.121\n",
      "    movies 0.059 0.065 0.050 0.068 0.154\n"
     ]
    }
   ],
   "source": [
    "print(labels[3])\n",
    "for i in gdict:\n",
    "    print(\"%10s\" % i, \\\n",
    "          \"%.3f\" % bias(gdict[i][3], mdict[i][3], vocab2, proflist), \\\n",
    "          \"%.3f\" % bias(gdict[i][3], mdict[i][3], vocab2, adjectives), \\\n",
    "          \"%.3f\" % bias(gdict[i][3], mdict[i][3], vocab2, cities), \\\n",
    "          \"%.3f\" % bias(gdict[i][3], mdict[i][3], vocab2, objects), \\\n",
    "          \"%.3f\" % bias(gdict[i][3], mdict[i][3], vocab2, gender_specific))"
   ]
  },
  {
   "cell_type": "code",
   "execution_count": 13,
   "metadata": {},
   "outputs": [
    {
     "name": "stdout",
     "output_type": "stream",
     "text": [
      "0.34343678\n",
      "her        -0.50 \t\t mr         0.43\n",
      "women      -0.47 \t\t ouster     0.39\n",
      "ms         -0.46 \t\t abbas      0.39\n",
      "she        -0.46 \t\t mikhail    0.38\n",
      "feeding    -0.37 \t\t mahmoud    0.37\n",
      "disabled   -0.35 \t\t arafat     0.37\n",
      "herself    -0.35 \t\t vladimir   0.37\n",
      "mental     -0.34 \t\t himself    0.36\n",
      "female     -0.34 \t\t kremlin    0.36\n",
      "classroom  -0.32 \t\t hamid      0.35\n",
      "0.5915069\n",
      "mr         -0.45 \t\t her        0.60\n",
      "baseball   -0.40 \t\t ms         0.58\n",
      "himself    -0.40 \t\t herself    0.57\n",
      "james      -0.37 \t\t she        0.51\n",
      "kissinger  -0.37 \t\t husband    0.47\n",
      "saul       -0.37 \t\t lily       0.44\n",
      "military   -0.36 \t\t girl       0.43\n",
      "eisenhower -0.36 \t\t heroine    0.42\n",
      "john       -0.36 \t\t mary       0.40\n",
      "ford       -0.36 \t\t women      0.40\n",
      "0.52675015\n",
      "steven     -0.52 \t\t ms         0.63\n",
      "george     -0.48 \t\t her        0.52\n",
      "mr         -0.47 \t\t marie      0.52\n",
      "spielberg  -0.47 \t\t nicole     0.51\n",
      "lucas      -0.42 \t\t herself    0.51\n",
      "leone      -0.40 \t\t antoinette 0.50\n",
      "himself    -0.40 \t\t actress    0.47\n",
      "franchise  -0.38 \t\t queen      0.45\n",
      "bush       -0.38 \t\t woman      0.45\n",
      "kong       -0.38 \t\t she        0.44\n"
     ]
    }
   ],
   "source": [
    "gpol = getg(mpol)\n",
    "res = sorted([(x, gproj(gpol, mpol, x)) for x in filter(lambda x: x in vocab, vocab)], key=lambda x: x[1])\n",
    "for i in range(10):\n",
    "    print(f\"{res[i][0].ljust(10)} {res[i][1]:.2f} \\t\\t {res[-i-1][0].ljust(10)} {res[-i-1][1]:.2f}\")\n",
    "gbooks = getg(mbooks)\n",
    "res = sorted([(x, gproj(gbooks, mbooks, x)) for x in filter(lambda x: x in vocab, vocab)], key=lambda x: x[1])\n",
    "for i in range(10):\n",
    "    print(f\"{res[i][0].ljust(10)} {res[i][1]:.2f} \\t\\t {res[-i-1][0].ljust(10)} {res[-i-1][1]:.2f}\")\n",
    "gmov = getg(mmov)\n",
    "res = sorted([(x, gproj(gmov, mmov, x)) for x in filter(lambda x: x in vocab, vocab)], key=lambda x: x[1])\n",
    "for i in range(10):\n",
    "    print(f\"{res[i][0].ljust(10)} {res[i][1]:.2f} \\t\\t {res[-i-1][0].ljust(10)} {res[-i-1][1]:.2f}\")"
   ]
  },
  {
   "cell_type": "code",
   "execution_count": 15,
   "metadata": {},
   "outputs": [
    {
     "name": "stdout",
     "output_type": "stream",
     "text": [
      "0.31522945\n",
      "these      -0.52 \t\t chairman   0.80\n",
      "large      -0.44 \t\t secretary  0.78\n",
      "low        -0.43 \t\t chief      0.77\n",
      "without    -0.42 \t\t deputy     0.75\n",
      "their      -0.40 \t\t speaker    0.74\n",
      "different  -0.40 \t\t leader     0.73\n",
      "small      -0.39 \t\t paul       0.67\n",
      "making     -0.36 \t\t president  0.67\n",
      "pay        -0.36 \t\t king       0.66\n",
      "such       -0.36 \t\t director   0.66\n",
      "0.78374213\n",
      "mr         -0.38 \t\t her        0.63\n",
      "he         -0.32 \t\t she        0.47\n",
      "his        -0.30 \t\t herself    0.46\n",
      "administration -0.28 \t\t husband    0.42\n",
      "iraq       -0.27 \t\t baby       0.37\n",
      "president  -0.26 \t\t girl       0.35\n",
      "military   -0.26 \t\t children   0.31\n",
      "bush       -0.26 \t\t mother     0.30\n",
      "nations    -0.26 \t\t sister     0.30\n",
      "history    -0.24 \t\t love       0.29\n",
      "0.62817353\n",
      "her        -0.57 \t\t disney     0.41\n",
      "herself    -0.47 \t\t pictures   0.38\n",
      "she        -0.44 \t\t production 0.35\n",
      "husband    -0.41 \t\t studio     0.34\n",
      "mother     -0.39 \t\t mr         0.34\n",
      "ms         -0.38 \t\t producers  0.34\n",
      "girl       -0.38 \t\t kong       0.34\n",
      "woman      -0.36 \t\t paramount  0.33\n",
      "daughter   -0.35 \t\t entertainment 0.33\n",
      "single     -0.34 \t\t universal  0.32\n"
     ]
    }
   ],
   "source": [
    "gpol_s = getg(mpol_s)\n",
    "res = sorted([(x, gproj(gpol_s, mpol_s, x)) for x in filter(lambda x: x in vocab2, vocab2)], key=lambda x: x[1])\n",
    "for i in range(10):\n",
    "    print(f\"{res[i][0].ljust(10)} {res[i][1]:.2f} \\t\\t {res[-i-1][0].ljust(10)} {res[-i-1][1]:.2f}\")\n",
    "gbks_s = getg(mbks_s)\n",
    "res = sorted([(x, gproj(gbks_s, mbks_s, x)) for x in filter(lambda x: x in vocab2, vocab2)], key=lambda x: x[1])\n",
    "for i in range(10):\n",
    "    print(f\"{res[i][0].ljust(10)} {res[i][1]:.2f} \\t\\t {res[-i-1][0].ljust(10)} {res[-i-1][1]:.2f}\")\n",
    "gmov_s = getg(mmov_s)\n",
    "res = sorted([(x, gproj(gmov_s, mmov_s, x)) for x in filter(lambda x: x in vocab2, vocab2)], key=lambda x: x[1])\n",
    "for i in range(10):\n",
    "    print(f\"{res[i][0].ljust(10)} {res[i][1]:.2f} \\t\\t {res[-i-1][0].ljust(10)} {res[-i-1][1]:.2f}\")"
   ]
  },
  {
   "cell_type": "code",
   "execution_count": 16,
   "metadata": {},
   "outputs": [
    {
     "name": "stdout",
     "output_type": "stream",
     "text": [
      "0.31965494\n",
      "these      -0.48 \t\t chairman   0.92\n",
      "without    -0.41 \t\t democrat   0.87\n",
      "their      -0.41 \t\t james      0.84\n",
      "prices     -0.38 \t\t lawyer     0.83\n",
      "nuclear    -0.37 \t\t representative 0.83\n",
      "real       -0.36 \t\t jr         0.82\n",
      "weapons    -0.35 \t\t speaker    0.82\n",
      "large      -0.35 \t\t peter      0.81\n",
      "oil        -0.35 \t\t secretary  0.81\n",
      "further    -0.33 \t\t john       0.81\n",
      "0.8359838\n",
      "her        -0.63 \t\t mr         0.44\n",
      "she        -0.50 \t\t his        0.41\n",
      "husband    -0.44 \t\t he         0.37\n",
      "herself    -0.41 \t\t bush       0.33\n",
      "girl       -0.30 \t\t administration 0.31\n",
      "woman      -0.29 \t\t himself    0.29\n",
      "ms         -0.29 \t\t president  0.24\n",
      "baby       -0.28 \t\t nations    0.23\n",
      "children   -0.28 \t\t states     0.23\n",
      "mother     -0.27 \t\t clinton    0.21\n",
      "0.7387123\n",
      "her        -0.60 \t\t mr         0.43\n",
      "she        -0.51 \t\t disney     0.34\n",
      "herself    -0.48 \t\t his        0.32\n",
      "girl       -0.44 \t\t studio     0.28\n",
      "husband    -0.41 \t\t rights     0.28\n",
      "woman      -0.41 \t\t company    0.28\n",
      "mother     -0.35 \t\t major      0.28\n",
      "ms         -0.34 \t\t artists    0.27\n",
      "child      -0.33 \t\t marketing  0.27\n",
      "baby       -0.32 \t\t independent 0.27\n"
     ]
    }
   ],
   "source": [
    "gpol_b = getg(mpol_b)\n",
    "res = sorted([(x, gproj(gpol_b, mpol_b, x)) for x in filter(lambda x: x in vocab2, vocab2)], key=lambda x: x[1])\n",
    "for i in range(10):\n",
    "    print(f\"{res[i][0].ljust(10)} {res[i][1]:.2f} \\t\\t {res[-i-1][0].ljust(10)} {res[-i-1][1]:.2f}\")\n",
    "gbks_b = getg(mbks_b)\n",
    "res = sorted([(x, gproj(gbks_b, mbks_b, x)) for x in filter(lambda x: x in vocab2, vocab2)], key=lambda x: x[1])\n",
    "for i in range(10):\n",
    "    print(f\"{res[i][0].ljust(10)} {res[i][1]:.2f} \\t\\t {res[-i-1][0].ljust(10)} {res[-i-1][1]:.2f}\")\n",
    "gmov_b = getg(mmov_b)\n",
    "res = sorted([(x, gproj(gmov_b, mmov_b, x)) for x in filter(lambda x: x in vocab2, vocab2)], key=lambda x: x[1])\n",
    "for i in range(10):\n",
    "    print(f\"{res[i][0].ljust(10)} {res[i][1]:.2f} \\t\\t {res[-i-1][0].ljust(10)} {res[-i-1][1]:.2f}\")"
   ]
  },
  {
   "cell_type": "code",
   "execution_count": 17,
   "metadata": {},
   "outputs": [
    {
     "name": "stdout",
     "output_type": "stream",
     "text": [
      "0.32400513\n",
      "mail       -0.37 \t\t head       0.52\n",
      "or         -0.35 \t\t chairman   0.51\n",
      "high       -0.35 \t\t union      0.51\n",
      "got        -0.33 \t\t president  0.50\n",
      "few        -0.32 \t\t leadership 0.48\n",
      "com        -0.32 \t\t secretary  0.48\n",
      "young      -0.31 \t\t chief      0.47\n",
      "children   -0.31 \t\t powers     0.47\n",
      "isn        -0.29 \t\t coalition  0.47\n",
      "these      -0.28 \t\t leader     0.47\n",
      "0.768514\n",
      "her        -0.61 \t\t mr         0.38\n",
      "herself    -0.46 \t\t his        0.31\n",
      "she        -0.46 \t\t war        0.29\n",
      "husband    -0.41 \t\t he         0.28\n",
      "children   -0.30 \t\t bush       0.27\n",
      "love       -0.28 \t\t civil      0.24\n",
      "ms         -0.27 \t\t administration 0.23\n",
      "mother     -0.27 \t\t ii         0.23\n",
      "girl       -0.27 \t\t iraq       0.22\n",
      "woman      -0.27 \t\t policy     0.20\n",
      "0.6437023\n",
      "disney     -0.38 \t\t her        0.55\n",
      "mr         -0.37 \t\t she        0.47\n",
      "major      -0.34 \t\t herself    0.41\n",
      "studio     -0.34 \t\t husband    0.41\n",
      "company    -0.33 \t\t girl       0.40\n",
      "entertainment -0.33 \t\t woman      0.35\n",
      "distribution -0.33 \t\t mother     0.34\n",
      "pictures   -0.32 \t\t hair       0.31\n",
      "executives -0.32 \t\t pregnant   0.31\n",
      "independent -0.32 \t\t daughter   0.29\n"
     ]
    }
   ],
   "source": [
    "gpol_c = getg(mpol_c)\n",
    "res = sorted([(x, gproj(gpol_c, mpol_c, x)) for x in filter(lambda x: x in vocab2, vocab2)], key=lambda x: x[1])\n",
    "for i in range(10):\n",
    "    print(f\"{res[i][0].ljust(10)} {res[i][1]:.2f} \\t\\t {res[-i-1][0].ljust(10)} {res[-i-1][1]:.2f}\")\n",
    "gbks_c = getg(mbks_c)\n",
    "res = sorted([(x, gproj(gbks_c, mbks_c, x)) for x in filter(lambda x: x in vocab2, vocab2)], key=lambda x: x[1])\n",
    "for i in range(10):\n",
    "    print(f\"{res[i][0].ljust(10)} {res[i][1]:.2f} \\t\\t {res[-i-1][0].ljust(10)} {res[-i-1][1]:.2f}\")\n",
    "gmov_c = getg(mmov_c)\n",
    "res = sorted([(x, gproj(gmov_c, mmov_c, x)) for x in filter(lambda x: x in vocab2, vocab2)], key=lambda x: x[1])\n",
    "for i in range(10):\n",
    "    print(f\"{res[i][0].ljust(10)} {res[i][1]:.2f} \\t\\t {res[-i-1][0].ljust(10)} {res[-i-1][1]:.2f}\")"
   ]
  },
  {
   "cell_type": "code",
   "execution_count": null,
   "metadata": {},
   "outputs": [],
   "source": [
    "gpol = getg(mpol)\n",
    "res = sorted([(x, gproj(gpol, mpol, x)) for x in filter(lambda x: x in vocab, vocab)], key=lambda x: x[1])\n",
    "for i in range(10):\n",
    "    print(f\"{res[i][0].ljust(10)} {res[i][1]:.2f} \\t\\t {res[-i-1][0].ljust(10)} {res[-i-1][1]:.2f}\")"
   ]
  },
  {
   "cell_type": "markdown",
   "metadata": {},
   "source": [
    "# WEAT"
   ]
  },
  {
   "cell_type": "code",
   "execution_count": null,
   "metadata": {},
   "outputs": [],
   "source": []
  },
  {
   "cell_type": "markdown",
   "metadata": {},
   "source": [
    "## Regression for bias testing"
   ]
  },
  {
   "cell_type": "code",
   "execution_count": 140,
   "metadata": {},
   "outputs": [],
   "source": [
    "def regress(g1, m1, g2, m2, wordlist):\n",
    "    x = np.array([gproj(g1, m1, w) for w in wordlist if w in m1.wv.vocab and w in m2.wv.vocab])\n",
    "    y = np.array([gproj(g2, m2, w) for w in wordlist if w in m1.wv.vocab and w in m2.wv.vocab])\n",
    "    slope, intercept, r_value, p_value, std_err = stats.linregress(x,y)\n",
    "    return slope, p_value"
   ]
  },
  {
   "cell_type": "code",
   "execution_count": 141,
   "metadata": {},
   "outputs": [
    {
     "data": {
      "text/plain": [
       "(0.533629121432331, 1.5349588515623742e-57)"
      ]
     },
     "execution_count": 141,
     "metadata": {},
     "output_type": "execute_result"
    }
   ],
   "source": [
    "regress(gpol, mpol, gpols, mpols, proflist)"
   ]
  },
  {
   "cell_type": "code",
   "execution_count": 142,
   "metadata": {},
   "outputs": [
    {
     "data": {
      "text/plain": [
       "(-0.47288942755651714, 6.5938456670774195e-21)"
      ]
     },
     "execution_count": 142,
     "metadata": {},
     "output_type": "execute_result"
    }
   ],
   "source": [
    "regress(gcomp, mcomp, gcomps, mcomps, proflist)"
   ]
  },
  {
   "cell_type": "code",
   "execution_count": 143,
   "metadata": {},
   "outputs": [
    {
     "data": {
      "text/plain": [
       "(0.1988740624251196, 4.7826899611645153e-17)"
      ]
     },
     "execution_count": 143,
     "metadata": {},
     "output_type": "execute_result"
    }
   ],
   "source": [
    "regress(gtrav, mtrav, gtravs, mtravs, proflist)"
   ]
  },
  {
   "cell_type": "code",
   "execution_count": null,
   "metadata": {},
   "outputs": [],
   "source": []
  }
 ],
 "metadata": {
  "kernelspec": {
   "display_name": "Python 3",
   "language": "python",
   "name": "python3"
  },
  "language_info": {
   "codemirror_mode": {
    "name": "ipython",
    "version": 3
   },
   "file_extension": ".py",
   "mimetype": "text/x-python",
   "name": "python",
   "nbconvert_exporter": "python",
   "pygments_lexer": "ipython3",
   "version": "3.7.0"
  }
 },
 "nbformat": 4,
 "nbformat_minor": 2
}
