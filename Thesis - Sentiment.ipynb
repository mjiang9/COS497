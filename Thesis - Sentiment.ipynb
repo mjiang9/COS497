{
 "cells": [
  {
   "cell_type": "code",
   "execution_count": null,
   "metadata": {},
   "outputs": [],
   "source": [
    "import os\n",
    "import time\n",
    "import dill\n",
    "from typing import List\n",
    "from functools import reduce\n",
    "from calendar import monthrange"
   ]
  },
  {
   "cell_type": "code",
   "execution_count": null,
   "metadata": {},
   "outputs": [],
   "source": [
    "import json\n",
    "import csv\n",
    "import requests\n",
    "import xml.etree.ElementTree as ET\n",
    "from bs4 import BeautifulSoup\n",
    "import urllib.request as urllib2"
   ]
  },
  {
   "cell_type": "code",
   "execution_count": null,
   "metadata": {},
   "outputs": [],
   "source": [
    "import matplotlib.pyplot as plt\n",
    "import numpy as np\n",
    "from scipy import stats\n",
    "from random import sample, randint, shuffle\n",
    "from sklearn.decomposition import PCA"
   ]
  },
  {
   "cell_type": "code",
   "execution_count": null,
   "metadata": {},
   "outputs": [],
   "source": [
    "import nltk\n",
    "import text_summarizer\n",
    "from gensim.utils import simple_preprocess\n",
    "from gensim.summarization.summarizer import summarize\n",
    "from gensim.models import Word2Vec, LsiModel\n",
    "from gensim.test.utils import common_dictionary, common_corpus"
   ]
  },
  {
   "cell_type": "code",
   "execution_count": null,
   "metadata": {},
   "outputs": [],
   "source": [
    "from time import process_time"
   ]
  },
  {
   "cell_type": "code",
   "execution_count": null,
   "metadata": {},
   "outputs": [],
   "source": [
    "t = process_time()\n",
    "dill.load_session('thesis_env.db')\n",
    "process_time() - t"
   ]
  },
  {
   "cell_type": "code",
   "execution_count": null,
   "metadata": {},
   "outputs": [],
   "source": [
    "len(adjectives)"
   ]
  },
  {
   "cell_type": "code",
   "execution_count": null,
   "metadata": {},
   "outputs": [],
   "source": [
    "len(all_)"
   ]
  },
  {
   "cell_type": "markdown",
   "metadata": {},
   "source": [
    "## Gender-neutral adjectives describing people"
   ]
  },
  {
   "cell_type": "code",
   "execution_count": 195,
   "metadata": {},
   "outputs": [],
   "source": [
    "url = 'http://ideonomy.mit.edu/essays/traits.html'\n",
    "file = urllib2.urlopen(url)\n",
    "html = file.read()\n",
    "file.close()\n",
    "soup = BeautifulSoup(html)"
   ]
  },
  {
   "cell_type": "code",
   "execution_count": 196,
   "metadata": {},
   "outputs": [
    {
     "data": {
      "text/plain": [
       "'Accessible'"
      ]
     },
     "execution_count": 196,
     "metadata": {},
     "output_type": "execute_result"
    }
   ],
   "source": [
    "soup.find_all('li')[0].contents[0].strip()"
   ]
  },
  {
   "cell_type": "code",
   "execution_count": 197,
   "metadata": {},
   "outputs": [],
   "source": [
    "adjs = [x.contents[0].strip().lower() for x in soup.find_all('li')]"
   ]
  },
  {
   "cell_type": "code",
   "execution_count": 201,
   "metadata": {},
   "outputs": [
    {
     "data": {
      "text/plain": [
       "(393, 638, 'accessible', 'able')"
      ]
     },
     "execution_count": 201,
     "metadata": {},
     "output_type": "execute_result"
    }
   ],
   "source": [
    "len(adjectives), len(adjs), adjs[0], adjectives[0]"
   ]
  },
  {
   "cell_type": "code",
   "execution_count": 202,
   "metadata": {},
   "outputs": [
    {
     "data": {
      "text/plain": [
       "882"
      ]
     },
     "execution_count": 202,
     "metadata": {},
     "output_type": "execute_result"
    }
   ],
   "source": [
    "adjs_all = adjs + [x for x in adjectives if x not in adjs]\n",
    "len(adjs_all)"
   ]
  },
  {
   "cell_type": "code",
   "execution_count": 203,
   "metadata": {},
   "outputs": [
    {
     "data": {
      "text/plain": [
       "[3]"
      ]
     },
     "execution_count": 203,
     "metadata": {},
     "output_type": "execute_result"
    }
   ],
   "source": [
    "list(filter(lambda x: x > 2, [1,2,3]))"
   ]
  },
  {
   "cell_type": "code",
   "execution_count": null,
   "metadata": {},
   "outputs": [],
   "source": [
    "adjs_all = list(filter(lambda x: x , adjs_all))"
   ]
  },
  {
   "cell_type": "code",
   "execution_count": null,
   "metadata": {},
   "outputs": [],
   "source": [
    "len([x for x in adjs_all if x in vocab])"
   ]
  },
  {
   "cell_type": "code",
   "execution_count": null,
   "metadata": {},
   "outputs": [],
   "source": [
    "[x for x in adjectives if x not in adjs][:10]"
   ]
  },
  {
   "cell_type": "code",
   "execution_count": null,
   "metadata": {},
   "outputs": [],
   "source": [
    "adjs[:10]"
   ]
  },
  {
   "cell_type": "code",
   "execution_count": null,
   "metadata": {},
   "outputs": [],
   "source": [
    "with open('adjectives.csv') as csv_file:\n",
    "    adjectives = csv_file.read().split(\",\")"
   ]
  },
  {
   "cell_type": "code",
   "execution_count": 309,
   "metadata": {},
   "outputs": [],
   "source": [
    "with open('grammar.csv') as csv_file:\n",
    "    grammar = csv_file.read().split(\",\")"
   ]
  },
  {
   "cell_type": "code",
   "execution_count": null,
   "metadata": {},
   "outputs": [],
   "source": [
    "adjectives[:5]"
   ]
  },
  {
   "cell_type": "code",
   "execution_count": null,
   "metadata": {},
   "outputs": [],
   "source": [
    "dill.dump_session('thesis_env.db')"
   ]
  },
  {
   "cell_type": "markdown",
   "metadata": {},
   "source": [
    "# Data Parsing and Processing"
   ]
  },
  {
   "cell_type": "code",
   "execution_count": null,
   "metadata": {},
   "outputs": [],
   "source": [
    "class Doc:\n",
    "    def __init__(self, id: int, gdescriptors: List[str], descriptors: List[str], text: str) -> None:\n",
    "        self.id = id\n",
    "        self.gdescriptors = gdescriptors\n",
    "        self.descriptors = descriptors\n",
    "        self.text = text"
   ]
  },
  {
   "cell_type": "code",
   "execution_count": null,
   "metadata": {},
   "outputs": [],
   "source": [
    "def parse_doc(file: str) -> Doc:\n",
    "    tree = ET.parse(file)\n",
    "    root = tree.getroot()\n",
    "    try:\n",
    "        fulltext = root.find('body').find('body.content').find(\"*[@class='full_text']\")\n",
    "        text = reduce(lambda x, y: x + y, [x.text for x in fulltext.findall('p')])\n",
    "        id = int(root.find('head').find('docdata').find('doc-id').attrib['id-string'])\n",
    "        classifiers = root.find('head').find('docdata').find('identified-content')\n",
    "        gclassifiers = classifiers.findall(\"*[@class='online_producer'][@type='general_descriptor']\")\n",
    "        dclassifiers = classifiers.findall(\"*[@class='online_producer'][@type='descriptor']\")\n",
    "        gdescriptors = [c.text for c in gclassifiers]\n",
    "        descriptors = [c.text for c in dclassifiers]\n",
    "        return Doc(id, gdescriptors, descriptors, text)\n",
    "    except:\n",
    "        return None"
   ]
  },
  {
   "cell_type": "code",
   "execution_count": null,
   "metadata": {},
   "outputs": [],
   "source": [
    "def get_docs_by_month(year: int, month: int) -> List[Doc]:\n",
    "    days = monthrange(year, month)[1]\n",
    "    docs = []\n",
    "    for day in range(1, days+1):\n",
    "        for file in os.listdir(f'data/{year}/{month:02}/{day:02}/'):\n",
    "            doc = parse_doc(f'data/{year}/{month:02}/{day:02}/{file}')\n",
    "            if doc:\n",
    "                docs.append(doc)\n",
    "    return docs"
   ]
  },
  {
   "cell_type": "code",
   "execution_count": null,
   "metadata": {},
   "outputs": [],
   "source": [
    "t = time.process_time()\n",
    "all_ = []\n",
    "for y in range(1988, 2007):\n",
    "    print(y)\n",
    "    for i in range(1,13):\n",
    "        all_ += get_docs_by_month(y, i)\n",
    "time.process_time() - t"
   ]
  },
  {
   "cell_type": "code",
   "execution_count": null,
   "metadata": {},
   "outputs": [],
   "source": [
    "len(all_)"
   ]
  },
  {
   "cell_type": "code",
   "execution_count": null,
   "metadata": {},
   "outputs": [],
   "source": [
    "dill.dump_session('thesis_env.db')"
   ]
  },
  {
   "cell_type": "markdown",
   "metadata": {},
   "source": [
    "# Process by descriptor"
   ]
  },
  {
   "cell_type": "code",
   "execution_count": null,
   "metadata": {},
   "outputs": [],
   "source": [
    "t = time.process_time()\n",
    "alld = {}\n",
    "for doc in all_:\n",
    "    doc = Doc(doc.id, doc.gdescriptors, doc.descriptors, doc.text)\n",
    "    for d in doc.descriptors:\n",
    "        count, docs = alld.get(d, (0, set()))\n",
    "        docs.add(doc)\n",
    "        alld[d] = (count + 1, docs)\n",
    "time.process_time() - t"
   ]
  },
  {
   "cell_type": "code",
   "execution_count": null,
   "metadata": {},
   "outputs": [],
   "source": [
    "alldlist = sorted([(d, alld[d][0], alld[d][1]) for d in alld], key=lambda x: x[1], reverse=True)\n",
    "for x in range(15):\n",
    "    print(alldlist[x][0:2])"
   ]
  },
  {
   "cell_type": "code",
   "execution_count": null,
   "metadata": {},
   "outputs": [],
   "source": [
    "def exclude(e, x):\n",
    "    for d in x.descriptors:\n",
    "        if d == e:\n",
    "            continue\n",
    "        if d in [t[0] for t in ['Politics and Government', 'Motion Pictures', 'Books and Literature']]:\n",
    "            return False\n",
    "    return True"
   ]
  },
  {
   "cell_type": "code",
   "execution_count": null,
   "metadata": {},
   "outputs": [],
   "source": [
    "def getlist(topic):\n",
    "    return list(filter(lambda x: exclude(topic, x), alld[topic][1]))"
   ]
  },
  {
   "cell_type": "code",
   "execution_count": null,
   "metadata": {},
   "outputs": [],
   "source": [
    "politics = getlist('Politics and Government')"
   ]
  },
  {
   "cell_type": "code",
   "execution_count": null,
   "metadata": {},
   "outputs": [],
   "source": [
    "movies = getlist('Motion Pictures')"
   ]
  },
  {
   "cell_type": "code",
   "execution_count": null,
   "metadata": {},
   "outputs": [],
   "source": [
    "books = getlist('Books and Literature')"
   ]
  },
  {
   "cell_type": "code",
   "execution_count": null,
   "metadata": {},
   "outputs": [],
   "source": [
    "sports = getlist('Baseball') + getlist('Football')"
   ]
  },
  {
   "cell_type": "code",
   "execution_count": 131,
   "metadata": {},
   "outputs": [
    {
     "data": {
      "text/plain": [
       "(10394, 7728, 11191, 15045)"
      ]
     },
     "execution_count": 131,
     "metadata": {},
     "output_type": "execute_result"
    }
   ],
   "source": [
    "len(politics), len(movies), len(books), len(sports)"
   ]
  },
  {
   "cell_type": "code",
   "execution_count": null,
   "metadata": {},
   "outputs": [],
   "source": [
    "long = politics + movies + books\n",
    "len(long)"
   ]
  },
  {
   "cell_type": "code",
   "execution_count": 132,
   "metadata": {},
   "outputs": [],
   "source": [
    "politics = sample(politics, 7370)"
   ]
  },
  {
   "cell_type": "code",
   "execution_count": 133,
   "metadata": {},
   "outputs": [],
   "source": [
    "movies = sample(movies, 7370)"
   ]
  },
  {
   "cell_type": "code",
   "execution_count": 134,
   "metadata": {},
   "outputs": [],
   "source": [
    "books = sample(books, 7370)"
   ]
  },
  {
   "cell_type": "code",
   "execution_count": 135,
   "metadata": {},
   "outputs": [],
   "source": [
    "sports = sample(sports, 7370)"
   ]
  },
  {
   "cell_type": "markdown",
   "metadata": {},
   "source": [
    "# SentiWordNet"
   ]
  },
  {
   "cell_type": "code",
   "execution_count": 140,
   "metadata": {},
   "outputs": [
    {
     "name": "stderr",
     "output_type": "stream",
     "text": [
      "[nltk_data] Downloading package sentiwordnet to\n",
      "[nltk_data]     /Users/mayjiang/nltk_data...\n",
      "[nltk_data]   Package sentiwordnet is already up-to-date!\n"
     ]
    }
   ],
   "source": [
    "nltk.download('sentiwordnet')\n",
    "from nltk.corpus import sentiwordnet as swn"
   ]
  },
  {
   "cell_type": "code",
   "execution_count": 141,
   "metadata": {},
   "outputs": [],
   "source": [
    "sman = swn.senti_synset('man.n.01')\n",
    "swoman = swn.senti_synset('woman.n.01')\n",
    "tall = swn.senti_synset('tall.a.01')\n",
    "maid = swn.senti_synset('maid.n.01')\n",
    "smart = swn.senti_synset('smart.a.01')\n",
    "awesome = swn.senti_synset('awesome.a.01')\n",
    "shy = swn.senti_synset('shy.a.01')\n",
    "liberal = swn.senti_synset('liberal.a.01')\n",
    "conservative = swn.senti_synset('conservative.a.01')\n",
    "moderate = swn.senti_synset('moderate.a.01')\n",
    "demanding = swn.senti_synset('demanding.a.01')"
   ]
  },
  {
   "cell_type": "code",
   "execution_count": 142,
   "metadata": {},
   "outputs": [
    {
     "name": "stdout",
     "output_type": "stream",
     "text": [
      "<man.n.01: PosScore=0.0 NegScore=0.0>\n",
      "<woman.n.01: PosScore=0.0 NegScore=0.0>\n",
      "<tall.a.01: PosScore=0.5 NegScore=0.0>\n",
      "<maid.n.01: PosScore=0.0 NegScore=0.0>\n",
      "<smart.a.01: PosScore=0.5 NegScore=0.0>\n",
      "<amazing.s.02: PosScore=0.875 NegScore=0.125>\n",
      "<diffident.a.02: PosScore=0.25 NegScore=0.25>\n",
      "<broad.s.08: PosScore=0.625 NegScore=0.0>\n",
      "<conservative.a.01: PosScore=0.0 NegScore=0.0>\n",
      "<moderate.a.01: PosScore=0.25 NegScore=0.625>\n",
      "<demanding.a.01: PosScore=0.0 NegScore=0.375>\n"
     ]
    }
   ],
   "source": [
    "for s in [sman, swoman, tall, maid, smart, awesome, shy, liberal, conservative, moderate, demanding]:\n",
    "    print(s)"
   ]
  },
  {
   "cell_type": "code",
   "execution_count": null,
   "metadata": {},
   "outputs": [],
   "source": [
    "# Sentiment Bias - weighted projection bias, each word multiplied by (pos_score - neg_score)\n"
   ]
  },
  {
   "cell_type": "code",
   "execution_count": 204,
   "metadata": {},
   "outputs": [],
   "source": [
    "adjs_bias = []\n",
    "for x in adjs_all:\n",
    "    try:\n",
    "        s = swn.senti_synset(x + \".a.01\")\n",
    "        if s.pos_score() - s.neg_score() != 0:\n",
    "            adjs_bias.append(x)\n",
    "    except:\n",
    "        continue"
   ]
  },
  {
   "cell_type": "code",
   "execution_count": 205,
   "metadata": {},
   "outputs": [
    {
     "data": {
      "text/plain": [
       "672"
      ]
     },
     "execution_count": 205,
     "metadata": {},
     "output_type": "execute_result"
    }
   ],
   "source": [
    "len(adjs_bias)"
   ]
  },
  {
   "cell_type": "code",
   "execution_count": 491,
   "metadata": {},
   "outputs": [],
   "source": [
    "temp = [gproj(getg(mpol), mpol, x) for x in adjs_bias if x in mpol.wv.vocab]"
   ]
  },
  {
   "cell_type": "code",
   "execution_count": 280,
   "metadata": {},
   "outputs": [
    {
     "data": {
      "text/plain": [
       "209"
      ]
     },
     "execution_count": 280,
     "metadata": {},
     "output_type": "execute_result"
    }
   ],
   "source": [
    "len(list(filter(lambda x: x > 0, temp)))"
   ]
  },
  {
   "cell_type": "code",
   "execution_count": 308,
   "metadata": {},
   "outputs": [
    {
     "data": {
      "text/plain": [
       "[-0.047809258, -0.05460444, 0.026453687, 0.062143218]"
      ]
     },
     "execution_count": 308,
     "metadata": {},
     "output_type": "execute_result"
    }
   ],
   "source": [
    "[gproj(getg(mpol), mpol, x) for x in ['above', 'about', 'ago', 'although'] if x in mpol.wv.vocab]"
   ]
  },
  {
   "cell_type": "code",
   "execution_count": 311,
   "metadata": {},
   "outputs": [],
   "source": [
    "grams = [gproj(getg(mpol), mpol, x) for x in grammar if x in mpol.wv.vocab]"
   ]
  },
  {
   "cell_type": "code",
   "execution_count": 326,
   "metadata": {},
   "outputs": [
    {
     "data": {
      "text/plain": [
       "(-0.0039149676, 0.056799952, -0.114319265, 0.11247943)"
      ]
     },
     "execution_count": 326,
     "metadata": {},
     "output_type": "execute_result"
    }
   ],
   "source": [
    "np.mean(grams), np.std(grams), np.min(grams), np.max(grams)"
   ]
  },
  {
   "cell_type": "code",
   "execution_count": 291,
   "metadata": {},
   "outputs": [
    {
     "data": {
      "text/plain": [
       "(-0.017466776, 0.07178123)"
      ]
     },
     "execution_count": 291,
     "metadata": {},
     "output_type": "execute_result"
    }
   ],
   "source": [
    "tmean, tstd = np.mean(temp), np.std(temp)\n",
    "tmean, tstd"
   ]
  },
  {
   "cell_type": "code",
   "execution_count": 281,
   "metadata": {},
   "outputs": [
    {
     "data": {
      "text/plain": [
       "(-0.3098677, 0.21781564)"
      ]
     },
     "execution_count": 281,
     "metadata": {},
     "output_type": "execute_result"
    }
   ],
   "source": [
    "tmin, tmax = np.min(temp), np.max(temp)\n",
    "tmin, tmax"
   ]
  },
  {
   "cell_type": "code",
   "execution_count": 493,
   "metadata": {},
   "outputs": [
    {
     "data": {
      "image/png": "[encoded data removed]",
      "text/plain": [
       "<Figure size 432x288 with 1 Axes>"
      ]
     },
     "metadata": {
      "needs_background": "light"
     },
     "output_type": "display_data"
    }
   ],
   "source": [
    "plt.hist(temp)\n",
    "plt.title(\"Projections of Adjectives on Gender Vector - Politics\")\n",
    "plt.show()"
   ]
  },
  {
   "cell_type": "code",
   "execution_count": 499,
   "metadata": {},
   "outputs": [
    {
     "data": {
      "text/plain": [
       "74"
      ]
     },
     "execution_count": 499,
     "metadata": {},
     "output_type": "execute_result"
    }
   ],
   "source": [
    "len(list(filter(lambda x: x < tmean - tstd, temp)))"
   ]
  },
  {
   "cell_type": "code",
   "execution_count": 528,
   "metadata": {},
   "outputs": [
    {
     "data": {
      "text/plain": [
       "209"
      ]
     },
     "execution_count": 528,
     "metadata": {},
     "output_type": "execute_result"
    }
   ],
   "source": [
    "len(list(filter(lambda x: x > tmean + tstd, temp)))"
   ]
  },
  {
   "cell_type": "code",
   "execution_count": 521,
   "metadata": {},
   "outputs": [
    {
     "data": {
      "text/plain": [
       "629"
      ]
     },
     "execution_count": 521,
     "metadata": {},
     "output_type": "execute_result"
    }
   ],
   "source": [
    "len(list(filter(lambda x: x in mpol.wv.vocab, adjs_all)))"
   ]
  },
  {
   "cell_type": "code",
   "execution_count": 540,
   "metadata": {},
   "outputs": [],
   "source": [
    "#run\n",
    "num_adjs = 209"
   ]
  },
  {
   "cell_type": "code",
   "execution_count": 329,
   "metadata": {},
   "outputs": [],
   "source": [
    "def get_adj_lists(m):\n",
    "    temp = sorted([(x, gproj(getg(m), m, x)) for x in adjs_bias \\\n",
    "                   if x in m.wv.vocab], key=lambda x: x[1])\n",
    "    return [x[0] for x in temp[:num_adjs]], \\\n",
    "           [x[0] for x in temp[len(temp)-num_adjs:]]"
   ]
  },
  {
   "cell_type": "code",
   "execution_count": 235,
   "metadata": {},
   "outputs": [
    {
     "data": {
      "text/plain": [
       "(300, 300)"
      ]
     },
     "execution_count": 235,
     "metadata": {},
     "output_type": "execute_result"
    }
   ],
   "source": [
    "apol1, apol2 = get_adj_lists(mpol)\n",
    "len(apol1), len(apol2)"
   ]
  },
  {
   "cell_type": "code",
   "execution_count": 482,
   "metadata": {},
   "outputs": [
    {
     "data": {
      "text/plain": [
       "[('loyal', 0.21781564, 0.5),\n",
       " ('calm', 0.15803167, -0.375),\n",
       " ('admirable', 0.15252876, 0.75),\n",
       " ('charismatic', 0.14838041, 0.5),\n",
       " ('clumsy', 0.14027488, -0.125)]"
      ]
     },
     "execution_count": 482,
     "metadata": {},
     "output_type": "execute_result"
    }
   ],
   "source": [
    "sorted([(x, gproj(getg(mpol), mpol, x), swn_score(x)) for x in apol2], \\\n",
    "       key=lambda x: x[1], reverse=True)[:5]"
   ]
  },
  {
   "cell_type": "code",
   "execution_count": 483,
   "metadata": {},
   "outputs": [
    {
     "data": {
      "text/plain": [
       "[('direct', 0.24215876, -0.25),\n",
       " ('civil', 0.22271426, 0.125),\n",
       " ('questioning', 0.22204797, -0.125),\n",
       " ('independent', 0.20418105, 0.125),\n",
       " ('frank', 0.17268638, 0.125)]"
      ]
     },
     "execution_count": 483,
     "metadata": {},
     "output_type": "execute_result"
    }
   ],
   "source": [
    "sorted([(x, gproj(getg(mmov), mmov, x), swn_score(x)) for x in amov2], \\\n",
    "       key=lambda x: x[1], reverse=True)[:5]"
   ]
  },
  {
   "cell_type": "code",
   "execution_count": 486,
   "metadata": {},
   "outputs": [
    {
     "data": {
      "text/plain": [
       "[('patriotic', 0.29985127, 0.125),\n",
       " ('liberal', 0.28159603, 0.625),\n",
       " ('grand', 0.22807221, 0.25),\n",
       " ('progressive', 0.22761683, 0.625),\n",
       " ('moderate', 0.22250967, -0.375)]"
      ]
     },
     "execution_count": 486,
     "metadata": {},
     "output_type": "execute_result"
    }
   ],
   "source": [
    "sorted([(x, gproj(getg(mbooks), mbooks, x), swn_score(x)) for x in abooks2], \\\n",
    "       key=lambda x: x[1], reverse=True)[:5]"
   ]
  },
  {
   "cell_type": "code",
   "execution_count": 484,
   "metadata": {},
   "outputs": [
    {
     "data": {
      "text/plain": [
       "[('demure', -0.40574434, 0.5),\n",
       " ('fabulous', -0.40027168, 0.75),\n",
       " ('sexy', -0.38357872, 0.625),\n",
       " ('lovely', -0.34983596, 0.625),\n",
       " ('beautiful', -0.33718085, 0.75)]"
      ]
     },
     "execution_count": 484,
     "metadata": {},
     "output_type": "execute_result"
    }
   ],
   "source": [
    "sorted([(x, gproj(getg(mmov), mmov, x), swn_score(x)) for x in amov1], \\\n",
    "       key=lambda x: x[1])[:5]"
   ]
  },
  {
   "cell_type": "code",
   "execution_count": 485,
   "metadata": {},
   "outputs": [
    {
     "data": {
      "text/plain": [
       "[('patient', -0.3098677, 0.25),\n",
       " ('healthy', -0.2604588, 0.75),\n",
       " ('diligent', -0.22501096, 0.625),\n",
       " ('decent', -0.19484079, 0.875),\n",
       " ('lovely', -0.18960457, 0.625)]"
      ]
     },
     "execution_count": 485,
     "metadata": {},
     "output_type": "execute_result"
    }
   ],
   "source": [
    "sorted([(x, gproj(getg(mpol), mpol, x), swn_score(x)) for x in apol1], \\\n",
    "       key=lambda x: x[1])[:5]"
   ]
  },
  {
   "cell_type": "code",
   "execution_count": 489,
   "metadata": {},
   "outputs": [
    {
     "data": {
      "text/plain": [
       "[('beautiful', -0.36147895, 0.75),\n",
       " ('sexy', -0.31237495, 0.625),\n",
       " ('glamorous', -0.28069398, 0.375),\n",
       " ('sensual', -0.26773366, 0.125),\n",
       " ('caring', -0.23501632, 0.25)]"
      ]
     },
     "execution_count": 489,
     "metadata": {},
     "output_type": "execute_result"
    }
   ],
   "source": [
    "sorted([(x, gproj(getg(mbooks), mbooks, x), swn_score(x)) for x in abooks1], \\\n",
    "       key=lambda x: x[1])[:5]"
   ]
  },
  {
   "cell_type": "code",
   "execution_count": null,
   "metadata": {},
   "outputs": [],
   "source": [
    "sorted([(x, swn_score(x)) for x in apol2], key=lambda x: x[1])[:5]"
   ]
  },
  {
   "cell_type": "code",
   "execution_count": 262,
   "metadata": {},
   "outputs": [
    {
     "data": {
      "text/plain": [
       "(300, 300)"
      ]
     },
     "execution_count": 262,
     "metadata": {},
     "output_type": "execute_result"
    }
   ],
   "source": [
    "abooks1, abooks2 = get_adj_lists(mbooks)\n",
    "len(abooks1), len(abooks2)"
   ]
  },
  {
   "cell_type": "code",
   "execution_count": 263,
   "metadata": {},
   "outputs": [
    {
     "data": {
      "text/plain": [
       "(300, 300)"
      ]
     },
     "execution_count": 263,
     "metadata": {},
     "output_type": "execute_result"
    }
   ],
   "source": [
    "amov1, amov2 = get_adj_lists(mmov)\n",
    "len(amov1), len(amov2)"
   ]
  },
  {
   "cell_type": "code",
   "execution_count": 268,
   "metadata": {},
   "outputs": [],
   "source": [
    "def weighted_sb(m):\n",
    "    a1, a2 = get_adj_lists(m)\n",
    "    return sum([abs(gproj(getg(m), m, x))*swn_score(x) for x in a1]), \\\n",
    "           sum([abs(gproj(getg(m), m, x))*swn_score(x) for x in a2])"
   ]
  },
  {
   "cell_type": "code",
   "execution_count": 345,
   "metadata": {},
   "outputs": [],
   "source": [
    "def get_gdir(m):\n",
    "    h, s = gproj(getg(m), m, 'he'), gproj(getg(m), m, 'she')\n",
    "    print(h, s)\n",
    "    return h, s, (h+s)/2"
   ]
  },
  {
   "cell_type": "code",
   "execution_count": 270,
   "metadata": {},
   "outputs": [],
   "source": [
    "def norm_sb(m):\n",
    "    a1, a2 = get_adj_lists(m)\n",
    "    h, s, hs = get_gdir(m)\n",
    "    return sum([abs(gproj(getg(m), m, x)/s)*swn_score(x) for x in a1]), \\\n",
    "           sum([abs(gproj(getg(m), m, x)/h)*swn_score(x) for x in a2])"
   ]
  },
  {
   "cell_type": "code",
   "execution_count": 300,
   "metadata": {},
   "outputs": [
    {
     "name": "stdout",
     "output_type": "stream",
     "text": [
      "0.22568104 -0.4520073\n",
      "0.18597512 -0.49779502\n",
      "0.18463565 -0.42947298\n"
     ]
    },
    {
     "data": {
      "text/plain": [
       "((3.162538355216384, 1.4912605471909046),\n",
       " (3.3112002988010647, 4.077601205557585),\n",
       " (5.51348378136754, 5.36511062271893))"
      ]
     },
     "execution_count": 300,
     "metadata": {},
     "output_type": "execute_result"
    }
   ],
   "source": [
    "norm_sb(mpol), norm_sb(mbooks), norm_sb(mmov)"
   ]
  },
  {
   "cell_type": "code",
   "execution_count": 272,
   "metadata": {},
   "outputs": [],
   "source": [
    "def scale_sb(m):\n",
    "    a1, a2 = get_adj_lists(m)\n",
    "    h, s, hs = get_gdir(m)\n",
    "    return sum([abs(gproj(getg(m), m, x) - hs)*swn_score(x) for x in a1]), \\\n",
    "           sum([abs(gproj(getg(m), m, x) - hs)*swn_score(x) for x in a2])"
   ]
  },
  {
   "cell_type": "code",
   "execution_count": 261,
   "metadata": {},
   "outputs": [
    {
     "name": "stdout",
     "output_type": "stream",
     "text": [
      "0.22568104 -0.4520073\n",
      "0.18597512 -0.49779502\n",
      "0.18463565 -0.42947298\n"
     ]
    },
    {
     "data": {
      "text/plain": [
       "((1.7247874721918488, 0.6310292075386883),\n",
       " (0.14364903768710796, 1.4876473221679907),\n",
       " (1.4787104708887635, 2.0745052116617444))"
      ]
     },
     "execution_count": 261,
     "metadata": {},
     "output_type": "execute_result"
    }
   ],
   "source": [
    "scale_sb(mpol), scale_sb(mbooks), scale_sb(mmov)"
   ]
  },
  {
   "cell_type": "code",
   "execution_count": 223,
   "metadata": {},
   "outputs": [
    {
     "name": "stdout",
     "output_type": "stream",
     "text": [
      "0.22568104 -0.4520073\n",
      "0.18597512 -0.49779502\n",
      "0.18463565 -0.42947298\n"
     ]
    }
   ],
   "source": [
    "hpol, spol, avgpol = get_gdir(mpol)\n",
    "hbooks, sbooks, avgbooks = get_gdir(mbooks)\n",
    "hmov, smov, avgmov = get_gdir(mmov)"
   ]
  },
  {
   "cell_type": "code",
   "execution_count": 225,
   "metadata": {},
   "outputs": [],
   "source": [
    "def swn_score(x):\n",
    "    try:\n",
    "        s = swn.senti_synset(x + \".a.01\")\n",
    "        return s.pos_score() - s.neg_score()\n",
    "    except:\n",
    "        return 0"
   ]
  },
  {
   "cell_type": "code",
   "execution_count": 227,
   "metadata": {},
   "outputs": [],
   "source": [
    "def swn_bias(m):\n",
    "    a1, a2 = get_adj_lists(m)\n",
    "    return sum([swn_score(x) for x in a1]), sum([swn_score(x) for x in a2])"
   ]
  },
  {
   "cell_type": "code",
   "execution_count": null,
   "metadata": {},
   "outputs": [],
   "source": [
    "#run"
   ]
  },
  {
   "cell_type": "code",
   "execution_count": 536,
   "metadata": {},
   "outputs": [
    {
     "data": {
      "text/plain": [
       "((1.7336519272215665, 0.2859736363653269),\n",
       " (2.061730328530073, 0.593745810049586),\n",
       " (1.6817176950350405, 1.0290070636183373))"
      ]
     },
     "execution_count": 536,
     "metadata": {},
     "output_type": "execute_result"
    }
   ],
   "source": [
    "weighted_sb(mpol), weighted_sb(mbooks), weighted_sb(mmov)"
   ]
  },
  {
   "cell_type": "code",
   "execution_count": 537,
   "metadata": {},
   "outputs": [
    {
     "name": "stdout",
     "output_type": "stream",
     "text": [
      "0.22568104 -0.4520073\n",
      "0.18597512 -0.49779502\n",
      "0.18463565 -0.42947298\n"
     ]
    },
    {
     "data": {
      "text/plain": [
       "((3.8354512557163836, 1.267158538839567),\n",
       " (4.141725453048945, 3.1926088630706073),\n",
       " (3.915770623087883, 5.573176347956178))"
      ]
     },
     "execution_count": 537,
     "metadata": {},
     "output_type": "execute_result"
    }
   ],
   "source": [
    "norm_sb(mpol), norm_sb(mbooks), norm_sb(mmov)"
   ]
  },
  {
   "cell_type": "code",
   "execution_count": 538,
   "metadata": {},
   "outputs": [
    {
     "name": "stdout",
     "output_type": "stream",
     "text": [
      "0.22568104 -0.4520073\n",
      "0.18597512 -0.49779502\n",
      "0.18463565 -0.42947298\n"
     ]
    },
    {
     "data": {
      "text/plain": [
       "((0.886271051492542, -0.2091150508012447),\n",
       " (0.789029377579689, 0.9314467736659573),\n",
       " (1.2545430466532705, 2.6077588960688445))"
      ]
     },
     "execution_count": 538,
     "metadata": {},
     "output_type": "execute_result"
    }
   ],
   "source": [
    "scale_sb(mpol), scale_sb(mbooks), scale_sb(mmov)"
   ]
  },
  {
   "cell_type": "code",
   "execution_count": 539,
   "metadata": {},
   "outputs": [
    {
     "data": {
      "text/plain": [
       "((13.506, -4.375), (11.237, 2.1660000000000004), (2.4030000000000005, 13.5))"
      ]
     },
     "execution_count": 539,
     "metadata": {},
     "output_type": "execute_result"
    }
   ],
   "source": [
    "swn_bias(mpol), swn_bias(mbooks), swn_bias(mmov)"
   ]
  },
  {
   "cell_type": "code",
   "execution_count": 376,
   "metadata": {},
   "outputs": [
    {
     "data": {
      "text/plain": [
       "((1.3533039325848222, 0.29404603131115437),\n",
       " (1.7124517742097378, 0.6149269239977002),\n",
       " (2.0845603682100773, 0.7970253718085587))"
      ]
     },
     "execution_count": 376,
     "metadata": {},
     "output_type": "execute_result"
    }
   ],
   "source": [
    "weighted_sb(mpol), weighted_sb(mbooks), weighted_sb(mmov)"
   ]
  },
  {
   "cell_type": "code",
   "execution_count": 353,
   "metadata": {},
   "outputs": [
    {
     "name": "stdout",
     "output_type": "stream",
     "text": [
      "0.22568104 -0.4520073\n",
      "0.18597512 -0.49779502\n",
      "0.18463565 -0.42947298\n"
     ]
    },
    {
     "data": {
      "text/plain": [
       "((3.2606441378593445, 1.7218275777995586),\n",
       " (3.284544779419899, 3.9604589119553566),\n",
       " (5.282709550112486, 5.394994001835585))"
      ]
     },
     "execution_count": 353,
     "metadata": {},
     "output_type": "execute_result"
    }
   ],
   "source": [
    "norm_sb(mpol), norm_sb(mbooks), norm_sb(mmov)"
   ]
  },
  {
   "cell_type": "code",
   "execution_count": 355,
   "metadata": {},
   "outputs": [
    {
     "data": {
      "text/plain": [
       "((8.375, 3.25), (6.862, 6.25), (7.75, 13.125))"
      ]
     },
     "execution_count": 355,
     "metadata": {},
     "output_type": "execute_result"
    }
   ],
   "source": [
    "swn_bias(mpol), swn_bias(mbooks), swn_bias(mmov)"
   ]
  },
  {
   "cell_type": "code",
   "execution_count": null,
   "metadata": {},
   "outputs": [],
   "source": []
  },
  {
   "cell_type": "code",
   "execution_count": 240,
   "metadata": {},
   "outputs": [
    {
     "data": {
      "text/plain": [
       "((21.881, 3.875), (5.84, 5.666), (6.256, 7.25))"
      ]
     },
     "execution_count": 240,
     "metadata": {},
     "output_type": "execute_result"
    }
   ],
   "source": [
    "swn_bias(mpol), swn_bias(mbooks), swn_bias(mmov)"
   ]
  },
  {
   "cell_type": "code",
   "execution_count": null,
   "metadata": {},
   "outputs": [],
   "source": []
  },
  {
   "cell_type": "markdown",
   "metadata": {},
   "source": [
    "# WEAT"
   ]
  },
  {
   "cell_type": "code",
   "execution_count": 587,
   "metadata": {},
   "outputs": [],
   "source": [
    "stereotypes_m = ['president', 'dean', \\\n",
    "                 'director', 'officer', 'manager', 'captain', 'coach', 'commissioner', 'sergeant', \"principal\", \"programmer\"]\n",
    "stereotypes_f = ['teacher', 'author', 'secretary', 'writer', \\\n",
    "                 'editor', \"nurse\", \"housekeeper\", \"maid\", \"dancer\", \"artist\", \"homemaker\"]\n",
    "male = [\"male\", \"man\", \"brother\", \"he\", \"him\", \"son\", \"father\", \"boy\", \"masculine\", \"mr\", \"john\"]\n",
    "female = [\"female\", \"woman\", \"sister\", \"she\", \"her\", \\\n",
    "          \"daughter\", \"mother\", \"girl\", \"feminine\", \"mrs\", \"mary\"]\n",
    "def cos_sim(m, x, y):\n",
    "    wv1 = m.wv.get_vector(x)\n",
    "    wv2 = m.wv.get_vector(y)\n",
    "    sim = np.dot(wv1, wv2)/(np.linalg.norm(wv1)*np.linalg.norm(wv2))\n",
    "    return sim\n",
    "def cos_sim2(wv1, wv2):\n",
    "    return np.dot(wv1, wv2)/(np.linalg.norm(wv1)*np.linalg.norm(wv2))\n",
    "def s_word(m, w, A, B):\n",
    "    return np.mean([cos_sim(m, w, a) for a in A]) - np.mean([cos_sim(m, w, b) for b in B])\n",
    "def effect_size(m, X, Y, A, B):\n",
    "    num = np.mean([s_word(m, x, A, B) for x in X]) - np.mean([s_word(m, y, A, B) for y in Y])\n",
    "    return num/np.std([s_word(m, x, A, B) for x in X + Y])\n",
    "def wbias(m, l, shuf):\n",
    "    if shuf:\n",
    "#         shuffle(stereotypes_m)\n",
    "#         shuffle(stereotypes_f)\n",
    "        shuffle(male)\n",
    "        shuffle(female)\n",
    "    return abs(effect_size(m, male[:l], female[:l], stereotypes_m, stereotypes_f))"
   ]
  },
  {
   "cell_type": "markdown",
   "metadata": {},
   "source": [
    "# Training Word Embeddings"
   ]
  },
  {
   "cell_type": "code",
   "execution_count": null,
   "metadata": {},
   "outputs": [],
   "source": [
    "def getw2v(category):\n",
    "    sentences = []\n",
    "    for t in category:\n",
    "        sentences += nltk.sent_tokenize(t.text)\n",
    "    docs = [simple_preprocess(s) for s in sentences]\n",
    "    return Word2Vec(docs)"
   ]
  },
  {
   "cell_type": "code",
   "execution_count": 138,
   "metadata": {},
   "outputs": [
    {
     "data": {
      "text/plain": [
       "84.06553399999939"
      ]
     },
     "execution_count": 138,
     "metadata": {},
     "output_type": "execute_result"
    }
   ],
   "source": [
    "t = time.process_time()\n",
    "msports = getw2v(sports)\n",
    "time.process_time() - t"
   ]
  },
  {
   "cell_type": "code",
   "execution_count": 137,
   "metadata": {},
   "outputs": [
    {
     "data": {
      "text/plain": [
       "208.07826299999942"
      ]
     },
     "execution_count": 137,
     "metadata": {},
     "output_type": "execute_result"
    }
   ],
   "source": [
    "t = time.process_time()\n",
    "mpol = getw2v(politics)\n",
    "time.process_time() - t"
   ]
  },
  {
   "cell_type": "code",
   "execution_count": 139,
   "metadata": {},
   "outputs": [
    {
     "data": {
      "text/plain": [
       "112.02558700000009"
      ]
     },
     "execution_count": 139,
     "metadata": {},
     "output_type": "execute_result"
    }
   ],
   "source": [
    "t = time.process_time()\n",
    "mmov = getw2v(movies)\n",
    "time.process_time() - t"
   ]
  },
  {
   "cell_type": "code",
   "execution_count": 136,
   "metadata": {},
   "outputs": [
    {
     "data": {
      "text/plain": [
       "118.6554789999991"
      ]
     },
     "execution_count": 136,
     "metadata": {},
     "output_type": "execute_result"
    }
   ],
   "source": [
    "t = time.process_time()\n",
    "mbooks = getw2v(books)\n",
    "time.process_time() - t"
   ]
  },
  {
   "cell_type": "code",
   "execution_count": null,
   "metadata": {},
   "outputs": [],
   "source": [
    "def bias(g, m, vocab, wordlist):\n",
    "    b = 0\n",
    "    l = list(filter(lambda x: x in vocab, wordlist))\n",
    "    for x in l:\n",
    "        b += abs(gproj(g, m, x))\n",
    "    return b/len(l)"
   ]
  }
 ],
 "metadata": {
  "kernelspec": {
   "display_name": "Python 3",
   "language": "python",
   "name": "python3"
  },
  "language_info": {
   "codemirror_mode": {
    "name": "ipython",
    "version": 3
   },
   "file_extension": ".py",
   "mimetype": "text/x-python",
   "name": "python",
   "nbconvert_exporter": "python",
   "pygments_lexer": "ipython3",
   "version": "3.7.0"
  }
 },
 "nbformat": 4,
 "nbformat_minor": 2
}
