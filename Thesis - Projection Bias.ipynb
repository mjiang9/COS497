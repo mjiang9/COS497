{
 "cells": [
  {
   "cell_type": "code",
   "execution_count": 149,
   "metadata": {},
   "outputs": [],
   "source": [
    "import os\n",
    "import time\n",
    "import dill\n",
    "from typing import List\n",
    "from functools import reduce\n",
    "from calendar import monthrange"
   ]
  },
  {
   "cell_type": "code",
   "execution_count": 2,
   "metadata": {},
   "outputs": [],
   "source": [
    "import json\n",
    "import csv\n",
    "import requests\n",
    "import xml.etree.ElementTree as ET\n",
    "from bs4 import BeautifulSoup\n",
    "import urllib.request as urllib2"
   ]
  },
  {
   "cell_type": "code",
   "execution_count": 3,
   "metadata": {},
   "outputs": [],
   "source": [
    "import matplotlib.pyplot as plt\n",
    "import numpy as np\n",
    "from scipy import stats\n",
    "from random import sample, randint, shuffle\n",
    "from sklearn.decomposition import PCA"
   ]
  },
  {
   "cell_type": "code",
   "execution_count": 4,
   "metadata": {},
   "outputs": [],
   "source": [
    "import nltk\n",
    "import text_summarizer\n",
    "from gensim.utils import simple_preprocess\n",
    "from gensim.summarization.summarizer import summarize\n",
    "from gensim.models import Word2Vec, LsiModel\n",
    "from gensim.test.utils import common_dictionary, common_corpus"
   ]
  },
  {
   "cell_type": "code",
   "execution_count": 5,
   "metadata": {},
   "outputs": [],
   "source": [
    "from time import process_time"
   ]
  },
  {
   "cell_type": "code",
   "execution_count": 6,
   "metadata": {},
   "outputs": [
    {
     "data": {
      "text/plain": [
       "-2863.813193"
      ]
     },
     "execution_count": 6,
     "metadata": {},
     "output_type": "execute_result"
    }
   ],
   "source": [
    "t = process_time()\n",
    "dill.load_session('thesis_env2.db')\n",
    "process_time() - t"
   ]
  },
  {
   "cell_type": "code",
   "execution_count": 7,
   "metadata": {},
   "outputs": [
    {
     "data": {
      "text/plain": [
       "(7370, 7370, 7370, 7370)"
      ]
     },
     "execution_count": 7,
     "metadata": {},
     "output_type": "execute_result"
    }
   ],
   "source": [
    "len(politics), len(movies), len(books), len(sports)"
   ]
  },
  {
   "cell_type": "code",
   "execution_count": 8,
   "metadata": {},
   "outputs": [
    {
     "data": {
      "text/plain": [
       "1685787"
      ]
     },
     "execution_count": 8,
     "metadata": {},
     "output_type": "execute_result"
    }
   ],
   "source": [
    "len(all_)"
   ]
  },
  {
   "cell_type": "code",
   "execution_count": 11,
   "metadata": {},
   "outputs": [],
   "source": [
    "# mpol, mmov, mbooks, msports\n",
    "# summaries_{pol, mov, bks, spts}\n",
    "# m{pol, mov, bks, spts}_{s, b, c}\n",
    "# bow_{pol, mov, bks, spts}\n",
    "# ctrls_{pol, mov, bks, spts}"
   ]
  },
  {
   "cell_type": "code",
   "execution_count": 155,
   "metadata": {},
   "outputs": [],
   "source": [
    "def heshestats(w1, w2):\n",
    "    for m in [mpol, mbooks, mmov, msports]:\n",
    "        c1 = m.wv.vocab[w1].count\n",
    "        c2 = m.wv.vocab[w2].count\n",
    "        print(c1, c2, c2/c1)"
   ]
  },
  {
   "cell_type": "code",
   "execution_count": 156,
   "metadata": {},
   "outputs": [
    {
     "name": "stdout",
     "output_type": "stream",
     "text": [
      "59791 10012 0.16744995066147078\n",
      "71587 31500 0.44002402670875995\n",
      "60185 22859 0.37981224557614024\n",
      "98658 2479 0.025127207119544283\n"
     ]
    }
   ],
   "source": [
    "heshestats('he', 'she')"
   ]
  },
  {
   "cell_type": "code",
   "execution_count": 157,
   "metadata": {},
   "outputs": [
    {
     "name": "stdout",
     "output_type": "stream",
     "text": [
      "8938 7827 0.8756992615797717\n",
      "12895 36723 2.8478480031019777\n",
      "10990 26108 2.375614194722475\n",
      "20541 1891 0.09205978287327783\n"
     ]
    }
   ],
   "source": [
    "heshestats('him', 'her')"
   ]
  },
  {
   "cell_type": "code",
   "execution_count": 158,
   "metadata": {},
   "outputs": [
    {
     "name": "stdout",
     "output_type": "stream",
     "text": [
      "2431 990 0.4072398190045249\n",
      "7280 3629 0.498489010989011\n",
      "6874 3336 0.4853069537387256\n",
      "2440 191 0.07827868852459016\n"
     ]
    }
   ],
   "source": [
    "heshestats('man', 'woman')"
   ]
  },
  {
   "cell_type": "code",
   "execution_count": 9,
   "metadata": {},
   "outputs": [
    {
     "data": {
      "text/plain": [
       "(52, 205, 218)"
      ]
     },
     "execution_count": 9,
     "metadata": {},
     "output_type": "execute_result"
    }
   ],
   "source": [
    "len(pairs), len(proflist), len(gender_specific)"
   ]
  },
  {
   "cell_type": "code",
   "execution_count": 10,
   "metadata": {},
   "outputs": [
    {
     "data": {
      "text/plain": [
       "16581"
      ]
     },
     "execution_count": 10,
     "metadata": {},
     "output_type": "execute_result"
    }
   ],
   "source": [
    "vocab = set(mpol.wv.vocab)\n",
    "for m in [mpol, mmov, mbooks, msports]:\n",
    "    vocab &= set(m.wv.vocab)\n",
    "len(vocab)"
   ]
  },
  {
   "cell_type": "code",
   "execution_count": 11,
   "metadata": {},
   "outputs": [
    {
     "data": {
      "text/plain": [
       "5573"
      ]
     },
     "execution_count": 11,
     "metadata": {},
     "output_type": "execute_result"
    }
   ],
   "source": [
    "vocab_all = set(vocab)\n",
    "for m in [mpol_s, mbks_s, mmov_s, mspts_s] + \\\n",
    "[mpol_b, mbks_b, mmov_b, mspts_b] + \\\n",
    "[mpol_c, mbks_c, mmov_c, mspts_c]:\n",
    "    vocab_all &= set(m.wv.vocab)\n",
    "len(vocab_all)"
   ]
  },
  {
   "cell_type": "code",
   "execution_count": 12,
   "metadata": {},
   "outputs": [],
   "source": [
    "vocab2 = vocab_all"
   ]
  },
  {
   "cell_type": "code",
   "execution_count": 13,
   "metadata": {},
   "outputs": [
    {
     "data": {
      "text/plain": [
       "(16581, 5573)"
      ]
     },
     "execution_count": 13,
     "metadata": {},
     "output_type": "execute_result"
    }
   ],
   "source": [
    "len(vocab), len(vocab2)"
   ]
  },
  {
   "cell_type": "code",
   "execution_count": 14,
   "metadata": {},
   "outputs": [],
   "source": [
    "grammar = ['a', 'an', 'the', \\\n",
    "           'for', 'and', 'nor', 'but', 'or', 'yet', 'so', \\\n",
    "           'after', 'as', 'before', 'if', 'inasmuch', 'now', \\\n",
    "           'once', 'since', 'supposing', 'though', 'until', \\\n",
    "           'whenever', 'whereas', 'wherever', 'which', \\\n",
    "           'although', 'because', 'even', 'lest', 'both', 'either', \\\n",
    "           'hardly', 'when', 'neither', 'than', 'whether', \\\n",
    "           'consequently', 'finally', 'furthermore', 'hence', \\\n",
    "           'however', 'incidentally', 'indeed', 'instead', 'likewise', \\\n",
    "           'meanwhile', 'about', 'above', 'across', 'after', 'ago', \\\n",
    "           'at', 'below', 'by', 'during', 'for', 'in', \\\n",
    "           'on', 'over', 'past', 'since', 'through', 'to', \\\n",
    "           'up', 'amid', 'atop', 'onto', \\\n",
    "           'throughout', 'upon', 'within', 'without']"
   ]
  },
  {
   "cell_type": "code",
   "execution_count": 78,
   "metadata": {},
   "outputs": [],
   "source": [
    "with open('grammar.csv', mode='w') as f:\n",
    "    writer = csv.writer(f, delimiter=',')\n",
    "    writer.writerow(grammar)"
   ]
  },
  {
   "cell_type": "code",
   "execution_count": 79,
   "metadata": {},
   "outputs": [],
   "source": [
    "with open('grammar.csv') as csv_file:\n",
    "    grammar = csv_file.read().split(\",\")"
   ]
  },
  {
   "cell_type": "code",
   "execution_count": 64,
   "metadata": {},
   "outputs": [
    {
     "data": {
      "text/plain": [
       "(393, 2010, 70)"
      ]
     },
     "execution_count": 64,
     "metadata": {},
     "output_type": "execute_result"
    }
   ],
   "source": [
    "len(adjectives), len(cities), len(grammar)"
   ]
  },
  {
   "cell_type": "markdown",
   "metadata": {},
   "source": [
    "# Projection Bias"
   ]
  },
  {
   "cell_type": "code",
   "execution_count": 165,
   "metadata": {},
   "outputs": [
    {
     "data": {
      "text/plain": [
       "Text(0.5, 1.0, 'Explained Variance vs Component Number (Random)')"
      ]
     },
     "execution_count": 165,
     "metadata": {},
     "output_type": "execute_result"
    },
    {
     "data": {
      "image/png": "[encoded data removed]",
      "text/plain": [
       "<Figure size 432x288 with 1 Axes>"
      ]
     },
     "metadata": {
      "needs_background": "light"
     },
     "output_type": "display_data"
    }
   ],
   "source": [
    "pca_r = PCA(n_components = 10)\n",
    "pca_r.fit(np.random.rand(70,100))\n",
    "plt.bar(range(10), pca_r.explained_variance_ratio_)\n",
    "plt.title(\"Explained Variance vs Component Number (Random)\")"
   ]
  },
  {
   "cell_type": "code",
   "execution_count": 20,
   "metadata": {},
   "outputs": [
    {
     "name": "stdout",
     "output_type": "stream",
     "text": [
      "0.34343678\n"
     ]
    },
    {
     "data": {
      "image/png": "[encoded data removed]",
      "text/plain": [
       "<Figure size 432x288 with 1 Axes>"
      ]
     },
     "metadata": {
      "needs_background": "light"
     },
     "output_type": "display_data"
    }
   ],
   "source": [
    "gpol = getg(mpol, \"Gender Pairs - Politics\", True)"
   ]
  },
  {
   "cell_type": "code",
   "execution_count": 21,
   "metadata": {},
   "outputs": [],
   "source": [
    "def getg(m):\n",
    "    matrix = []\n",
    "    for a, b in pairs:\n",
    "        if a not in m.wv.vocab or b not in m.wv.vocab:\n",
    "            continue\n",
    "        center = (m.wv.get_vector(a) + m.wv.get_vector(b))/2\n",
    "        matrix.append(m.wv.get_vector(a) - center)\n",
    "        matrix.append(m.wv.get_vector(b) - center)\n",
    "    matrix = np.array(matrix)\n",
    "    p = PCA(n_components = 10)\n",
    "    p.fit(matrix)\n",
    "    print(p.explained_variance_ratio_[0])\n",
    "#         plt.bar(range(10), p.explained_variance_ratio_)\n",
    "#         plt.title(\"Explained Variance vs Component Number (\" + t + \")\")\n",
    "    return p.components_[0]"
   ]
  },
  {
   "cell_type": "code",
   "execution_count": 135,
   "metadata": {},
   "outputs": [],
   "source": [
    "def gproj2(g1, g2, m, w1):\n",
    "    wvec = m.wv.get_vector(w1)\n",
    "    # g = project wvec onto g1, g2 subspace\n",
    "    A = np.hstack((g1.reshape(100,1),g2.reshape(100,1)))\n",
    "    P = A @ np.linalg.inv(A.T @ A) @ A.T\n",
    "    g = P @ wvec\n",
    "    p = np.dot(g, wvec)/(np.linalg.norm(g)*np.linalg.norm(wvec))\n",
    "    return p"
   ]
  },
  {
   "cell_type": "code",
   "execution_count": 136,
   "metadata": {},
   "outputs": [
    {
     "name": "stdout",
     "output_type": "stream",
     "text": [
      "0.3386617\n",
      "though          0.00 \t\t chairman        0.87\n",
      "proper          0.00 \t\t democrat        0.85\n",
      "translate       0.00 \t\t speaker         0.81\n",
      "combined        0.01 \t\t chief           0.79\n",
      "modernity       0.01 \t\t james           0.79\n",
      "fears           0.01 \t\t lawyer          0.78\n",
      "moral           0.01 \t\t jr              0.78\n",
      "excess          0.01 \t\t member          0.78\n",
      "meaningful      0.01 \t\t leader          0.78\n",
      "collection      0.01 \t\t secretary       0.77\n",
      "sport           0.01 \t\t representative  0.77\n",
      "dragging        0.01 \t\t john            0.76\n",
      "practices       0.01 \t\t david           0.76\n",
      "shifting        0.01 \t\t congressman     0.75\n",
      "expenses        0.01 \t\t deputy          0.75\n"
     ]
    }
   ],
   "source": [
    "gpol_s1, gpol_s2 = getg(mpol_s)\n",
    "res = sorted([(x, gproj2(gpol_s1, gpol_s2, mpol_s, x)) for x in filter(lambda x: x in vocab2, vocab2)], key=lambda x: x[1])\n",
    "for i in range(15):\n",
    "    print(f\"{res[i][0].ljust(15)} {res[i][1]:.2f} \\t\\t {res[-i-1][0].ljust(15)} {res[-i-1][1]:.2f}\")"
   ]
  },
  {
   "cell_type": "code",
   "execution_count": 21,
   "metadata": {},
   "outputs": [],
   "source": [
    "def gdictadd(models):\n",
    "    for i in range(len(models)):\n",
    "        gdict[list(gdict)[i]].append(getg(models[i]))"
   ]
  },
  {
   "cell_type": "code",
   "execution_count": 87,
   "metadata": {},
   "outputs": [
    {
     "name": "stdout",
     "output_type": "stream",
     "text": [
      "0.34343678\n",
      "0.5915069\n",
      "0.52675015\n",
      "0.35275307\n",
      "0.31522945\n",
      "0.78374213\n",
      "0.62817353\n",
      "0.49360958\n",
      "0.31965494\n",
      "0.8359838\n",
      "0.7387123\n",
      "0.51820844\n",
      "0.32400513\n",
      "0.768514\n",
      "0.6437023\n",
      "0.48822078\n"
     ]
    }
   ],
   "source": [
    "labels = [\"original\", \"summary (TextRank)\", \"summary (Centroid-BOW)\", \"summary (control)\"]\n",
    "gdict = {\"politics\": [], \"books\": [], \"movies\": [], \"sports\": []}\n",
    "gdictadd([mpol, mbooks, mmov, msports])\n",
    "gdictadd([mpol_s, mbks_s, mmov_s, mspts_s])\n",
    "gdictadd([mpol_b, mbks_b, mmov_b, mspts_b])\n",
    "gdictadd([mpol_c, mbks_c, mmov_c, mspts_c])"
   ]
  },
  {
   "cell_type": "code",
   "execution_count": 20,
   "metadata": {},
   "outputs": [],
   "source": [
    "def mdictadd(models):\n",
    "    for i in range(len(models)):\n",
    "        mdict[list(mdict)[i]].append(models[i])"
   ]
  },
  {
   "cell_type": "code",
   "execution_count": 86,
   "metadata": {},
   "outputs": [],
   "source": [
    "mdict = {\"politics\": [], \"books\": [], \"movies\": [], \"sports\": []}\n",
    "mdictadd([mpol, mbooks, mmov, msports])\n",
    "mdictadd([mpol_s, mbks_s, mmov_s, mspts_s])\n",
    "mdictadd([mpol_b, mbks_b, mmov_b, mspts_b])\n",
    "mdictadd([mpol_c, mbks_c, mmov_c, mspts_c])"
   ]
  },
  {
   "cell_type": "code",
   "execution_count": 62,
   "metadata": {},
   "outputs": [],
   "source": [
    "def gproj(g, m, w1):\n",
    "    wvec = m.wv.get_vector(w1)\n",
    "    p = np.dot(g, wvec)/(np.linalg.norm(g)*np.linalg.norm(wvec))\n",
    "    return p"
   ]
  },
  {
   "cell_type": "code",
   "execution_count": 63,
   "metadata": {},
   "outputs": [],
   "source": [
    "def bias(g, m, vocab, wordlist):\n",
    "    b = 0\n",
    "    l = list(filter(lambda x: x in vocab, wordlist))\n",
    "    for x in l:\n",
    "        b += abs(gproj(g, m, x))\n",
    "    return b/len(l)"
   ]
  },
  {
   "cell_type": "code",
   "execution_count": null,
   "metadata": {},
   "outputs": [],
   "source": [
    "def bias(g, m, vocab, wordlist):\n",
    "    b = 0\n",
    "    l = list(filter(lambda x: x in vocab, wordlist))\n",
    "    for x in l:\n",
    "        b += abs(gproj(g, m, x))\n",
    "    return b/len(l)"
   ]
  },
  {
   "cell_type": "code",
   "execution_count": 88,
   "metadata": {},
   "outputs": [
    {
     "name": "stdout",
     "output_type": "stream",
     "text": [
      "original\n",
      "  politics 0.099 0.066 0.072 0.054 0.120\n",
      "     books 0.096 0.069 0.077 0.037 0.155\n",
      "    movies 0.086 0.092 0.089 0.037 0.173\n",
      "    sports 0.327 0.175 0.258 0.141 0.372\n"
     ]
    }
   ],
   "source": [
    "print(labels[0])\n",
    "for i in gdict:\n",
    "    print(\"%10s\" % i, \\\n",
    "          \"%.3f\" % bias(gdict[i][0], mdict[i][0], vocab, proflist), \\\n",
    "          \"%.3f\" % bias(gdict[i][0], mdict[i][0], vocab, adjectives), \\\n",
    "          \"%.3f\" % bias(gdict[i][0], mdict[i][0], vocab, cities), \\\n",
    "          \"%.3f\" % bias(gdict[i][0], mdict[i][0], vocab, grammar), \\\n",
    "          \"%.3f\" % bias(gdict[i][0], mdict[i][0], vocab, gender_specific))"
   ]
  },
  {
   "cell_type": "code",
   "execution_count": 81,
   "metadata": {},
   "outputs": [
    {
     "name": "stdout",
     "output_type": "stream",
     "text": [
      "summary (TextRank)\n",
      "  politics 0.392 0.111 0.294 0.105 0.269\n",
      "     books 0.052 0.051 0.044 0.036 0.161\n",
      "    movies 0.083 0.089 0.064 0.063 0.192\n",
      "    sports 0.303 0.154 0.182 0.156 0.283\n"
     ]
    }
   ],
   "source": [
    "print(labels[1])\n",
    "for i in gdict:\n",
    "    print(\"%10s\" % i, \\\n",
    "          \"%.3f\" % bias(gdict[i][1], mdict[i][1], vocab2, proflist), \\\n",
    "          \"%.3f\" % bias(gdict[i][1], mdict[i][1], vocab2, adjectives), \\\n",
    "          \"%.3f\" % bias(gdict[i][1], mdict[i][1], vocab2, cities), \\\n",
    "          \"%.3f\" % bias(gdict[i][1], mdict[i][1], vocab2, grammar), \\\n",
    "          \"%.3f\" % bias(gdict[i][1], mdict[i][1], vocab2, gender_specific))"
   ]
  },
  {
   "cell_type": "code",
   "execution_count": 82,
   "metadata": {},
   "outputs": [
    {
     "name": "stdout",
     "output_type": "stream",
     "text": [
      "summary (Centroid-BOW)\n",
      "  politics 0.512 0.152 0.446 0.101 0.405\n",
      "     books 0.048 0.054 0.046 0.040 0.163\n",
      "    movies 0.069 0.077 0.067 0.053 0.194\n",
      "    sports 0.337 0.181 0.209 0.161 0.298\n"
     ]
    }
   ],
   "source": [
    "print(labels[2])\n",
    "for i in gdict:\n",
    "    print(\"%10s\" % i, \\\n",
    "          \"%.3f\" % bias(gdict[i][2], mdict[i][2], vocab2, proflist), \\\n",
    "          \"%.3f\" % bias(gdict[i][2], mdict[i][2], vocab2, adjectives), \\\n",
    "          \"%.3f\" % bias(gdict[i][2], mdict[i][2], vocab2, cities), \\\n",
    "          \"%.3f\" % bias(gdict[i][2], mdict[i][2], vocab2, grammar), \\\n",
    "          \"%.3f\" % bias(gdict[i][2], mdict[i][2], vocab2, gender_specific))"
   ]
  },
  {
   "cell_type": "code",
   "execution_count": 83,
   "metadata": {},
   "outputs": [
    {
     "name": "stdout",
     "output_type": "stream",
     "text": [
      "summary (control)\n",
      "  politics 0.183 0.091 0.143 0.080 0.123\n",
      "     books 0.046 0.045 0.037 0.046 0.137\n",
      "    movies 0.066 0.069 0.051 0.052 0.172\n",
      "    sports 0.246 0.115 0.145 0.115 0.197\n"
     ]
    }
   ],
   "source": [
    "print(labels[3])\n",
    "for i in gdict:\n",
    "    print(\"%10s\" % i, \\\n",
    "          \"%.3f\" % bias(gdict[i][3], mdict[i][3], vocab2, proflist), \\\n",
    "          \"%.3f\" % bias(gdict[i][3], mdict[i][3], vocab2, adjectives), \\\n",
    "          \"%.3f\" % bias(gdict[i][3], mdict[i][3], vocab2, cities), \\\n",
    "          \"%.3f\" % bias(gdict[i][3], mdict[i][3], vocab2, grammar), \\\n",
    "          \"%.3f\" % bias(gdict[i][3], mdict[i][3], vocab2, gender_specific))"
   ]
  },
  {
   "cell_type": "code",
   "execution_count": 28,
   "metadata": {},
   "outputs": [
    {
     "name": "stdout",
     "output_type": "stream",
     "text": [
      "0.34343678\n",
      "her        -0.50 \t\t mr         0.43\n",
      "women      -0.47 \t\t ouster     0.39\n",
      "ms         -0.46 \t\t vladimir   0.37\n",
      "she        -0.46 \t\t himself    0.36\n",
      "feeding    -0.37 \t\t leader     0.35\n",
      "disabled   -0.35 \t\t successor  0.35\n",
      "herself    -0.35 \t\t loyalists  0.35\n",
      "mental     -0.34 \t\t protégé    0.34\n",
      "female     -0.34 \t\t predecessor 0.33\n",
      "classroom  -0.32 \t\t hugo       0.33\n",
      "0.5915069\n",
      "mr         -0.45 \t\t her        0.60\n",
      "baseball   -0.40 \t\t ms         0.58\n",
      "himself    -0.40 \t\t herself    0.57\n",
      "james      -0.37 \t\t she        0.51\n",
      "military   -0.36 \t\t husband    0.47\n",
      "john       -0.36 \t\t girl       0.43\n",
      "ford       -0.36 \t\t mary       0.40\n",
      "game       -0.35 \t\t women      0.40\n",
      "al         -0.35 \t\t baby       0.40\n",
      "henry      -0.34 \t\t sex        0.40\n",
      "0.52675015\n",
      "steven     -0.52 \t\t ms         0.63\n",
      "george     -0.48 \t\t her        0.52\n",
      "mr         -0.47 \t\t marie      0.52\n",
      "lucas      -0.42 \t\t nicole     0.51\n",
      "himself    -0.40 \t\t herself    0.51\n",
      "franchise  -0.38 \t\t actress    0.47\n",
      "bush       -0.38 \t\t queen      0.45\n",
      "kong       -0.38 \t\t woman      0.45\n",
      "romero     -0.37 \t\t she        0.44\n",
      "walt       -0.36 \t\t dress      0.44\n",
      "0.35275307\n",
      "fielding   -0.48 \t\t ms         0.66\n",
      "consistently -0.44 \t\t mrs        0.65\n",
      "solid      -0.43 \t\t husband    0.64\n",
      "shaky      -0.40 \t\t sang       0.62\n",
      "switch     -0.40 \t\t house      0.58\n",
      "hitting    -0.39 \t\t local      0.58\n",
      "throwing   -0.38 \t\t store      0.58\n",
      "hernández  -0.38 \t\t sister     0.57\n",
      "crucial    -0.38 \t\t ann        0.56\n",
      "starting   -0.37 \t\t songs      0.56\n"
     ]
    }
   ],
   "source": [
    "gpol = getg(mpol)\n",
    "res = sorted([(x, gproj(gpol, mpol, x)) for x in filter(lambda x: x in vocab, vocab)], key=lambda x: x[1])\n",
    "for i in range(10):\n",
    "    print(f\"{res[i][0].ljust(10)} {res[i][1]:.2f} \\t\\t {res[-i-1][0].ljust(10)} {res[-i-1][1]:.2f}\")\n",
    "gbooks = getg(mbooks)\n",
    "res = sorted([(x, gproj(gbooks, mbooks, x)) for x in filter(lambda x: x in vocab, vocab)], key=lambda x: x[1])\n",
    "for i in range(10):\n",
    "    print(f\"{res[i][0].ljust(10)} {res[i][1]:.2f} \\t\\t {res[-i-1][0].ljust(10)} {res[-i-1][1]:.2f}\")\n",
    "gmov = getg(mmov)\n",
    "res = sorted([(x, gproj(gmov, mmov, x)) for x in filter(lambda x: x in vocab, vocab)], key=lambda x: x[1])\n",
    "for i in range(10):\n",
    "    print(f\"{res[i][0].ljust(10)} {res[i][1]:.2f} \\t\\t {res[-i-1][0].ljust(10)} {res[-i-1][1]:.2f}\")\n",
    "gsports = getg(msports)\n",
    "res = sorted([(x, gproj(gsports, msports, x)) for x in filter(lambda x: x in vocab, vocab)], key=lambda x: x[1])\n",
    "for i in range(10):\n",
    "    print(f\"{res[i][0].ljust(10)} {res[i][1]:.2f} \\t\\t {res[-i-1][0].ljust(10)} {res[-i-1][1]:.2f}\")"
   ]
  },
  {
   "cell_type": "code",
   "execution_count": 35,
   "metadata": {},
   "outputs": [
    {
     "name": "stdout",
     "output_type": "stream",
     "text": [
      "0.31522945\n",
      "these      -0.52 \t\t chairman   0.80\n",
      "large      -0.44 \t\t secretary  0.78\n",
      "low        -0.43 \t\t chief      0.77\n",
      "without    -0.42 \t\t deputy     0.75\n",
      "their      -0.40 \t\t leader     0.73\n",
      "different  -0.40 \t\t paul       0.67\n",
      "small      -0.39 \t\t president  0.67\n",
      "making     -0.36 \t\t king       0.66\n",
      "pay        -0.36 \t\t director   0.66\n",
      "such       -0.36 \t\t general    0.66\n",
      "0.78374213\n",
      "mr         -0.38 \t\t her        0.63\n",
      "he         -0.32 \t\t she        0.47\n",
      "his        -0.30 \t\t herself    0.46\n",
      "administration -0.28 \t\t husband    0.42\n",
      "iraq       -0.27 \t\t baby       0.37\n",
      "president  -0.26 \t\t girl       0.35\n",
      "military   -0.26 \t\t children   0.31\n",
      "bush       -0.26 \t\t mother     0.30\n",
      "nations    -0.26 \t\t sister     0.30\n",
      "history    -0.24 \t\t love       0.29\n",
      "0.62817353\n",
      "her        -0.57 \t\t disney     0.41\n",
      "herself    -0.47 \t\t pictures   0.38\n",
      "she        -0.44 \t\t production 0.35\n",
      "husband    -0.41 \t\t studio     0.34\n",
      "mother     -0.39 \t\t mr         0.34\n",
      "ms         -0.38 \t\t producers  0.34\n",
      "girl       -0.38 \t\t entertainment 0.33\n",
      "woman      -0.36 \t\t universal  0.32\n",
      "daughter   -0.35 \t\t company    0.32\n",
      "single     -0.34 \t\t media      0.31\n",
      "0.49360958\n",
      "mr         -0.61 \t\t his        0.58\n",
      "police     -0.56 \t\t he         0.56\n",
      "officer    -0.55 \t\t regular    0.50\n",
      "department -0.54 \t\t start      0.48\n",
      "wrote      -0.54 \t\t complete   0.46\n",
      "chief      -0.53 \t\t straight   0.45\n",
      "lawyer     -0.52 \t\t injury     0.44\n",
      "director   -0.51 \t\t twice      0.43\n",
      "court      -0.51 \t\t finish     0.41\n",
      "president  -0.51 \t\t spot       0.41\n"
     ]
    }
   ],
   "source": [
    "gpol_s = getg(mpol_s)\n",
    "res = sorted([(x, gproj(gpol_s, mpol_s, x)) for x in filter(lambda x: x in vocab2, vocab2)], key=lambda x: x[1])\n",
    "for i in range(10):\n",
    "    print(f\"{res[i][0].ljust(10)} {res[i][1]:.2f} \\t\\t {res[-i-1][0].ljust(10)} {res[-i-1][1]:.2f}\")\n",
    "gbks_s = getg(mbks_s)\n",
    "res = sorted([(x, gproj(gbks_s, mbks_s, x)) for x in filter(lambda x: x in vocab2, vocab2)], key=lambda x: x[1])\n",
    "for i in range(10):\n",
    "    print(f\"{res[i][0].ljust(10)} {res[i][1]:.2f} \\t\\t {res[-i-1][0].ljust(10)} {res[-i-1][1]:.2f}\")\n",
    "gmov_s = getg(mmov_s)\n",
    "res = sorted([(x, gproj(gmov_s, mmov_s, x)) for x in filter(lambda x: x in vocab2, vocab2)], key=lambda x: x[1])\n",
    "for i in range(10):\n",
    "    print(f\"{res[i][0].ljust(10)} {res[i][1]:.2f} \\t\\t {res[-i-1][0].ljust(10)} {res[-i-1][1]:.2f}\")\n",
    "gspts_s = getg(mspts_s)\n",
    "res = sorted([(x, gproj(gspts_s, mspts_s, x)) for x in filter(lambda x: x in vocab2, vocab2)], key=lambda x: x[1])\n",
    "for i in range(10):\n",
    "    print(f\"{res[i][0].ljust(10)} {res[i][1]:.2f} \\t\\t {res[-i-1][0].ljust(10)} {res[-i-1][1]:.2f}\")"
   ]
  },
  {
   "cell_type": "code",
   "execution_count": 36,
   "metadata": {},
   "outputs": [
    {
     "name": "stdout",
     "output_type": "stream",
     "text": [
      "0.31965494\n",
      "these      -0.48 \t\t chairman   0.92\n",
      "without    -0.41 \t\t democrat   0.87\n",
      "their      -0.41 \t\t james      0.84\n",
      "prices     -0.38 \t\t lawyer     0.83\n",
      "real       -0.36 \t\t representative 0.83\n",
      "weapons    -0.35 \t\t jr         0.82\n",
      "large      -0.35 \t\t peter      0.81\n",
      "oil        -0.35 \t\t secretary  0.81\n",
      "further    -0.33 \t\t john       0.81\n",
      "enough     -0.33 \t\t joseph     0.80\n",
      "0.8359838\n",
      "her        -0.63 \t\t mr         0.44\n",
      "she        -0.50 \t\t his        0.41\n",
      "husband    -0.44 \t\t he         0.37\n",
      "herself    -0.41 \t\t bush       0.33\n",
      "girl       -0.30 \t\t administration 0.31\n",
      "woman      -0.29 \t\t himself    0.29\n",
      "ms         -0.29 \t\t president  0.24\n",
      "baby       -0.28 \t\t nations    0.23\n",
      "children   -0.28 \t\t states     0.23\n",
      "mother     -0.27 \t\t clinton    0.21\n",
      "0.7387123\n",
      "her        -0.60 \t\t mr         0.43\n",
      "she        -0.51 \t\t disney     0.34\n",
      "herself    -0.48 \t\t his        0.32\n",
      "girl       -0.44 \t\t studio     0.28\n",
      "husband    -0.41 \t\t rights     0.28\n",
      "woman      -0.41 \t\t company    0.28\n",
      "mother     -0.35 \t\t major      0.28\n",
      "ms         -0.34 \t\t artists    0.27\n",
      "child      -0.33 \t\t marketing  0.27\n",
      "baby       -0.32 \t\t independent 0.27\n",
      "0.51820844\n",
      "chief      -0.64 \t\t he         0.62\n",
      "executive  -0.62 \t\t his        0.51\n",
      "department -0.62 \t\t start      0.49\n",
      "court      -0.61 \t\t regular    0.46\n",
      "president  -0.60 \t\t starts     0.45\n",
      "director   -0.59 \t\t injury     0.45\n",
      "officer    -0.59 \t\t six        0.44\n",
      "chairman   -0.59 \t\t save       0.44\n",
      "operating  -0.58 \t\t seven      0.43\n",
      "co         -0.58 \t\t career     0.43\n"
     ]
    }
   ],
   "source": [
    "gpol_b = getg(mpol_b)\n",
    "res = sorted([(x, gproj(gpol_b, mpol_b, x)) for x in filter(lambda x: x in vocab2, vocab2)], key=lambda x: x[1])\n",
    "for i in range(10):\n",
    "    print(f\"{res[i][0].ljust(10)} {res[i][1]:.2f} \\t\\t {res[-i-1][0].ljust(10)} {res[-i-1][1]:.2f}\")\n",
    "gbks_b = getg(mbks_b)\n",
    "res = sorted([(x, gproj(gbks_b, mbks_b, x)) for x in filter(lambda x: x in vocab2, vocab2)], key=lambda x: x[1])\n",
    "for i in range(10):\n",
    "    print(f\"{res[i][0].ljust(10)} {res[i][1]:.2f} \\t\\t {res[-i-1][0].ljust(10)} {res[-i-1][1]:.2f}\")\n",
    "gmov_b = getg(mmov_b)\n",
    "res = sorted([(x, gproj(gmov_b, mmov_b, x)) for x in filter(lambda x: x in vocab2, vocab2)], key=lambda x: x[1])\n",
    "for i in range(10):\n",
    "    print(f\"{res[i][0].ljust(10)} {res[i][1]:.2f} \\t\\t {res[-i-1][0].ljust(10)} {res[-i-1][1]:.2f}\")\n",
    "gspts_b = getg(mspts_b)\n",
    "res = sorted([(x, gproj(gspts_b, mspts_b, x)) for x in filter(lambda x: x in vocab2, vocab2)], key=lambda x: x[1])\n",
    "for i in range(10):\n",
    "    print(f\"{res[i][0].ljust(10)} {res[i][1]:.2f} \\t\\t {res[-i-1][0].ljust(10)} {res[-i-1][1]:.2f}\")"
   ]
  },
  {
   "cell_type": "code",
   "execution_count": 37,
   "metadata": {},
   "outputs": [
    {
     "name": "stdout",
     "output_type": "stream",
     "text": [
      "0.32400513\n",
      "mail       -0.37 \t\t head       0.52\n",
      "or         -0.35 \t\t chairman   0.51\n",
      "high       -0.35 \t\t union      0.51\n",
      "got        -0.33 \t\t president  0.50\n",
      "few        -0.32 \t\t leadership 0.48\n",
      "com        -0.32 \t\t secretary  0.48\n",
      "young      -0.31 \t\t chief      0.47\n",
      "children   -0.31 \t\t powers     0.47\n",
      "isn        -0.29 \t\t coalition  0.47\n",
      "these      -0.28 \t\t leader     0.47\n",
      "0.768514\n",
      "her        -0.61 \t\t mr         0.38\n",
      "herself    -0.46 \t\t his        0.31\n",
      "she        -0.46 \t\t war        0.29\n",
      "husband    -0.41 \t\t he         0.28\n",
      "children   -0.30 \t\t bush       0.27\n",
      "love       -0.28 \t\t civil      0.24\n",
      "ms         -0.27 \t\t administration 0.23\n",
      "mother     -0.27 \t\t ii         0.23\n",
      "girl       -0.27 \t\t iraq       0.22\n",
      "woman      -0.27 \t\t policy     0.20\n",
      "0.6437023\n",
      "disney     -0.38 \t\t her        0.55\n",
      "mr         -0.37 \t\t she        0.47\n",
      "major      -0.34 \t\t herself    0.41\n",
      "studio     -0.34 \t\t husband    0.41\n",
      "company    -0.33 \t\t girl       0.40\n",
      "entertainment -0.33 \t\t woman      0.35\n",
      "distribution -0.33 \t\t mother     0.34\n",
      "pictures   -0.32 \t\t hair       0.31\n",
      "executives -0.32 \t\t daughter   0.29\n",
      "independent -0.32 \t\t baby       0.29\n",
      "0.48822078\n",
      "athletic   -0.48 \t\t he         0.64\n",
      "co         -0.48 \t\t his        0.61\n",
      "director   -0.48 \t\t injury     0.46\n",
      "president  -0.46 \t\t throwing   0.43\n",
      "chief      -0.46 \t\t full       0.41\n",
      "media      -0.45 \t\t surgery    0.41\n",
      "relations  -0.45 \t\t complete   0.41\n",
      "lives      -0.44 \t\t save       0.39\n",
      "states     -0.44 \t\t pitch      0.39\n",
      "executive  -0.44 \t\t career     0.39\n"
     ]
    }
   ],
   "source": [
    "gpol_c = getg(mpol_c)\n",
    "res = sorted([(x, gproj(gpol_c, mpol_c, x)) for x in filter(lambda x: x in vocab2, vocab2)], key=lambda x: x[1])\n",
    "for i in range(10):\n",
    "    print(f\"{res[i][0].ljust(10)} {res[i][1]:.2f} \\t\\t {res[-i-1][0].ljust(10)} {res[-i-1][1]:.2f}\")\n",
    "gbks_c = getg(mbks_c)\n",
    "res = sorted([(x, gproj(gbks_c, mbks_c, x)) for x in filter(lambda x: x in vocab2, vocab2)], key=lambda x: x[1])\n",
    "for i in range(10):\n",
    "    print(f\"{res[i][0].ljust(10)} {res[i][1]:.2f} \\t\\t {res[-i-1][0].ljust(10)} {res[-i-1][1]:.2f}\")\n",
    "gmov_c = getg(mmov_c)\n",
    "res = sorted([(x, gproj(gmov_c, mmov_c, x)) for x in filter(lambda x: x in vocab2, vocab2)], key=lambda x: x[1])\n",
    "for i in range(10):\n",
    "    print(f\"{res[i][0].ljust(10)} {res[i][1]:.2f} \\t\\t {res[-i-1][0].ljust(10)} {res[-i-1][1]:.2f}\")\n",
    "gspts_c = getg(mspts_c)\n",
    "res = sorted([(x, gproj(gspts_c, mspts_c, x)) for x in filter(lambda x: x in vocab2, vocab2)], key=lambda x: x[1])\n",
    "for i in range(10):\n",
    "    print(f\"{res[i][0].ljust(10)} {res[i][1]:.2f} \\t\\t {res[-i-1][0].ljust(10)} {res[-i-1][1]:.2f}\")"
   ]
  },
  {
   "cell_type": "code",
   "execution_count": 85,
   "metadata": {},
   "outputs": [
    {
     "data": {
      "text/plain": [
       "['a',\n",
       " 'about',\n",
       " 'above',\n",
       " 'across',\n",
       " 'after',\n",
       " 'after',\n",
       " 'ago',\n",
       " 'although',\n",
       " 'amid',\n",
       " 'an',\n",
       " 'and',\n",
       " 'as',\n",
       " 'at',\n",
       " 'atop',\n",
       " 'because']"
      ]
     },
     "execution_count": 85,
     "metadata": {},
     "output_type": "execute_result"
    }
   ],
   "source": [
    "sorted(grammar)[:15]"
   ]
  },
  {
   "cell_type": "markdown",
   "metadata": {},
   "source": [
    "## Plot PCA"
   ]
  },
  {
   "cell_type": "code",
   "execution_count": 38,
   "metadata": {},
   "outputs": [],
   "source": [
    "# plot top 5 pos and top 5 neg and top 10 professions"
   ]
  },
  {
   "cell_type": "code",
   "execution_count": 89,
   "metadata": {},
   "outputs": [],
   "source": [
    "from sklearn.preprocessing import StandardScaler\n",
    "scaler = StandardScaler()"
   ]
  },
  {
   "cell_type": "code",
   "execution_count": 90,
   "metadata": {},
   "outputs": [],
   "source": [
    "matrix = []\n",
    "for x in vocab:\n",
    "    matrix.append(mpol.wv.get_vector(x))\n",
    "matrix = np.array(matrix)"
   ]
  },
  {
   "cell_type": "code",
   "execution_count": 91,
   "metadata": {},
   "outputs": [
    {
     "data": {
      "text/plain": [
       "PCA(copy=True, iterated_power='auto', n_components=10, random_state=None,\n",
       "  svd_solver='auto', tol=0.0, whiten=False)"
      ]
     },
     "execution_count": 91,
     "metadata": {},
     "output_type": "execute_result"
    }
   ],
   "source": [
    "scaler.fit_transform(matrix)\n",
    "p = PCA(n_components = 10)\n",
    "p.fit(matrix)"
   ]
  },
  {
   "cell_type": "code",
   "execution_count": 94,
   "metadata": {},
   "outputs": [],
   "source": [
    "def proj(a, b):\n",
    "    p = np.dot(a, b)/(np.linalg.norm(a)*np.linalg.norm(b))\n",
    "    return p"
   ]
  },
  {
   "cell_type": "code",
   "execution_count": 102,
   "metadata": {},
   "outputs": [],
   "source": [
    "def getgs(m):\n",
    "    matrix = []\n",
    "    for a, b in pairs:\n",
    "        if a not in m.wv.vocab or b not in m.wv.vocab:\n",
    "            continue\n",
    "        center = (m.wv.get_vector(a) + m.wv.get_vector(b))/2\n",
    "        matrix.append(m.wv.get_vector(a) - center)\n",
    "        matrix.append(m.wv.get_vector(b) - center)\n",
    "    matrix = np.array(matrix)\n",
    "    p = PCA(n_components = 10)\n",
    "    p.fit(matrix)\n",
    "    print(p.explained_variance_ratio_[0])\n",
    "#         plt.bar(range(10), p.explained_variance_ratio_)\n",
    "#         plt.title(\"Explained Variance vs Component Number (\" + t + \")\")\n",
    "    return p.components_[0], p.components_[1]"
   ]
  },
  {
   "cell_type": "code",
   "execution_count": null,
   "metadata": {},
   "outputs": [],
   "source": [
    "# p.components_[0]\n",
    "words = ['her', 'him', 'mr', 'ms', 'father', 'mother', 'president', 'captain', 'professor', 'teacher', \\\n",
    "         'nurse', 'family', 'man', 'woman']\n",
    "gpol1, gpol2 = getgs(mpol)\n",
    "xs = [gproj(gpol1, mpol, x) for x in words]\n",
    "ys = [gproj(gpol2, mpol, x) for x in words]\n",
    "plt.plot(xs, ys, 'o')\n",
    "# label points\n",
    "for x,y,z in zip(xs,ys,words):\n",
    "    plt.annotate(z, # this is the text\n",
    "                 (x,y), # this is the point to label\n",
    "                 textcoords=\"offset points\", # how to position the text\n",
    "                 xytext=(0,10), # distance from text to points (x,y)\n",
    "                 ha='center') # horizontal alignment can be left, right or center\n",
    "plt.xticks(np.arange(-1,1,.25))\n",
    "plt.yticks(np.arange(-1,1,.25))\n",
    "plt.show()"
   ]
  },
  {
   "cell_type": "markdown",
   "metadata": {},
   "source": [
    "## Regression for bias testing"
   ]
  },
  {
   "cell_type": "code",
   "execution_count": 30,
   "metadata": {},
   "outputs": [],
   "source": [
    "def regress(g1, m1, g2, m2, wordlist):\n",
    "    x = np.array([gproj(g1, m1, w) for w in wordlist if w in m1.wv.vocab and w in m2.wv.vocab])\n",
    "    y = np.array([gproj(g2, m2, w) for w in wordlist if w in m1.wv.vocab and w in m2.wv.vocab])\n",
    "    slope, intercept, r_value, p_value, std_err = stats.linregress(x,y)\n",
    "    return slope, p_value"
   ]
  },
  {
   "cell_type": "code",
   "execution_count": 32,
   "metadata": {},
   "outputs": [
    {
     "name": "stdout",
     "output_type": "stream",
     "text": [
      "0.31522945\n"
     ]
    },
    {
     "data": {
      "text/plain": [
       "(0.7564479357792341, 1.1464826034410933e-07)"
      ]
     },
     "execution_count": 32,
     "metadata": {},
     "output_type": "execute_result"
    }
   ],
   "source": [
    "regress(gpol, mpol, getg(mpol_s), mpol_s, proflist)"
   ]
  },
  {
   "cell_type": "markdown",
   "metadata": {},
   "source": [
    "## Isolate gender subspace in sports"
   ]
  },
  {
   "cell_type": "code",
   "execution_count": 23,
   "metadata": {},
   "outputs": [
    {
     "name": "stdout",
     "output_type": "stream",
     "text": [
      "0.35275307\n"
     ]
    }
   ],
   "source": [
    "gsports = getg(msports)"
   ]
  },
  {
   "cell_type": "code",
   "execution_count": 144,
   "metadata": {},
   "outputs": [],
   "source": [
    "male = ['male', 'man', 'boy', 'boys', 'brother', 'brothers', 'he', 'him', 'son', 'sons', 'father', \\\n",
    "        'brothers', 'king', 'grandfather', 'uncle', 'himself', 'men', 'mr']"
   ]
  },
  {
   "cell_type": "code",
   "execution_count": 145,
   "metadata": {},
   "outputs": [],
   "source": [
    "female = [\"female\", \"woman\", \"girl\", \"girls\", \"sister\", 'sisters', \"she\", \"her\", \"daughter\", 'daughters', \\\n",
    "          \"mother\", 'sisters', 'queen', 'grandmother', 'herself', 'women', 'ms', 'mrs']"
   ]
  },
  {
   "cell_type": "code",
   "execution_count": 146,
   "metadata": {},
   "outputs": [],
   "source": [
    "shuffled = male + female\n",
    "shuffle(shuffled)"
   ]
  },
  {
   "cell_type": "code",
   "execution_count": 138,
   "metadata": {},
   "outputs": [],
   "source": [
    "def valid(g, m):\n",
    "    normal = abs(np.mean([gproj(g, m, w) for w in male]) - np.mean([gproj(g, m, w) for w in female]))\n",
    "    shuffleds = []\n",
    "    for i in range(100):\n",
    "        shuffled = male + female\n",
    "        shuffle(shuffled)\n",
    "        shuffleds.append(shuffled)\n",
    "    randomized = np.mean([abs(np.mean([gproj(g, m, w) for w in shuffled[:len(male)]]) \\\n",
    "                     - np.mean([gproj(g, m, w) for w in shuffled[len(male):]])) for shuffled in shuffleds])\n",
    "    return normal, randomized, normal-randomized"
   ]
  },
  {
   "cell_type": "code",
   "execution_count": 147,
   "metadata": {},
   "outputs": [
    {
     "name": "stdout",
     "output_type": "stream",
     "text": [
      "original\n",
      "  politics (0.3614776, 0.07001065, 0.29146695)\n",
      "     books (0.5090663, 0.07400261, 0.43506366)\n",
      "    movies (0.43309006, 0.0691234, 0.36396664)\n",
      "    sports (0.23272392, 0.054675065, 0.17804885)\n",
      "summary (TextRank)\n",
      "  politics (0.13173553, 0.05106164, 0.08067389)\n",
      "     books (0.25557855, 0.057970315, 0.19760823)\n",
      "    movies (0.28411356, 0.057401396, 0.22671217)\n",
      "    sports (0.08959454, 0.0538422, 0.03575234)\n",
      "summary (Centroid-BOW)\n",
      "  politics (0.01823011, 0.041701775, -0.023471665)\n",
      "     books (0.2816375, 0.055586576, 0.22605091)\n",
      "    movies (0.29447743, 0.05446414, 0.2400133)\n",
      "    sports (0.100510105, 0.05935163, 0.041158475)\n",
      "summary (control)\n",
      "  politics (0.15456088, 0.04477932, 0.10978156)\n",
      "     books (0.22588947, 0.054747853, 0.17114162)\n",
      "    movies (0.23845969, 0.055831954, 0.18262774)\n",
      "    sports (0.0883499, 0.04771875, 0.040631153)\n"
     ]
    }
   ],
   "source": [
    "print(labels[0])\n",
    "for i in mdict:\n",
    "    print(\"%10s\" % i, valid(gdict[i][0], mdict[i][0]))\n",
    "print(labels[1])\n",
    "for i in mdict:\n",
    "    print(\"%10s\" % i, valid(gdict[i][1], mdict[i][1]))\n",
    "print(labels[2])\n",
    "for i in mdict:\n",
    "    print(\"%10s\" % i, valid(gdict[i][2], mdict[i][2]))\n",
    "print(labels[3])\n",
    "for i in mdict:\n",
    "    print(\"%10s\" % i, valid(gdict[i][3], mdict[i][3]))"
   ]
  },
  {
   "cell_type": "code",
   "execution_count": 113,
   "metadata": {},
   "outputs": [
    {
     "data": {
      "text/plain": [
       "(0.3600691, 0.05375815, 0.30631095)"
      ]
     },
     "execution_count": 113,
     "metadata": {},
     "output_type": "execute_result"
    }
   ],
   "source": [
    "valid(gpol, mpol)"
   ]
  },
  {
   "cell_type": "code",
   "execution_count": 91,
   "metadata": {},
   "outputs": [
    {
     "name": "stdout",
     "output_type": "stream",
     "text": [
      "0.52675015\n"
     ]
    },
    {
     "data": {
      "text/plain": [
       "(0.5124208, 0.067001104, 0.44541967)"
      ]
     },
     "execution_count": 91,
     "metadata": {},
     "output_type": "execute_result"
    }
   ],
   "source": [
    "valid(getg(mmov), mmov)"
   ]
  },
  {
   "cell_type": "code",
   "execution_count": 92,
   "metadata": {},
   "outputs": [
    {
     "data": {
      "text/plain": [
       "(0.24234134, 0.054676324, 0.18766502)"
      ]
     },
     "execution_count": 92,
     "metadata": {},
     "output_type": "execute_result"
    }
   ],
   "source": [
    "valid(gsports, msports)"
   ]
  },
  {
   "cell_type": "code",
   "execution_count": 94,
   "metadata": {},
   "outputs": [
    {
     "name": "stdout",
     "output_type": "stream",
     "text": [
      "0.62817353\n"
     ]
    },
    {
     "data": {
      "text/plain": [
       "(0.2701499, 0.09716387, 0.17298602)"
      ]
     },
     "execution_count": 94,
     "metadata": {},
     "output_type": "execute_result"
    }
   ],
   "source": [
    "valid(getg(mmov_s), mmov_s)"
   ]
  },
  {
   "cell_type": "code",
   "execution_count": 24,
   "metadata": {},
   "outputs": [
    {
     "name": "stdout",
     "output_type": "stream",
     "text": [
      "fielding   -0.48 \t\t ms         0.66\n",
      "consistently -0.44 \t\t mrs        0.65\n",
      "solid      -0.43 \t\t husband    0.64\n",
      "shaky      -0.40 \t\t sang       0.62\n",
      "switch     -0.40 \t\t house      0.58\n",
      "hitting    -0.39 \t\t local      0.58\n",
      "throwing   -0.38 \t\t store      0.58\n",
      "hernández  -0.38 \t\t sister     0.57\n",
      "crucial    -0.38 \t\t ann        0.56\n",
      "starting   -0.37 \t\t songs      0.56\n"
     ]
    }
   ],
   "source": [
    "res = sorted([(x, gproj(gsports, msports, x)) for x in filter(lambda x: x in vocab, vocab)], key=lambda x: x[1])\n",
    "for i in range(10):\n",
    "    print(f\"{res[i][0].ljust(10)} {res[i][1]:.2f} \\t\\t {res[-i-1][0].ljust(10)} {res[-i-1][1]:.2f}\")"
   ]
  },
  {
   "cell_type": "code",
   "execution_count": 25,
   "metadata": {},
   "outputs": [],
   "source": [
    "heshe = msports.wv.get_vector('he') - msports.wv.get_vector('she')"
   ]
  },
  {
   "cell_type": "code",
   "execution_count": 26,
   "metadata": {},
   "outputs": [
    {
     "name": "stdout",
     "output_type": "stream",
     "text": [
      "ms         -0.60 \t\t switch     0.45\n",
      "sang       -0.60 \t\t fielding   0.45\n",
      "mrs        -0.60 \t\t he         0.43\n",
      "husband    -0.58 \t\t starting   0.42\n",
      "song       -0.54 \t\t solid      0.42\n",
      "songs      -0.54 \t\t position   0.41\n",
      "herself    -0.54 \t\t consistently 0.41\n",
      "deaf       -0.54 \t\t hitting    0.40\n",
      "candy      -0.53 \t\t return     0.39\n",
      "oxford     -0.53 \t\t perez      0.39\n"
     ]
    }
   ],
   "source": [
    "res = sorted([(x, gproj(heshe, msports, x)) for x in filter(lambda x: x in vocab, vocab)], key=lambda x: x[1])\n",
    "for i in range(10):\n",
    "    print(f\"{res[i][0].ljust(10)} {res[i][1]:.2f} \\t\\t {res[-i-1][0].ljust(10)} {res[-i-1][1]:.2f}\")"
   ]
  },
  {
   "cell_type": "code",
   "execution_count": null,
   "metadata": {},
   "outputs": [],
   "source": []
  },
  {
   "cell_type": "code",
   "execution_count": null,
   "metadata": {},
   "outputs": [],
   "source": [
    "w = mpol.wv.get_vector('politician') + mpol.wv.get_vector('female')\n",
    "mpol.most_similar(positive=[w], topn=15)"
   ]
  },
  {
   "cell_type": "code",
   "execution_count": null,
   "metadata": {},
   "outputs": [],
   "source": []
  }
 ],
 "metadata": {
  "kernelspec": {
   "display_name": "Python 3",
   "language": "python",
   "name": "python3"
  },
  "language_info": {
   "codemirror_mode": {
    "name": "ipython",
    "version": 3
   },
   "file_extension": ".py",
   "mimetype": "text/x-python",
   "name": "python",
   "nbconvert_exporter": "python",
   "pygments_lexer": "ipython3",
   "version": "3.7.0"
  }
 },
 "nbformat": 4,
 "nbformat_minor": 2
}
