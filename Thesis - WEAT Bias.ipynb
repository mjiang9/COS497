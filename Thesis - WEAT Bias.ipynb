{
 "cells": [
  {
   "cell_type": "code",
   "execution_count": 1,
   "metadata": {},
   "outputs": [],
   "source": [
    "import os\n",
    "import time\n",
    "import dill\n",
    "from typing import List\n",
    "from functools import reduce\n",
    "from calendar import monthrange"
   ]
  },
  {
   "cell_type": "code",
   "execution_count": 2,
   "metadata": {},
   "outputs": [],
   "source": [
    "import json\n",
    "import csv\n",
    "import requests\n",
    "import xml.etree.ElementTree as ET\n",
    "from bs4 import BeautifulSoup\n",
    "import urllib.request as urllib2"
   ]
  },
  {
   "cell_type": "code",
   "execution_count": 3,
   "metadata": {},
   "outputs": [],
   "source": [
    "import matplotlib.pyplot as plt\n",
    "import numpy as np\n",
    "from scipy import stats\n",
    "from random import sample, randint, shuffle\n",
    "from sklearn.decomposition import PCA"
   ]
  },
  {
   "cell_type": "code",
   "execution_count": 4,
   "metadata": {},
   "outputs": [],
   "source": [
    "import nltk\n",
    "import text_summarizer\n",
    "from gensim.utils import simple_preprocess\n",
    "from gensim.summarization.summarizer import summarize\n",
    "from gensim.models import Word2Vec, LsiModel\n",
    "from gensim.test.utils import common_dictionary, common_corpus"
   ]
  },
  {
   "cell_type": "code",
   "execution_count": 5,
   "metadata": {},
   "outputs": [],
   "source": [
    "from time import process_time"
   ]
  },
  {
   "cell_type": "code",
   "execution_count": 6,
   "metadata": {},
   "outputs": [
    {
     "data": {
      "text/plain": [
       "-2866.8014740000003"
      ]
     },
     "execution_count": 6,
     "metadata": {},
     "output_type": "execute_result"
    }
   ],
   "source": [
    "t = process_time()\n",
    "dill.load_session('thesis_env2.db')\n",
    "process_time() - t"
   ]
  },
  {
   "cell_type": "code",
   "execution_count": 7,
   "metadata": {},
   "outputs": [
    {
     "data": {
      "text/plain": [
       "(7370, 7370, 7370, 7370)"
      ]
     },
     "execution_count": 7,
     "metadata": {},
     "output_type": "execute_result"
    }
   ],
   "source": [
    "len(politics), len(movies), len(books), len(sports)"
   ]
  },
  {
   "cell_type": "code",
   "execution_count": 9,
   "metadata": {},
   "outputs": [
    {
     "data": {
      "text/plain": [
       "1685787"
      ]
     },
     "execution_count": 9,
     "metadata": {},
     "output_type": "execute_result"
    }
   ],
   "source": [
    "len(all_)"
   ]
  },
  {
   "cell_type": "code",
   "execution_count": 10,
   "metadata": {},
   "outputs": [],
   "source": [
    "# mpol, mmov, mbooks, msports\n",
    "# summaries_{pol, mov, bks, spts}\n",
    "# m{pol, mov, bks, spts}_{s, b, c}\n",
    "# bow_{pol, mov, bks, spts}\n",
    "# ctrls_{pol, mov, bks, spts}"
   ]
  },
  {
   "cell_type": "code",
   "execution_count": 11,
   "metadata": {},
   "outputs": [
    {
     "data": {
      "text/plain": [
       "(52, 205, 218)"
      ]
     },
     "execution_count": 11,
     "metadata": {},
     "output_type": "execute_result"
    }
   ],
   "source": [
    "len(pairs), len(proflist), len(gender_specific)"
   ]
  },
  {
   "cell_type": "code",
   "execution_count": 12,
   "metadata": {},
   "outputs": [
    {
     "data": {
      "text/plain": [
       "16581"
      ]
     },
     "execution_count": 12,
     "metadata": {},
     "output_type": "execute_result"
    }
   ],
   "source": [
    "vocab = set(mpol.wv.vocab)\n",
    "for m in [mpol, mmov, mbooks, msports]:\n",
    "    vocab &= set(m.wv.vocab)\n",
    "len(vocab)"
   ]
  },
  {
   "cell_type": "code",
   "execution_count": 15,
   "metadata": {},
   "outputs": [
    {
     "data": {
      "text/plain": [
       "5573"
      ]
     },
     "execution_count": 15,
     "metadata": {},
     "output_type": "execute_result"
    }
   ],
   "source": [
    "vocab_all = set(vocab)\n",
    "for m in [mpol_s, mbks_s, mmov_s, mspts_s] + \\\n",
    "[mpol_b, mbks_b, mmov_b, mspts_b] + \\\n",
    "[mpol_c, mbks_c, mmov_c, mspts_c]:\n",
    "    vocab_all &= set(m.wv.vocab)\n",
    "len(vocab_all)"
   ]
  },
  {
   "cell_type": "code",
   "execution_count": 16,
   "metadata": {},
   "outputs": [],
   "source": [
    "vocab2 = vocab_all"
   ]
  },
  {
   "cell_type": "code",
   "execution_count": 17,
   "metadata": {},
   "outputs": [
    {
     "data": {
      "text/plain": [
       "(16581, 5573)"
      ]
     },
     "execution_count": 17,
     "metadata": {},
     "output_type": "execute_result"
    }
   ],
   "source": [
    "len(vocab), len(vocab2)"
   ]
  },
  {
   "cell_type": "code",
   "execution_count": 13,
   "metadata": {},
   "outputs": [],
   "source": [
    "with open('grammar.csv') as csv_file:\n",
    "    grammar = csv_file.read().split(\",\")"
   ]
  },
  {
   "cell_type": "code",
   "execution_count": 14,
   "metadata": {},
   "outputs": [
    {
     "data": {
      "text/plain": [
       "(393, 71, 2010)"
      ]
     },
     "execution_count": 14,
     "metadata": {},
     "output_type": "execute_result"
    }
   ],
   "source": [
    "len(adjectives), len(grammar), len(cities)"
   ]
  },
  {
   "cell_type": "markdown",
   "metadata": {},
   "source": [
    "# WEAT Bias"
   ]
  },
  {
   "cell_type": "code",
   "execution_count": 81,
   "metadata": {},
   "outputs": [],
   "source": [
    "sciences = [\"science\", \"technology\", \"physics\", \"chemistry\", \\\n",
    "            \"einstein\", \"nasa\", \"experiment\", \"astronomy\"]"
   ]
  },
  {
   "cell_type": "code",
   "execution_count": 82,
   "metadata": {},
   "outputs": [],
   "source": [
    "maths = [\"math\", \"algebra\", \"geometry\", \"calculus\", \"equations\", \\\n",
    "         \"computation\", \"numbers\", \"addition\"]"
   ]
  },
  {
   "cell_type": "code",
   "execution_count": 83,
   "metadata": {},
   "outputs": [],
   "source": [
    "arts = [\"poetry\", \"art\", \"dance\", \"literature\", \"novel\", \\\n",
    "        \"symphony\", \"drama\", \"sculpture\"]"
   ]
  },
  {
   "cell_type": "code",
   "execution_count": 85,
   "metadata": {},
   "outputs": [],
   "source": [
    "family = [\"home\", \"parents\", \"children\", \"family\", \"cousins\", \\\n",
    "          \"marriage\", \"wedding\", \"relatives\"]"
   ]
  },
  {
   "cell_type": "code",
   "execution_count": 187,
   "metadata": {},
   "outputs": [],
   "source": [
    "female = [\"female\", \"woman\", \"girl\", \"girls\", \"sister\", \"she\", \"her\", \\\n",
    "          \"daughter\", \"mother\"]"
   ]
  },
  {
   "cell_type": "code",
   "execution_count": 190,
   "metadata": {},
   "outputs": [],
   "source": [
    "male = [\"male\", \"man\", \"boy\", \"boys\", \"brother\", \"he\", \"him\", \"son\", \"father\"]"
   ]
  },
  {
   "cell_type": "code",
   "execution_count": 88,
   "metadata": {},
   "outputs": [],
   "source": [
    "career = list(filter(lambda x: x in vocab, career))\n",
    "family = list(filter(lambda x: x in vocab, family))\n",
    "arts = list(filter(lambda x: x in vocab, arts))\n",
    "maths = list(filter(lambda x: x in vocab, maths))\n",
    "sciences = list(filter(lambda x: x in vocab, sciences))"
   ]
  },
  {
   "cell_type": "code",
   "execution_count": 145,
   "metadata": {},
   "outputs": [],
   "source": [
    "female = list(filter(lambda x: x in vocab2, female))\n",
    "male = list(filter(lambda x: x in vocab2, male))"
   ]
  },
  {
   "cell_type": "code",
   "execution_count": 32,
   "metadata": {},
   "outputs": [],
   "source": [
    "def cos_sim(m, x, y):\n",
    "    wv1 = m.wv.get_vector(x)\n",
    "    wv2 = m.wv.get_vector(y)\n",
    "    sim = np.dot(wv1, wv2)/(np.linalg.norm(wv1)*np.linalg.norm(wv2))\n",
    "    return sim"
   ]
  },
  {
   "cell_type": "code",
   "execution_count": 42,
   "metadata": {},
   "outputs": [],
   "source": [
    "def s_word(m, w, A, B):\n",
    "    return np.mean([cos_sim(m, w, a) for a in A]) - np.mean([cos_sim(m, w, b) for b in B])\n"
   ]
  },
  {
   "cell_type": "code",
   "execution_count": 58,
   "metadata": {},
   "outputs": [],
   "source": [
    "def s_set(m, X, Y, A, B):\n",
    "    return sum([s_word(m, x, A, B) for x in X]) - sum([s_word(m, y, A, B) for y in Y])"
   ]
  },
  {
   "cell_type": "code",
   "execution_count": 93,
   "metadata": {},
   "outputs": [],
   "source": [
    "def effect_size(m, X, Y, A, B):\n",
    "    num = np.mean([s_word(m, x, A, B) for x in X]) - np.mean([s_word(m, y, A, B) for y in Y])\n",
    "    return num/np.std([s_word(m, x, A, B) for x in X + Y])"
   ]
  },
  {
   "cell_type": "code",
   "execution_count": 95,
   "metadata": {},
   "outputs": [],
   "source": [
    "def mdictadd(models):\n",
    "    for i in range(len(models)):\n",
    "        mdict[list(mdict)[i]].append(models[i])"
   ]
  },
  {
   "cell_type": "code",
   "execution_count": 126,
   "metadata": {},
   "outputs": [
    {
     "data": {
      "text/plain": [
       "29480"
      ]
     },
     "execution_count": 126,
     "metadata": {},
     "output_type": "execute_result"
    }
   ],
   "source": [
    "combined = politics+books+movies+sports\n",
    "len(combined)"
   ]
  },
  {
   "cell_type": "code",
   "execution_count": 129,
   "metadata": {},
   "outputs": [],
   "source": [
    "# train word embeddings\n",
    "mcombined = getw2v(combined)"
   ]
  },
  {
   "cell_type": "code",
   "execution_count": 130,
   "metadata": {},
   "outputs": [],
   "source": [
    "profs = set(proflist) & vocab2"
   ]
  },
  {
   "cell_type": "code",
   "execution_count": 131,
   "metadata": {},
   "outputs": [
    {
     "name": "stdout",
     "output_type": "stream",
     "text": [
      "0.43000886\n"
     ]
    }
   ],
   "source": [
    "gcombined = getg(mcombined)"
   ]
  },
  {
   "cell_type": "code",
   "execution_count": 132,
   "metadata": {},
   "outputs": [],
   "source": [
    "def gproj(g, m, w1):\n",
    "    wvec = m.wv.get_vector(w1)\n",
    "    p = np.dot(g, wvec)/(np.linalg.norm(g)*np.linalg.norm(wvec))\n",
    "    return p"
   ]
  },
  {
   "cell_type": "code",
   "execution_count": 152,
   "metadata": {},
   "outputs": [
    {
     "name": "stdout",
     "output_type": "stream",
     "text": [
      "officer 0.19345711\n",
      "teacher -0.18449657\n",
      "judge -0.07651596\n",
      "worker -0.13081126\n",
      "character -0.08281248\n",
      "coach 0.34330636\n",
      "doctor -0.1050056\n",
      "author -0.039736334\n",
      "analyst 0.15470724\n",
      "commissioner 0.15923788\n",
      "substitute -0.03780298\n",
      "prosecutor -0.013197501\n",
      "surgeon -0.023146214\n",
      "editor -0.050578646\n",
      "president 0.1799249\n",
      "manager 0.15750493\n",
      "writer -0.03770707\n",
      "artist -0.046602905\n",
      "student -0.16729335\n",
      "dean 0.29737547\n",
      "photographer -0.13515998\n",
      "singer -0.0139438845\n",
      "captain 0.27266547\n",
      "attorney -0.05113222\n",
      "director 0.17244485\n",
      "teenager -0.23446582\n"
     ]
    }
   ],
   "source": [
    "for p in profs:\n",
    "    b = gproj(gcombined, mcombined, p)\n",
    "    if b > .15 or b < -.01:\n",
    "        print(p, b)"
   ]
  },
  {
   "cell_type": "code",
   "execution_count": 153,
   "metadata": {},
   "outputs": [],
   "source": [
    "stereotypes_m = ['captain', 'president', 'professor', 'dean', \\\n",
    "                 'commissioner', 'coach', 'director', 'officer', \\\n",
    "                 'manager']\n",
    "stereotypes_f = ['teacher', 'author', 'secretary', 'writer', \\\n",
    "                 'artist', 'singer', 'teenager', 'editor', \\\n",
    "                 'photographer']"
   ]
  },
  {
   "cell_type": "code",
   "execution_count": 124,
   "metadata": {},
   "outputs": [],
   "source": [
    "mdict = {\"politics\": [], \"books\": [], \"movies\": [], \"sports\": []}\n",
    "mdictadd([mpol, mbooks, mmov, msports])\n",
    "mdictadd([mpol_s, mbks_s, mmov_s, mspts_s])\n",
    "mdictadd([mpol_b, mbks_b, mmov_b, mspts_b])\n",
    "mdictadd([mpol_c, mbks_c, mmov_c, mspts_c])"
   ]
  },
  {
   "cell_type": "code",
   "execution_count": 143,
   "metadata": {},
   "outputs": [],
   "source": [
    "def bias(m):\n",
    "    return effect_size(m, male, female, stereotypes_m, stereotypes_f)"
   ]
  },
  {
   "cell_type": "code",
   "execution_count": 191,
   "metadata": {},
   "outputs": [
    {
     "name": "stdout",
     "output_type": "stream",
     "text": [
      "original\n",
      "  politics 0.447\n",
      "     books 1.075\n",
      "    movies 1.201\n",
      "    sports 0.913\n",
      "summary (TextRank)\n",
      "  politics 0.399\n",
      "     books 0.765\n",
      "    movies 0.257\n",
      "    sports 1.035\n",
      "summary (Centroid-BOW)\n",
      "  politics 0.159\n",
      "     books 0.701\n",
      "    movies 0.368\n",
      "    sports 0.838\n",
      "summary (control)\n",
      "  politics 0.212\n",
      "     books 0.395\n",
      "    movies 0.305\n",
      "    sports 0.678\n"
     ]
    }
   ],
   "source": [
    "print(labels[0])\n",
    "for i in mdict:\n",
    "    print(\"%10s\" % i, \\\n",
    "          \"%.3f\" % bias(mdict[i][0]))\n",
    "print(labels[1])\n",
    "for i in mdict:\n",
    "    print(\"%10s\" % i, \\\n",
    "          \"%.3f\" % bias(mdict[i][1]))\n",
    "print(labels[2])\n",
    "for i in mdict:\n",
    "    print(\"%10s\" % i, \\\n",
    "          \"%.3f\" % bias(mdict[i][2]))\n",
    "print(labels[3])\n",
    "for i in mdict:\n",
    "    print(\"%10s\" % i, \\\n",
    "          \"%.3f\" % bias(mdict[i][3]))"
   ]
  },
  {
   "cell_type": "code",
   "execution_count": 179,
   "metadata": {},
   "outputs": [],
   "source": [
    "def bias_c(m, a, b):\n",
    "    return effect_size(m, male, female, a, b)"
   ]
  },
  {
   "cell_type": "code",
   "execution_count": 165,
   "metadata": {},
   "outputs": [
    {
     "data": {
      "text/plain": [
       "['male', 'man', 'boy', 'brother', 'he', 'him', 'son', 'father']"
      ]
     },
     "execution_count": 165,
     "metadata": {},
     "output_type": "execute_result"
    }
   ],
   "source": [
    "male"
   ]
  },
  {
   "cell_type": "code",
   "execution_count": 166,
   "metadata": {},
   "outputs": [
    {
     "data": {
      "text/plain": [
       "['female', 'woman', 'girl', 'sister', 'she', 'her', 'daughter', 'mother']"
      ]
     },
     "execution_count": 166,
     "metadata": {},
     "output_type": "execute_result"
    }
   ],
   "source": [
    "female"
   ]
  },
  {
   "cell_type": "code",
   "execution_count": 175,
   "metadata": {},
   "outputs": [],
   "source": [
    "male2 = ['husband', 'brothers', 'king', \\\n",
    "         'grandfather', 'guy', 'spokesman', 'uncle', \\\n",
    "         'himself', 'men']"
   ]
  },
  {
   "cell_type": "code",
   "execution_count": 176,
   "metadata": {},
   "outputs": [],
   "source": [
    "female2 = ['wife', 'sisters', 'queen', ''\\\n",
    "           'grandmother', 'lady', 'spokeswoman', 'widow', \\\n",
    "           'herself', 'women']"
   ]
  },
  {
   "cell_type": "code",
   "execution_count": 180,
   "metadata": {},
   "outputs": [
    {
     "name": "stdout",
     "output_type": "stream",
     "text": [
      "original\n",
      "  politics 1.496\n",
      "     books 1.675\n",
      "    movies 1.730\n",
      "    sports 1.348\n",
      "summary (TextRank)\n",
      "  politics 0.613\n",
      "     books 1.093\n",
      "    movies 1.086\n",
      "    sports 0.907\n",
      "summary (Centroid-BOW)\n",
      "  politics 0.557\n",
      "     books 1.392\n",
      "    movies 1.169\n",
      "    sports 1.037\n",
      "summary (control)\n",
      "  politics 0.691\n",
      "     books 1.061\n",
      "    movies 0.949\n",
      "    sports 0.544\n"
     ]
    }
   ],
   "source": [
    "print(labels[0])\n",
    "for i in mdict:\n",
    "    print(\"%10s\" % i, \\\n",
    "          \"%.3f\" % bias_c(mdict[i][0], male2, female2))\n",
    "print(labels[1])\n",
    "for i in mdict:\n",
    "    print(\"%10s\" % i, \\\n",
    "          \"%.3f\" % bias_c(mdict[i][1], male2, female2))\n",
    "print(labels[2])\n",
    "for i in mdict:\n",
    "    print(\"%10s\" % i, \\\n",
    "          \"%.3f\" % bias_c(mdict[i][2], male2, female2))\n",
    "print(labels[3])\n",
    "for i in mdict:\n",
    "    print(\"%10s\" % i, \\\n",
    "          \"%.3f\" % bias_c(mdict[i][3], male2, female2))"
   ]
  },
  {
   "cell_type": "code",
   "execution_count": 185,
   "metadata": {},
   "outputs": [],
   "source": [
    "def bias_r(m, a, b):\n",
    "    tot = a + b\n",
    "    shuffle(tot)\n",
    "    return effect_size(m, male, female, tot[:len(a)], tot[len(a):])"
   ]
  },
  {
   "cell_type": "code",
   "execution_count": 194,
   "metadata": {},
   "outputs": [
    {
     "name": "stdout",
     "output_type": "stream",
     "text": [
      "original\n",
      "  politics -0.199\n",
      "     books -0.321\n",
      "    movies 0.871\n",
      "    sports -0.960\n",
      "summary (TextRank)\n",
      "  politics 0.273\n",
      "     books 0.842\n",
      "    movies -0.393\n",
      "    sports -0.559\n",
      "summary (Centroid-BOW)\n",
      "  politics 0.129\n",
      "     books 0.119\n",
      "    movies -0.032\n",
      "    sports 0.719\n",
      "summary (control)\n",
      "  politics -0.572\n",
      "     books 0.199\n",
      "    movies -0.030\n",
      "    sports -0.748\n"
     ]
    }
   ],
   "source": [
    "print(labels[0])\n",
    "for i in mdict:\n",
    "    print(\"%10s\" % i, \\\n",
    "          \"%.3f\" % bias_r(mdict[i][0], male2, female2))\n",
    "print(labels[1])\n",
    "for i in mdict:\n",
    "    print(\"%10s\" % i, \\\n",
    "          \"%.3f\" % bias_r(mdict[i][1], male2, female2))\n",
    "print(labels[2])\n",
    "for i in mdict:\n",
    "    print(\"%10s\" % i, \\\n",
    "          \"%.3f\" % bias_r(mdict[i][2], male2, female2))\n",
    "print(labels[3])\n",
    "for i in mdict:\n",
    "    print(\"%10s\" % i, \\\n",
    "          \"%.3f\" % bias_r(mdict[i][3], male2, female2))"
   ]
  },
  {
   "cell_type": "code",
   "execution_count": 21,
   "metadata": {},
   "outputs": [],
   "source": [
    "def gdictadd(models):\n",
    "    for i in range(len(models)):\n",
    "        gdict[list(gdict)[i]].append(getg(models[i]))"
   ]
  },
  {
   "cell_type": "code",
   "execution_count": 22,
   "metadata": {},
   "outputs": [
    {
     "name": "stdout",
     "output_type": "stream",
     "text": [
      "0.34343678\n",
      "0.52675015\n",
      "0.5915069\n",
      "0.35275307\n",
      "0.31522945\n",
      "0.78374213\n",
      "0.62817353\n",
      "0.49360958\n",
      "0.31965494\n",
      "0.8359838\n",
      "0.7387123\n",
      "0.51820844\n",
      "0.32400513\n",
      "0.768514\n",
      "0.6437023\n",
      "0.48822078\n"
     ]
    }
   ],
   "source": [
    "labels = [\"original\", \"summary (TextRank)\", \"summary (Centroid-BOW)\", \"summary (control)\"]\n",
    "gdict = {\"politics\": [], \"books\": [], \"movies\": [], \"sports\": []}\n",
    "gdictadd([mpol, mmov, mbooks, msports])\n",
    "gdictadd([mpol_s, mbks_s, mmov_s, mspts_s])\n",
    "gdictadd([mpol_b, mbks_b, mmov_b, mspts_b])\n",
    "gdictadd([mpol_c, mbks_c, mmov_c, mspts_c])"
   ]
  },
  {
   "cell_type": "code",
   "execution_count": 62,
   "metadata": {},
   "outputs": [],
   "source": [
    "def gproj(g, m, w1):\n",
    "    wvec = m.wv.get_vector(w1)\n",
    "    p = np.dot(g, wvec)/(np.linalg.norm(g)*np.linalg.norm(wvec))\n",
    "    return p"
   ]
  },
  {
   "cell_type": "code",
   "execution_count": 63,
   "metadata": {},
   "outputs": [],
   "source": [
    "def bias(g, m, vocab, wordlist):\n",
    "    b = 0\n",
    "    l = list(filter(lambda x: x in vocab, wordlist))\n",
    "    for x in l:\n",
    "        b += abs(gproj(g, m, x))\n",
    "    return b/len(l)"
   ]
  },
  {
   "cell_type": "code",
   "execution_count": 24,
   "metadata": {},
   "outputs": [
    {
     "name": "stdout",
     "output_type": "stream",
     "text": [
      "original\n",
      "  politics 0.099 0.066 0.072 0.058 0.120\n",
      "     books 0.086 0.092 0.089 0.080 0.173\n",
      "    movies 0.096 0.069 0.077 0.065 0.155\n",
      "    sports 0.327 0.175 0.258 0.228 0.372\n"
     ]
    }
   ],
   "source": [
    "print(labels[0])\n",
    "for i in gdict:\n",
    "    print(\"%10s\" % i, \\\n",
    "          \"%.3f\" % bias(gdict[i][0], mdict[i][0], vocab, proflist), \\\n",
    "          \"%.3f\" % bias(gdict[i][0], mdict[i][0], vocab, adjectives), \\\n",
    "          \"%.3f\" % bias(gdict[i][0], mdict[i][0], vocab, cities), \\\n",
    "          \"%.3f\" % bias(gdict[i][0], mdict[i][0], vocab, objects), \\\n",
    "          \"%.3f\" % bias(gdict[i][0], mdict[i][0], vocab, gender_specific))"
   ]
  },
  {
   "cell_type": "code",
   "execution_count": 25,
   "metadata": {},
   "outputs": [
    {
     "name": "stdout",
     "output_type": "stream",
     "text": [
      "summary (TextRank)\n",
      "  politics 0.392 0.111 0.294 0.146 0.269\n",
      "     books 0.052 0.051 0.044 0.052 0.161\n",
      "    movies 0.083 0.089 0.064 0.084 0.192\n",
      "    sports 0.303 0.154 0.182 0.180 0.283\n"
     ]
    }
   ],
   "source": [
    "print(labels[1])\n",
    "for i in gdict:\n",
    "    print(\"%10s\" % i, \\\n",
    "          \"%.3f\" % bias(gdict[i][1], mdict[i][1], vocab2, proflist), \\\n",
    "          \"%.3f\" % bias(gdict[i][1], mdict[i][1], vocab2, adjectives), \\\n",
    "          \"%.3f\" % bias(gdict[i][1], mdict[i][1], vocab2, cities), \\\n",
    "          \"%.3f\" % bias(gdict[i][1], mdict[i][1], vocab2, objects), \\\n",
    "          \"%.3f\" % bias(gdict[i][1], mdict[i][1], vocab2, gender_specific))"
   ]
  },
  {
   "cell_type": "code",
   "execution_count": 26,
   "metadata": {},
   "outputs": [
    {
     "name": "stdout",
     "output_type": "stream",
     "text": [
      "summary (Centroid-BOW)\n",
      "  politics 0.512 0.152 0.446 0.229 0.405\n",
      "     books 0.048 0.054 0.046 0.048 0.163\n",
      "    movies 0.069 0.077 0.067 0.088 0.194\n",
      "    sports 0.337 0.181 0.209 0.198 0.298\n"
     ]
    }
   ],
   "source": [
    "print(labels[2])\n",
    "for i in gdict:\n",
    "    print(\"%10s\" % i, \\\n",
    "          \"%.3f\" % bias(gdict[i][2], mdict[i][2], vocab2, proflist), \\\n",
    "          \"%.3f\" % bias(gdict[i][2], mdict[i][2], vocab2, adjectives), \\\n",
    "          \"%.3f\" % bias(gdict[i][2], mdict[i][2], vocab2, cities), \\\n",
    "          \"%.3f\" % bias(gdict[i][2], mdict[i][2], vocab2, objects), \\\n",
    "          \"%.3f\" % bias(gdict[i][2], mdict[i][2], vocab2, gender_specific))"
   ]
  },
  {
   "cell_type": "code",
   "execution_count": 27,
   "metadata": {},
   "outputs": [
    {
     "name": "stdout",
     "output_type": "stream",
     "text": [
      "summary (control)\n",
      "  politics 0.183 0.091 0.143 0.090 0.123\n",
      "     books 0.046 0.045 0.037 0.049 0.137\n",
      "    movies 0.066 0.069 0.051 0.068 0.172\n",
      "    sports 0.246 0.115 0.145 0.135 0.197\n"
     ]
    }
   ],
   "source": [
    "print(labels[3])\n",
    "for i in gdict:\n",
    "    print(\"%10s\" % i, \\\n",
    "          \"%.3f\" % bias(gdict[i][3], mdict[i][3], vocab2, proflist), \\\n",
    "          \"%.3f\" % bias(gdict[i][3], mdict[i][3], vocab2, adjectives), \\\n",
    "          \"%.3f\" % bias(gdict[i][3], mdict[i][3], vocab2, cities), \\\n",
    "          \"%.3f\" % bias(gdict[i][3], mdict[i][3], vocab2, objects), \\\n",
    "          \"%.3f\" % bias(gdict[i][3], mdict[i][3], vocab2, gender_specific))"
   ]
  },
  {
   "cell_type": "code",
   "execution_count": 28,
   "metadata": {},
   "outputs": [
    {
     "name": "stdout",
     "output_type": "stream",
     "text": [
      "0.34343678\n",
      "her        -0.50 \t\t mr         0.43\n",
      "women      -0.47 \t\t ouster     0.39\n",
      "ms         -0.46 \t\t vladimir   0.37\n",
      "she        -0.46 \t\t himself    0.36\n",
      "feeding    -0.37 \t\t leader     0.35\n",
      "disabled   -0.35 \t\t successor  0.35\n",
      "herself    -0.35 \t\t loyalists  0.35\n",
      "mental     -0.34 \t\t protégé    0.34\n",
      "female     -0.34 \t\t predecessor 0.33\n",
      "classroom  -0.32 \t\t hugo       0.33\n",
      "0.5915069\n",
      "mr         -0.45 \t\t her        0.60\n",
      "baseball   -0.40 \t\t ms         0.58\n",
      "himself    -0.40 \t\t herself    0.57\n",
      "james      -0.37 \t\t she        0.51\n",
      "military   -0.36 \t\t husband    0.47\n",
      "john       -0.36 \t\t girl       0.43\n",
      "ford       -0.36 \t\t mary       0.40\n",
      "game       -0.35 \t\t women      0.40\n",
      "al         -0.35 \t\t baby       0.40\n",
      "henry      -0.34 \t\t sex        0.40\n",
      "0.52675015\n",
      "steven     -0.52 \t\t ms         0.63\n",
      "george     -0.48 \t\t her        0.52\n",
      "mr         -0.47 \t\t marie      0.52\n",
      "lucas      -0.42 \t\t nicole     0.51\n",
      "himself    -0.40 \t\t herself    0.51\n",
      "franchise  -0.38 \t\t actress    0.47\n",
      "bush       -0.38 \t\t queen      0.45\n",
      "kong       -0.38 \t\t woman      0.45\n",
      "romero     -0.37 \t\t she        0.44\n",
      "walt       -0.36 \t\t dress      0.44\n",
      "0.35275307\n",
      "fielding   -0.48 \t\t ms         0.66\n",
      "consistently -0.44 \t\t mrs        0.65\n",
      "solid      -0.43 \t\t husband    0.64\n",
      "shaky      -0.40 \t\t sang       0.62\n",
      "switch     -0.40 \t\t house      0.58\n",
      "hitting    -0.39 \t\t local      0.58\n",
      "throwing   -0.38 \t\t store      0.58\n",
      "hernández  -0.38 \t\t sister     0.57\n",
      "crucial    -0.38 \t\t ann        0.56\n",
      "starting   -0.37 \t\t songs      0.56\n"
     ]
    }
   ],
   "source": [
    "gpol = getg(mpol)\n",
    "res = sorted([(x, gproj(gpol, mpol, x)) for x in filter(lambda x: x in vocab, vocab)], key=lambda x: x[1])\n",
    "for i in range(10):\n",
    "    print(f\"{res[i][0].ljust(10)} {res[i][1]:.2f} \\t\\t {res[-i-1][0].ljust(10)} {res[-i-1][1]:.2f}\")\n",
    "gbooks = getg(mbooks)\n",
    "res = sorted([(x, gproj(gbooks, mbooks, x)) for x in filter(lambda x: x in vocab, vocab)], key=lambda x: x[1])\n",
    "for i in range(10):\n",
    "    print(f\"{res[i][0].ljust(10)} {res[i][1]:.2f} \\t\\t {res[-i-1][0].ljust(10)} {res[-i-1][1]:.2f}\")\n",
    "gmov = getg(mmov)\n",
    "res = sorted([(x, gproj(gmov, mmov, x)) for x in filter(lambda x: x in vocab, vocab)], key=lambda x: x[1])\n",
    "for i in range(10):\n",
    "    print(f\"{res[i][0].ljust(10)} {res[i][1]:.2f} \\t\\t {res[-i-1][0].ljust(10)} {res[-i-1][1]:.2f}\")\n",
    "gsports = getg(msports)\n",
    "res = sorted([(x, gproj(gsports, msports, x)) for x in filter(lambda x: x in vocab, vocab)], key=lambda x: x[1])\n",
    "for i in range(10):\n",
    "    print(f\"{res[i][0].ljust(10)} {res[i][1]:.2f} \\t\\t {res[-i-1][0].ljust(10)} {res[-i-1][1]:.2f}\")"
   ]
  },
  {
   "cell_type": "code",
   "execution_count": 35,
   "metadata": {},
   "outputs": [
    {
     "name": "stdout",
     "output_type": "stream",
     "text": [
      "0.31522945\n",
      "these      -0.52 \t\t chairman   0.80\n",
      "large      -0.44 \t\t secretary  0.78\n",
      "low        -0.43 \t\t chief      0.77\n",
      "without    -0.42 \t\t deputy     0.75\n",
      "their      -0.40 \t\t leader     0.73\n",
      "different  -0.40 \t\t paul       0.67\n",
      "small      -0.39 \t\t president  0.67\n",
      "making     -0.36 \t\t king       0.66\n",
      "pay        -0.36 \t\t director   0.66\n",
      "such       -0.36 \t\t general    0.66\n",
      "0.78374213\n",
      "mr         -0.38 \t\t her        0.63\n",
      "he         -0.32 \t\t she        0.47\n",
      "his        -0.30 \t\t herself    0.46\n",
      "administration -0.28 \t\t husband    0.42\n",
      "iraq       -0.27 \t\t baby       0.37\n",
      "president  -0.26 \t\t girl       0.35\n",
      "military   -0.26 \t\t children   0.31\n",
      "bush       -0.26 \t\t mother     0.30\n",
      "nations    -0.26 \t\t sister     0.30\n",
      "history    -0.24 \t\t love       0.29\n",
      "0.62817353\n",
      "her        -0.57 \t\t disney     0.41\n",
      "herself    -0.47 \t\t pictures   0.38\n",
      "she        -0.44 \t\t production 0.35\n",
      "husband    -0.41 \t\t studio     0.34\n",
      "mother     -0.39 \t\t mr         0.34\n",
      "ms         -0.38 \t\t producers  0.34\n",
      "girl       -0.38 \t\t entertainment 0.33\n",
      "woman      -0.36 \t\t universal  0.32\n",
      "daughter   -0.35 \t\t company    0.32\n",
      "single     -0.34 \t\t media      0.31\n",
      "0.49360958\n",
      "mr         -0.61 \t\t his        0.58\n",
      "police     -0.56 \t\t he         0.56\n",
      "officer    -0.55 \t\t regular    0.50\n",
      "department -0.54 \t\t start      0.48\n",
      "wrote      -0.54 \t\t complete   0.46\n",
      "chief      -0.53 \t\t straight   0.45\n",
      "lawyer     -0.52 \t\t injury     0.44\n",
      "director   -0.51 \t\t twice      0.43\n",
      "court      -0.51 \t\t finish     0.41\n",
      "president  -0.51 \t\t spot       0.41\n"
     ]
    }
   ],
   "source": [
    "gpol_s = getg(mpol_s)\n",
    "res = sorted([(x, gproj(gpol_s, mpol_s, x)) for x in filter(lambda x: x in vocab2, vocab2)], key=lambda x: x[1])\n",
    "for i in range(10):\n",
    "    print(f\"{res[i][0].ljust(10)} {res[i][1]:.2f} \\t\\t {res[-i-1][0].ljust(10)} {res[-i-1][1]:.2f}\")\n",
    "gbks_s = getg(mbks_s)\n",
    "res = sorted([(x, gproj(gbks_s, mbks_s, x)) for x in filter(lambda x: x in vocab2, vocab2)], key=lambda x: x[1])\n",
    "for i in range(10):\n",
    "    print(f\"{res[i][0].ljust(10)} {res[i][1]:.2f} \\t\\t {res[-i-1][0].ljust(10)} {res[-i-1][1]:.2f}\")\n",
    "gmov_s = getg(mmov_s)\n",
    "res = sorted([(x, gproj(gmov_s, mmov_s, x)) for x in filter(lambda x: x in vocab2, vocab2)], key=lambda x: x[1])\n",
    "for i in range(10):\n",
    "    print(f\"{res[i][0].ljust(10)} {res[i][1]:.2f} \\t\\t {res[-i-1][0].ljust(10)} {res[-i-1][1]:.2f}\")\n",
    "gspts_s = getg(mspts_s)\n",
    "res = sorted([(x, gproj(gspts_s, mspts_s, x)) for x in filter(lambda x: x in vocab2, vocab2)], key=lambda x: x[1])\n",
    "for i in range(10):\n",
    "    print(f\"{res[i][0].ljust(10)} {res[i][1]:.2f} \\t\\t {res[-i-1][0].ljust(10)} {res[-i-1][1]:.2f}\")"
   ]
  },
  {
   "cell_type": "code",
   "execution_count": 36,
   "metadata": {},
   "outputs": [
    {
     "name": "stdout",
     "output_type": "stream",
     "text": [
      "0.31965494\n",
      "these      -0.48 \t\t chairman   0.92\n",
      "without    -0.41 \t\t democrat   0.87\n",
      "their      -0.41 \t\t james      0.84\n",
      "prices     -0.38 \t\t lawyer     0.83\n",
      "real       -0.36 \t\t representative 0.83\n",
      "weapons    -0.35 \t\t jr         0.82\n",
      "large      -0.35 \t\t peter      0.81\n",
      "oil        -0.35 \t\t secretary  0.81\n",
      "further    -0.33 \t\t john       0.81\n",
      "enough     -0.33 \t\t joseph     0.80\n",
      "0.8359838\n",
      "her        -0.63 \t\t mr         0.44\n",
      "she        -0.50 \t\t his        0.41\n",
      "husband    -0.44 \t\t he         0.37\n",
      "herself    -0.41 \t\t bush       0.33\n",
      "girl       -0.30 \t\t administration 0.31\n",
      "woman      -0.29 \t\t himself    0.29\n",
      "ms         -0.29 \t\t president  0.24\n",
      "baby       -0.28 \t\t nations    0.23\n",
      "children   -0.28 \t\t states     0.23\n",
      "mother     -0.27 \t\t clinton    0.21\n",
      "0.7387123\n",
      "her        -0.60 \t\t mr         0.43\n",
      "she        -0.51 \t\t disney     0.34\n",
      "herself    -0.48 \t\t his        0.32\n",
      "girl       -0.44 \t\t studio     0.28\n",
      "husband    -0.41 \t\t rights     0.28\n",
      "woman      -0.41 \t\t company    0.28\n",
      "mother     -0.35 \t\t major      0.28\n",
      "ms         -0.34 \t\t artists    0.27\n",
      "child      -0.33 \t\t marketing  0.27\n",
      "baby       -0.32 \t\t independent 0.27\n",
      "0.51820844\n",
      "chief      -0.64 \t\t he         0.62\n",
      "executive  -0.62 \t\t his        0.51\n",
      "department -0.62 \t\t start      0.49\n",
      "court      -0.61 \t\t regular    0.46\n",
      "president  -0.60 \t\t starts     0.45\n",
      "director   -0.59 \t\t injury     0.45\n",
      "officer    -0.59 \t\t six        0.44\n",
      "chairman   -0.59 \t\t save       0.44\n",
      "operating  -0.58 \t\t seven      0.43\n",
      "co         -0.58 \t\t career     0.43\n"
     ]
    }
   ],
   "source": [
    "gpol_b = getg(mpol_b)\n",
    "res = sorted([(x, gproj(gpol_b, mpol_b, x)) for x in filter(lambda x: x in vocab2, vocab2)], key=lambda x: x[1])\n",
    "for i in range(10):\n",
    "    print(f\"{res[i][0].ljust(10)} {res[i][1]:.2f} \\t\\t {res[-i-1][0].ljust(10)} {res[-i-1][1]:.2f}\")\n",
    "gbks_b = getg(mbks_b)\n",
    "res = sorted([(x, gproj(gbks_b, mbks_b, x)) for x in filter(lambda x: x in vocab2, vocab2)], key=lambda x: x[1])\n",
    "for i in range(10):\n",
    "    print(f\"{res[i][0].ljust(10)} {res[i][1]:.2f} \\t\\t {res[-i-1][0].ljust(10)} {res[-i-1][1]:.2f}\")\n",
    "gmov_b = getg(mmov_b)\n",
    "res = sorted([(x, gproj(gmov_b, mmov_b, x)) for x in filter(lambda x: x in vocab2, vocab2)], key=lambda x: x[1])\n",
    "for i in range(10):\n",
    "    print(f\"{res[i][0].ljust(10)} {res[i][1]:.2f} \\t\\t {res[-i-1][0].ljust(10)} {res[-i-1][1]:.2f}\")\n",
    "gspts_b = getg(mspts_b)\n",
    "res = sorted([(x, gproj(gspts_b, mspts_b, x)) for x in filter(lambda x: x in vocab2, vocab2)], key=lambda x: x[1])\n",
    "for i in range(10):\n",
    "    print(f\"{res[i][0].ljust(10)} {res[i][1]:.2f} \\t\\t {res[-i-1][0].ljust(10)} {res[-i-1][1]:.2f}\")"
   ]
  },
  {
   "cell_type": "code",
   "execution_count": 37,
   "metadata": {},
   "outputs": [
    {
     "name": "stdout",
     "output_type": "stream",
     "text": [
      "0.32400513\n",
      "mail       -0.37 \t\t head       0.52\n",
      "or         -0.35 \t\t chairman   0.51\n",
      "high       -0.35 \t\t union      0.51\n",
      "got        -0.33 \t\t president  0.50\n",
      "few        -0.32 \t\t leadership 0.48\n",
      "com        -0.32 \t\t secretary  0.48\n",
      "young      -0.31 \t\t chief      0.47\n",
      "children   -0.31 \t\t powers     0.47\n",
      "isn        -0.29 \t\t coalition  0.47\n",
      "these      -0.28 \t\t leader     0.47\n",
      "0.768514\n",
      "her        -0.61 \t\t mr         0.38\n",
      "herself    -0.46 \t\t his        0.31\n",
      "she        -0.46 \t\t war        0.29\n",
      "husband    -0.41 \t\t he         0.28\n",
      "children   -0.30 \t\t bush       0.27\n",
      "love       -0.28 \t\t civil      0.24\n",
      "ms         -0.27 \t\t administration 0.23\n",
      "mother     -0.27 \t\t ii         0.23\n",
      "girl       -0.27 \t\t iraq       0.22\n",
      "woman      -0.27 \t\t policy     0.20\n",
      "0.6437023\n",
      "disney     -0.38 \t\t her        0.55\n",
      "mr         -0.37 \t\t she        0.47\n",
      "major      -0.34 \t\t herself    0.41\n",
      "studio     -0.34 \t\t husband    0.41\n",
      "company    -0.33 \t\t girl       0.40\n",
      "entertainment -0.33 \t\t woman      0.35\n",
      "distribution -0.33 \t\t mother     0.34\n",
      "pictures   -0.32 \t\t hair       0.31\n",
      "executives -0.32 \t\t daughter   0.29\n",
      "independent -0.32 \t\t baby       0.29\n",
      "0.48822078\n",
      "athletic   -0.48 \t\t he         0.64\n",
      "co         -0.48 \t\t his        0.61\n",
      "director   -0.48 \t\t injury     0.46\n",
      "president  -0.46 \t\t throwing   0.43\n",
      "chief      -0.46 \t\t full       0.41\n",
      "media      -0.45 \t\t surgery    0.41\n",
      "relations  -0.45 \t\t complete   0.41\n",
      "lives      -0.44 \t\t save       0.39\n",
      "states     -0.44 \t\t pitch      0.39\n",
      "executive  -0.44 \t\t career     0.39\n"
     ]
    }
   ],
   "source": [
    "gpol_c = getg(mpol_c)\n",
    "res = sorted([(x, gproj(gpol_c, mpol_c, x)) for x in filter(lambda x: x in vocab2, vocab2)], key=lambda x: x[1])\n",
    "for i in range(10):\n",
    "    print(f\"{res[i][0].ljust(10)} {res[i][1]:.2f} \\t\\t {res[-i-1][0].ljust(10)} {res[-i-1][1]:.2f}\")\n",
    "gbks_c = getg(mbks_c)\n",
    "res = sorted([(x, gproj(gbks_c, mbks_c, x)) for x in filter(lambda x: x in vocab2, vocab2)], key=lambda x: x[1])\n",
    "for i in range(10):\n",
    "    print(f\"{res[i][0].ljust(10)} {res[i][1]:.2f} \\t\\t {res[-i-1][0].ljust(10)} {res[-i-1][1]:.2f}\")\n",
    "gmov_c = getg(mmov_c)\n",
    "res = sorted([(x, gproj(gmov_c, mmov_c, x)) for x in filter(lambda x: x in vocab2, vocab2)], key=lambda x: x[1])\n",
    "for i in range(10):\n",
    "    print(f\"{res[i][0].ljust(10)} {res[i][1]:.2f} \\t\\t {res[-i-1][0].ljust(10)} {res[-i-1][1]:.2f}\")\n",
    "gspts_c = getg(mspts_c)\n",
    "res = sorted([(x, gproj(gspts_c, mspts_c, x)) for x in filter(lambda x: x in vocab2, vocab2)], key=lambda x: x[1])\n",
    "for i in range(10):\n",
    "    print(f\"{res[i][0].ljust(10)} {res[i][1]:.2f} \\t\\t {res[-i-1][0].ljust(10)} {res[-i-1][1]:.2f}\")"
   ]
  },
  {
   "cell_type": "markdown",
   "metadata": {},
   "source": [
    "## Plot PCA"
   ]
  },
  {
   "cell_type": "code",
   "execution_count": null,
   "metadata": {},
   "outputs": [],
   "source": []
  },
  {
   "cell_type": "markdown",
   "metadata": {},
   "source": [
    "## Regression for bias testing"
   ]
  },
  {
   "cell_type": "code",
   "execution_count": 30,
   "metadata": {},
   "outputs": [],
   "source": [
    "def regress(g1, m1, g2, m2, wordlist):\n",
    "    x = np.array([gproj(g1, m1, w) for w in wordlist if w in m1.wv.vocab and w in m2.wv.vocab])\n",
    "    y = np.array([gproj(g2, m2, w) for w in wordlist if w in m1.wv.vocab and w in m2.wv.vocab])\n",
    "    slope, intercept, r_value, p_value, std_err = stats.linregress(x,y)\n",
    "    return slope, p_value"
   ]
  },
  {
   "cell_type": "code",
   "execution_count": 32,
   "metadata": {},
   "outputs": [
    {
     "name": "stdout",
     "output_type": "stream",
     "text": [
      "0.31522945\n"
     ]
    },
    {
     "data": {
      "text/plain": [
       "(0.7564479357792341, 1.1464826034410933e-07)"
      ]
     },
     "execution_count": 32,
     "metadata": {},
     "output_type": "execute_result"
    }
   ],
   "source": [
    "regress(gpol, mpol, getg(mpol_s), mpol_s, proflist)"
   ]
  },
  {
   "cell_type": "code",
   "execution_count": null,
   "metadata": {},
   "outputs": [],
   "source": []
  }
 ],
 "metadata": {
  "kernelspec": {
   "display_name": "Python 3",
   "language": "python",
   "name": "python3"
  },
  "language_info": {
   "codemirror_mode": {
    "name": "ipython",
    "version": 3
   },
   "file_extension": ".py",
   "mimetype": "text/x-python",
   "name": "python",
   "nbconvert_exporter": "python",
   "pygments_lexer": "ipython3",
   "version": "3.7.0"
  }
 },
 "nbformat": 4,
 "nbformat_minor": 2
}
